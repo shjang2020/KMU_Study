{
 "cells": [
  {
   "cell_type": "markdown",
   "metadata": {},
   "source": [
    "#### 팩토리얼 구하기"
   ]
  },
  {
   "cell_type": "markdown",
   "metadata": {},
   "source": [
    "순환"
   ]
  },
  {
   "cell_type": "code",
   "execution_count": 3,
   "metadata": {},
   "outputs": [],
   "source": [
    "def factorial(n):\n",
    "    if n==1: return 1\n",
    "    else: return n* factorial(n-1)"
   ]
  },
  {
   "cell_type": "code",
   "execution_count": 4,
   "metadata": {},
   "outputs": [
    {
     "data": {
      "text/plain": [
       "24"
      ]
     },
     "execution_count": 4,
     "metadata": {},
     "output_type": "execute_result"
    }
   ],
   "source": [
    "factorial(4)"
   ]
  },
  {
   "cell_type": "markdown",
   "metadata": {},
   "source": [
    "### 순환함수를 사용한 거듭제곱"
   ]
  },
  {
   "cell_type": "markdown",
   "metadata": {},
   "source": [
    "반복"
   ]
  },
  {
   "cell_type": "code",
   "execution_count": 5,
   "metadata": {},
   "outputs": [],
   "source": [
    "def power_iter(x, n):\n",
    "    result =1.0\n",
    "    for i in range(n):\n",
    "        result *= x\n",
    "    return result"
   ]
  },
  {
   "cell_type": "code",
   "execution_count": 6,
   "metadata": {},
   "outputs": [
    {
     "data": {
      "text/plain": [
       "16.0"
      ]
     },
     "execution_count": 6,
     "metadata": {},
     "output_type": "execute_result"
    }
   ],
   "source": [
    "power_iter(2,4)"
   ]
  },
  {
   "cell_type": "code",
   "execution_count": 1,
   "metadata": {},
   "outputs": [],
   "source": [
    "def power(x,n):\n",
    "    if n==0: return 1\n",
    "    elif (n%2)==0: return power(x*x, n//2)\n",
    "    else: return x*power(x*x, (n-1)//2)"
   ]
  },
  {
   "cell_type": "code",
   "execution_count": 2,
   "metadata": {},
   "outputs": [
    {
     "data": {
      "text/plain": [
       "8"
      ]
     },
     "execution_count": 2,
     "metadata": {},
     "output_type": "execute_result"
    }
   ],
   "source": [
    "power(2,3)"
   ]
  },
  {
   "cell_type": "code",
   "execution_count": 32,
   "metadata": {},
   "outputs": [
    {
     "data": {
      "text/plain": [
       "16"
      ]
     },
     "execution_count": 32,
     "metadata": {},
     "output_type": "execute_result"
    }
   ],
   "source": [
    "power(2,4)"
   ]
  },
  {
   "cell_type": "markdown",
   "metadata": {},
   "source": [
    "#### 순환함수를 사용한 피보나치 수열 - 비효율적"
   ]
  },
  {
   "cell_type": "code",
   "execution_count": 33,
   "metadata": {},
   "outputs": [],
   "source": [
    "def fib(n):\n",
    "    if n< 2 : return n\n",
    "    else: return fib(n-1) + fib(n-2)"
   ]
  },
  {
   "cell_type": "code",
   "execution_count": 34,
   "metadata": {},
   "outputs": [
    {
     "data": {
      "text/plain": [
       "2"
      ]
     },
     "execution_count": 34,
     "metadata": {},
     "output_type": "execute_result"
    }
   ],
   "source": [
    "fib(3)"
   ]
  },
  {
   "cell_type": "markdown",
   "metadata": {},
   "source": [
    "### 반복함수를 사용한 피보나치 수욜 - 효율적"
   ]
  },
  {
   "cell_type": "code",
   "execution_count": 37,
   "metadata": {},
   "outputs": [],
   "source": [
    "def fib_iter(n):\n",
    "    if n<2 : return n\n",
    "    \n",
    "    last = 0 ## fib(n-2)\n",
    "    current =1 ## fib(n-1)\n",
    "    for i in range(2, n+1):\n",
    "        tmp = current ## fib(n-1)을 tmp에 저장해두고\n",
    "        current += last ## current에 fib(n)의 값을 넣어준다.\n",
    "        last = tmp ## 아까 저장한 fib(n-1)의 값을 last에 넣어준다.\n",
    "\n",
    "        ## last   : fib(n-2) -> fib(n-1)\n",
    "        ## current: fib(n-1) -> fib(n)\n",
    "        ## 이를 반복하면서 값을 계속 늘려주게 되는 것이다.\n",
    "    return current"
   ]
  },
  {
   "cell_type": "code",
   "execution_count": 38,
   "metadata": {},
   "outputs": [
    {
     "data": {
      "text/plain": [
       "2"
      ]
     },
     "execution_count": 38,
     "metadata": {},
     "output_type": "execute_result"
    }
   ],
   "source": [
    "fib_iter(3)"
   ]
  },
  {
   "cell_type": "code",
   "execution_count": 41,
   "metadata": {},
   "outputs": [],
   "source": [
    "def hanoi_tower(n, fr, tmp, to):\n",
    "    if(n==1):\n",
    "        print(\"원판1: %s --> %s\"% (fr, to))\n",
    "    else:\n",
    "        hanoi_tower(n-1, fr, to, tmp)\n",
    "        print(\"원판%d: %s --> %s\"% (n,fr, to))\n",
    "        hanoi_tower(n-1, tmp, fr, to)"
   ]
  },
  {
   "cell_type": "code",
   "execution_count": 44,
   "metadata": {
    "scrolled": true
   },
   "outputs": [
    {
     "name": "stdout",
     "output_type": "stream",
     "text": [
      "원판1: A --> C\n",
      "원판2: A --> B\n",
      "원판1: C --> B\n",
      "원판3: A --> C\n",
      "원판1: B --> A\n",
      "원판2: B --> C\n",
      "원판1: A --> C\n",
      "원판4: A --> B\n",
      "원판1: C --> B\n",
      "원판2: C --> A\n",
      "원판1: B --> A\n",
      "원판3: C --> B\n",
      "원판1: A --> C\n",
      "원판2: A --> B\n",
      "원판1: C --> B\n",
      "원판5: A --> C\n",
      "원판1: B --> A\n",
      "원판2: B --> C\n",
      "원판1: A --> C\n",
      "원판3: B --> A\n",
      "원판1: C --> B\n",
      "원판2: C --> A\n",
      "원판1: B --> A\n",
      "원판4: B --> C\n",
      "원판1: A --> C\n",
      "원판2: A --> B\n",
      "원판1: C --> B\n",
      "원판3: A --> C\n",
      "원판1: B --> A\n",
      "원판2: B --> C\n",
      "원판1: A --> C\n"
     ]
    }
   ],
   "source": [
    "hanoi_tower(5, 'A','B','C')"
   ]
  },
  {
   "cell_type": "markdown",
   "metadata": {},
   "source": [
    "외우는게 편할지도?\\\n",
    "원판들이 있으면 하나만 놔두고 나머지 그대로 들어서 가운데 옮기는 형태(1 -> 3 -> 2)\\\n",
    "--> hanoi_tower(n-1, fr, to, tmp)\\\n",
    "옮긴 그 원판들을 처음자리 갔다가 다시 마지막 자리로 옮기는 형태(2 -> 1 -> 3)"
   ]
  }
 ],
 "metadata": {
  "kernelspec": {
   "display_name": "Python 3",
   "language": "python",
   "name": "python3"
  },
  "language_info": {
   "codemirror_mode": {
    "name": "ipython",
    "version": 3
   },
   "file_extension": ".py",
   "mimetype": "text/x-python",
   "name": "python",
   "nbconvert_exporter": "python",
   "pygments_lexer": "ipython3",
   "version": "3.8.5"
  }
 },
 "nbformat": 4,
 "nbformat_minor": 4
}
