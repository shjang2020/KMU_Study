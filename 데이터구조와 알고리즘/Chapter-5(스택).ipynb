{
 "cells": [
  {
   "cell_type": "code",
   "execution_count": 2,
   "metadata": {},
   "outputs": [],
   "source": [
    "def push(item):\n",
    "    stack.append(item)\n",
    "def peek():\n",
    "    if len(stack) !=0:\n",
    "        return stack[-1]\n",
    "def pop():\n",
    "    if len(stack) !=0:\n",
    "        item = stack.pop(-1)\n",
    "        return item\n",
    "stack=[]"
   ]
  },
  {
   "cell_type": "code",
   "execution_count": 3,
   "metadata": {},
   "outputs": [
    {
     "name": "stdout",
     "output_type": "stream",
     "text": [
      "['apple', 'orange', 'cherry']\n",
      "cherry\n",
      "['apple', 'orange', 'cherry', 'pear']\n",
      "['apple', 'orange', 'cherry', 'grape']\n"
     ]
    }
   ],
   "source": [
    "push('apple')\n",
    "push('orange')\n",
    "push('cherry')\n",
    "print(stack)\n",
    "print(peek())\n",
    "push('pear')\n",
    "print(stack)\n",
    "pop()\n",
    "push('grape')\n",
    "print(stack)"
   ]
  },
  {
   "cell_type": "code",
   "execution_count": 4,
   "metadata": {},
   "outputs": [],
   "source": [
    "class Node:\n",
    "    def __init__(self, item, link):\n",
    "        self.item = item\n",
    "        self.next = link\n",
    "def push(item):\n",
    "    global top\n",
    "    global size\n",
    "    top = Node(item, top)\n",
    "    size +=1\n",
    "def peek():\n",
    "    if size !=0:\n",
    "        return top.item\n",
    "def pop():\n",
    "    global top\n",
    "    global size\n",
    "    if size !=0:\n",
    "        top_item = top.item\n",
    "        top = top.next\n",
    "        size -=1\n",
    "        return top_item\n",
    "def print_stack():\n",
    "    print('top')\n",
    "    p = top\n",
    "    while p:\n",
    "        if p.next != None:\n",
    "            print(p.item, '->', end='')\n",
    "        else:\n",
    "            print(p.item, end='')\n",
    "        p = p.next\n",
    "    print()"
   ]
  },
  {
   "cell_type": "code",
   "execution_count": 5,
   "metadata": {},
   "outputs": [
    {
     "name": "stdout",
     "output_type": "stream",
     "text": [
      "top\n",
      "cherry ->orange ->apple\n",
      "cherry\n",
      "top\n",
      "pear ->cherry ->orange ->apple\n",
      "top\n",
      "grape ->cherry ->orange ->apple\n"
     ]
    }
   ],
   "source": [
    "top = None\n",
    "size =0\n",
    "push('apple')\n",
    "push('orange')\n",
    "push('cherry')\n",
    "print_stack()\n",
    "print(peek())\n",
    "push('pear')\n",
    "print_stack()\n",
    "pop()\n",
    "push('grape')\n",
    "print_stack()"
   ]
  },
  {
   "cell_type": "markdown",
   "metadata": {},
   "source": [
    "### 회문 검사하기"
   ]
  },
  {
   "cell_type": "code",
   "execution_count": 6,
   "metadata": {},
   "outputs": [
    {
     "name": "stdout",
     "output_type": "stream",
     "text": [
      "False\n",
      "True\n",
      "True\n"
     ]
    }
   ],
   "source": [
    "def is_palindrome(input_string):\n",
    "    token_list= list(input_string)\n",
    "    flag = True\n",
    "    while len(token_list)>1 and flag == True:\n",
    "        first_char = token_list.pop(0)\n",
    "        last_char = token_list.pop(-1)\n",
    "        if first_char != last_char:\n",
    "            flag= False\n",
    "    return flag\n",
    "print(is_palindrome('raecar'))\n",
    "print(is_palindrome('raddar'))\n",
    "print(is_palindrome('wkerllrekw'))"
   ]
  },
  {
   "cell_type": "code",
   "execution_count": 9,
   "metadata": {},
   "outputs": [
    {
     "name": "stdout",
     "output_type": "stream",
     "text": [
      "False\n",
      "True\n",
      "True\n"
     ]
    }
   ],
   "source": [
    "def is_palindrome(input_string):\n",
    "    token_list = list(input_string)\n",
    "    stack =[]\n",
    "    flag =True\n",
    "    if len(token_list)%2==1:\n",
    "        del token_list[len(token_list)//2] ##가운데 삭제\n",
    "        \n",
    "    for i in range(len(token_list)):\n",
    "        if i<(len(token_list)//2):\n",
    "            stack.append(token_list[i])\n",
    "        else:\n",
    "            first_char = stack.pop()\n",
    "            last_char = token_list[i]\n",
    "            \n",
    "            if first_char != last_char:\n",
    "                flag = False\n",
    "    return flag\n",
    "\n",
    "print(is_palindrome('raecar'))\n",
    "print(is_palindrome('raddar'))\n",
    "print(is_palindrome('wkerllrekw'))"
   ]
  }
 ],
 "metadata": {
  "kernelspec": {
   "display_name": "Python 3",
   "language": "python",
   "name": "python3"
  },
  "language_info": {
   "codemirror_mode": {
    "name": "ipython",
    "version": 3
   },
   "file_extension": ".py",
   "mimetype": "text/x-python",
   "name": "python",
   "nbconvert_exporter": "python",
   "pygments_lexer": "ipython3",
   "version": "3.8.5"
  }
 },
 "nbformat": 4,
 "nbformat_minor": 4
}
