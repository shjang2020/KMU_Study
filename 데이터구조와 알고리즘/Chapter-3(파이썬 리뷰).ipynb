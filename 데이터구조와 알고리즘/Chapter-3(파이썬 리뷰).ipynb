{
 "cells": [
  {
   "cell_type": "code",
   "execution_count": 1,
   "metadata": {},
   "outputs": [
    {
     "name": "stdout",
     "output_type": "stream",
     "text": [
      "lee\n",
      "101\n"
     ]
    }
   ],
   "source": [
    "class Student:\n",
    "    def __init__(self, name, id):\n",
    "        self.name = name\n",
    "        self.id = id\n",
    "    def get_name(self):\n",
    "        return self.name\n",
    "    def get_id(self):\n",
    "        return self.id\n",
    "best = Student('lee', 101)\n",
    "print(best.get_name())\n",
    "print(best.get_id())"
   ]
  },
  {
   "cell_type": "markdown",
   "metadata": {},
   "source": [
    "메소드에 self를 대입하는 이유:\\\n",
    "best라는 객체 외에 apple이라는 객체를 생성하였을 때 메소드에 인수를 주지 않고도 각각의 인수를 사용하기 위해서 self를 사용한다."
   ]
  },
  {
   "cell_type": "markdown",
   "metadata": {},
   "source": [
    "#### 생성자 + 멤버함수(메소드)"
   ]
  },
  {
   "cell_type": "code",
   "execution_count": 10,
   "metadata": {},
   "outputs": [],
   "source": [
    "class Car:\n",
    "    def __init__(self, color, speed =0):\n",
    "        self.color = color\n",
    "        self.speed = speed\n",
    "        \n",
    "    def speedUp(self): self.speed +=10\n",
    "    def speedDown(self): self.speed -=10\n",
    "    def __str__(self):\n",
    "        return \"color =%s, speed =%d\"%(self.color, self.speed)\n",
    "car1 = Car('black', 0)\n",
    "car2 = Car('red', 120)\n",
    "car5 = Car('green') # --> speed 는 모다??"
   ]
  },
  {
   "cell_type": "code",
   "execution_count": 13,
   "metadata": {},
   "outputs": [
    {
     "name": "stdout",
     "output_type": "stream",
     "text": [
      "color =purple, speed =100\n"
     ]
    }
   ],
   "source": [
    "car2.speedDown()\n",
    "car5.speedUp()\n",
    "car2.color = 'purple'\n",
    "car5.speed = 100\n",
    "print(car2)"
   ]
  },
  {
   "cell_type": "markdown",
   "metadata": {},
   "source": [
    "#### 상속 + 메소드 재정의"
   ]
  },
  {
   "cell_type": "code",
   "execution_count": 18,
   "metadata": {},
   "outputs": [],
   "source": [
    "class SuperCar(Car):\n",
    "    def __init__(self, color, speed =0, bTurbo = True):\n",
    "        super().__init__(color, speed)\n",
    "        self.bTurbo = bTurbo\n",
    "    def setTurbo(self, bTurbo=True):\n",
    "        self.bTurbo = bTurbo\n",
    "    def speedUp(self):\n",
    "        if self.bTurbo:\n",
    "            self.speed +=50\n",
    "        else:\n",
    "            super().speedUp()\n",
    "    def __str__(self):\n",
    "        if self.bTurbo:\n",
    "            return \"%s speed = %d 터보모드\"%(self.color, self.speed)\n",
    "        else:\n",
    "            return \"%s speed = %d 일반모드\"%(self.color, self.speed)"
   ]
  },
  {
   "cell_type": "code",
   "execution_count": 22,
   "metadata": {},
   "outputs": [
    {
     "name": "stdout",
     "output_type": "stream",
     "text": [
      "gold speed = 50 터보모드\n"
     ]
    }
   ],
   "source": [
    "s1 = SuperCar('gold',0,True)\n",
    "s1.speedUp()\n",
    "print(s1)"
   ]
  },
  {
   "cell_type": "code",
   "execution_count": 23,
   "metadata": {},
   "outputs": [],
   "source": [
    "s1.setTurbo(False)"
   ]
  },
  {
   "cell_type": "code",
   "execution_count": 24,
   "metadata": {},
   "outputs": [
    {
     "name": "stdout",
     "output_type": "stream",
     "text": [
      "gold speed = 50 일반모드\n"
     ]
    }
   ],
   "source": [
    "print(s1)"
   ]
  }
 ],
 "metadata": {
  "kernelspec": {
   "display_name": "Python 3",
   "language": "python",
   "name": "python3"
  },
  "language_info": {
   "codemirror_mode": {
    "name": "ipython",
    "version": 3
   },
   "file_extension": ".py",
   "mimetype": "text/x-python",
   "name": "python",
   "nbconvert_exporter": "python",
   "pygments_lexer": "ipython3",
   "version": "3.8.5"
  }
 },
 "nbformat": 4,
 "nbformat_minor": 4
}
