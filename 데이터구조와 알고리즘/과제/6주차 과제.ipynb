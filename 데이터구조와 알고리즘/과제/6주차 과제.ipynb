{
 "cells": [
  {
   "cell_type": "code",
   "execution_count": 1,
   "metadata": {},
   "outputs": [],
   "source": [
    "class Stack():\n",
    "    def __init__(self):\n",
    "        self.stack = []\n",
    "    \n",
    "    def push(self, item):\n",
    "        self.stack.append(item)\n",
    "    \n",
    "    def isEmpty(self):\n",
    "        return len(self.stack)==0\n",
    "    \n",
    "    def peek(self):\n",
    "        if len(self.stack) != 0:\n",
    "            return self.stack[-1]\n",
    "    \n",
    "    def pop(self):\n",
    "        if len(self.stack) != 0:\n",
    "            return self.stack.pop(-1)"
   ]
  },
  {
   "cell_type": "code",
   "execution_count": 2,
   "metadata": {},
   "outputs": [],
   "source": [
    "def checkBrackets(statement):\n",
    "    stack = Stack()\n",
    "    size =0\n",
    "    flag = \"Wrong\"\n",
    "    \n",
    "    for ch in statement:\n",
    "        if ch in (\"{\",\"[\",\"(\",\"}\",\"]\",\")\"):\n",
    "            size +=1\n",
    "            \n",
    "    for ch in statement:\n",
    "        if ch in (\"{\",\"[\",\"(\"):\n",
    "            stack.push(ch)\n",
    "        elif ch in (\"}\",\"]\",\")\"):\n",
    "            if stack.isEmpty():\n",
    "                return (flag, size)\n",
    "            else:\n",
    "                left = stack.pop()\n",
    "                if (left == \"{\" and ch != \"}\") or (left == \"[\" and ch != \"]\") or (left == \"(\" and ch != \")\"):\n",
    "                    return (flag, size)\n",
    "    \n",
    "    if stack.isEmpty():\n",
    "        flag = \"OK\"\n",
    "        return (flag, size)\n",
    "    else:\n",
    "        return(flag, size)"
   ]
  },
  {
   "cell_type": "code",
   "execution_count": 3,
   "metadata": {},
   "outputs": [
    {
     "name": "stdout",
     "output_type": "stream",
     "text": [
      "Enter equation: 3*{4+(2-792)/1} + [3*{4-2* (100 -7)}]\n",
      "OK_10\n"
     ]
    }
   ],
   "source": [
    "input_string = input(\"Enter equation: \")\n",
    "result = checkBrackets(input_string)\n",
    "print(\"%s_%d\"%(result[0], result[1]))"
   ]
  },
  {
   "cell_type": "code",
   "execution_count": 4,
   "metadata": {
    "scrolled": true
   },
   "outputs": [
    {
     "name": "stdout",
     "output_type": "stream",
     "text": [
      "Enter equation: 3*{4+(2-792)/1} + [3*{4-2* (100 -7)}]\n",
      "OK_10\n"
     ]
    }
   ],
   "source": [
    "input_string = input(\"Enter equation: \")\n",
    "result = checkBrackets(input_string)\n",
    "print(\"%s_%d\"%(result[0], result[1]))"
   ]
  },
  {
   "cell_type": "code",
   "execution_count": 5,
   "metadata": {},
   "outputs": [
    {
     "name": "stdout",
     "output_type": "stream",
     "text": [
      "Enter equation: 301*{4+(2101-7)/1} + 9*{4-2* (10108-7)}}\n",
      "Wrong_9\n"
     ]
    }
   ],
   "source": [
    "input_string = input(\"Enter equation: \")\n",
    "result = checkBrackets(input_string)\n",
    "print(\"%s_%d\"%(result[0], result[1]))"
   ]
  },
  {
   "cell_type": "code",
   "execution_count": 6,
   "metadata": {},
   "outputs": [
    {
     "name": "stdout",
     "output_type": "stream",
     "text": [
      "Enter equation: (3*{4001+(2-7)/1} + [3*{4-2* (1-7)}])\n",
      "OK_12\n"
     ]
    }
   ],
   "source": [
    "input_string = input(\"Enter equation: \")\n",
    "result = checkBrackets(input_string)\n",
    "print(\"%s_%d\"%(result[0], result[1]))"
   ]
  }
 ],
 "metadata": {
  "kernelspec": {
   "display_name": "Python 3",
   "language": "python",
   "name": "python3"
  },
  "language_info": {
   "codemirror_mode": {
    "name": "ipython",
    "version": 3
   },
   "file_extension": ".py",
   "mimetype": "text/x-python",
   "name": "python",
   "nbconvert_exporter": "python",
   "pygments_lexer": "ipython3",
   "version": "3.8.5"
  }
 },
 "nbformat": 4,
 "nbformat_minor": 4
}
