{
 "cells": [
  {
   "cell_type": "code",
   "execution_count": 24,
   "metadata": {},
   "outputs": [],
   "source": [
    "class SList:\n",
    "    class Node:\n",
    "        def __init__(self,item, link):\n",
    "            self.item = item\n",
    "            self.next = link\n",
    "    def __init__(self):\n",
    "        self.head = None\n",
    "        self.size =0\n",
    "    \n",
    "    def size(self): return self.size\n",
    "    def is_empty(self) : return self.size ==0\n",
    "    \n",
    "    def insert_front(self, item):\n",
    "        if self.is_empty():\n",
    "            self.head = self.Node(item, None)\n",
    "        else:\n",
    "            self.head = self.Node(item, self.head)\n",
    "        self.size +=1\n",
    "    def insert_after(self, item, p):\n",
    "        p.next = self.Node(item, p.next)\n",
    "        self.size +=1\n",
    "    def delete_front(self):\n",
    "        if self.is_empty():\n",
    "            raise EmptyError('Underflow')\n",
    "        else:\n",
    "            self.head = self.head.next\n",
    "            self.size -=1\n",
    "    def delete_after(self, p):\n",
    "        if self.is_empty():\n",
    "            raise EmptyError('Underflow')\n",
    "#         elif self.size ==1:\n",
    "#             self.head = None\n",
    "        else:\n",
    "            t = p.next\n",
    "            p.next = t.next\n",
    "            self.size -=1\n",
    "    def search(self, target):\n",
    "        p = self.head\n",
    "        for k in range(self.size):\n",
    "            if target == p.item: return k\n",
    "            p = p.next\n",
    "        return None\n",
    "    \n",
    "    def print_list(self):\n",
    "        p = self.head\n",
    "        while p:\n",
    "            if p.next != None:\n",
    "                print(p.item, ' -> ', end='')\n",
    "            else:\n",
    "                print(p.item)\n",
    "            p = p.next\n",
    "            \n",
    "class EmptyError(Exception):\n",
    "    pass"
   ]
  },
  {
   "cell_type": "code",
   "execution_count": 30,
   "metadata": {},
   "outputs": [
    {
     "name": "stdout",
     "output_type": "stream",
     "text": [
      "r\n"
     ]
    }
   ],
   "source": [
    "if __name__ == '__main__':\n",
    "    s = SList()\n",
    "    s.insert_front('o')\n",
    "    s.insert_front('r')\n",
    "    s.delete_after(s.head)\n",
    "    s.print_list()"
   ]
  },
  {
   "cell_type": "code",
   "execution_count": 38,
   "metadata": {},
   "outputs": [],
   "source": [
    "class CList:\n",
    "    class Node:\n",
    "        def __init__(self, item, link):\n",
    "            self.item = item\n",
    "            self.next = link\n",
    "    def __init__(self):\n",
    "        self.last = None\n",
    "        self.size =0\n",
    "    \n",
    "    def no_items(self): return self.size\n",
    "    def is_empty(self): return self.size==0\n",
    "    \n",
    "    def insert(self, item):\n",
    "        n = self.Node(item, None)\n",
    "        if self.is_empty():\n",
    "            n.next = n\n",
    "            self.last = n\n",
    "        else:\n",
    "            n.next = self.last.next\n",
    "            self.last.next = n\n",
    "        self.size +=1\n",
    "    def first(self):\n",
    "        if self.is_empty():\n",
    "            raise EmptyError('Underflow')\n",
    "        f = self.last.next\n",
    "        return f.item\n",
    "    def delete(self):\n",
    "        if self.is_empty():\n",
    "            raise EmptyError('Underflow')\n",
    "        x = self.last.next\n",
    "        if self.size ==1:\n",
    "            self.last = None\n",
    "        else:\n",
    "            self.last.next = x.next\n",
    "        self.size -=1\n",
    "        return x.item\n",
    "    def print_list(self):\n",
    "        if self.is_empty():\n",
    "            pritn(\"           \")\n",
    "        else:\n",
    "            f = self.last.next\n",
    "            p = f\n",
    "            while  p.next != f:\n",
    "                print(p.item, ' -> ', end='')\n",
    "                p = p.next\n",
    "            print(p.item)"
   ]
  },
  {
   "cell_type": "code",
   "execution_count": 39,
   "metadata": {},
   "outputs": [
    {
     "name": "stdout",
     "output_type": "stream",
     "text": [
      "cherry  -> pear\n"
     ]
    }
   ],
   "source": [
    "if __name__== '__main__':\n",
    "    s = CList()\n",
    "    s.insert('pear')\n",
    "    s.insert('cherry')\n",
    "    s.print_list()"
   ]
  },
  {
   "cell_type": "code",
   "execution_count": null,
   "metadata": {},
   "outputs": [],
   "source": []
  }
 ],
 "metadata": {
  "kernelspec": {
   "display_name": "Python 3",
   "language": "python",
   "name": "python3"
  },
  "language_info": {
   "codemirror_mode": {
    "name": "ipython",
    "version": 3
   },
   "file_extension": ".py",
   "mimetype": "text/x-python",
   "name": "python",
   "nbconvert_exporter": "python",
   "pygments_lexer": "ipython3",
   "version": "3.8.5"
  }
 },
 "nbformat": 4,
 "nbformat_minor": 4
}
