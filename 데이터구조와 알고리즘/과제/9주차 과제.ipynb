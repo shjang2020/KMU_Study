{
 "cells": [
  {
   "cell_type": "code",
   "execution_count": 1,
   "metadata": {},
   "outputs": [],
   "source": [
    "class CircularQueue:\n",
    "    def __init__(self):\n",
    "        self.front= 0\n",
    "        self.rear=0\n",
    "        self.items = [0]*q\n",
    "        self.flow = False\n",
    "    def isEmpty(self): return self.front == self.rear\n",
    "    def isFull(self): return self.front == (self.rear+1)%q\n",
    "    def enqueue(self, item):\n",
    "        out = []\n",
    "        if not self.isFull():\n",
    "            self.rear = (self.rear+1)%q\n",
    "            self.items[self.rear] = item\n",
    "        else:\n",
    "            if self.front < self.rear:\n",
    "                out = self.items[self.front +1: self.rear +1]\n",
    "            else:\n",
    "                out = self.items[self.front+1 : q] + self.items[0:self.rear+1]\n",
    "            print('overflow □',end =' ')\n",
    "            for i in range(q):\n",
    "                print(self.items[i], end=' ')\n",
    "            print(\"\")\n",
    "            self.flow = True\n",
    "    def dequeue(self):\n",
    "        if not self.isEmpty():\n",
    "            self.items[self.front+1] =0\n",
    "            self.front = (self.front+1)%q\n",
    "        else:\n",
    "            print('underflow')\n",
    "            self.flow = True\n",
    "            \n",
    "    def size(self):\n",
    "        return (self.rear - self.front +q)%q\n",
    "    def display(self):\n",
    "        print('□',end =' ')\n",
    "        for i in range(q):\n",
    "            print(self.items[i], end=' ')\n",
    "        print(\"\")"
   ]
  },
  {
   "cell_type": "code",
   "execution_count": 2,
   "metadata": {},
   "outputs": [
    {
     "name": "stdout",
     "output_type": "stream",
     "text": [
      "6\n",
      "10\n",
      "I 10\n",
      "I 20\n",
      "P\n",
      "□ 0 10 20 0 0 0 \n",
      "I 30\n",
      "I 40\n",
      "D\n",
      "P\n",
      "□ 0 0 20 30 40 0 \n",
      "I 50\n",
      "I 60\n",
      "I 70\n",
      "overflow □ 60 0 20 30 40 50 \n"
     ]
    }
   ],
   "source": [
    "if __name__== '__main__':\n",
    "    q=int(input())\n",
    "    n = int(input())\n",
    "    que = CircularQueue()\n",
    "    for i in range(n):\n",
    "        inputs = input()\n",
    "        operation = inputs[0]\n",
    "        if operation =='I':\n",
    "            que.enqueue(int(inputs[2:]))\n",
    "        elif operation == \"D\":\n",
    "            que.dequeue()\n",
    "        elif operation == \"P\":\n",
    "            que.display()\n",
    "        if que.flow:\n",
    "            break"
   ]
  },
  {
   "cell_type": "code",
   "execution_count": null,
   "metadata": {},
   "outputs": [],
   "source": []
  }
 ],
 "metadata": {
  "kernelspec": {
   "display_name": "Python 3",
   "language": "python",
   "name": "python3"
  },
  "language_info": {
   "codemirror_mode": {
    "name": "ipython",
    "version": 3
   },
   "file_extension": ".py",
   "mimetype": "text/x-python",
   "name": "python",
   "nbconvert_exporter": "python",
   "pygments_lexer": "ipython3",
   "version": "3.8.5"
  }
 },
 "nbformat": 4,
 "nbformat_minor": 4
}
