{
 "cells": [
  {
   "cell_type": "markdown",
   "metadata": {},
   "source": [
    "리스트로 구현한 스택"
   ]
  },
  {
   "cell_type": "code",
   "execution_count": 7,
   "metadata": {},
   "outputs": [],
   "source": [
    "def push(item):\n",
    "    stack.append(item)\n",
    "def peek():\n",
    "    if len(stack) !=0:\n",
    "        return stack[-1]\n",
    "def pop():\n",
    "    if len(stack) != 0:\n",
    "        item = stack.pop(-1)\n",
    "        return item\n",
    "stack =[]"
   ]
  },
  {
   "cell_type": "code",
   "execution_count": 8,
   "metadata": {},
   "outputs": [
    {
     "name": "stdout",
     "output_type": "stream",
     "text": [
      "['app', 'oran']\n"
     ]
    }
   ],
   "source": [
    "push('app')\n",
    "push('oran')\n",
    "print(stack)"
   ]
  },
  {
   "cell_type": "code",
   "execution_count": 9,
   "metadata": {},
   "outputs": [
    {
     "name": "stdout",
     "output_type": "stream",
     "text": [
      "oran\n"
     ]
    }
   ],
   "source": [
    "print(peek())"
   ]
  },
  {
   "cell_type": "code",
   "execution_count": 10,
   "metadata": {},
   "outputs": [
    {
     "data": {
      "text/plain": [
       "'oran'"
      ]
     },
     "execution_count": 10,
     "metadata": {},
     "output_type": "execute_result"
    }
   ],
   "source": [
    "pop()"
   ]
  },
  {
   "cell_type": "code",
   "execution_count": 11,
   "metadata": {},
   "outputs": [
    {
     "name": "stdout",
     "output_type": "stream",
     "text": [
      "['app']\n"
     ]
    }
   ],
   "source": [
    "print(stack)"
   ]
  },
  {
   "cell_type": "markdown",
   "metadata": {},
   "source": [
    "단순연결리스트로 구현한 스택"
   ]
  },
  {
   "cell_type": "code",
   "execution_count": 12,
   "metadata": {},
   "outputs": [],
   "source": [
    "class Node:\n",
    "    def __init__(self, item, link):\n",
    "        self.item = item\n",
    "        self.next = link\n",
    "        \n",
    "def push(item):\n",
    "    global top #### top을 가장 왼쪽에 있는 것으로 생각해라\n",
    "    global size\n",
    "    top = Node(item, top) ### top을 밀어내고 front에 들어간다고 생각하면 편하다.\n",
    "    size +=1\n",
    "\n",
    "def peek():\n",
    "    if size !=0:\n",
    "        return top.item\n",
    "    \n",
    "def pop():\n",
    "    global top\n",
    "    global size\n",
    "    if size !=0:\n",
    "        top_item = top.item\n",
    "        top = top.next\n",
    "        size -=1\n",
    "        return top_item\n",
    "    \n",
    "def print_stack():\n",
    "    p = top\n",
    "    while p:\n",
    "        if p.next != None:\n",
    "            print(p.item, '->', end='')\n",
    "        else:\n",
    "            print(p.item, end='')\n",
    "        p = p.next\n",
    "    print()"
   ]
  },
  {
   "cell_type": "code",
   "execution_count": 13,
   "metadata": {},
   "outputs": [
    {
     "name": "stdout",
     "output_type": "stream",
     "text": [
      "ch ->or ->ap\n",
      "ch\n"
     ]
    },
    {
     "data": {
      "text/plain": [
       "'ch'"
      ]
     },
     "execution_count": 13,
     "metadata": {},
     "output_type": "execute_result"
    }
   ],
   "source": [
    "top = None\n",
    "size =0\n",
    "push('ap')\n",
    "push('or')\n",
    "push('ch')\n",
    "print_stack()\n",
    "print(peek())\n",
    "pop()"
   ]
  },
  {
   "cell_type": "code",
   "execution_count": null,
   "metadata": {},
   "outputs": [],
   "source": []
  }
 ],
 "metadata": {
  "kernelspec": {
   "display_name": "Python 3",
   "language": "python",
   "name": "python3"
  },
  "language_info": {
   "codemirror_mode": {
    "name": "ipython",
    "version": 3
   },
   "file_extension": ".py",
   "mimetype": "text/x-python",
   "name": "python",
   "nbconvert_exporter": "python",
   "pygments_lexer": "ipython3",
   "version": "3.8.5"
  }
 },
 "nbformat": 4,
 "nbformat_minor": 4
}
