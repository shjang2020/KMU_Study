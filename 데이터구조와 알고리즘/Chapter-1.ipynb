{
 "cells": [
  {
   "cell_type": "markdown",
   "metadata": {},
   "source": [
    "### 추상자료형 구현"
   ]
  },
  {
   "cell_type": "code",
   "execution_count": 1,
   "metadata": {},
   "outputs": [],
   "source": [
    "def contains(bag, e):\n",
    "    return e in bag\n",
    "\n",
    "def insert(bag, e):\n",
    "    bag.append(e)\n",
    "\n",
    "def remove(bag, e):\n",
    "    bag.remove(e)\n",
    "    \n",
    "def count(bag):\n",
    "    return len(bag)"
   ]
  },
  {
   "cell_type": "code",
   "execution_count": 2,
   "metadata": {},
   "outputs": [
    {
     "name": "stdout",
     "output_type": "stream",
     "text": [
      "rkqkdthrdml anfrjs: ['hdp', 'jigap', 'thstnrjs', 'qlt', 'wkfyrnwh', 'dirnrhd']\n",
      "rkqkdthrdml anfrjs: ['hdp', 'jigap', 'qlt', 'wkfyrnwh', 'dirnrhd', 'qlt']\n"
     ]
    }
   ],
   "source": [
    "myBag  =[]\n",
    "insert(myBag, 'hdp')\n",
    "insert(myBag, 'jigap')\n",
    "insert(myBag, 'thstnrjs')\n",
    "insert(myBag, 'qlt')\n",
    "insert(myBag, 'wkfyrnwh')\n",
    "insert(myBag, 'dirnrhd')\n",
    "print('rkqkdthrdml anfrjs:', myBag)\n",
    "\n",
    "insert(myBag,'qlt')\n",
    "remove(myBag,'thstnrjs')\n",
    "print('rkqkdthrdml anfrjs:', myBag)"
   ]
  },
  {
   "cell_type": "markdown",
   "metadata": {},
   "source": [
    "### 실행시간 측정"
   ]
  },
  {
   "cell_type": "code",
   "execution_count": 5,
   "metadata": {},
   "outputs": [
    {
     "name": "stdout",
     "output_type": "stream",
     "text": [
      "실행시간 =  0.0\n"
     ]
    }
   ],
   "source": [
    "import time\n",
    "\n",
    "myBag = []\n",
    "start = time.time()\n",
    "insert(myBag, '축구공')\n",
    "end = time.time()\n",
    "print('실행시간 = ',end-start)"
   ]
  },
  {
   "cell_type": "markdown",
   "metadata": {},
   "source": [
    "최선 - 하한, 빠른경우, 빅오메가\\\n",
    "평균 - 평균, 빅세타\\\n",
    "최악 - 상한, 늦은경우, 빅오"
   ]
  }
 ],
 "metadata": {
  "kernelspec": {
   "display_name": "Python 3",
   "language": "python",
   "name": "python3"
  },
  "language_info": {
   "codemirror_mode": {
    "name": "ipython",
    "version": 3
   },
   "file_extension": ".py",
   "mimetype": "text/x-python",
   "name": "python",
   "nbconvert_exporter": "python",
   "pygments_lexer": "ipython3",
   "version": "3.8.5"
  }
 },
 "nbformat": 4,
 "nbformat_minor": 4
}
