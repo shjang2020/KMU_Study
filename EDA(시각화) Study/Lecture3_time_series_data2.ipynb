{
 "cells": [
  {
   "cell_type": "markdown",
   "metadata": {
    "slideshow": {
     "slide_type": "slide"
    }
   },
   "source": [
    "# Lecture 3. 시계열 데이터의 탐색"
   ]
  },
  {
   "cell_type": "markdown",
   "metadata": {
    "slideshow": {
     "slide_type": "fragment"
    }
   },
   "source": [
    "## 3.1 자료의 이해 \n",
    "- 횡단면 자료(cross-sectional data)\n",
    "    - 많은 개체로부터 동일 시점에 관측된 데이터 \n",
    "    - 일반적으로 각 관측치 간의 독립성을 가정함\n",
    "    - Example: 2020년 졸업생의 초봉 \n",
    "    \n",
    "- 시계열 자료(time series data)\n",
    "    - 시간의 흐름에 따라 관측된 데이터 \n",
    "    - 관측치 간의 종속성이 존재함\n",
    "    - Example: 1980년-2020년의 대한민국 GDP\n",
    "    \n",
    "    "
   ]
  },
  {
   "cell_type": "markdown",
   "metadata": {
    "slideshow": {
     "slide_type": "slide"
    }
   },
   "source": [
    "- 패널 데이터(panel data, longitudinal data)\n",
    "    - 같은 개체로부터 시간의 흐름에 따라 관측된 데이터 \n",
    "    - 개체 간의 독립성은 가정되지만 한 개체로부터 측정된 데이터 간의 종속성이 존재함\n",
    "    - Example: KOSPI 종목의 주가\n",
    "<img src=\"http://kaletemple.com/wp-content/uploads/2020/05/Picture-1.png\">"
   ]
  },
  {
   "cell_type": "markdown",
   "metadata": {},
   "source": [
    "## 3.2 무엇을 볼 것인가?\n",
    "- 트렌드, 경향성\n",
    "    - 시간의 흐름에 따라 증가 혹은 감소가 있는가?\n",
    "    - 계절에 따른 변화가 있는가? \n",
    "- 체크 포인트\n",
    "    - 큰 그림 vs. 디테일 간의 차이가 있는가?\n",
    "    - 예외적인 경우나 유난히 눈에 띄는 구간이 있는가?\n",
    "    - 급격한 증가나 감소 지점이 있는가?\n"
   ]
  },
  {
   "cell_type": "markdown",
   "metadata": {},
   "source": [
    "<img src='http://drive.google.com/uc?export=view&id=1o2ZsQg-VveYWwPWnYYGnEbFAb4eZqEvf' width=70%/><br>"
   ]
  },
  {
   "cell_type": "markdown",
   "metadata": {},
   "source": [
    "<img src='http://drive.google.com/uc?export=view&id=1YYUvgDVe_8fA0Q4P9tdzW-LOaZnJ9pV-' width=70%/><br>"
   ]
  },
  {
   "cell_type": "markdown",
   "metadata": {},
   "source": [
    "## 3.3 분절형 vs 연속형 그래프 \n",
    "\n",
    "- 분절형\n",
    "    - 특정 시점 또는 구간 값\n",
    "    - 예: 어떤 시험의 평균 통과율 \n",
    "    - 막대 그래프, 점 그래프\n",
    "- 연속형\n",
    "    - 지속적으로 변화\n",
    "    - 예: 기온 변화 (하루 중 어느 시점, 어떤 구간의 평균값으로 측정 가능)\n",
    "    - 연결된 점 그래프, 선 그래프 \n",
    "\n",
    "<img src=\"https://conceptdraw.com/a2223c3/p2/preview/640/pict--column-chart-2-time-series-charts-vector-stencils-library\" width=50% align=\"left\" >\n",
    "<img src=\"https://conceptdraw.com/a2223c3/p9/preview/640/pict--dot-plot-1-time-series-charts-vector-stencils-library\" width=50% align=\"left\">\n",
    "<img src=\"https://conceptdraw.com/a2223c3/p7/preview/640/pict--line-chart-1-time-series-charts-vector-stencils-library\" width=50%>"
   ]
  },
  {
   "cell_type": "markdown",
   "metadata": {},
   "source": [
    "### 3.3.1 막대 그래프 \n",
    "- x 축: 시간축, 막대의 폭과 간격은 값 표시 하지 않음\n",
    "- y 축: 그래프의 크기 범위 \n",
    "- 0 이상의 값을 표현할 때 y 축을 0부터 시작 \n",
    "    - 비례의 왜곡 방지\n",
    "    \n",
    "<img src='http://drive.google.com/uc?export=view&id=1gibSMXEQdezW-cxSbEbjYEflBdeindvP' /><br>"
   ]
  },
  {
   "cell_type": "markdown",
   "metadata": {},
   "source": [
    "#### Example: 네이선 핫도그 먹기대회\n",
    "- 매년 미국의 독립기념일인 7월 4일 열리는 대회로 15분 동안 가장 많은 핫도그와 빵을 먹는 사람이 우승을 차지함\n",
    "- 1980년부터 우승자가 먹은 핫도그의 개수를 기록\n",
    "- 2001년 다케루 고바야시가 등장하면서 종전 기록의 두 배가 넘는 기록을 경신하였음"
   ]
  },
  {
   "cell_type": "code",
   "execution_count": 1,
   "metadata": {},
   "outputs": [],
   "source": [
    "import pandas as pd\n",
    "import numpy as np\n",
    "import matplotlib.pyplot as plt\n",
    "import seaborn as sns\n",
    "import matplotlib\n",
    "matplotlib.rcParams['axes.unicode_minus'] = False\n",
    "import matplotlib.font_manager as fm\n",
    "plt.rc('font', family=fm.FontProperties(fname=\"c:/Windows/Fonts/malgun.ttf\").get_name()) # for Windows OS user"
   ]
  },
  {
   "cell_type": "code",
   "execution_count": 2,
   "metadata": {},
   "outputs": [
    {
     "data": {
      "text/html": [
       "<div>\n",
       "<style scoped>\n",
       "    .dataframe tbody tr th:only-of-type {\n",
       "        vertical-align: middle;\n",
       "    }\n",
       "\n",
       "    .dataframe tbody tr th {\n",
       "        vertical-align: top;\n",
       "    }\n",
       "\n",
       "    .dataframe thead th {\n",
       "        text-align: right;\n",
       "    }\n",
       "</style>\n",
       "<table border=\"1\" class=\"dataframe\">\n",
       "  <thead>\n",
       "    <tr style=\"text-align: right;\">\n",
       "      <th></th>\n",
       "      <th>Year</th>\n",
       "      <th>Winner</th>\n",
       "      <th>Dogs eaten</th>\n",
       "      <th>Country</th>\n",
       "      <th>New record</th>\n",
       "    </tr>\n",
       "  </thead>\n",
       "  <tbody>\n",
       "    <tr>\n",
       "      <th>0</th>\n",
       "      <td>1980</td>\n",
       "      <td>Paul Siederman &amp; Joe Baldini</td>\n",
       "      <td>9.1</td>\n",
       "      <td>United States</td>\n",
       "      <td>0</td>\n",
       "    </tr>\n",
       "    <tr>\n",
       "      <th>1</th>\n",
       "      <td>1981</td>\n",
       "      <td>Thomas DeBerry</td>\n",
       "      <td>11.0</td>\n",
       "      <td>United States</td>\n",
       "      <td>0</td>\n",
       "    </tr>\n",
       "    <tr>\n",
       "      <th>2</th>\n",
       "      <td>1982</td>\n",
       "      <td>Steven Abrams</td>\n",
       "      <td>11.0</td>\n",
       "      <td>United States</td>\n",
       "      <td>0</td>\n",
       "    </tr>\n",
       "    <tr>\n",
       "      <th>3</th>\n",
       "      <td>1983</td>\n",
       "      <td>Luis Llamas</td>\n",
       "      <td>19.5</td>\n",
       "      <td>Mexico</td>\n",
       "      <td>0</td>\n",
       "    </tr>\n",
       "    <tr>\n",
       "      <th>4</th>\n",
       "      <td>1984</td>\n",
       "      <td>Birgit Felden</td>\n",
       "      <td>9.5</td>\n",
       "      <td>Germany</td>\n",
       "      <td>0</td>\n",
       "    </tr>\n",
       "  </tbody>\n",
       "</table>\n",
       "</div>"
      ],
      "text/plain": [
       "   Year                        Winner  Dogs eaten        Country  New record\n",
       "0  1980  Paul Siederman & Joe Baldini         9.1  United States           0\n",
       "1  1981               Thomas DeBerry         11.0  United States           0\n",
       "2  1982                Steven Abrams         11.0  United States           0\n",
       "3  1983                  Luis Llamas         19.5         Mexico           0\n",
       "4  1984                Birgit Felden          9.5        Germany           0"
      ]
     },
     "execution_count": 2,
     "metadata": {},
     "output_type": "execute_result"
    }
   ],
   "source": [
    "hotdogs = pd.read_csv(\"http://datasets.flowingdata.com/hot-dog-contest-winners.csv\")\n",
    "hotdogs.head()"
   ]
  },
  {
   "cell_type": "code",
   "execution_count": 3,
   "metadata": {},
   "outputs": [
    {
     "data": {
      "image/png": "[encoded data removed]",
      "text/plain": [
       "<Figure size 432x288 with 1 Axes>"
      ]
     },
     "metadata": {
      "needs_background": "light"
     },
     "output_type": "display_data"
    }
   ],
   "source": [
    "sns.barplot(x=\"Year\", y=\"Dogs eaten\", data=hotdogs, hue = 'New record', \n",
    "           dodge = False)\n",
    "plt.xticks(rotation=90)\n",
    "plt.title('Nathan\\'s Hot Dog Eating Contest Results, 1980-2010 ')\n",
    "plt.show()"
   ]
  },
  {
   "cell_type": "code",
   "execution_count": 4,
   "metadata": {
    "scrolled": true
   },
   "outputs": [
    {
     "data": {
      "image/png": "[encoded data removed]",
      "text/plain": [
       "<Figure size 432x288 with 1 Axes>"
      ]
     },
     "metadata": {
      "needs_background": "light"
     },
     "output_type": "display_data"
    }
   ],
   "source": [
    "sns.barplot(x=\"Year\", y=\"Dogs eaten\", data=hotdogs, hue = 'Country', \n",
    "           dodge = False)\n",
    "plt.xticks(rotation=90)\n",
    "plt.title('Nathan\\'s Hot Dog Eating Contest Results, 1980-2010 ')\n",
    "plt.show()"
   ]
  },
  {
   "cell_type": "markdown",
   "metadata": {},
   "source": [
    "#### 누적막대그래프"
   ]
  },
  {
   "cell_type": "code",
   "execution_count": 5,
   "metadata": {},
   "outputs": [],
   "source": [
    "hotdog_places = pd.read_csv(\n",
    "    \"http://datasets.flowingdata.com/hot-dog-places.csv\")"
   ]
  },
  {
   "cell_type": "code",
   "execution_count": 6,
   "metadata": {},
   "outputs": [
    {
     "data": {
      "text/html": [
       "<div>\n",
       "<style scoped>\n",
       "    .dataframe tbody tr th:only-of-type {\n",
       "        vertical-align: middle;\n",
       "    }\n",
       "\n",
       "    .dataframe tbody tr th {\n",
       "        vertical-align: top;\n",
       "    }\n",
       "\n",
       "    .dataframe thead th {\n",
       "        text-align: right;\n",
       "    }\n",
       "</style>\n",
       "<table border=\"1\" class=\"dataframe\">\n",
       "  <thead>\n",
       "    <tr style=\"text-align: right;\">\n",
       "      <th></th>\n",
       "      <th>2000</th>\n",
       "      <th>2001</th>\n",
       "      <th>2002</th>\n",
       "      <th>2003</th>\n",
       "      <th>2004</th>\n",
       "      <th>2005</th>\n",
       "      <th>2006</th>\n",
       "      <th>2007</th>\n",
       "      <th>2008</th>\n",
       "      <th>2009</th>\n",
       "      <th>2010</th>\n",
       "    </tr>\n",
       "  </thead>\n",
       "  <tbody>\n",
       "    <tr>\n",
       "      <th>0</th>\n",
       "      <td>25</td>\n",
       "      <td>50.0</td>\n",
       "      <td>50.5</td>\n",
       "      <td>44.5</td>\n",
       "      <td>53.5</td>\n",
       "      <td>49</td>\n",
       "      <td>54</td>\n",
       "      <td>66</td>\n",
       "      <td>59</td>\n",
       "      <td>68.0</td>\n",
       "      <td>54</td>\n",
       "    </tr>\n",
       "    <tr>\n",
       "      <th>1</th>\n",
       "      <td>24</td>\n",
       "      <td>31.0</td>\n",
       "      <td>26.0</td>\n",
       "      <td>30.5</td>\n",
       "      <td>38.0</td>\n",
       "      <td>37</td>\n",
       "      <td>52</td>\n",
       "      <td>63</td>\n",
       "      <td>59</td>\n",
       "      <td>64.5</td>\n",
       "      <td>43</td>\n",
       "    </tr>\n",
       "    <tr>\n",
       "      <th>2</th>\n",
       "      <td>22</td>\n",
       "      <td>23.5</td>\n",
       "      <td>25.5</td>\n",
       "      <td>29.5</td>\n",
       "      <td>32.0</td>\n",
       "      <td>32</td>\n",
       "      <td>37</td>\n",
       "      <td>49</td>\n",
       "      <td>42</td>\n",
       "      <td>55.0</td>\n",
       "      <td>37</td>\n",
       "    </tr>\n",
       "  </tbody>\n",
       "</table>\n",
       "</div>"
      ],
      "text/plain": [
       "   2000  2001  2002  2003  2004  2005  2006  2007  2008  2009  2010\n",
       "0    25  50.0  50.5  44.5  53.5    49    54    66    59  68.0    54\n",
       "1    24  31.0  26.0  30.5  38.0    37    52    63    59  64.5    43\n",
       "2    22  23.5  25.5  29.5  32.0    32    37    49    42  55.0    37"
      ]
     },
     "execution_count": 6,
     "metadata": {},
     "output_type": "execute_result"
    }
   ],
   "source": [
    "hotdog_places"
   ]
  },
  {
   "cell_type": "code",
   "execution_count": 8,
   "metadata": {},
   "outputs": [
    {
     "data": {
      "image/png": "[encoded data removed]",
      "text/plain": [
       "<Figure size 432x288 with 1 Axes>"
      ]
     },
     "metadata": {
      "needs_background": "light"
     },
     "output_type": "display_data"
    }
   ],
   "source": [
    "hotdog_places.T.plot.bar(stacked=True)\n",
    "plt.xlabel('Year')\n",
    "plt.ylabel('Hot dogs and buns eaten')\n",
    "plt.title('Hot Dog Eating Contest: Top 3 Results, 2000-2010')\n",
    "plt.show()"
   ]
  },
  {
   "cell_type": "code",
   "execution_count": 19,
   "metadata": {},
   "outputs": [],
   "source": [
    "hotdog_places_1=hotdog_places.div(hotdog_places.sum(axis=0),axis=1)"
   ]
  },
  {
   "cell_type": "code",
   "execution_count": 21,
   "metadata": {},
   "outputs": [
    {
     "data": {
      "image/png": "[encoded data removed]",
      "text/plain": [
       "<Figure size 432x288 with 1 Axes>"
      ]
     },
     "metadata": {
      "needs_background": "light"
     },
     "output_type": "display_data"
    }
   ],
   "source": [
    "hotdog_places_1.T.plot.bar(stacked=True)\n",
    "plt.legend(bbox_to_anchor=(1,1)) \n",
    "plt.show()"
   ]
  },
  {
   "cell_type": "markdown",
   "metadata": {},
   "source": [
    "### 3.3.2 선 그래프\n",
    "- 연속형 시계열 데이터 시각화에 사용\n",
    "- x 축: 시간축, x축의 길이가 경향성 표현에 영향\n",
    "- y 축: 0에서 시작\n"
   ]
  },
  {
   "cell_type": "code",
   "execution_count": 12,
   "metadata": {},
   "outputs": [],
   "source": [
    "population = pd.read_csv(\"http://datasets.flowingdata.com/world-population.csv\")"
   ]
  },
  {
   "cell_type": "code",
   "execution_count": 13,
   "metadata": {},
   "outputs": [
    {
     "data": {
      "text/html": [
       "<div>\n",
       "<style scoped>\n",
       "    .dataframe tbody tr th:only-of-type {\n",
       "        vertical-align: middle;\n",
       "    }\n",
       "\n",
       "    .dataframe tbody tr th {\n",
       "        vertical-align: top;\n",
       "    }\n",
       "\n",
       "    .dataframe thead th {\n",
       "        text-align: right;\n",
       "    }\n",
       "</style>\n",
       "<table border=\"1\" class=\"dataframe\">\n",
       "  <thead>\n",
       "    <tr style=\"text-align: right;\">\n",
       "      <th></th>\n",
       "      <th>Year</th>\n",
       "      <th>Population</th>\n",
       "    </tr>\n",
       "  </thead>\n",
       "  <tbody>\n",
       "    <tr>\n",
       "      <th>0</th>\n",
       "      <td>1960</td>\n",
       "      <td>3028654024</td>\n",
       "    </tr>\n",
       "    <tr>\n",
       "      <th>1</th>\n",
       "      <td>1961</td>\n",
       "      <td>3068356747</td>\n",
       "    </tr>\n",
       "    <tr>\n",
       "      <th>2</th>\n",
       "      <td>1962</td>\n",
       "      <td>3121963107</td>\n",
       "    </tr>\n",
       "    <tr>\n",
       "      <th>3</th>\n",
       "      <td>1963</td>\n",
       "      <td>3187471383</td>\n",
       "    </tr>\n",
       "    <tr>\n",
       "      <th>4</th>\n",
       "      <td>1964</td>\n",
       "      <td>3253112403</td>\n",
       "    </tr>\n",
       "  </tbody>\n",
       "</table>\n",
       "</div>"
      ],
      "text/plain": [
       "   Year  Population\n",
       "0  1960  3028654024\n",
       "1  1961  3068356747\n",
       "2  1962  3121963107\n",
       "3  1963  3187471383\n",
       "4  1964  3253112403"
      ]
     },
     "execution_count": 13,
     "metadata": {},
     "output_type": "execute_result"
    }
   ],
   "source": [
    "population.head()"
   ]
  },
  {
   "cell_type": "code",
   "execution_count": 14,
   "metadata": {
    "scrolled": false
   },
   "outputs": [
    {
     "data": {
      "image/png": "[encoded data removed]",
      "text/plain": [
       "<Figure size 432x288 with 1 Axes>"
      ]
     },
     "metadata": {
      "needs_background": "light"
     },
     "output_type": "display_data"
    }
   ],
   "source": [
    "sns.lineplot(x=\"Year\", y=\"Population\", data=population, marker = 'o')\n",
    "plt.ylim(0,7e9)\n",
    "plt.show()"
   ]
  },
  {
   "cell_type": "code",
   "execution_count": 17,
   "metadata": {},
   "outputs": [
    {
     "data": {
      "image/png": "[encoded data removed]",
      "text/plain": [
       "<Figure size 432x288 with 1 Axes>"
      ]
     },
     "metadata": {
      "needs_background": "light"
     },
     "output_type": "display_data"
    }
   ],
   "source": [
    "sns.lineplot(x=population.Year,\n",
    "    y=population.Population/1e9,marker='o')\n",
    "plt.ylim(0,7) # y의 범위를 정해주는 것\n",
    "plt.text(1955,7.2,'(단위: 인구 10억)')\n",
    "plt.show()"
   ]
  },
  {
   "cell_type": "markdown",
   "metadata": {},
   "source": [
    "### 3.3.3 계단식 그래프 \n",
    "- 시간에 따른 변화가 일정한 구간에서 일어나지 않는 경우 \n",
    "- 예: 미국 우편요금"
   ]
  },
  {
   "cell_type": "code",
   "execution_count": 9,
   "metadata": {},
   "outputs": [
    {
     "data": {
      "text/html": [
       "<div>\n",
       "<style scoped>\n",
       "    .dataframe tbody tr th:only-of-type {\n",
       "        vertical-align: middle;\n",
       "    }\n",
       "\n",
       "    .dataframe tbody tr th {\n",
       "        vertical-align: top;\n",
       "    }\n",
       "\n",
       "    .dataframe thead th {\n",
       "        text-align: right;\n",
       "    }\n",
       "</style>\n",
       "<table border=\"1\" class=\"dataframe\">\n",
       "  <thead>\n",
       "    <tr style=\"text-align: right;\">\n",
       "      <th></th>\n",
       "      <th>Year</th>\n",
       "      <th>Price</th>\n",
       "    </tr>\n",
       "  </thead>\n",
       "  <tbody>\n",
       "    <tr>\n",
       "      <th>0</th>\n",
       "      <td>1991</td>\n",
       "      <td>0.29</td>\n",
       "    </tr>\n",
       "    <tr>\n",
       "      <th>1</th>\n",
       "      <td>1995</td>\n",
       "      <td>0.32</td>\n",
       "    </tr>\n",
       "    <tr>\n",
       "      <th>2</th>\n",
       "      <td>1999</td>\n",
       "      <td>0.33</td>\n",
       "    </tr>\n",
       "    <tr>\n",
       "      <th>3</th>\n",
       "      <td>2001</td>\n",
       "      <td>0.34</td>\n",
       "    </tr>\n",
       "    <tr>\n",
       "      <th>4</th>\n",
       "      <td>2002</td>\n",
       "      <td>0.37</td>\n",
       "    </tr>\n",
       "  </tbody>\n",
       "</table>\n",
       "</div>"
      ],
      "text/plain": [
       "   Year  Price\n",
       "0  1991   0.29\n",
       "1  1995   0.32\n",
       "2  1999   0.33\n",
       "3  2001   0.34\n",
       "4  2002   0.37"
      ]
     },
     "execution_count": 9,
     "metadata": {},
     "output_type": "execute_result"
    }
   ],
   "source": [
    "postage = pd.read_csv(\"http://datasets.flowingdata.com/us-postage.csv\")\n",
    "postage.head()"
   ]
  },
  {
   "cell_type": "code",
   "execution_count": 19,
   "metadata": {},
   "outputs": [
    {
     "data": {
      "image/png": "[encoded data removed]",
      "text/plain": [
       "<Figure size 432x288 with 1 Axes>"
      ]
     },
     "metadata": {
      "needs_background": "light"
     },
     "output_type": "display_data"
    }
   ],
   "source": [
    "sns.lineplot(x=\"Year\", y=\"Price\", data=postage, \n",
    "             drawstyle = 'steps-post')\n",
    "plt.xticks(np.arange(1991, 2011), rotation=90)\n",
    "plt.show()"
   ]
  },
  {
   "cell_type": "code",
   "execution_count": 20,
   "metadata": {},
   "outputs": [
    {
     "data": {
      "image/png": "[encoded data removed]",
      "text/plain": [
       "<Figure size 432x288 with 1 Axes>"
      ]
     },
     "metadata": {
      "needs_background": "light"
     },
     "output_type": "display_data"
    }
   ],
   "source": [
    "sns.lineplot(x=\"Year\", y=\"Price\", data=postage, \n",
    "             drawstyle = 'steps-pre')\n",
    "plt.xticks(np.arange(1991, 2011), rotation=90)\n",
    "plt.show()"
   ]
  },
  {
   "cell_type": "markdown",
   "metadata": {
    "slideshow": {
     "slide_type": "slide"
    }
   },
   "source": [
    "## 3.4 평활기법 (smoothing method)\n",
    "- 시계열의 잡음을 줄이기 위해 여러 관측치들의 평균을 사용하여 패턴을 찾으려는 기법\n",
    "\n",
    "\n",
    "### 3.4.1 이동평균(moving average)\n",
    "- 시간적으로 연속하는 일정한 기간(윈도우; $w$) 동안의 관측치들의 평균을 계산하여 이러한 평균의 시계열을 생성\n",
    "- 계절성이 없는 시계열에 사용\n",
    "$$ MA_t = (y_{t-(w-1)/2}+ \\cdots + y_{t-1} + y_t + y_{t+1} + \\cdots + y_{t+(w-1)/2})/w$$"
   ]
  },
  {
   "cell_type": "code",
   "execution_count": 21,
   "metadata": {},
   "outputs": [],
   "source": [
    "data = pd.DataFrame({'x':[1,5,2,3,4,6,2,5,3,3]})"
   ]
  },
  {
   "cell_type": "code",
   "execution_count": 23,
   "metadata": {},
   "outputs": [
    {
     "data": {
      "text/plain": [
       "0         NaN\n",
       "1    2.666667\n",
       "2    3.333333\n",
       "3    3.000000\n",
       "4    4.333333\n",
       "5    4.000000\n",
       "6    4.333333\n",
       "7    3.333333\n",
       "8    3.666667\n",
       "9         NaN\n",
       "Name: x, dtype: float64"
      ]
     },
     "execution_count": 23,
     "metadata": {},
     "output_type": "execute_result"
    }
   ],
   "source": [
    "data.x.rolling(3, center=True).mean()\n",
    "# rolling -> 3이기 때문에 자신과 앞뒤 하나씩 잡아서 세개의 평균을 낸 값."
   ]
  },
  {
   "cell_type": "code",
   "execution_count": 24,
   "metadata": {},
   "outputs": [],
   "source": [
    "data['ma3'] = data.x.rolling(3, center=True).mean()\n",
    "data['ma6'] = data.x.rolling(6, center=True).mean()"
   ]
  },
  {
   "cell_type": "code",
   "execution_count": 25,
   "metadata": {},
   "outputs": [
    {
     "data": {
      "text/html": [
       "<div>\n",
       "<style scoped>\n",
       "    .dataframe tbody tr th:only-of-type {\n",
       "        vertical-align: middle;\n",
       "    }\n",
       "\n",
       "    .dataframe tbody tr th {\n",
       "        vertical-align: top;\n",
       "    }\n",
       "\n",
       "    .dataframe thead th {\n",
       "        text-align: right;\n",
       "    }\n",
       "</style>\n",
       "<table border=\"1\" class=\"dataframe\">\n",
       "  <thead>\n",
       "    <tr style=\"text-align: right;\">\n",
       "      <th></th>\n",
       "      <th>x</th>\n",
       "      <th>ma3</th>\n",
       "      <th>ma6</th>\n",
       "    </tr>\n",
       "  </thead>\n",
       "  <tbody>\n",
       "    <tr>\n",
       "      <th>0</th>\n",
       "      <td>1</td>\n",
       "      <td>NaN</td>\n",
       "      <td>NaN</td>\n",
       "    </tr>\n",
       "    <tr>\n",
       "      <th>1</th>\n",
       "      <td>5</td>\n",
       "      <td>2.666667</td>\n",
       "      <td>NaN</td>\n",
       "    </tr>\n",
       "    <tr>\n",
       "      <th>2</th>\n",
       "      <td>2</td>\n",
       "      <td>3.333333</td>\n",
       "      <td>NaN</td>\n",
       "    </tr>\n",
       "    <tr>\n",
       "      <th>3</th>\n",
       "      <td>3</td>\n",
       "      <td>3.000000</td>\n",
       "      <td>3.500000</td>\n",
       "    </tr>\n",
       "    <tr>\n",
       "      <th>4</th>\n",
       "      <td>4</td>\n",
       "      <td>4.333333</td>\n",
       "      <td>3.666667</td>\n",
       "    </tr>\n",
       "    <tr>\n",
       "      <th>5</th>\n",
       "      <td>6</td>\n",
       "      <td>4.000000</td>\n",
       "      <td>3.666667</td>\n",
       "    </tr>\n",
       "    <tr>\n",
       "      <th>6</th>\n",
       "      <td>2</td>\n",
       "      <td>4.333333</td>\n",
       "      <td>3.833333</td>\n",
       "    </tr>\n",
       "    <tr>\n",
       "      <th>7</th>\n",
       "      <td>5</td>\n",
       "      <td>3.333333</td>\n",
       "      <td>3.833333</td>\n",
       "    </tr>\n",
       "    <tr>\n",
       "      <th>8</th>\n",
       "      <td>3</td>\n",
       "      <td>3.666667</td>\n",
       "      <td>NaN</td>\n",
       "    </tr>\n",
       "    <tr>\n",
       "      <th>9</th>\n",
       "      <td>3</td>\n",
       "      <td>NaN</td>\n",
       "      <td>NaN</td>\n",
       "    </tr>\n",
       "  </tbody>\n",
       "</table>\n",
       "</div>"
      ],
      "text/plain": [
       "   x       ma3       ma6\n",
       "0  1       NaN       NaN\n",
       "1  5  2.666667       NaN\n",
       "2  2  3.333333       NaN\n",
       "3  3  3.000000  3.500000\n",
       "4  4  4.333333  3.666667\n",
       "5  6  4.000000  3.666667\n",
       "6  2  4.333333  3.833333\n",
       "7  5  3.333333  3.833333\n",
       "8  3  3.666667       NaN\n",
       "9  3       NaN       NaN"
      ]
     },
     "execution_count": 25,
     "metadata": {},
     "output_type": "execute_result"
    }
   ],
   "source": [
    "data"
   ]
  },
  {
   "cell_type": "markdown",
   "metadata": {
    "slideshow": {
     "slide_type": "slide"
    }
   },
   "source": [
    "#### Example: 삼성전자 주가 "
   ]
  },
  {
   "cell_type": "code",
   "execution_count": 26,
   "metadata": {
    "slideshow": {
     "slide_type": "fragment"
    }
   },
   "outputs": [],
   "source": [
    "import FinanceDataReader as fdr\n",
    "sse = fdr.DataReader('005930', '2020') # 2020년부터의 삼성전자 주가 저장"
   ]
  },
  {
   "cell_type": "code",
   "execution_count": 28,
   "metadata": {},
   "outputs": [],
   "source": [
    "sse=sse.reset_index()"
   ]
  },
  {
   "cell_type": "code",
   "execution_count": 29,
   "metadata": {
    "scrolled": true
   },
   "outputs": [
    {
     "data": {
      "text/html": [
       "<div>\n",
       "<style scoped>\n",
       "    .dataframe tbody tr th:only-of-type {\n",
       "        vertical-align: middle;\n",
       "    }\n",
       "\n",
       "    .dataframe tbody tr th {\n",
       "        vertical-align: top;\n",
       "    }\n",
       "\n",
       "    .dataframe thead th {\n",
       "        text-align: right;\n",
       "    }\n",
       "</style>\n",
       "<table border=\"1\" class=\"dataframe\">\n",
       "  <thead>\n",
       "    <tr style=\"text-align: right;\">\n",
       "      <th></th>\n",
       "      <th>Date</th>\n",
       "      <th>Open</th>\n",
       "      <th>High</th>\n",
       "      <th>Low</th>\n",
       "      <th>Close</th>\n",
       "      <th>Volume</th>\n",
       "      <th>Change</th>\n",
       "    </tr>\n",
       "  </thead>\n",
       "  <tbody>\n",
       "    <tr>\n",
       "      <th>0</th>\n",
       "      <td>2020-01-02</td>\n",
       "      <td>55500</td>\n",
       "      <td>56000</td>\n",
       "      <td>55000</td>\n",
       "      <td>55200</td>\n",
       "      <td>12993228</td>\n",
       "      <td>-0.010753</td>\n",
       "    </tr>\n",
       "    <tr>\n",
       "      <th>1</th>\n",
       "      <td>2020-01-03</td>\n",
       "      <td>56000</td>\n",
       "      <td>56600</td>\n",
       "      <td>54900</td>\n",
       "      <td>55500</td>\n",
       "      <td>15422255</td>\n",
       "      <td>0.005435</td>\n",
       "    </tr>\n",
       "    <tr>\n",
       "      <th>2</th>\n",
       "      <td>2020-01-06</td>\n",
       "      <td>54900</td>\n",
       "      <td>55600</td>\n",
       "      <td>54600</td>\n",
       "      <td>55500</td>\n",
       "      <td>10278951</td>\n",
       "      <td>0.000000</td>\n",
       "    </tr>\n",
       "    <tr>\n",
       "      <th>3</th>\n",
       "      <td>2020-01-07</td>\n",
       "      <td>55700</td>\n",
       "      <td>56400</td>\n",
       "      <td>55600</td>\n",
       "      <td>55800</td>\n",
       "      <td>10009778</td>\n",
       "      <td>0.005405</td>\n",
       "    </tr>\n",
       "    <tr>\n",
       "      <th>4</th>\n",
       "      <td>2020-01-08</td>\n",
       "      <td>56200</td>\n",
       "      <td>57400</td>\n",
       "      <td>55900</td>\n",
       "      <td>56800</td>\n",
       "      <td>23501171</td>\n",
       "      <td>0.017921</td>\n",
       "    </tr>\n",
       "  </tbody>\n",
       "</table>\n",
       "</div>"
      ],
      "text/plain": [
       "        Date   Open   High    Low  Close    Volume    Change\n",
       "0 2020-01-02  55500  56000  55000  55200  12993228 -0.010753\n",
       "1 2020-01-03  56000  56600  54900  55500  15422255  0.005435\n",
       "2 2020-01-06  54900  55600  54600  55500  10278951  0.000000\n",
       "3 2020-01-07  55700  56400  55600  55800  10009778  0.005405\n",
       "4 2020-01-08  56200  57400  55900  56800  23501171  0.017921"
      ]
     },
     "execution_count": 29,
     "metadata": {},
     "output_type": "execute_result"
    }
   ],
   "source": [
    "sse.head()"
   ]
  },
  {
   "cell_type": "code",
   "execution_count": 30,
   "metadata": {},
   "outputs": [],
   "source": [
    "sse['ma5']=sse.Close.rolling(5,center=True).mean()\n",
    "sse['ma20']=sse.Close.rolling(20,center=True).mean()\n",
    "sse['ma50']=sse.Close.rolling(50,center=True).mean()"
   ]
  },
  {
   "cell_type": "code",
   "execution_count": 31,
   "metadata": {},
   "outputs": [
    {
     "data": {
      "text/html": [
       "<div>\n",
       "<style scoped>\n",
       "    .dataframe tbody tr th:only-of-type {\n",
       "        vertical-align: middle;\n",
       "    }\n",
       "\n",
       "    .dataframe tbody tr th {\n",
       "        vertical-align: top;\n",
       "    }\n",
       "\n",
       "    .dataframe thead th {\n",
       "        text-align: right;\n",
       "    }\n",
       "</style>\n",
       "<table border=\"1\" class=\"dataframe\">\n",
       "  <thead>\n",
       "    <tr style=\"text-align: right;\">\n",
       "      <th></th>\n",
       "      <th>Date</th>\n",
       "      <th>Open</th>\n",
       "      <th>High</th>\n",
       "      <th>Low</th>\n",
       "      <th>Close</th>\n",
       "      <th>Volume</th>\n",
       "      <th>Change</th>\n",
       "      <th>ma5</th>\n",
       "      <th>ma20</th>\n",
       "      <th>ma50</th>\n",
       "    </tr>\n",
       "  </thead>\n",
       "  <tbody>\n",
       "    <tr>\n",
       "      <th>0</th>\n",
       "      <td>2020-01-02</td>\n",
       "      <td>55500</td>\n",
       "      <td>56000</td>\n",
       "      <td>55000</td>\n",
       "      <td>55200</td>\n",
       "      <td>12993228</td>\n",
       "      <td>-0.010753</td>\n",
       "      <td>NaN</td>\n",
       "      <td>NaN</td>\n",
       "      <td>NaN</td>\n",
       "    </tr>\n",
       "    <tr>\n",
       "      <th>1</th>\n",
       "      <td>2020-01-03</td>\n",
       "      <td>56000</td>\n",
       "      <td>56600</td>\n",
       "      <td>54900</td>\n",
       "      <td>55500</td>\n",
       "      <td>15422255</td>\n",
       "      <td>0.005435</td>\n",
       "      <td>NaN</td>\n",
       "      <td>NaN</td>\n",
       "      <td>NaN</td>\n",
       "    </tr>\n",
       "    <tr>\n",
       "      <th>2</th>\n",
       "      <td>2020-01-06</td>\n",
       "      <td>54900</td>\n",
       "      <td>55600</td>\n",
       "      <td>54600</td>\n",
       "      <td>55500</td>\n",
       "      <td>10278951</td>\n",
       "      <td>0.000000</td>\n",
       "      <td>55760.0</td>\n",
       "      <td>NaN</td>\n",
       "      <td>NaN</td>\n",
       "    </tr>\n",
       "    <tr>\n",
       "      <th>3</th>\n",
       "      <td>2020-01-07</td>\n",
       "      <td>55700</td>\n",
       "      <td>56400</td>\n",
       "      <td>55600</td>\n",
       "      <td>55800</td>\n",
       "      <td>10009778</td>\n",
       "      <td>0.005405</td>\n",
       "      <td>56440.0</td>\n",
       "      <td>NaN</td>\n",
       "      <td>NaN</td>\n",
       "    </tr>\n",
       "    <tr>\n",
       "      <th>4</th>\n",
       "      <td>2020-01-08</td>\n",
       "      <td>56200</td>\n",
       "      <td>57400</td>\n",
       "      <td>55900</td>\n",
       "      <td>56800</td>\n",
       "      <td>23501171</td>\n",
       "      <td>0.017921</td>\n",
       "      <td>57240.0</td>\n",
       "      <td>NaN</td>\n",
       "      <td>NaN</td>\n",
       "    </tr>\n",
       "    <tr>\n",
       "      <th>5</th>\n",
       "      <td>2020-01-09</td>\n",
       "      <td>58400</td>\n",
       "      <td>58600</td>\n",
       "      <td>57400</td>\n",
       "      <td>58600</td>\n",
       "      <td>24102579</td>\n",
       "      <td>0.031690</td>\n",
       "      <td>58140.0</td>\n",
       "      <td>NaN</td>\n",
       "      <td>NaN</td>\n",
       "    </tr>\n",
       "    <tr>\n",
       "      <th>6</th>\n",
       "      <td>2020-01-10</td>\n",
       "      <td>58800</td>\n",
       "      <td>59700</td>\n",
       "      <td>58300</td>\n",
       "      <td>59500</td>\n",
       "      <td>16000170</td>\n",
       "      <td>0.015358</td>\n",
       "      <td>58980.0</td>\n",
       "      <td>NaN</td>\n",
       "      <td>NaN</td>\n",
       "    </tr>\n",
       "    <tr>\n",
       "      <th>7</th>\n",
       "      <td>2020-01-13</td>\n",
       "      <td>59600</td>\n",
       "      <td>60000</td>\n",
       "      <td>59100</td>\n",
       "      <td>60000</td>\n",
       "      <td>11359139</td>\n",
       "      <td>0.008403</td>\n",
       "      <td>59420.0</td>\n",
       "      <td>NaN</td>\n",
       "      <td>NaN</td>\n",
       "    </tr>\n",
       "    <tr>\n",
       "      <th>8</th>\n",
       "      <td>2020-01-14</td>\n",
       "      <td>60400</td>\n",
       "      <td>61000</td>\n",
       "      <td>59900</td>\n",
       "      <td>60000</td>\n",
       "      <td>16906295</td>\n",
       "      <td>0.000000</td>\n",
       "      <td>59840.0</td>\n",
       "      <td>NaN</td>\n",
       "      <td>NaN</td>\n",
       "    </tr>\n",
       "    <tr>\n",
       "      <th>9</th>\n",
       "      <td>2020-01-15</td>\n",
       "      <td>59500</td>\n",
       "      <td>59600</td>\n",
       "      <td>58900</td>\n",
       "      <td>59000</td>\n",
       "      <td>14300928</td>\n",
       "      <td>-0.016667</td>\n",
       "      <td>60200.0</td>\n",
       "      <td>NaN</td>\n",
       "      <td>NaN</td>\n",
       "    </tr>\n",
       "    <tr>\n",
       "      <th>10</th>\n",
       "      <td>2020-01-16</td>\n",
       "      <td>59100</td>\n",
       "      <td>60700</td>\n",
       "      <td>59000</td>\n",
       "      <td>60700</td>\n",
       "      <td>14381774</td>\n",
       "      <td>0.028814</td>\n",
       "      <td>60680.0</td>\n",
       "      <td>58815.0</td>\n",
       "      <td>NaN</td>\n",
       "    </tr>\n",
       "    <tr>\n",
       "      <th>11</th>\n",
       "      <td>2020-01-17</td>\n",
       "      <td>61900</td>\n",
       "      <td>62000</td>\n",
       "      <td>61000</td>\n",
       "      <td>61300</td>\n",
       "      <td>16025661</td>\n",
       "      <td>0.009885</td>\n",
       "      <td>60960.0</td>\n",
       "      <td>58915.0</td>\n",
       "      <td>NaN</td>\n",
       "    </tr>\n",
       "    <tr>\n",
       "      <th>12</th>\n",
       "      <td>2020-01-20</td>\n",
       "      <td>62000</td>\n",
       "      <td>62800</td>\n",
       "      <td>61700</td>\n",
       "      <td>62400</td>\n",
       "      <td>12528855</td>\n",
       "      <td>0.017945</td>\n",
       "      <td>61620.0</td>\n",
       "      <td>59085.0</td>\n",
       "      <td>NaN</td>\n",
       "    </tr>\n",
       "    <tr>\n",
       "      <th>13</th>\n",
       "      <td>2020-01-21</td>\n",
       "      <td>62000</td>\n",
       "      <td>62400</td>\n",
       "      <td>61200</td>\n",
       "      <td>61400</td>\n",
       "      <td>11142693</td>\n",
       "      <td>-0.016026</td>\n",
       "      <td>61640.0</td>\n",
       "      <td>59285.0</td>\n",
       "      <td>NaN</td>\n",
       "    </tr>\n",
       "    <tr>\n",
       "      <th>14</th>\n",
       "      <td>2020-01-22</td>\n",
       "      <td>60500</td>\n",
       "      <td>62600</td>\n",
       "      <td>60400</td>\n",
       "      <td>62300</td>\n",
       "      <td>15339565</td>\n",
       "      <td>0.014658</td>\n",
       "      <td>61140.0</td>\n",
       "      <td>59550.0</td>\n",
       "      <td>NaN</td>\n",
       "    </tr>\n",
       "    <tr>\n",
       "      <th>15</th>\n",
       "      <td>2020-01-23</td>\n",
       "      <td>61800</td>\n",
       "      <td>61800</td>\n",
       "      <td>60700</td>\n",
       "      <td>60800</td>\n",
       "      <td>14916555</td>\n",
       "      <td>-0.024077</td>\n",
       "      <td>60480.0</td>\n",
       "      <td>59730.0</td>\n",
       "      <td>NaN</td>\n",
       "    </tr>\n",
       "    <tr>\n",
       "      <th>16</th>\n",
       "      <td>2020-01-28</td>\n",
       "      <td>59400</td>\n",
       "      <td>59400</td>\n",
       "      <td>58300</td>\n",
       "      <td>58800</td>\n",
       "      <td>23664541</td>\n",
       "      <td>-0.032895</td>\n",
       "      <td>59640.0</td>\n",
       "      <td>59785.0</td>\n",
       "      <td>NaN</td>\n",
       "    </tr>\n",
       "    <tr>\n",
       "      <th>17</th>\n",
       "      <td>2020-01-29</td>\n",
       "      <td>59100</td>\n",
       "      <td>59700</td>\n",
       "      <td>58800</td>\n",
       "      <td>59100</td>\n",
       "      <td>16446102</td>\n",
       "      <td>0.005102</td>\n",
       "      <td>58460.0</td>\n",
       "      <td>59805.0</td>\n",
       "      <td>NaN</td>\n",
       "    </tr>\n",
       "    <tr>\n",
       "      <th>18</th>\n",
       "      <td>2020-01-30</td>\n",
       "      <td>58800</td>\n",
       "      <td>58800</td>\n",
       "      <td>56800</td>\n",
       "      <td>57200</td>\n",
       "      <td>20821939</td>\n",
       "      <td>-0.032149</td>\n",
       "      <td>57740.0</td>\n",
       "      <td>59830.0</td>\n",
       "      <td>NaN</td>\n",
       "    </tr>\n",
       "    <tr>\n",
       "      <th>19</th>\n",
       "      <td>2020-01-31</td>\n",
       "      <td>57800</td>\n",
       "      <td>58400</td>\n",
       "      <td>56400</td>\n",
       "      <td>56400</td>\n",
       "      <td>19749457</td>\n",
       "      <td>-0.013986</td>\n",
       "      <td>57760.0</td>\n",
       "      <td>59865.0</td>\n",
       "      <td>NaN</td>\n",
       "    </tr>\n",
       "    <tr>\n",
       "      <th>20</th>\n",
       "      <td>2020-02-03</td>\n",
       "      <td>55500</td>\n",
       "      <td>57400</td>\n",
       "      <td>55200</td>\n",
       "      <td>57200</td>\n",
       "      <td>23995260</td>\n",
       "      <td>0.014184</td>\n",
       "      <td>57840.0</td>\n",
       "      <td>60005.0</td>\n",
       "      <td>NaN</td>\n",
       "    </tr>\n",
       "    <tr>\n",
       "      <th>21</th>\n",
       "      <td>2020-02-04</td>\n",
       "      <td>57100</td>\n",
       "      <td>59000</td>\n",
       "      <td>56800</td>\n",
       "      <td>58900</td>\n",
       "      <td>21800192</td>\n",
       "      <td>0.029720</td>\n",
       "      <td>58620.0</td>\n",
       "      <td>60045.0</td>\n",
       "      <td>NaN</td>\n",
       "    </tr>\n",
       "    <tr>\n",
       "      <th>22</th>\n",
       "      <td>2020-02-05</td>\n",
       "      <td>60000</td>\n",
       "      <td>60200</td>\n",
       "      <td>58900</td>\n",
       "      <td>59500</td>\n",
       "      <td>19278165</td>\n",
       "      <td>0.010187</td>\n",
       "      <td>59420.0</td>\n",
       "      <td>59970.0</td>\n",
       "      <td>NaN</td>\n",
       "    </tr>\n",
       "    <tr>\n",
       "      <th>23</th>\n",
       "      <td>2020-02-06</td>\n",
       "      <td>60100</td>\n",
       "      <td>61100</td>\n",
       "      <td>59700</td>\n",
       "      <td>61100</td>\n",
       "      <td>14727159</td>\n",
       "      <td>0.026891</td>\n",
       "      <td>59920.0</td>\n",
       "      <td>59860.0</td>\n",
       "      <td>NaN</td>\n",
       "    </tr>\n",
       "    <tr>\n",
       "      <th>24</th>\n",
       "      <td>2020-02-07</td>\n",
       "      <td>61100</td>\n",
       "      <td>61200</td>\n",
       "      <td>59700</td>\n",
       "      <td>60400</td>\n",
       "      <td>16402493</td>\n",
       "      <td>-0.011457</td>\n",
       "      <td>60120.0</td>\n",
       "      <td>59790.0</td>\n",
       "      <td>NaN</td>\n",
       "    </tr>\n",
       "    <tr>\n",
       "      <th>25</th>\n",
       "      <td>2020-02-10</td>\n",
       "      <td>59200</td>\n",
       "      <td>59800</td>\n",
       "      <td>59100</td>\n",
       "      <td>59700</td>\n",
       "      <td>13107121</td>\n",
       "      <td>-0.011589</td>\n",
       "      <td>60320.0</td>\n",
       "      <td>59635.0</td>\n",
       "      <td>58035.0</td>\n",
       "    </tr>\n",
       "    <tr>\n",
       "      <th>26</th>\n",
       "      <td>2020-02-11</td>\n",
       "      <td>59800</td>\n",
       "      <td>60700</td>\n",
       "      <td>59700</td>\n",
       "      <td>59900</td>\n",
       "      <td>11071231</td>\n",
       "      <td>0.003350</td>\n",
       "      <td>60240.0</td>\n",
       "      <td>59435.0</td>\n",
       "      <td>57909.0</td>\n",
       "    </tr>\n",
       "    <tr>\n",
       "      <th>27</th>\n",
       "      <td>2020-02-12</td>\n",
       "      <td>60300</td>\n",
       "      <td>60700</td>\n",
       "      <td>59700</td>\n",
       "      <td>60500</td>\n",
       "      <td>12904207</td>\n",
       "      <td>0.010017</td>\n",
       "      <td>60520.0</td>\n",
       "      <td>59390.0</td>\n",
       "      <td>57745.0</td>\n",
       "    </tr>\n",
       "    <tr>\n",
       "      <th>28</th>\n",
       "      <td>2020-02-13</td>\n",
       "      <td>61200</td>\n",
       "      <td>61600</td>\n",
       "      <td>60500</td>\n",
       "      <td>60700</td>\n",
       "      <td>18449775</td>\n",
       "      <td>0.003306</td>\n",
       "      <td>60880.0</td>\n",
       "      <td>59260.0</td>\n",
       "      <td>57547.0</td>\n",
       "    </tr>\n",
       "    <tr>\n",
       "      <th>29</th>\n",
       "      <td>2020-02-14</td>\n",
       "      <td>60900</td>\n",
       "      <td>61900</td>\n",
       "      <td>60200</td>\n",
       "      <td>61800</td>\n",
       "      <td>13276067</td>\n",
       "      <td>0.018122</td>\n",
       "      <td>60860.0</td>\n",
       "      <td>59195.0</td>\n",
       "      <td>57290.0</td>\n",
       "    </tr>\n",
       "    <tr>\n",
       "      <th>30</th>\n",
       "      <td>2020-02-17</td>\n",
       "      <td>61600</td>\n",
       "      <td>62000</td>\n",
       "      <td>61200</td>\n",
       "      <td>61500</td>\n",
       "      <td>8740596</td>\n",
       "      <td>-0.004854</td>\n",
       "      <td>60800.0</td>\n",
       "      <td>59085.0</td>\n",
       "      <td>57062.0</td>\n",
       "    </tr>\n",
       "    <tr>\n",
       "      <th>31</th>\n",
       "      <td>2020-02-18</td>\n",
       "      <td>60800</td>\n",
       "      <td>60900</td>\n",
       "      <td>59700</td>\n",
       "      <td>59800</td>\n",
       "      <td>16674266</td>\n",
       "      <td>-0.027642</td>\n",
       "      <td>60660.0</td>\n",
       "      <td>58975.0</td>\n",
       "      <td>56740.0</td>\n",
       "    </tr>\n",
       "    <tr>\n",
       "      <th>32</th>\n",
       "      <td>2020-02-19</td>\n",
       "      <td>59800</td>\n",
       "      <td>60400</td>\n",
       "      <td>59400</td>\n",
       "      <td>60200</td>\n",
       "      <td>12951496</td>\n",
       "      <td>0.006689</td>\n",
       "      <td>60140.0</td>\n",
       "      <td>58800.0</td>\n",
       "      <td>56489.0</td>\n",
       "    </tr>\n",
       "    <tr>\n",
       "      <th>33</th>\n",
       "      <td>2020-02-20</td>\n",
       "      <td>60700</td>\n",
       "      <td>61300</td>\n",
       "      <td>59600</td>\n",
       "      <td>60000</td>\n",
       "      <td>14591924</td>\n",
       "      <td>-0.003322</td>\n",
       "      <td>59200.0</td>\n",
       "      <td>58695.0</td>\n",
       "      <td>56262.0</td>\n",
       "    </tr>\n",
       "    <tr>\n",
       "      <th>34</th>\n",
       "      <td>2020-02-21</td>\n",
       "      <td>58800</td>\n",
       "      <td>59800</td>\n",
       "      <td>58500</td>\n",
       "      <td>59200</td>\n",
       "      <td>13777393</td>\n",
       "      <td>-0.013333</td>\n",
       "      <td>58820.0</td>\n",
       "      <td>58530.0</td>\n",
       "      <td>56018.0</td>\n",
       "    </tr>\n",
       "    <tr>\n",
       "      <th>35</th>\n",
       "      <td>2020-02-24</td>\n",
       "      <td>57400</td>\n",
       "      <td>58100</td>\n",
       "      <td>56800</td>\n",
       "      <td>56800</td>\n",
       "      <td>25627537</td>\n",
       "      <td>-0.040541</td>\n",
       "      <td>58080.0</td>\n",
       "      <td>58335.0</td>\n",
       "      <td>55804.0</td>\n",
       "    </tr>\n",
       "    <tr>\n",
       "      <th>36</th>\n",
       "      <td>2020-02-25</td>\n",
       "      <td>56200</td>\n",
       "      <td>58000</td>\n",
       "      <td>56200</td>\n",
       "      <td>57900</td>\n",
       "      <td>23885408</td>\n",
       "      <td>0.019366</td>\n",
       "      <td>57260.0</td>\n",
       "      <td>58060.0</td>\n",
       "      <td>55547.0</td>\n",
       "    </tr>\n",
       "    <tr>\n",
       "      <th>37</th>\n",
       "      <td>2020-02-26</td>\n",
       "      <td>56000</td>\n",
       "      <td>57000</td>\n",
       "      <td>56000</td>\n",
       "      <td>56500</td>\n",
       "      <td>25483102</td>\n",
       "      <td>-0.024180</td>\n",
       "      <td>56260.0</td>\n",
       "      <td>57795.0</td>\n",
       "      <td>55276.0</td>\n",
       "    </tr>\n",
       "    <tr>\n",
       "      <th>38</th>\n",
       "      <td>2020-02-27</td>\n",
       "      <td>56300</td>\n",
       "      <td>56900</td>\n",
       "      <td>55500</td>\n",
       "      <td>55900</td>\n",
       "      <td>23209541</td>\n",
       "      <td>-0.010619</td>\n",
       "      <td>55900.0</td>\n",
       "      <td>57375.0</td>\n",
       "      <td>54944.0</td>\n",
       "    </tr>\n",
       "    <tr>\n",
       "      <th>39</th>\n",
       "      <td>2020-02-28</td>\n",
       "      <td>55000</td>\n",
       "      <td>55500</td>\n",
       "      <td>54200</td>\n",
       "      <td>54200</td>\n",
       "      <td>30054227</td>\n",
       "      <td>-0.030411</td>\n",
       "      <td>55400.0</td>\n",
       "      <td>56880.0</td>\n",
       "      <td>54652.0</td>\n",
       "    </tr>\n",
       "  </tbody>\n",
       "</table>\n",
       "</div>"
      ],
      "text/plain": [
       "         Date   Open   High    Low  Close    Volume    Change      ma5  \\\n",
       "0  2020-01-02  55500  56000  55000  55200  12993228 -0.010753      NaN   \n",
       "1  2020-01-03  56000  56600  54900  55500  15422255  0.005435      NaN   \n",
       "2  2020-01-06  54900  55600  54600  55500  10278951  0.000000  55760.0   \n",
       "3  2020-01-07  55700  56400  55600  55800  10009778  0.005405  56440.0   \n",
       "4  2020-01-08  56200  57400  55900  56800  23501171  0.017921  57240.0   \n",
       "5  2020-01-09  58400  58600  57400  58600  24102579  0.031690  58140.0   \n",
       "6  2020-01-10  58800  59700  58300  59500  16000170  0.015358  58980.0   \n",
       "7  2020-01-13  59600  60000  59100  60000  11359139  0.008403  59420.0   \n",
       "8  2020-01-14  60400  61000  59900  60000  16906295  0.000000  59840.0   \n",
       "9  2020-01-15  59500  59600  58900  59000  14300928 -0.016667  60200.0   \n",
       "10 2020-01-16  59100  60700  59000  60700  14381774  0.028814  60680.0   \n",
       "11 2020-01-17  61900  62000  61000  61300  16025661  0.009885  60960.0   \n",
       "12 2020-01-20  62000  62800  61700  62400  12528855  0.017945  61620.0   \n",
       "13 2020-01-21  62000  62400  61200  61400  11142693 -0.016026  61640.0   \n",
       "14 2020-01-22  60500  62600  60400  62300  15339565  0.014658  61140.0   \n",
       "15 2020-01-23  61800  61800  60700  60800  14916555 -0.024077  60480.0   \n",
       "16 2020-01-28  59400  59400  58300  58800  23664541 -0.032895  59640.0   \n",
       "17 2020-01-29  59100  59700  58800  59100  16446102  0.005102  58460.0   \n",
       "18 2020-01-30  58800  58800  56800  57200  20821939 -0.032149  57740.0   \n",
       "19 2020-01-31  57800  58400  56400  56400  19749457 -0.013986  57760.0   \n",
       "20 2020-02-03  55500  57400  55200  57200  23995260  0.014184  57840.0   \n",
       "21 2020-02-04  57100  59000  56800  58900  21800192  0.029720  58620.0   \n",
       "22 2020-02-05  60000  60200  58900  59500  19278165  0.010187  59420.0   \n",
       "23 2020-02-06  60100  61100  59700  61100  14727159  0.026891  59920.0   \n",
       "24 2020-02-07  61100  61200  59700  60400  16402493 -0.011457  60120.0   \n",
       "25 2020-02-10  59200  59800  59100  59700  13107121 -0.011589  60320.0   \n",
       "26 2020-02-11  59800  60700  59700  59900  11071231  0.003350  60240.0   \n",
       "27 2020-02-12  60300  60700  59700  60500  12904207  0.010017  60520.0   \n",
       "28 2020-02-13  61200  61600  60500  60700  18449775  0.003306  60880.0   \n",
       "29 2020-02-14  60900  61900  60200  61800  13276067  0.018122  60860.0   \n",
       "30 2020-02-17  61600  62000  61200  61500   8740596 -0.004854  60800.0   \n",
       "31 2020-02-18  60800  60900  59700  59800  16674266 -0.027642  60660.0   \n",
       "32 2020-02-19  59800  60400  59400  60200  12951496  0.006689  60140.0   \n",
       "33 2020-02-20  60700  61300  59600  60000  14591924 -0.003322  59200.0   \n",
       "34 2020-02-21  58800  59800  58500  59200  13777393 -0.013333  58820.0   \n",
       "35 2020-02-24  57400  58100  56800  56800  25627537 -0.040541  58080.0   \n",
       "36 2020-02-25  56200  58000  56200  57900  23885408  0.019366  57260.0   \n",
       "37 2020-02-26  56000  57000  56000  56500  25483102 -0.024180  56260.0   \n",
       "38 2020-02-27  56300  56900  55500  55900  23209541 -0.010619  55900.0   \n",
       "39 2020-02-28  55000  55500  54200  54200  30054227 -0.030411  55400.0   \n",
       "\n",
       "       ma20     ma50  \n",
       "0       NaN      NaN  \n",
       "1       NaN      NaN  \n",
       "2       NaN      NaN  \n",
       "3       NaN      NaN  \n",
       "4       NaN      NaN  \n",
       "5       NaN      NaN  \n",
       "6       NaN      NaN  \n",
       "7       NaN      NaN  \n",
       "8       NaN      NaN  \n",
       "9       NaN      NaN  \n",
       "10  58815.0      NaN  \n",
       "11  58915.0      NaN  \n",
       "12  59085.0      NaN  \n",
       "13  59285.0      NaN  \n",
       "14  59550.0      NaN  \n",
       "15  59730.0      NaN  \n",
       "16  59785.0      NaN  \n",
       "17  59805.0      NaN  \n",
       "18  59830.0      NaN  \n",
       "19  59865.0      NaN  \n",
       "20  60005.0      NaN  \n",
       "21  60045.0      NaN  \n",
       "22  59970.0      NaN  \n",
       "23  59860.0      NaN  \n",
       "24  59790.0      NaN  \n",
       "25  59635.0  58035.0  \n",
       "26  59435.0  57909.0  \n",
       "27  59390.0  57745.0  \n",
       "28  59260.0  57547.0  \n",
       "29  59195.0  57290.0  \n",
       "30  59085.0  57062.0  \n",
       "31  58975.0  56740.0  \n",
       "32  58800.0  56489.0  \n",
       "33  58695.0  56262.0  \n",
       "34  58530.0  56018.0  \n",
       "35  58335.0  55804.0  \n",
       "36  58060.0  55547.0  \n",
       "37  57795.0  55276.0  \n",
       "38  57375.0  54944.0  \n",
       "39  56880.0  54652.0  "
      ]
     },
     "execution_count": 31,
     "metadata": {},
     "output_type": "execute_result"
    }
   ],
   "source": [
    "sse.head(40)"
   ]
  },
  {
   "cell_type": "code",
   "execution_count": 32,
   "metadata": {},
   "outputs": [
    {
     "data": {
      "text/html": [
       "<div>\n",
       "<style scoped>\n",
       "    .dataframe tbody tr th:only-of-type {\n",
       "        vertical-align: middle;\n",
       "    }\n",
       "\n",
       "    .dataframe tbody tr th {\n",
       "        vertical-align: top;\n",
       "    }\n",
       "\n",
       "    .dataframe thead th {\n",
       "        text-align: right;\n",
       "    }\n",
       "</style>\n",
       "<table border=\"1\" class=\"dataframe\">\n",
       "  <thead>\n",
       "    <tr style=\"text-align: right;\">\n",
       "      <th></th>\n",
       "      <th>Date</th>\n",
       "      <th>Open</th>\n",
       "      <th>High</th>\n",
       "      <th>Low</th>\n",
       "      <th>Close</th>\n",
       "      <th>Volume</th>\n",
       "      <th>Change</th>\n",
       "      <th>ma5</th>\n",
       "      <th>ma20</th>\n",
       "      <th>ma50</th>\n",
       "    </tr>\n",
       "  </thead>\n",
       "  <tbody>\n",
       "    <tr>\n",
       "      <th>4</th>\n",
       "      <td>2020-01-08</td>\n",
       "      <td>56200</td>\n",
       "      <td>57400</td>\n",
       "      <td>55900</td>\n",
       "      <td>56800</td>\n",
       "      <td>23501171</td>\n",
       "      <td>0.017921</td>\n",
       "      <td>57240.0</td>\n",
       "      <td>NaN</td>\n",
       "      <td>NaN</td>\n",
       "    </tr>\n",
       "  </tbody>\n",
       "</table>\n",
       "</div>"
      ],
      "text/plain": [
       "        Date   Open   High    Low  Close    Volume    Change      ma5  ma20  \\\n",
       "4 2020-01-08  56200  57400  55900  56800  23501171  0.017921  57240.0   NaN   \n",
       "\n",
       "   ma50  \n",
       "4   NaN  "
      ]
     },
     "execution_count": 32,
     "metadata": {},
     "output_type": "execute_result"
    }
   ],
   "source": [
    "sse.loc[sse.Date=='2020-01-08',:]"
   ]
  },
  {
   "cell_type": "code",
   "execution_count": 33,
   "metadata": {},
   "outputs": [
    {
     "data": {
      "text/plain": [
       "-440"
      ]
     },
     "execution_count": 33,
     "metadata": {},
     "output_type": "execute_result"
    }
   ],
   "source": [
    "# 오차 = y-y_hat\n",
    "# 2020-01-08의 5일 이동평균 오차\n",
    "56800-57240"
   ]
  },
  {
   "cell_type": "code",
   "execution_count": 35,
   "metadata": {},
   "outputs": [
    {
     "data": {
      "image/png": "[encoded data removed]",
      "text/plain": [
       "<Figure size 432x288 with 1 Axes>"
      ]
     },
     "metadata": {
      "needs_background": "light"
     },
     "output_type": "display_data"
    }
   ],
   "source": [
    "sse.plot(y=['Close','ma5','ma20','ma50'])\n",
    "plt.show()\n",
    "#주식 그래프 비슷하게 그린 것"
   ]
  },
  {
   "cell_type": "markdown",
   "metadata": {
    "slideshow": {
     "slide_type": "slide"
    }
   },
   "source": [
    "### 10.2.2 차분하기(differencing)\n",
    "- 시계열에서 추세 또는 계절적 패턴을 제거하는 단순하면서 대중적인 방법\n",
    "- 시차가 1인 차분: $y_t - y_{t-1}$\n",
    "    - 추세를 제거하는데 유리 \n",
    "    - 2차 함수(quadratic) 및 지수형(exponential) 추세를 제거하기 위해 시차 1의 차분을 한번 더 하는 방법이 자주 사용됨"
   ]
  },
  {
   "cell_type": "code",
   "execution_count": 36,
   "metadata": {
    "slideshow": {
     "slide_type": "fragment"
    }
   },
   "outputs": [],
   "source": [
    "sse['diff1'] = sse.Close.diff()"
   ]
  },
  {
   "cell_type": "code",
   "execution_count": 37,
   "metadata": {},
   "outputs": [
    {
     "data": {
      "text/html": [
       "<div>\n",
       "<style scoped>\n",
       "    .dataframe tbody tr th:only-of-type {\n",
       "        vertical-align: middle;\n",
       "    }\n",
       "\n",
       "    .dataframe tbody tr th {\n",
       "        vertical-align: top;\n",
       "    }\n",
       "\n",
       "    .dataframe thead th {\n",
       "        text-align: right;\n",
       "    }\n",
       "</style>\n",
       "<table border=\"1\" class=\"dataframe\">\n",
       "  <thead>\n",
       "    <tr style=\"text-align: right;\">\n",
       "      <th></th>\n",
       "      <th>Date</th>\n",
       "      <th>Open</th>\n",
       "      <th>High</th>\n",
       "      <th>Low</th>\n",
       "      <th>Close</th>\n",
       "      <th>Volume</th>\n",
       "      <th>Change</th>\n",
       "      <th>ma5</th>\n",
       "      <th>ma20</th>\n",
       "      <th>ma50</th>\n",
       "      <th>diff1</th>\n",
       "    </tr>\n",
       "  </thead>\n",
       "  <tbody>\n",
       "    <tr>\n",
       "      <th>0</th>\n",
       "      <td>2020-01-02</td>\n",
       "      <td>55500</td>\n",
       "      <td>56000</td>\n",
       "      <td>55000</td>\n",
       "      <td>55200</td>\n",
       "      <td>12993228</td>\n",
       "      <td>-0.010753</td>\n",
       "      <td>NaN</td>\n",
       "      <td>NaN</td>\n",
       "      <td>NaN</td>\n",
       "      <td>NaN</td>\n",
       "    </tr>\n",
       "    <tr>\n",
       "      <th>1</th>\n",
       "      <td>2020-01-03</td>\n",
       "      <td>56000</td>\n",
       "      <td>56600</td>\n",
       "      <td>54900</td>\n",
       "      <td>55500</td>\n",
       "      <td>15422255</td>\n",
       "      <td>0.005435</td>\n",
       "      <td>NaN</td>\n",
       "      <td>NaN</td>\n",
       "      <td>NaN</td>\n",
       "      <td>300.0</td>\n",
       "    </tr>\n",
       "    <tr>\n",
       "      <th>2</th>\n",
       "      <td>2020-01-06</td>\n",
       "      <td>54900</td>\n",
       "      <td>55600</td>\n",
       "      <td>54600</td>\n",
       "      <td>55500</td>\n",
       "      <td>10278951</td>\n",
       "      <td>0.000000</td>\n",
       "      <td>55760.0</td>\n",
       "      <td>NaN</td>\n",
       "      <td>NaN</td>\n",
       "      <td>0.0</td>\n",
       "    </tr>\n",
       "    <tr>\n",
       "      <th>3</th>\n",
       "      <td>2020-01-07</td>\n",
       "      <td>55700</td>\n",
       "      <td>56400</td>\n",
       "      <td>55600</td>\n",
       "      <td>55800</td>\n",
       "      <td>10009778</td>\n",
       "      <td>0.005405</td>\n",
       "      <td>56440.0</td>\n",
       "      <td>NaN</td>\n",
       "      <td>NaN</td>\n",
       "      <td>300.0</td>\n",
       "    </tr>\n",
       "    <tr>\n",
       "      <th>4</th>\n",
       "      <td>2020-01-08</td>\n",
       "      <td>56200</td>\n",
       "      <td>57400</td>\n",
       "      <td>55900</td>\n",
       "      <td>56800</td>\n",
       "      <td>23501171</td>\n",
       "      <td>0.017921</td>\n",
       "      <td>57240.0</td>\n",
       "      <td>NaN</td>\n",
       "      <td>NaN</td>\n",
       "      <td>1000.0</td>\n",
       "    </tr>\n",
       "  </tbody>\n",
       "</table>\n",
       "</div>"
      ],
      "text/plain": [
       "        Date   Open   High    Low  Close    Volume    Change      ma5  ma20  \\\n",
       "0 2020-01-02  55500  56000  55000  55200  12993228 -0.010753      NaN   NaN   \n",
       "1 2020-01-03  56000  56600  54900  55500  15422255  0.005435      NaN   NaN   \n",
       "2 2020-01-06  54900  55600  54600  55500  10278951  0.000000  55760.0   NaN   \n",
       "3 2020-01-07  55700  56400  55600  55800  10009778  0.005405  56440.0   NaN   \n",
       "4 2020-01-08  56200  57400  55900  56800  23501171  0.017921  57240.0   NaN   \n",
       "\n",
       "   ma50   diff1  \n",
       "0   NaN     NaN  \n",
       "1   NaN   300.0  \n",
       "2   NaN     0.0  \n",
       "3   NaN   300.0  \n",
       "4   NaN  1000.0  "
      ]
     },
     "execution_count": 37,
     "metadata": {},
     "output_type": "execute_result"
    }
   ],
   "source": [
    "sse.head()"
   ]
  },
  {
   "cell_type": "code",
   "execution_count": 38,
   "metadata": {},
   "outputs": [
    {
     "data": {
      "image/png": "[encoded data removed]",
      "text/plain": [
       "<Figure size 1080x216 with 2 Axes>"
      ]
     },
     "metadata": {
      "needs_background": "light"
     },
     "output_type": "display_data"
    }
   ],
   "source": [
    "fig,axes=plt.subplots(1,2,figsize=(15,3))\n",
    "sse.plot(y='Close',ax=axes[0])\n",
    "sse.plot(y='diff1',ax=axes[1])\n",
    "plt.show()"
   ]
  },
  {
   "cell_type": "markdown",
   "metadata": {
    "slideshow": {
     "slide_type": "slide"
    }
   },
   "source": [
    "- 계절성 제거 \n",
    "    - $M$의 주기를 갖는 계절적 패턴을 제거하기 위해 시차가 $M$인 차분을 실시 \n",
    "    - Example: 월별 자료의 연간 패턴을 없애기 위해서 시차 12의 차분 \n",
    "\n",
    "#### Example: Amtrak 기차의 승객 패턴"
   ]
  },
  {
   "cell_type": "code",
   "execution_count": 39,
   "metadata": {
    "slideshow": {
     "slide_type": "fragment"
    }
   },
   "outputs": [],
   "source": [
    "data_path = \"./data/\"\n",
    "amtrak = pd.read_csv(data_path+\"Amtrak.csv\")"
   ]
  },
  {
   "cell_type": "code",
   "execution_count": 40,
   "metadata": {},
   "outputs": [
    {
     "data": {
      "text/html": [
       "<div>\n",
       "<style scoped>\n",
       "    .dataframe tbody tr th:only-of-type {\n",
       "        vertical-align: middle;\n",
       "    }\n",
       "\n",
       "    .dataframe tbody tr th {\n",
       "        vertical-align: top;\n",
       "    }\n",
       "\n",
       "    .dataframe thead th {\n",
       "        text-align: right;\n",
       "    }\n",
       "</style>\n",
       "<table border=\"1\" class=\"dataframe\">\n",
       "  <thead>\n",
       "    <tr style=\"text-align: right;\">\n",
       "      <th></th>\n",
       "      <th>Month</th>\n",
       "      <th>Ridership</th>\n",
       "    </tr>\n",
       "  </thead>\n",
       "  <tbody>\n",
       "    <tr>\n",
       "      <th>0</th>\n",
       "      <td>Jan.91</td>\n",
       "      <td>1709</td>\n",
       "    </tr>\n",
       "    <tr>\n",
       "      <th>1</th>\n",
       "      <td>Feb.91</td>\n",
       "      <td>1621</td>\n",
       "    </tr>\n",
       "    <tr>\n",
       "      <th>2</th>\n",
       "      <td>Mar.91</td>\n",
       "      <td>1973</td>\n",
       "    </tr>\n",
       "    <tr>\n",
       "      <th>3</th>\n",
       "      <td>Apr.91</td>\n",
       "      <td>1812</td>\n",
       "    </tr>\n",
       "    <tr>\n",
       "      <th>4</th>\n",
       "      <td>May.91</td>\n",
       "      <td>1975</td>\n",
       "    </tr>\n",
       "    <tr>\n",
       "      <th>5</th>\n",
       "      <td>Jun.91</td>\n",
       "      <td>1862</td>\n",
       "    </tr>\n",
       "    <tr>\n",
       "      <th>6</th>\n",
       "      <td>Jul.91</td>\n",
       "      <td>1940</td>\n",
       "    </tr>\n",
       "    <tr>\n",
       "      <th>7</th>\n",
       "      <td>Aug.91</td>\n",
       "      <td>2013</td>\n",
       "    </tr>\n",
       "    <tr>\n",
       "      <th>8</th>\n",
       "      <td>Sep.91</td>\n",
       "      <td>1596</td>\n",
       "    </tr>\n",
       "    <tr>\n",
       "      <th>9</th>\n",
       "      <td>Oct.91</td>\n",
       "      <td>1725</td>\n",
       "    </tr>\n",
       "    <tr>\n",
       "      <th>10</th>\n",
       "      <td>Nov.91</td>\n",
       "      <td>1676</td>\n",
       "    </tr>\n",
       "    <tr>\n",
       "      <th>11</th>\n",
       "      <td>Dec.91</td>\n",
       "      <td>1814</td>\n",
       "    </tr>\n",
       "    <tr>\n",
       "      <th>12</th>\n",
       "      <td>Jan.92</td>\n",
       "      <td>1615</td>\n",
       "    </tr>\n",
       "    <tr>\n",
       "      <th>13</th>\n",
       "      <td>Feb.92</td>\n",
       "      <td>1557</td>\n",
       "    </tr>\n",
       "    <tr>\n",
       "      <th>14</th>\n",
       "      <td>Mar.92</td>\n",
       "      <td>1891</td>\n",
       "    </tr>\n",
       "    <tr>\n",
       "      <th>15</th>\n",
       "      <td>Apr.92</td>\n",
       "      <td>1956</td>\n",
       "    </tr>\n",
       "    <tr>\n",
       "      <th>16</th>\n",
       "      <td>May.92</td>\n",
       "      <td>1885</td>\n",
       "    </tr>\n",
       "    <tr>\n",
       "      <th>17</th>\n",
       "      <td>Jun.92</td>\n",
       "      <td>1623</td>\n",
       "    </tr>\n",
       "    <tr>\n",
       "      <th>18</th>\n",
       "      <td>Jul.92</td>\n",
       "      <td>1903</td>\n",
       "    </tr>\n",
       "    <tr>\n",
       "      <th>19</th>\n",
       "      <td>Aug.92</td>\n",
       "      <td>1997</td>\n",
       "    </tr>\n",
       "  </tbody>\n",
       "</table>\n",
       "</div>"
      ],
      "text/plain": [
       "     Month  Ridership\n",
       "0   Jan.91       1709\n",
       "1   Feb.91       1621\n",
       "2   Mar.91       1973\n",
       "3   Apr.91       1812\n",
       "4   May.91       1975\n",
       "5   Jun.91       1862\n",
       "6   Jul.91       1940\n",
       "7   Aug.91       2013\n",
       "8   Sep.91       1596\n",
       "9   Oct.91       1725\n",
       "10  Nov.91       1676\n",
       "11  Dec.91       1814\n",
       "12  Jan.92       1615\n",
       "13  Feb.92       1557\n",
       "14  Mar.92       1891\n",
       "15  Apr.92       1956\n",
       "16  May.92       1885\n",
       "17  Jun.92       1623\n",
       "18  Jul.92       1903\n",
       "19  Aug.92       1997"
      ]
     },
     "execution_count": 40,
     "metadata": {},
     "output_type": "execute_result"
    }
   ],
   "source": [
    "amtrak.head(20)"
   ]
  },
  {
   "cell_type": "code",
   "execution_count": 41,
   "metadata": {},
   "outputs": [
    {
     "data": {
      "image/png": "[encoded data removed]",
      "text/plain": [
       "<Figure size 432x288 with 1 Axes>"
      ]
     },
     "metadata": {
      "needs_background": "light"
     },
     "output_type": "display_data"
    }
   ],
   "source": [
    "amtrak.plot(y='Ridership')\n",
    "plt.show()"
   ]
  },
  {
   "cell_type": "code",
   "execution_count": 42,
   "metadata": {},
   "outputs": [],
   "source": [
    "amtrak['diff12']=amtrak.Ridership.diff(periods=12)\n",
    "#데이터가 년간 월별 데이터기 때문에 12를 기준으로 같은 월의 차이를 본다."
   ]
  },
  {
   "cell_type": "code",
   "execution_count": 43,
   "metadata": {},
   "outputs": [
    {
     "data": {
      "text/html": [
       "<div>\n",
       "<style scoped>\n",
       "    .dataframe tbody tr th:only-of-type {\n",
       "        vertical-align: middle;\n",
       "    }\n",
       "\n",
       "    .dataframe tbody tr th {\n",
       "        vertical-align: top;\n",
       "    }\n",
       "\n",
       "    .dataframe thead th {\n",
       "        text-align: right;\n",
       "    }\n",
       "</style>\n",
       "<table border=\"1\" class=\"dataframe\">\n",
       "  <thead>\n",
       "    <tr style=\"text-align: right;\">\n",
       "      <th></th>\n",
       "      <th>Month</th>\n",
       "      <th>Ridership</th>\n",
       "      <th>diff12</th>\n",
       "    </tr>\n",
       "  </thead>\n",
       "  <tbody>\n",
       "    <tr>\n",
       "      <th>0</th>\n",
       "      <td>Jan.91</td>\n",
       "      <td>1709</td>\n",
       "      <td>NaN</td>\n",
       "    </tr>\n",
       "    <tr>\n",
       "      <th>1</th>\n",
       "      <td>Feb.91</td>\n",
       "      <td>1621</td>\n",
       "      <td>NaN</td>\n",
       "    </tr>\n",
       "    <tr>\n",
       "      <th>2</th>\n",
       "      <td>Mar.91</td>\n",
       "      <td>1973</td>\n",
       "      <td>NaN</td>\n",
       "    </tr>\n",
       "    <tr>\n",
       "      <th>3</th>\n",
       "      <td>Apr.91</td>\n",
       "      <td>1812</td>\n",
       "      <td>NaN</td>\n",
       "    </tr>\n",
       "    <tr>\n",
       "      <th>4</th>\n",
       "      <td>May.91</td>\n",
       "      <td>1975</td>\n",
       "      <td>NaN</td>\n",
       "    </tr>\n",
       "    <tr>\n",
       "      <th>5</th>\n",
       "      <td>Jun.91</td>\n",
       "      <td>1862</td>\n",
       "      <td>NaN</td>\n",
       "    </tr>\n",
       "    <tr>\n",
       "      <th>6</th>\n",
       "      <td>Jul.91</td>\n",
       "      <td>1940</td>\n",
       "      <td>NaN</td>\n",
       "    </tr>\n",
       "    <tr>\n",
       "      <th>7</th>\n",
       "      <td>Aug.91</td>\n",
       "      <td>2013</td>\n",
       "      <td>NaN</td>\n",
       "    </tr>\n",
       "    <tr>\n",
       "      <th>8</th>\n",
       "      <td>Sep.91</td>\n",
       "      <td>1596</td>\n",
       "      <td>NaN</td>\n",
       "    </tr>\n",
       "    <tr>\n",
       "      <th>9</th>\n",
       "      <td>Oct.91</td>\n",
       "      <td>1725</td>\n",
       "      <td>NaN</td>\n",
       "    </tr>\n",
       "    <tr>\n",
       "      <th>10</th>\n",
       "      <td>Nov.91</td>\n",
       "      <td>1676</td>\n",
       "      <td>NaN</td>\n",
       "    </tr>\n",
       "    <tr>\n",
       "      <th>11</th>\n",
       "      <td>Dec.91</td>\n",
       "      <td>1814</td>\n",
       "      <td>NaN</td>\n",
       "    </tr>\n",
       "    <tr>\n",
       "      <th>12</th>\n",
       "      <td>Jan.92</td>\n",
       "      <td>1615</td>\n",
       "      <td>-94.0</td>\n",
       "    </tr>\n",
       "    <tr>\n",
       "      <th>13</th>\n",
       "      <td>Feb.92</td>\n",
       "      <td>1557</td>\n",
       "      <td>-64.0</td>\n",
       "    </tr>\n",
       "    <tr>\n",
       "      <th>14</th>\n",
       "      <td>Mar.92</td>\n",
       "      <td>1891</td>\n",
       "      <td>-82.0</td>\n",
       "    </tr>\n",
       "    <tr>\n",
       "      <th>15</th>\n",
       "      <td>Apr.92</td>\n",
       "      <td>1956</td>\n",
       "      <td>144.0</td>\n",
       "    </tr>\n",
       "    <tr>\n",
       "      <th>16</th>\n",
       "      <td>May.92</td>\n",
       "      <td>1885</td>\n",
       "      <td>-90.0</td>\n",
       "    </tr>\n",
       "    <tr>\n",
       "      <th>17</th>\n",
       "      <td>Jun.92</td>\n",
       "      <td>1623</td>\n",
       "      <td>-239.0</td>\n",
       "    </tr>\n",
       "    <tr>\n",
       "      <th>18</th>\n",
       "      <td>Jul.92</td>\n",
       "      <td>1903</td>\n",
       "      <td>-37.0</td>\n",
       "    </tr>\n",
       "    <tr>\n",
       "      <th>19</th>\n",
       "      <td>Aug.92</td>\n",
       "      <td>1997</td>\n",
       "      <td>-16.0</td>\n",
       "    </tr>\n",
       "  </tbody>\n",
       "</table>\n",
       "</div>"
      ],
      "text/plain": [
       "     Month  Ridership  diff12\n",
       "0   Jan.91       1709     NaN\n",
       "1   Feb.91       1621     NaN\n",
       "2   Mar.91       1973     NaN\n",
       "3   Apr.91       1812     NaN\n",
       "4   May.91       1975     NaN\n",
       "5   Jun.91       1862     NaN\n",
       "6   Jul.91       1940     NaN\n",
       "7   Aug.91       2013     NaN\n",
       "8   Sep.91       1596     NaN\n",
       "9   Oct.91       1725     NaN\n",
       "10  Nov.91       1676     NaN\n",
       "11  Dec.91       1814     NaN\n",
       "12  Jan.92       1615   -94.0\n",
       "13  Feb.92       1557   -64.0\n",
       "14  Mar.92       1891   -82.0\n",
       "15  Apr.92       1956   144.0\n",
       "16  May.92       1885   -90.0\n",
       "17  Jun.92       1623  -239.0\n",
       "18  Jul.92       1903   -37.0\n",
       "19  Aug.92       1997   -16.0"
      ]
     },
     "execution_count": 43,
     "metadata": {},
     "output_type": "execute_result"
    }
   ],
   "source": [
    "amtrak.head(20)"
   ]
  },
  {
   "cell_type": "code",
   "execution_count": 44,
   "metadata": {},
   "outputs": [
    {
     "data": {
      "image/png": "[encoded data removed]",
      "text/plain": [
       "<Figure size 1080x216 with 2 Axes>"
      ]
     },
     "metadata": {
      "needs_background": "light"
     },
     "output_type": "display_data"
    }
   ],
   "source": [
    "fig,axes=plt.subplots(1,2,figsize=(15,3))\n",
    "amtrak.Ridership.plot(ax=axes[0])\n",
    "amtrak.diff12.plot(ax=axes[1])\n",
    "plt.show()"
   ]
  },
  {
   "cell_type": "markdown",
   "metadata": {
    "slideshow": {
     "slide_type": "slide"
    }
   },
   "source": [
    "#### 시계열 분해 (Time Series Decomposition)\n",
    "- 시계열을 추세, 계절성,오차\n",
    "    - 추세($T_t$): 전체적으로 증가 혹은 감소하는 큰 흐름\n",
    "    - 계절성($S_t$): 짧은 기간에 규칙적으로 반복되는 사이클\n",
    "    - 오차($R_t$): random variation\n",
    "\n",
    "$$ y_t = T_t + S_t + R_t$$"
   ]
  },
  {
   "cell_type": "code",
   "execution_count": 47,
   "metadata": {
    "slideshow": {
     "slide_type": "fragment"
    }
   },
   "outputs": [],
   "source": [
    "from statsmodels.tsa.seasonal import seasonal_decompose"
   ]
  },
  {
   "cell_type": "code",
   "execution_count": 48,
   "metadata": {
    "slideshow": {
     "slide_type": "fragment"
    }
   },
   "outputs": [],
   "source": [
    "result = seasonal_decompose(amtrak.Ridership, model='additive', \n",
    "                            period=12)"
   ]
  },
  {
   "cell_type": "code",
   "execution_count": 49,
   "metadata": {},
   "outputs": [
    {
     "data": {
      "image/png": "[encoded data removed]",
      "text/plain": [
       "<Figure size 432x288 with 4 Axes>"
      ]
     },
     "metadata": {
      "needs_background": "light"
     },
     "output_type": "display_data"
    }
   ],
   "source": [
    "result.plot()\n",
    "plt.show()"
   ]
  },
  {
   "cell_type": "code",
   "execution_count": 50,
   "metadata": {},
   "outputs": [
    {
     "data": {
      "text/plain": [
       "0     -212.284255\n",
       "1     -247.159255\n",
       "2       47.368523\n",
       "3       65.913662\n",
       "4       81.233106\n",
       "          ...    \n",
       "154    -12.905783\n",
       "155     29.795606\n",
       "156   -212.284255\n",
       "157   -247.159255\n",
       "158     47.368523\n",
       "Name: seasonal, Length: 159, dtype: float64"
      ]
     },
     "execution_count": 50,
     "metadata": {},
     "output_type": "execute_result"
    }
   ],
   "source": [
    "result.seasonal\n",
    "#3번째 그래프(계절성)의 데이터"
   ]
  },
  {
   "cell_type": "code",
   "execution_count": 52,
   "metadata": {},
   "outputs": [
    {
     "data": {
      "text/plain": [
       "<AxesSubplot:>"
      ]
     },
     "execution_count": 52,
     "metadata": {},
     "output_type": "execute_result"
    },
    {
     "data": {
      "image/png": "[encoded data removed]",
      "text/plain": [
       "<Figure size 432x288 with 1 Axes>"
      ]
     },
     "metadata": {
      "needs_background": "light"
     },
     "output_type": "display_data"
    }
   ],
   "source": [
    "result.trend.plot()\n",
    "#2번째 그래프(추세)를 뽑아낸 것"
   ]
  },
  {
   "cell_type": "code",
   "execution_count": 53,
   "metadata": {},
   "outputs": [
    {
     "data": {
      "text/plain": [
       "0            NaN\n",
       "1            NaN\n",
       "2            NaN\n",
       "3            NaN\n",
       "4            NaN\n",
       "5            NaN\n",
       "6     -17.238982\n",
       "7      25.587941\n",
       "8     -57.969752\n",
       "9     -69.208801\n",
       "10   -109.010884\n",
       "11     -0.003940\n",
       "12     54.575921\n",
       "13     33.659255\n",
       "14     69.298144\n",
       "15    107.711338\n",
       "16     10.100227\n",
       "17   -229.833801\n",
       "18    -58.738982\n",
       "19     -7.828726\n",
       "Name: resid, dtype: float64"
      ]
     },
     "execution_count": 53,
     "metadata": {},
     "output_type": "execute_result"
    }
   ],
   "source": [
    "# 4번째 오차 그래프\n",
    "result.resid[:20]"
   ]
  },
  {
   "cell_type": "markdown",
   "metadata": {
    "slideshow": {
     "slide_type": "slide"
    }
   },
   "source": [
    "### 10.2.3 단순지수평활기법(simple exponential smoothing)\n",
    "- 지수가중이동평균(Exponentially weighted moving average; EWMA)라고도 불리움 \n",
    "- 모든 과거의 값을 가중평균하여 평활\n",
    "- 가중치는 과거로 갈수록 지수적으로 감소 \n",
    "- $t+1$ 시점의 예측치를 생성하는 지수평활함수 $F_{t+1}$은 아래와 같음\n",
    "$$ \\begin{eqnarray}\n",
    "F_{t+1} &=& \\alpha y_t  + \\alpha(1-\\alpha) y_{t-1} + \\alpha(1-\\alpha)^2 y_{t-2} + \\cdots\\\\\n",
    "&=& \\alpha y_t + (1-\\alpha)F_t \\\\\n",
    "&=& F_t + \\alpha e_t\n",
    "\\end{eqnarray}$$\n",
    "    - $e_t$: 실제관측치 $y_t$와 예측치 $F_t$ 사이의 오차($y_t = F_t + e_t$)\n",
    "    - $\\alpha$: 평활상수 \n",
    "\n",
    "#### 평활상수 $\\alpha$\n",
    "- $\\alpha \\approx 1$: 가장 최근의 관측치만이 예측에 영향 \n",
    "- $\\alpha \\approx 0$: 과거의 관측치들이 예측치에 더 많은 영향"
   ]
  },
  {
   "cell_type": "markdown",
   "metadata": {
    "slideshow": {
     "slide_type": "slide"
    }
   },
   "source": [
    "##### Toy example"
   ]
  },
  {
   "cell_type": "code",
   "execution_count": 54,
   "metadata": {
    "slideshow": {
     "slide_type": "fragment"
    }
   },
   "outputs": [],
   "source": [
    "### pandas의 ewm 사용 \n",
    "data['ewm']=data.x.ewm(alpha=0.2, adjust = False).mean() #alpha가 0에 가깝기 때문에 과거의 관측치들이 더 많은 영향"
   ]
  },
  {
   "cell_type": "code",
   "execution_count": 55,
   "metadata": {},
   "outputs": [
    {
     "data": {
      "text/html": [
       "<div>\n",
       "<style scoped>\n",
       "    .dataframe tbody tr th:only-of-type {\n",
       "        vertical-align: middle;\n",
       "    }\n",
       "\n",
       "    .dataframe tbody tr th {\n",
       "        vertical-align: top;\n",
       "    }\n",
       "\n",
       "    .dataframe thead th {\n",
       "        text-align: right;\n",
       "    }\n",
       "</style>\n",
       "<table border=\"1\" class=\"dataframe\">\n",
       "  <thead>\n",
       "    <tr style=\"text-align: right;\">\n",
       "      <th></th>\n",
       "      <th>x</th>\n",
       "      <th>ma3</th>\n",
       "      <th>ma6</th>\n",
       "      <th>ewm</th>\n",
       "    </tr>\n",
       "  </thead>\n",
       "  <tbody>\n",
       "    <tr>\n",
       "      <th>0</th>\n",
       "      <td>1</td>\n",
       "      <td>NaN</td>\n",
       "      <td>NaN</td>\n",
       "      <td>1.0000</td>\n",
       "    </tr>\n",
       "    <tr>\n",
       "      <th>1</th>\n",
       "      <td>5</td>\n",
       "      <td>2.666667</td>\n",
       "      <td>NaN</td>\n",
       "      <td>1.8000</td>\n",
       "    </tr>\n",
       "    <tr>\n",
       "      <th>2</th>\n",
       "      <td>2</td>\n",
       "      <td>3.333333</td>\n",
       "      <td>NaN</td>\n",
       "      <td>1.8400</td>\n",
       "    </tr>\n",
       "    <tr>\n",
       "      <th>3</th>\n",
       "      <td>3</td>\n",
       "      <td>3.000000</td>\n",
       "      <td>3.500000</td>\n",
       "      <td>2.0720</td>\n",
       "    </tr>\n",
       "    <tr>\n",
       "      <th>4</th>\n",
       "      <td>4</td>\n",
       "      <td>4.333333</td>\n",
       "      <td>3.666667</td>\n",
       "      <td>2.4576</td>\n",
       "    </tr>\n",
       "  </tbody>\n",
       "</table>\n",
       "</div>"
      ],
      "text/plain": [
       "   x       ma3       ma6     ewm\n",
       "0  1       NaN       NaN  1.0000\n",
       "1  5  2.666667       NaN  1.8000\n",
       "2  2  3.333333       NaN  1.8400\n",
       "3  3  3.000000  3.500000  2.0720\n",
       "4  4  4.333333  3.666667  2.4576"
      ]
     },
     "execution_count": 55,
     "metadata": {},
     "output_type": "execute_result"
    }
   ],
   "source": [
    "data.head()"
   ]
  },
  {
   "cell_type": "code",
   "execution_count": 56,
   "metadata": {
    "scrolled": true
   },
   "outputs": [
    {
     "data": {
      "text/plain": [
       "1.8"
      ]
     },
     "execution_count": 56,
     "metadata": {},
     "output_type": "execute_result"
    }
   ],
   "source": [
    "# t=1\n",
    "0.2*5 + 0.8*1"
   ]
  },
  {
   "cell_type": "code",
   "execution_count": 57,
   "metadata": {
    "scrolled": true
   },
   "outputs": [
    {
     "data": {
      "text/plain": [
       "1.8400000000000003"
      ]
     },
     "execution_count": 57,
     "metadata": {},
     "output_type": "execute_result"
    }
   ],
   "source": [
    "# t=2\n",
    "0.2*2 + 0.8*1.8"
   ]
  },
  {
   "cell_type": "code",
   "execution_count": 58,
   "metadata": {},
   "outputs": [
    {
     "data": {
      "text/plain": [
       "2.072"
      ]
     },
     "execution_count": 58,
     "metadata": {},
     "output_type": "execute_result"
    }
   ],
   "source": [
    "# t=3\n",
    "0.2*3 + 0.8*1.84"
   ]
  },
  {
   "cell_type": "code",
   "execution_count": 59,
   "metadata": {
    "slideshow": {
     "slide_type": "slide"
    }
   },
   "outputs": [
    {
     "name": "stderr",
     "output_type": "stream",
     "text": [
      "C:\\Users\\JangSeongHyun\\anaconda3\\lib\\site-packages\\statsmodels\\tsa\\holtwinters\\model.py:427: FutureWarning: After 0.13 initialization must be handled at model creation\n",
      "  warnings.warn(\n"
     ]
    },
    {
     "data": {
      "text/plain": [
       "0    1.000000\n",
       "1    1.000000\n",
       "2    1.800000\n",
       "3    1.840000\n",
       "4    2.072000\n",
       "5    2.457600\n",
       "6    3.166080\n",
       "7    2.932864\n",
       "8    3.346291\n",
       "9    3.277033\n",
       "dtype: float64"
      ]
     },
     "execution_count": 59,
     "metadata": {},
     "output_type": "execute_result"
    }
   ],
   "source": [
    "### statsmodels의 SimpleExpSmoothing 사용\n",
    "from statsmodels.tsa.api import SimpleExpSmoothing\n",
    "\n",
    "fit_data = SimpleExpSmoothing(data.x).fit(\n",
    "    smoothing_level=0.2, optimized=False)\n",
    "fit_data.fittedvalues"
   ]
  },
  {
   "cell_type": "markdown",
   "metadata": {
    "slideshow": {
     "slide_type": "slide"
    }
   },
   "source": [
    "##### Example: 삼성전자 주가"
   ]
  },
  {
   "cell_type": "code",
   "execution_count": 69,
   "metadata": {
    "slideshow": {
     "slide_type": "fragment"
    }
   },
   "outputs": [],
   "source": [
    "### pandas의 ewm 사용 \n",
    "\n",
    "fit_ewm1 = sse.Close[-50:].ewm(alpha=0.2).mean()\n",
    "fit_ewm2 = sse.Close[-50:].ewm(alpha=0.6).mean()"
   ]
  },
  {
   "cell_type": "code",
   "execution_count": 70,
   "metadata": {
    "scrolled": true,
    "slideshow": {
     "slide_type": "fragment"
    }
   },
   "outputs": [
    {
     "data": {
      "image/png": "[encoded data removed]",
      "text/plain": [
       "<Figure size 576x360 with 1 Axes>"
      ]
     },
     "metadata": {
      "needs_background": "light"
     },
     "output_type": "display_data"
    }
   ],
   "source": [
    "plt.figure(figsize=(8,5))\n",
    "line1, = plt.plot(sse.Close[-50:], marker='o', color='black')\n",
    "line2, = plt.plot(fit_ewm1, marker='o', color='blue')\n",
    "line3, = plt.plot(fit_ewm2, marker='o', color='red')\n",
    "plt.legend([line1, line2, line3],['original', r'$\\alpha=0.2$', r'$\\alpha=0.6$'])\n",
    "plt.show()"
   ]
  },
  {
   "cell_type": "code",
   "execution_count": 71,
   "metadata": {
    "slideshow": {
     "slide_type": "slide"
    }
   },
   "outputs": [
    {
     "name": "stderr",
     "output_type": "stream",
     "text": [
      "C:\\Users\\JangSeongHyun\\anaconda3\\lib\\site-packages\\statsmodels\\tsa\\holtwinters\\model.py:427: FutureWarning: After 0.13 initialization must be handled at model creation\n",
      "  warnings.warn(\n"
     ]
    }
   ],
   "source": [
    "### statsmodels의 SimpleExpSmoothing 사용\n",
    "\n",
    "fit1 = SimpleExpSmoothing(sse.Close[-50:]).fit(smoothing_level=0.2)\n",
    "fit2 = SimpleExpSmoothing(sse.Close[-50:]).fit(smoothing_level=0.6)"
   ]
  },
  {
   "cell_type": "markdown",
   "metadata": {
    "slideshow": {
     "slide_type": "slide"
    }
   },
   "source": [
    "#### 예측\n",
    "- 미래에 대한 예측치는 모두 동일한(flat) 형태를 지님\n",
    "$$F_{t+2} = \\alpha F_{t+1} + (1-\\alpha)F_{t+1} = F_{t+1} $$ "
   ]
  },
  {
   "cell_type": "code",
   "execution_count": 72,
   "metadata": {
    "slideshow": {
     "slide_type": "fragment"
    }
   },
   "outputs": [],
   "source": [
    "fcast1 = fit1.forecast(10)\n",
    "fcast2 = fit2.forecast(10)"
   ]
  },
  {
   "cell_type": "code",
   "execution_count": 73,
   "metadata": {
    "slideshow": {
     "slide_type": "slide"
    }
   },
   "outputs": [
    {
     "data": {
      "image/png": "[encoded data removed]",
      "text/plain": [
       "<Figure size 576x360 with 1 Axes>"
      ]
     },
     "metadata": {
      "needs_background": "light"
     },
     "output_type": "display_data"
    }
   ],
   "source": [
    "plt.figure(figsize=(8,5))\n",
    "line1, = plt.plot(sse.Close[-50:], marker='o', color='black')\n",
    "line2, = plt.plot(fit1.fittedvalues, marker='o', color='blue')\n",
    "line3, = plt.plot(fit2.fittedvalues, marker='o', color='red')\n",
    "plt.plot(fcast1, marker='o', color='blue')\n",
    "plt.plot(fcast2, marker='o', color='red')\n",
    "plt.legend([line1, line2, line3],['original', r'$\\alpha=0.2$', r'$\\alpha=0.6$'])\n",
    "plt.show()"
   ]
  },
  {
   "cell_type": "markdown",
   "metadata": {
    "slideshow": {
     "slide_type": "slide"
    }
   },
   "source": [
    "## 10.3 ARMA 모형\n",
    "#### 시계열의 정상성 (stationary)\n",
    "- 평균이 일정하다. $E(y_t)=\\mu$\n",
    "- 분산이 일정하다. $Var(y_t)=\\sigma^2$\n",
    "- 공분산이 시차에만 의존한다. $Cov(y_t, y_{t+k})=\\gamma_k$\n",
    "\n",
    "#### AutoRegressive Moving-Average(ARMA) 모형\n",
    "- 변수의 과거 값의 선형 조합을 이용하여 관심있는 변수를 예측하는 AR모형과 과거 예측오차의 선형 조합을 이용하는 MA 모형을 결합한 형태의 모형\n",
    "- 정상 시계열을 대상으로 한 모형\n",
    "- ARMA(p,q)\n",
    "\n",
    "\n",
    "$$\n",
    "\\begin{eqnarray}\n",
    "y_t = &\\beta_0& + \\beta_1 y_{t-1} + \\beta_2 y_{t-2} +\\cdots+ \\beta_p y_{t-p} \\\\\n",
    "&+& \\epsilon_t + \\theta_1 \\epsilon_{t-1} + \\theta_2 \\epsilon_{t-2} + \\cdots + \\theta_q \\epsilon_{t-q}\n",
    "\\end{eqnarray}$$"
   ]
  },
  {
   "cell_type": "markdown",
   "metadata": {
    "slideshow": {
     "slide_type": "slide"
    }
   },
   "source": [
    "#### ARMA 모형의 식별 \n",
    "- 자기상관함수(Autocorrelation function; ACF): $y_t$와 $y_{t-k}$ 간의 상관계수 \n",
    "- 편자기상관함수(Partial autocorrelation function; PACF): 다른 모든 짧은 시차 항에 따라 조정한 후 $y_t$와 $y_{t-k}$ 간의 상관계수 \n",
    "- ACF와 PACF의 모양을 참고하여 ARMA 모형의 차수($p, q$)를 식별 \n",
    "\n",
    "<img src='http://drive.google.com/uc?export=view&id=1MYlt06LtP7Xv-hO-Dt8Ue6lHhL_qi3Xh' />\n",
    "\n",
    "|       | AR(p) |         MA(q)        |      ARMA(p, q)      |  \n",
    "|:-----:|:--------------------:|:--------------------:|:---------:|\n",
    "|  ACF  |       Tails off      | Cuts off after lag q | Tails off |\n",
    "|  PACF | Cuts off after lag p |       Tails off      | Tails off |"
   ]
  },
  {
   "cell_type": "code",
   "execution_count": 86,
   "metadata": {
    "scrolled": true,
    "slideshow": {
     "slide_type": "slide"
    }
   },
   "outputs": [
    {
     "data": {
      "image/png": "[encoded data removed]",
      "text/plain": [
       "<Figure size 864x216 with 2 Axes>"
      ]
     },
     "metadata": {
      "needs_background": "light"
     },
     "output_type": "display_data"
    }
   ],
   "source": [
    "from statsmodels.graphics.tsaplots import plot_acf, plot_pacf\n",
    "fig, axes = plt.subplots(1,2, figsize=(12,3))\n",
    "plot_acf(sse.diff1[1:],ax=axes[0])\n",
    "plot_pacf(sse.diff1[1:], ax=axes[1] )\n",
    "plt.show()"
   ]
  },
  {
   "cell_type": "code",
   "execution_count": 87,
   "metadata": {
    "slideshow": {
     "slide_type": "slide"
    }
   },
   "outputs": [
    {
     "data": {
      "text/html": [
       "<table class=\"simpletable\">\n",
       "<caption>SARIMAX Results</caption>\n",
       "<tr>\n",
       "  <th>Dep. Variable:</th>         <td>Close</td>      <th>  No. Observations:  </th>    <td>359</td>   \n",
       "</tr>\n",
       "<tr>\n",
       "  <th>Model:</th>            <td>ARIMA(1, 1, 0)</td>  <th>  Log Likelihood     </th> <td>-3042.081</td>\n",
       "</tr>\n",
       "<tr>\n",
       "  <th>Date:</th>            <td>Tue, 15 Jun 2021</td> <th>  AIC                </th> <td>6088.162</td> \n",
       "</tr>\n",
       "<tr>\n",
       "  <th>Time:</th>                <td>03:06:32</td>     <th>  BIC                </th> <td>6095.923</td> \n",
       "</tr>\n",
       "<tr>\n",
       "  <th>Sample:</th>                  <td>0</td>        <th>  HQIC               </th> <td>6091.248</td> \n",
       "</tr>\n",
       "<tr>\n",
       "  <th></th>                      <td> - 359</td>      <th>                     </th>     <td> </td>    \n",
       "</tr>\n",
       "<tr>\n",
       "  <th>Covariance Type:</th>        <td>opg</td>       <th>                     </th>     <td> </td>    \n",
       "</tr>\n",
       "</table>"
      ],
      "text/plain": [
       "<class 'statsmodels.iolib.table.SimpleTable'>"
      ]
     },
     "execution_count": 87,
     "metadata": {},
     "output_type": "execute_result"
    }
   ],
   "source": [
    "from statsmodels.tsa.arima.model import ARIMA\n",
    "model = ARIMA(sse.Close, order=(1,1 ,0)).fit() # 숫자: 몇번 차분을 할 것이냐\n",
    "model.summary().tables[0]"
   ]
  },
  {
   "cell_type": "code",
   "execution_count": 88,
   "metadata": {},
   "outputs": [],
   "source": [
    "fcast_arima = model.forecast(10)"
   ]
  },
  {
   "cell_type": "code",
   "execution_count": 89,
   "metadata": {
    "scrolled": true
   },
   "outputs": [
    {
     "data": {
      "image/png": "[encoded data removed]",
      "text/plain": [
       "<Figure size 576x360 with 1 Axes>"
      ]
     },
     "metadata": {
      "needs_background": "light"
     },
     "output_type": "display_data"
    }
   ],
   "source": [
    "plt.figure(figsize=(8,5))\n",
    "line1, = plt.plot(sse.Close[-50:], marker='o', color='black')\n",
    "line2, = plt.plot(model.fittedvalues[-50:], marker='o', color='blue')\n",
    "line3, = plt.plot(fcast_arima, marker='o', color='red')\n",
    "plt.legend([line1, line2, line3],['original', 'ARIMA', 'Forecast'])\n",
    "plt.show()"
   ]
  },
  {
   "cell_type": "markdown",
   "metadata": {
    "slideshow": {
     "slide_type": "slide"
    }
   },
   "source": [
    "#### References\n",
    "http://kaletemple.com/a-gentle-introduction-to-time-series-forecasting/\n",
    "Shmueli, G., & Lichtendahl Jr, K. C. (2016). Practical time series forecasting with r: A hands-on guide. Axelrod Schnall Publishers.\n"
   ]
  }
 ],
 "metadata": {
  "jupytext": {
   "cell_metadata_filter": "tags,collapse,name,-all",
   "main_language": "R",
   "notebook_metadata_filter": "-all"
  },
  "kernelspec": {
   "display_name": "Python 3",
   "language": "python",
   "name": "python3"
  },
  "language_info": {
   "codemirror_mode": {
    "name": "ipython",
    "version": 3
   },
   "file_extension": ".py",
   "mimetype": "text/x-python",
   "name": "python",
   "nbconvert_exporter": "python",
   "pygments_lexer": "ipython3",
   "version": "3.8.5"
  }
 },
 "nbformat": 4,
 "nbformat_minor": 4
}
