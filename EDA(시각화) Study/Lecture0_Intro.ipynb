{
 "cells": [
  {
   "cell_type": "markdown",
   "metadata": {},
   "source": [
    "# Lecture 0. Introduction\n",
    "\n",
    "## 0.1 수업 개요\n",
    "- 본 교과목에서는 데이터 분석의 기본원리와 함께 데이터의 구조와 특징을 파악하는 다양한 기술을 소개한다. Python을 활용하여 양적 자료, 범주형 자료, 시계열 자료 등을 시각화 하고 데이터가 가진 함의를 이해하는 방법을 연습한다.\n",
    "\n",
    "- 선수학습 내용\n",
    "    - Python 기초 \n",
    "    - 경영통계\n",
    "\n",
    "- 수업진행방식\n",
    "    - 7A, 7B, 8A (15:00-16:15): 동영상 강의 학습\n",
    "    - 8B, 9A, 9B (16:30-17:45): 실시간 Zoom 강의\n",
    "    \n",
    "    \n",
    "- Office hour\n",
    "    - 매주 화요일 14:00-14:50\n",
    "    - \n",
    "    https://kookmin.zoom.us/j/89470919077?pwd=enlvWHlnS1JwcFFMbDE3akxLZWNMZz09\n",
    "\n",
    "    - 회의 ID: 894 7091 9077\n",
    "    - 암호: 308987\n"
   ]
  },
  {
   "cell_type": "markdown",
   "metadata": {},
   "source": [
    "- 평가 \n",
    "    - 중간고사: 30%\n",
    "    - 기말고사: 40%\n",
    "    - 팀과제: 20%\n",
    "    - 출석 및 수업참여도:10% \n",
    "        - 동영상 학습 90% 이상 완료 \n",
    "        - Zoom 강의 참석 (자동 출석체크 되니 반드시 E-campus를 통해 접속하세요)\n",
    "        - 수업 중 참여도 체크하여 반영\n",
    "\n",
    "- 참고서적 (꼭 구매할 필요는 없음)\n",
    "    - Pandas Cookbook, 매트 해리슨, 시어도어 페트로우\n",
    "    - 파이썬으로 데이터 주무르기, 민형기\n",
    "    - 모두의 데이터분석 with 파이썬, 송석리, 이현아\n",
    "  \n",
    "    \n",
    "    "
   ]
  },
  {
   "cell_type": "markdown",
   "metadata": {},
   "source": [
    "## 0.2 팀과제 \n",
    "- 매 주 랜덤으로 팀 결정 \n",
    "- 해당 주의 동영상 학습 내용과 관련된 과제를 팀별로 수행\n",
    "- 정해진 시간 안에 과제 결과물을 Miro (www.miro.com) 에 포스팅 하고 Best 과제 선정 \n",
    "- 평가 \n",
    "    - 학생 상호평가: 50%\n",
    "    - 교수 평가: 50% \n"
   ]
  },
  {
   "cell_type": "markdown",
   "metadata": {},
   "source": [
    "## 0.3 데이터 분석 (Data Analysis)\n",
    "\n",
    "#### 확증적 자료분석 (Confirmatory Data Analysis; CDA)\n",
    "- 모형 평가\n",
    "- 유의성 검정, 신뢰구간 추정\n",
    "\n",
    "#### 탐색적 자료분석 (Exploratory Data Analysis; EDA)\n",
    "- 데이터의 구조와 특징 파악\n",
    "- 자료가 무엇을 말하려 하는지 탐색하여 그 아래 깔려있는 새로운 통찰 탐구\n",
    "- 우리가 아는 이론이나 사실을 확증하려는 것이 아님!\n",
    "- 간단한 계산(기술통계)과 손쉬운 그래픽의 중요성 강조 \n",
    "\n"
   ]
  },
  {
   "cell_type": "markdown",
   "metadata": {},
   "source": [
    "## 0.4 오늘의 수업과제\n",
    "1. 설문조사 응답완료\n",
    "    - 수업용으로만 사용되는 설문이며 철저히 익명이 보장되니 솔직하게 응답해주길 바랍니다.\n",
    "\n",
    "https://forms.gle/YvcXWRBFTxixtCgM8\n",
    "\n",
    "2. Miro.com 사용 테스트\n",
    "    - 팀별로 아래 주제에 대해 이야기 하고 정리하여 Miro의 EDA Week1 보드에 게시\n",
    "    - 주제 \n",
    "        - 내가 python을 사용해서 할 줄 아는 것?\n",
    "        - 통계학 vs. 머신러닝 무엇이 다른가? \n"
   ]
  },
  {
   "cell_type": "markdown",
   "metadata": {},
   "source": [
    "## 0.5 Principles of Analytic Graphics\n",
    "\n",
    "### Principle 1: 비교 \n",
    "특정 가설에 대한 증거는 언제나 다른 가설에 대해 상대적으로 판단\n",
    "“Compared to What?”\n",
    "\n",
    "<img src=\"https://bookdown.org/rdpeng/exdata/images/principles-unnamed-chunk-2-1.png\" width=50% align=left>\n",
    "<img src=\"https://bookdown.org/rdpeng/exdata/images/principles-unnamed-chunk-3-1.png\" width=50%>"
   ]
  },
  {
   "cell_type": "markdown",
   "metadata": {},
   "source": [
    "### Principle 2: 인과관계\n",
    "- 주어진 문제에 대해 어떤 인과관계를 유추할 수 있는가?\n",
    "\n",
    "<img src=\"https://bookdown.org/rdpeng/exdata/images/principles-unnamed-chunk-5-1.png\">"
   ]
  },
  {
   "cell_type": "markdown",
   "metadata": {},
   "source": [
    "### Principle 3: 다변량 데이터\n",
    "- 두 개 이상의 변수 간의 관계를 함께 고려하는가? \n",
    "<img src=\"https://bookdown.org/rdpeng/exdata/images/principles-unnamed-chunk-6-1.png\" width=60%>\n",
    "\n",
    "- 계절의 고려 \n",
    "<img src=https://bookdown.org/rdpeng/exdata/images/principles-unnamed-chunk-7-1.png>\n",
    "\n",
    "<img src=https://bookdown.org/rdpeng/exdata/images/principles-unnamed-chunk-9-1.png>\n",
    "\n",
    "### Principle 4: 정보의 통합\n",
    "- 상대방이 짧은 시간에 그래프만 훑어보더라도 이해할 수 있는 충분한 정보를 담고 있는가?\n",
    "<img src=https://bookdown.org/rdpeng/exdata/images/principles-unnamed-chunk-10-1.png>\n",
    "\n",
    "##### References\n",
    "https://bookdown.org/rdpeng/exdata/principles-of-analytic-graphics.html\n"
   ]
  },
  {
   "cell_type": "code",
   "execution_count": null,
   "metadata": {},
   "outputs": [],
   "source": []
  }
 ],
 "metadata": {
  "kernelspec": {
   "display_name": "Python 3",
   "language": "python",
   "name": "python3"
  },
  "language_info": {
   "codemirror_mode": {
    "name": "ipython",
    "version": 3
   },
   "file_extension": ".py",
   "mimetype": "text/x-python",
   "name": "python",
   "nbconvert_exporter": "python",
   "pygments_lexer": "ipython3",
   "version": "3.8.5"
  }
 },
 "nbformat": 4,
 "nbformat_minor": 4
}
