{
 "cells": [
  {
   "cell_type": "markdown",
   "metadata": {},
   "source": [
    "# Practice 1"
   ]
  },
  {
   "cell_type": "markdown",
   "metadata": {},
   "source": [
    "- `survey_EDA2021.csv` : 설문조사 결과\n",
    "- `survey_EDA2021_description.csv`: 변수 설명 "
   ]
  },
  {
   "cell_type": "markdown",
   "metadata": {},
   "source": [
    "#### 1. `survey_EDA2021.csv`의 각 변수들의 측정척도의 종류를 구분하시오. "
   ]
  },
  {
   "cell_type": "code",
   "execution_count": 1,
   "metadata": {},
   "outputs": [],
   "source": [
    "import pandas as pd\n",
    "import numpy as np"
   ]
  },
  {
   "cell_type": "markdown",
   "metadata": {},
   "source": [
    "#### 2. 위에서 구분한 범주형 변수들을 막대그래프, 원그래프 등을 사용하여 요약하시오. (모든 변수에 대해 할 필요는 없음. 변수는 자유롭게 선정) \n",
    "\n",
    "[생각해볼 점]\n",
    "- 무엇을 비교할 것인가? (부분집합 고려?)\n",
    "- 그래프에 포함할 정보는 무엇인가? (개수, 백분율 등)\n",
    "- 축, 제목, 축이름, 색깔 등의 일관성\n",
    "- 그래프 요소의 가시성 \n"
   ]
  },
  {
   "cell_type": "code",
   "execution_count": 2,
   "metadata": {},
   "outputs": [],
   "source": [
    "import seaborn as sns\n",
    "data_path = \"./data/\"\n",
    "import matplotlib.pylab as plt"
   ]
  },
  {
   "cell_type": "code",
   "execution_count": 3,
   "metadata": {
    "scrolled": true
   },
   "outputs": [
    {
     "data": {
      "text/html": [
       "<div>\n",
       "<style scoped>\n",
       "    .dataframe tbody tr th:only-of-type {\n",
       "        vertical-align: middle;\n",
       "    }\n",
       "\n",
       "    .dataframe tbody tr th {\n",
       "        vertical-align: top;\n",
       "    }\n",
       "\n",
       "    .dataframe thead th {\n",
       "        text-align: right;\n",
       "    }\n",
       "</style>\n",
       "<table border=\"1\" class=\"dataframe\">\n",
       "  <thead>\n",
       "    <tr style=\"text-align: right;\">\n",
       "      <th></th>\n",
       "      <th>id</th>\n",
       "      <th>workout</th>\n",
       "      <th>computer</th>\n",
       "      <th>cellphone</th>\n",
       "      <th>sleep</th>\n",
       "      <th>sns</th>\n",
       "      <th>sns_type</th>\n",
       "      <th>video</th>\n",
       "      <th>video_contents</th>\n",
       "      <th>smoke</th>\n",
       "      <th>...</th>\n",
       "      <th>height_dad</th>\n",
       "      <th>weight</th>\n",
       "      <th>shoes</th>\n",
       "      <th>gender</th>\n",
       "      <th>dating</th>\n",
       "      <th>dating_count</th>\n",
       "      <th>number</th>\n",
       "      <th>kmu_like</th>\n",
       "      <th>kmu_entry</th>\n",
       "      <th>highsch_curri</th>\n",
       "    </tr>\n",
       "  </thead>\n",
       "  <tbody>\n",
       "    <tr>\n",
       "      <th>0</th>\n",
       "      <td>1</td>\n",
       "      <td>60</td>\n",
       "      <td>7.0</td>\n",
       "      <td>3.0</td>\n",
       "      <td>4.0</td>\n",
       "      <td>0.0</td>\n",
       "      <td>no_use</td>\n",
       "      <td>youtube</td>\n",
       "      <td>food</td>\n",
       "      <td>no</td>\n",
       "      <td>...</td>\n",
       "      <td>168</td>\n",
       "      <td>64</td>\n",
       "      <td>260</td>\n",
       "      <td>male</td>\n",
       "      <td>yes</td>\n",
       "      <td>1</td>\n",
       "      <td>7</td>\n",
       "      <td>4</td>\n",
       "      <td>regular</td>\n",
       "      <td>nat_science</td>\n",
       "    </tr>\n",
       "    <tr>\n",
       "      <th>1</th>\n",
       "      <td>2</td>\n",
       "      <td>90</td>\n",
       "      <td>8.0</td>\n",
       "      <td>5.0</td>\n",
       "      <td>5.0</td>\n",
       "      <td>2.5</td>\n",
       "      <td>facebook</td>\n",
       "      <td>youtube</td>\n",
       "      <td>life</td>\n",
       "      <td>yes</td>\n",
       "      <td>...</td>\n",
       "      <td>180</td>\n",
       "      <td>65</td>\n",
       "      <td>265</td>\n",
       "      <td>male</td>\n",
       "      <td>yes</td>\n",
       "      <td>3</td>\n",
       "      <td>4</td>\n",
       "      <td>4</td>\n",
       "      <td>regular</td>\n",
       "      <td>lib_arts</td>\n",
       "    </tr>\n",
       "    <tr>\n",
       "      <th>2</th>\n",
       "      <td>3</td>\n",
       "      <td>30</td>\n",
       "      <td>3.0</td>\n",
       "      <td>3.0</td>\n",
       "      <td>5.0</td>\n",
       "      <td>1.0</td>\n",
       "      <td>facebook</td>\n",
       "      <td>youtube</td>\n",
       "      <td>food</td>\n",
       "      <td>yes</td>\n",
       "      <td>...</td>\n",
       "      <td>172</td>\n",
       "      <td>60</td>\n",
       "      <td>260</td>\n",
       "      <td>male</td>\n",
       "      <td>yes</td>\n",
       "      <td>5</td>\n",
       "      <td>7</td>\n",
       "      <td>5</td>\n",
       "      <td>early_subject</td>\n",
       "      <td>lib_arts</td>\n",
       "    </tr>\n",
       "    <tr>\n",
       "      <th>3</th>\n",
       "      <td>4</td>\n",
       "      <td>60</td>\n",
       "      <td>12.0</td>\n",
       "      <td>7.5</td>\n",
       "      <td>5.5</td>\n",
       "      <td>3.0</td>\n",
       "      <td>instagram</td>\n",
       "      <td>facebook</td>\n",
       "      <td>music</td>\n",
       "      <td>no</td>\n",
       "      <td>...</td>\n",
       "      <td>178</td>\n",
       "      <td>48</td>\n",
       "      <td>245</td>\n",
       "      <td>female</td>\n",
       "      <td>yes</td>\n",
       "      <td>4</td>\n",
       "      <td>7</td>\n",
       "      <td>4</td>\n",
       "      <td>early_total</td>\n",
       "      <td>lib_arts</td>\n",
       "    </tr>\n",
       "    <tr>\n",
       "      <th>4</th>\n",
       "      <td>5</td>\n",
       "      <td>30</td>\n",
       "      <td>1.0</td>\n",
       "      <td>5.0</td>\n",
       "      <td>6.0</td>\n",
       "      <td>1.0</td>\n",
       "      <td>naver</td>\n",
       "      <td>youtube</td>\n",
       "      <td>food</td>\n",
       "      <td>no</td>\n",
       "      <td>...</td>\n",
       "      <td>180</td>\n",
       "      <td>63</td>\n",
       "      <td>260</td>\n",
       "      <td>male</td>\n",
       "      <td>yes</td>\n",
       "      <td>1</td>\n",
       "      <td>1</td>\n",
       "      <td>4</td>\n",
       "      <td>early_total</td>\n",
       "      <td>lib_arts</td>\n",
       "    </tr>\n",
       "  </tbody>\n",
       "</table>\n",
       "<p>5 rows × 31 columns</p>\n",
       "</div>"
      ],
      "text/plain": [
       "   id  workout  computer  cellphone  sleep  sns   sns_type     video  \\\n",
       "0   1       60       7.0        3.0    4.0  0.0     no_use   youtube   \n",
       "1   2       90       8.0        5.0    5.0  2.5   facebook   youtube   \n",
       "2   3       30       3.0        3.0    5.0  1.0   facebook   youtube   \n",
       "3   4       60      12.0        7.5    5.5  3.0  instagram  facebook   \n",
       "4   5       30       1.0        5.0    6.0  1.0      naver   youtube   \n",
       "\n",
       "  video_contents smoke  ... height_dad weight shoes  gender dating   \\\n",
       "0           food    no  ...        168     64   260    male     yes   \n",
       "1           life   yes  ...        180     65   265    male     yes   \n",
       "2           food   yes  ...        172     60   260    male     yes   \n",
       "3          music    no  ...        178     48   245  female     yes   \n",
       "4           food    no  ...        180     63   260    male     yes   \n",
       "\n",
       "  dating_count number  kmu_like      kmu_entry  highsch_curri  \n",
       "0            1      7         4        regular    nat_science  \n",
       "1            3      4         4        regular       lib_arts  \n",
       "2            5      7         5  early_subject       lib_arts  \n",
       "3            4      7         4    early_total       lib_arts  \n",
       "4            1      1         4    early_total       lib_arts  \n",
       "\n",
       "[5 rows x 31 columns]"
      ]
     },
     "execution_count": 3,
     "metadata": {},
     "output_type": "execute_result"
    }
   ],
   "source": [
    "survey = pd.read_csv(data_path+'survey_EDA2021.csv')\n",
    "survey.head()"
   ]
  },
  {
   "cell_type": "code",
   "execution_count": 4,
   "metadata": {},
   "outputs": [],
   "source": [
    "birth_sns=survey.pivot_table(index='birthyear',values='sns',aggfunc='mean')"
   ]
  },
  {
   "cell_type": "code",
   "execution_count": 5,
   "metadata": {},
   "outputs": [
    {
     "data": {
      "text/plain": [
       "birthyear\n",
       "1995    0.833333\n",
       "1996    0.714286\n",
       "1997    1.062500\n",
       "1998    1.357143\n",
       "1999    1.300000\n",
       "2000    1.654545\n",
       "2001    1.780000\n",
       "2002    1.166667\n",
       "Name: sns, dtype: float64"
      ]
     },
     "execution_count": 5,
     "metadata": {},
     "output_type": "execute_result"
    }
   ],
   "source": [
    "birth_sns['sns']"
   ]
  },
  {
   "cell_type": "code",
   "execution_count": 11,
   "metadata": {
    "scrolled": false
   },
   "outputs": [
    {
     "data": {
      "image/png": "[encoded data removed]",
      "text/plain": [
       "<Figure size 864x432 with 2 Axes>"
      ]
     },
     "metadata": {
      "needs_background": "light"
     },
     "output_type": "display_data"
    }
   ],
   "source": [
    "from matplotlib import cm \n",
    "colors = cm.get_cmap('Set2')(np.arange(4))\n",
    "\n",
    "fig, axes= plt.subplots(1,2,figsize=(12,6))\n",
    "birth_sns.plot.bar(ax=axes[0])\n",
    "axes[1].pie(birth_sns['sns'],labels=birth_sns['sns'].index, autopct = \"%.1f%%\", colors=colors)\n",
    "plt.show()"
   ]
  }
 ],
 "metadata": {
  "kernelspec": {
   "display_name": "Python 3",
   "language": "python",
   "name": "python3"
  },
  "language_info": {
   "codemirror_mode": {
    "name": "ipython",
    "version": 3
   },
   "file_extension": ".py",
   "mimetype": "text/x-python",
   "name": "python",
   "nbconvert_exporter": "python",
   "pygments_lexer": "ipython3",
   "version": "3.8.5"
  }
 },
 "nbformat": 4,
 "nbformat_minor": 4
}
