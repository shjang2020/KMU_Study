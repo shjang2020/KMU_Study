{
 "cells": [
  {
   "cell_type": "markdown",
   "metadata": {},
   "source": [
    "#### 아래 데이터는 2019년 4월 1일부터 15일까지 모바일 웹 사용자 패널의 로그기록이다. 아래 과정에 따라 분석을 진행하시오."
   ]
  },
  {
   "cell_type": "code",
   "execution_count": 4,
   "metadata": {},
   "outputs": [],
   "source": [
    "import pandas as pd\n",
    "import numpy as np\n",
    "import matplotlib.pyplot as plt\n",
    "\n",
    "data = pd.read_csv(\"./data/xView_201904_01_15.csv\")"
   ]
  },
  {
   "cell_type": "markdown",
   "metadata": {},
   "source": [
    "#### 1. Time Stamp 변수를 timestamp 형식으로 변환하고 데이터가 포함하고 있는 최소 날짜시간과 최대 날짜시간을 프린트 하시오. 요일변수와 시간대 변수를 생성하시오."
   ]
  },
  {
   "cell_type": "code",
   "execution_count": 5,
   "metadata": {},
   "outputs": [],
   "source": [
    "data['Time Stamp'] = pd.to_datetime(data['Time Stamp'])"
   ]
  },
  {
   "cell_type": "code",
   "execution_count": 6,
   "metadata": {},
   "outputs": [
    {
     "data": {
      "text/plain": [
       "(Timestamp('2019-04-01 00:00:00'), Timestamp('2019-04-15 23:59:58'))"
      ]
     },
     "execution_count": 6,
     "metadata": {},
     "output_type": "execute_result"
    }
   ],
   "source": [
    "data['Time Stamp'].min(),data['Time Stamp'].max()"
   ]
  },
  {
   "cell_type": "code",
   "execution_count": 7,
   "metadata": {
    "scrolled": true
   },
   "outputs": [
    {
     "name": "stdout",
     "output_type": "stream",
     "text": [
      "최소 날짜시간: 2019-04-01 00:00:00 , 최대 날짜시간: 2019-04-15 23:59:58\n"
     ]
    }
   ],
   "source": [
    "print('최소 날짜시간:',data['Time Stamp'].min(),', 최대 날짜시간:',data['Time Stamp'].max())"
   ]
  },
  {
   "cell_type": "code",
   "execution_count": 8,
   "metadata": {},
   "outputs": [],
   "source": [
    "data['Weekday']=data['Time Stamp'].dt.weekday"
   ]
  },
  {
   "cell_type": "code",
   "execution_count": 9,
   "metadata": {},
   "outputs": [],
   "source": [
    "data['Hour']=data['Time Stamp'].dt.hour"
   ]
  },
  {
   "cell_type": "code",
   "execution_count": 10,
   "metadata": {
    "scrolled": true
   },
   "outputs": [
    {
     "data": {
      "text/html": [
       "<div>\n",
       "<style scoped>\n",
       "    .dataframe tbody tr th:only-of-type {\n",
       "        vertical-align: middle;\n",
       "    }\n",
       "\n",
       "    .dataframe tbody tr th {\n",
       "        vertical-align: top;\n",
       "    }\n",
       "\n",
       "    .dataframe thead th {\n",
       "        text-align: right;\n",
       "    }\n",
       "</style>\n",
       "<table border=\"1\" class=\"dataframe\">\n",
       "  <thead>\n",
       "    <tr style=\"text-align: right;\">\n",
       "      <th></th>\n",
       "      <th>KMID</th>\n",
       "      <th>Time Stamp</th>\n",
       "      <th>URL</th>\n",
       "      <th>Full Title</th>\n",
       "      <th>Weekday</th>\n",
       "      <th>Hour</th>\n",
       "    </tr>\n",
       "  </thead>\n",
       "  <tbody>\n",
       "    <tr>\n",
       "      <th>0</th>\n",
       "      <td>KM00002</td>\n",
       "      <td>2019-04-01 13:09:38</td>\n",
       "      <td>https://m.search.naver.com/search.naver?query=...</td>\n",
       "      <td>한양대학교 날씨 : 네이버 통합검색</td>\n",
       "      <td>0</td>\n",
       "      <td>13</td>\n",
       "    </tr>\n",
       "    <tr>\n",
       "      <th>1</th>\n",
       "      <td>KM00002</td>\n",
       "      <td>2019-04-02 12:10:28</td>\n",
       "      <td>https://m.search.naver.com/search.naver?query=...</td>\n",
       "      <td>한양대학교 날씨 : 네이버 통합검색</td>\n",
       "      <td>1</td>\n",
       "      <td>12</td>\n",
       "    </tr>\n",
       "    <tr>\n",
       "      <th>2</th>\n",
       "      <td>KM00002</td>\n",
       "      <td>2019-04-02 15:27:21</td>\n",
       "      <td>https://m.search.naver.com/search.naver?query=...</td>\n",
       "      <td>파파고 : 네이버 통합검색</td>\n",
       "      <td>1</td>\n",
       "      <td>15</td>\n",
       "    </tr>\n",
       "    <tr>\n",
       "      <th>3</th>\n",
       "      <td>KM00002</td>\n",
       "      <td>2019-04-02 15:27:34</td>\n",
       "      <td>https://papago.naver.com/</td>\n",
       "      <td>Papago</td>\n",
       "      <td>1</td>\n",
       "      <td>15</td>\n",
       "    </tr>\n",
       "    <tr>\n",
       "      <th>4</th>\n",
       "      <td>KM00002</td>\n",
       "      <td>2019-04-03 12:03:12</td>\n",
       "      <td>https://m.search.naver.com/search.naver?query=...</td>\n",
       "      <td>한양대학교 날씨 : 네이버 통합검색</td>\n",
       "      <td>2</td>\n",
       "      <td>12</td>\n",
       "    </tr>\n",
       "  </tbody>\n",
       "</table>\n",
       "</div>"
      ],
      "text/plain": [
       "      KMID          Time Stamp  \\\n",
       "0  KM00002 2019-04-01 13:09:38   \n",
       "1  KM00002 2019-04-02 12:10:28   \n",
       "2  KM00002 2019-04-02 15:27:21   \n",
       "3  KM00002 2019-04-02 15:27:34   \n",
       "4  KM00002 2019-04-03 12:03:12   \n",
       "\n",
       "                                                 URL           Full Title  \\\n",
       "0  https://m.search.naver.com/search.naver?query=...  한양대학교 날씨 : 네이버 통합검색   \n",
       "1  https://m.search.naver.com/search.naver?query=...  한양대학교 날씨 : 네이버 통합검색   \n",
       "2  https://m.search.naver.com/search.naver?query=...       파파고 : 네이버 통합검색   \n",
       "3                          https://papago.naver.com/               Papago   \n",
       "4  https://m.search.naver.com/search.naver?query=...  한양대학교 날씨 : 네이버 통합검색   \n",
       "\n",
       "   Weekday  Hour  \n",
       "0        0    13  \n",
       "1        1    12  \n",
       "2        1    15  \n",
       "3        1    15  \n",
       "4        2    12  "
      ]
     },
     "execution_count": 10,
     "metadata": {},
     "output_type": "execute_result"
    }
   ],
   "source": [
    "data.head()"
   ]
  },
  {
   "cell_type": "markdown",
   "metadata": {},
   "source": [
    "#### 2. 모바일 웹사용자 행태 분석 시 Session을 20분 이내에 이루어진 연속적인 클릭(탭)으로 정의하자. 각 로그가 새로운 세션인지 여부를  `NewSession` 변수에 True/False로 기록하시오. 그리고 `NewSession` 변수를 `cumsum`을 통해 `SessionID`를 생성하시오."
   ]
  },
  {
   "cell_type": "code",
   "execution_count": 11,
   "metadata": {},
   "outputs": [
    {
     "data": {
      "text/plain": [
       "0                    NaT\n",
       "1        0 days 23:00:50\n",
       "2        0 days 03:16:53\n",
       "3        0 days 00:00:13\n",
       "4        0 days 20:35:38\n",
       "               ...      \n",
       "935409   0 days 00:00:57\n",
       "935410   0 days 00:00:36\n",
       "935411   1 days 02:30:22\n",
       "935412   0 days 00:00:54\n",
       "935413   0 days 00:00:56\n",
       "Name: Time Stamp, Length: 935414, dtype: timedelta64[ns]"
      ]
     },
     "execution_count": 11,
     "metadata": {},
     "output_type": "execute_result"
    }
   ],
   "source": [
    "data['Time Stamp'].diff()"
   ]
  },
  {
   "cell_type": "code",
   "execution_count": 12,
   "metadata": {},
   "outputs": [],
   "source": [
    "data['NewSession']=data['Time Stamp'].diff() > pd.Timedelta(minutes=20)\n",
    "#Timestamp 시각, Timedelta 시간"
   ]
  },
  {
   "cell_type": "code",
   "execution_count": 14,
   "metadata": {},
   "outputs": [],
   "source": [
    "data['SessionID']=data['NewSession'].cumsum()"
   ]
  },
  {
   "cell_type": "code",
   "execution_count": 15,
   "metadata": {},
   "outputs": [
    {
     "data": {
      "text/plain": [
       "0             0\n",
       "1             1\n",
       "2             2\n",
       "3             2\n",
       "4             3\n",
       "          ...  \n",
       "935409    87332\n",
       "935410    87332\n",
       "935411    87333\n",
       "935412    87333\n",
       "935413    87333\n",
       "Name: SessionID, Length: 935414, dtype: int32"
      ]
     },
     "execution_count": 15,
     "metadata": {},
     "output_type": "execute_result"
    }
   ],
   "source": [
    "data['SessionID']"
   ]
  },
  {
   "cell_type": "markdown",
   "metadata": {},
   "source": [
    "첫번째 접속한 것만 남기기"
   ]
  },
  {
   "cell_type": "code",
   "execution_count": 24,
   "metadata": {},
   "outputs": [],
   "source": [
    "data_session=data.groupby('SessionID').first()"
   ]
  },
  {
   "cell_type": "code",
   "execution_count": 25,
   "metadata": {
    "scrolled": true
   },
   "outputs": [
    {
     "data": {
      "text/html": [
       "<div>\n",
       "<style scoped>\n",
       "    .dataframe tbody tr th:only-of-type {\n",
       "        vertical-align: middle;\n",
       "    }\n",
       "\n",
       "    .dataframe tbody tr th {\n",
       "        vertical-align: top;\n",
       "    }\n",
       "\n",
       "    .dataframe thead th {\n",
       "        text-align: right;\n",
       "    }\n",
       "</style>\n",
       "<table border=\"1\" class=\"dataframe\">\n",
       "  <thead>\n",
       "    <tr style=\"text-align: right;\">\n",
       "      <th></th>\n",
       "      <th>KMID</th>\n",
       "      <th>Time Stamp</th>\n",
       "      <th>URL</th>\n",
       "      <th>Full Title</th>\n",
       "      <th>Weekday</th>\n",
       "      <th>Hour</th>\n",
       "      <th>NewSession</th>\n",
       "    </tr>\n",
       "    <tr>\n",
       "      <th>SessionID</th>\n",
       "      <th></th>\n",
       "      <th></th>\n",
       "      <th></th>\n",
       "      <th></th>\n",
       "      <th></th>\n",
       "      <th></th>\n",
       "      <th></th>\n",
       "    </tr>\n",
       "  </thead>\n",
       "  <tbody>\n",
       "    <tr>\n",
       "      <th>0</th>\n",
       "      <td>KM00002</td>\n",
       "      <td>2019-04-01 13:09:38</td>\n",
       "      <td>https://m.search.naver.com/search.naver?query=...</td>\n",
       "      <td>한양대학교 날씨 : 네이버 통합검색</td>\n",
       "      <td>0</td>\n",
       "      <td>13</td>\n",
       "      <td>False</td>\n",
       "    </tr>\n",
       "    <tr>\n",
       "      <th>1</th>\n",
       "      <td>KM00002</td>\n",
       "      <td>2019-04-02 12:10:28</td>\n",
       "      <td>https://m.search.naver.com/search.naver?query=...</td>\n",
       "      <td>한양대학교 날씨 : 네이버 통합검색</td>\n",
       "      <td>1</td>\n",
       "      <td>12</td>\n",
       "      <td>True</td>\n",
       "    </tr>\n",
       "    <tr>\n",
       "      <th>2</th>\n",
       "      <td>KM00002</td>\n",
       "      <td>2019-04-02 15:27:21</td>\n",
       "      <td>https://m.search.naver.com/search.naver?query=...</td>\n",
       "      <td>파파고 : 네이버 통합검색</td>\n",
       "      <td>1</td>\n",
       "      <td>15</td>\n",
       "      <td>True</td>\n",
       "    </tr>\n",
       "    <tr>\n",
       "      <th>3</th>\n",
       "      <td>KM00002</td>\n",
       "      <td>2019-04-03 12:03:12</td>\n",
       "      <td>https://m.search.naver.com/search.naver?query=...</td>\n",
       "      <td>한양대학교 날씨 : 네이버 통합검색</td>\n",
       "      <td>2</td>\n",
       "      <td>12</td>\n",
       "      <td>True</td>\n",
       "    </tr>\n",
       "    <tr>\n",
       "      <th>4</th>\n",
       "      <td>KM00002</td>\n",
       "      <td>2019-04-03 12:25:58</td>\n",
       "      <td>https://m.search.naver.com/search.naver?query=...</td>\n",
       "      <td>회송행 : 네이버 통합검색</td>\n",
       "      <td>2</td>\n",
       "      <td>12</td>\n",
       "      <td>True</td>\n",
       "    </tr>\n",
       "  </tbody>\n",
       "</table>\n",
       "</div>"
      ],
      "text/plain": [
       "              KMID          Time Stamp  \\\n",
       "SessionID                                \n",
       "0          KM00002 2019-04-01 13:09:38   \n",
       "1          KM00002 2019-04-02 12:10:28   \n",
       "2          KM00002 2019-04-02 15:27:21   \n",
       "3          KM00002 2019-04-03 12:03:12   \n",
       "4          KM00002 2019-04-03 12:25:58   \n",
       "\n",
       "                                                         URL  \\\n",
       "SessionID                                                      \n",
       "0          https://m.search.naver.com/search.naver?query=...   \n",
       "1          https://m.search.naver.com/search.naver?query=...   \n",
       "2          https://m.search.naver.com/search.naver?query=...   \n",
       "3          https://m.search.naver.com/search.naver?query=...   \n",
       "4          https://m.search.naver.com/search.naver?query=...   \n",
       "\n",
       "                    Full Title  Weekday  Hour  NewSession  \n",
       "SessionID                                                  \n",
       "0          한양대학교 날씨 : 네이버 통합검색        0    13       False  \n",
       "1          한양대학교 날씨 : 네이버 통합검색        1    12        True  \n",
       "2               파파고 : 네이버 통합검색        1    15        True  \n",
       "3          한양대학교 날씨 : 네이버 통합검색        2    12        True  \n",
       "4               회송행 : 네이버 통합검색        2    12        True  "
      ]
     },
     "execution_count": 25,
     "metadata": {},
     "output_type": "execute_result"
    }
   ],
   "source": [
    "data_session.head()"
   ]
  },
  {
   "cell_type": "markdown",
   "metadata": {},
   "source": [
    "#### 3. SessionID 별로 체류시간(`SessionTime`)을 집계하여 (단위:초) 새로운 데이터프레임을 생성하시오. "
   ]
  },
  {
   "cell_type": "code",
   "execution_count": 26,
   "metadata": {},
   "outputs": [],
   "source": [
    "data_session['SessionTime'] = data.groupby('SessionID')['Time Stamp'].max() - data.groupby('SessionID')['Time Stamp'].min()"
   ]
  },
  {
   "cell_type": "code",
   "execution_count": 27,
   "metadata": {
    "scrolled": true
   },
   "outputs": [
    {
     "data": {
      "text/html": [
       "<div>\n",
       "<style scoped>\n",
       "    .dataframe tbody tr th:only-of-type {\n",
       "        vertical-align: middle;\n",
       "    }\n",
       "\n",
       "    .dataframe tbody tr th {\n",
       "        vertical-align: top;\n",
       "    }\n",
       "\n",
       "    .dataframe thead th {\n",
       "        text-align: right;\n",
       "    }\n",
       "</style>\n",
       "<table border=\"1\" class=\"dataframe\">\n",
       "  <thead>\n",
       "    <tr style=\"text-align: right;\">\n",
       "      <th></th>\n",
       "      <th>KMID</th>\n",
       "      <th>Time Stamp</th>\n",
       "      <th>URL</th>\n",
       "      <th>Full Title</th>\n",
       "      <th>Weekday</th>\n",
       "      <th>Hour</th>\n",
       "      <th>NewSession</th>\n",
       "      <th>SessionTime</th>\n",
       "    </tr>\n",
       "    <tr>\n",
       "      <th>SessionID</th>\n",
       "      <th></th>\n",
       "      <th></th>\n",
       "      <th></th>\n",
       "      <th></th>\n",
       "      <th></th>\n",
       "      <th></th>\n",
       "      <th></th>\n",
       "      <th></th>\n",
       "    </tr>\n",
       "  </thead>\n",
       "  <tbody>\n",
       "    <tr>\n",
       "      <th>0</th>\n",
       "      <td>KM00002</td>\n",
       "      <td>2019-04-01 13:09:38</td>\n",
       "      <td>https://m.search.naver.com/search.naver?query=...</td>\n",
       "      <td>한양대학교 날씨 : 네이버 통합검색</td>\n",
       "      <td>0</td>\n",
       "      <td>13</td>\n",
       "      <td>False</td>\n",
       "      <td>0 days 00:00:00</td>\n",
       "    </tr>\n",
       "    <tr>\n",
       "      <th>1</th>\n",
       "      <td>KM00002</td>\n",
       "      <td>2019-04-02 12:10:28</td>\n",
       "      <td>https://m.search.naver.com/search.naver?query=...</td>\n",
       "      <td>한양대학교 날씨 : 네이버 통합검색</td>\n",
       "      <td>1</td>\n",
       "      <td>12</td>\n",
       "      <td>True</td>\n",
       "      <td>0 days 00:00:00</td>\n",
       "    </tr>\n",
       "    <tr>\n",
       "      <th>2</th>\n",
       "      <td>KM00002</td>\n",
       "      <td>2019-04-02 15:27:21</td>\n",
       "      <td>https://m.search.naver.com/search.naver?query=...</td>\n",
       "      <td>파파고 : 네이버 통합검색</td>\n",
       "      <td>1</td>\n",
       "      <td>15</td>\n",
       "      <td>True</td>\n",
       "      <td>0 days 00:00:13</td>\n",
       "    </tr>\n",
       "    <tr>\n",
       "      <th>3</th>\n",
       "      <td>KM00002</td>\n",
       "      <td>2019-04-03 12:03:12</td>\n",
       "      <td>https://m.search.naver.com/search.naver?query=...</td>\n",
       "      <td>한양대학교 날씨 : 네이버 통합검색</td>\n",
       "      <td>2</td>\n",
       "      <td>12</td>\n",
       "      <td>True</td>\n",
       "      <td>0 days 00:00:00</td>\n",
       "    </tr>\n",
       "    <tr>\n",
       "      <th>4</th>\n",
       "      <td>KM00002</td>\n",
       "      <td>2019-04-03 12:25:58</td>\n",
       "      <td>https://m.search.naver.com/search.naver?query=...</td>\n",
       "      <td>회송행 : 네이버 통합검색</td>\n",
       "      <td>2</td>\n",
       "      <td>12</td>\n",
       "      <td>True</td>\n",
       "      <td>0 days 00:00:00</td>\n",
       "    </tr>\n",
       "  </tbody>\n",
       "</table>\n",
       "</div>"
      ],
      "text/plain": [
       "              KMID          Time Stamp  \\\n",
       "SessionID                                \n",
       "0          KM00002 2019-04-01 13:09:38   \n",
       "1          KM00002 2019-04-02 12:10:28   \n",
       "2          KM00002 2019-04-02 15:27:21   \n",
       "3          KM00002 2019-04-03 12:03:12   \n",
       "4          KM00002 2019-04-03 12:25:58   \n",
       "\n",
       "                                                         URL  \\\n",
       "SessionID                                                      \n",
       "0          https://m.search.naver.com/search.naver?query=...   \n",
       "1          https://m.search.naver.com/search.naver?query=...   \n",
       "2          https://m.search.naver.com/search.naver?query=...   \n",
       "3          https://m.search.naver.com/search.naver?query=...   \n",
       "4          https://m.search.naver.com/search.naver?query=...   \n",
       "\n",
       "                    Full Title  Weekday  Hour  NewSession     SessionTime  \n",
       "SessionID                                                                  \n",
       "0          한양대학교 날씨 : 네이버 통합검색        0    13       False 0 days 00:00:00  \n",
       "1          한양대학교 날씨 : 네이버 통합검색        1    12        True 0 days 00:00:00  \n",
       "2               파파고 : 네이버 통합검색        1    15        True 0 days 00:00:13  \n",
       "3          한양대학교 날씨 : 네이버 통합검색        2    12        True 0 days 00:00:00  \n",
       "4               회송행 : 네이버 통합검색        2    12        True 0 days 00:00:00  "
      ]
     },
     "execution_count": 27,
     "metadata": {},
     "output_type": "execute_result"
    }
   ],
   "source": [
    "data_session.head()"
   ]
  },
  {
   "cell_type": "code",
   "execution_count": 28,
   "metadata": {},
   "outputs": [],
   "source": [
    "data_session['SessionTime']=data_session['SessionTime'].dt.total_seconds()"
   ]
  },
  {
   "cell_type": "code",
   "execution_count": 29,
   "metadata": {},
   "outputs": [
    {
     "data": {
      "text/html": [
       "<div>\n",
       "<style scoped>\n",
       "    .dataframe tbody tr th:only-of-type {\n",
       "        vertical-align: middle;\n",
       "    }\n",
       "\n",
       "    .dataframe tbody tr th {\n",
       "        vertical-align: top;\n",
       "    }\n",
       "\n",
       "    .dataframe thead th {\n",
       "        text-align: right;\n",
       "    }\n",
       "</style>\n",
       "<table border=\"1\" class=\"dataframe\">\n",
       "  <thead>\n",
       "    <tr style=\"text-align: right;\">\n",
       "      <th></th>\n",
       "      <th>KMID</th>\n",
       "      <th>Time Stamp</th>\n",
       "      <th>URL</th>\n",
       "      <th>Full Title</th>\n",
       "      <th>Weekday</th>\n",
       "      <th>Hour</th>\n",
       "      <th>NewSession</th>\n",
       "      <th>SessionTime</th>\n",
       "    </tr>\n",
       "    <tr>\n",
       "      <th>SessionID</th>\n",
       "      <th></th>\n",
       "      <th></th>\n",
       "      <th></th>\n",
       "      <th></th>\n",
       "      <th></th>\n",
       "      <th></th>\n",
       "      <th></th>\n",
       "      <th></th>\n",
       "    </tr>\n",
       "  </thead>\n",
       "  <tbody>\n",
       "    <tr>\n",
       "      <th>0</th>\n",
       "      <td>KM00002</td>\n",
       "      <td>2019-04-01 13:09:38</td>\n",
       "      <td>https://m.search.naver.com/search.naver?query=...</td>\n",
       "      <td>한양대학교 날씨 : 네이버 통합검색</td>\n",
       "      <td>0</td>\n",
       "      <td>13</td>\n",
       "      <td>False</td>\n",
       "      <td>0.0</td>\n",
       "    </tr>\n",
       "    <tr>\n",
       "      <th>1</th>\n",
       "      <td>KM00002</td>\n",
       "      <td>2019-04-02 12:10:28</td>\n",
       "      <td>https://m.search.naver.com/search.naver?query=...</td>\n",
       "      <td>한양대학교 날씨 : 네이버 통합검색</td>\n",
       "      <td>1</td>\n",
       "      <td>12</td>\n",
       "      <td>True</td>\n",
       "      <td>0.0</td>\n",
       "    </tr>\n",
       "    <tr>\n",
       "      <th>2</th>\n",
       "      <td>KM00002</td>\n",
       "      <td>2019-04-02 15:27:21</td>\n",
       "      <td>https://m.search.naver.com/search.naver?query=...</td>\n",
       "      <td>파파고 : 네이버 통합검색</td>\n",
       "      <td>1</td>\n",
       "      <td>15</td>\n",
       "      <td>True</td>\n",
       "      <td>13.0</td>\n",
       "    </tr>\n",
       "    <tr>\n",
       "      <th>3</th>\n",
       "      <td>KM00002</td>\n",
       "      <td>2019-04-03 12:03:12</td>\n",
       "      <td>https://m.search.naver.com/search.naver?query=...</td>\n",
       "      <td>한양대학교 날씨 : 네이버 통합검색</td>\n",
       "      <td>2</td>\n",
       "      <td>12</td>\n",
       "      <td>True</td>\n",
       "      <td>0.0</td>\n",
       "    </tr>\n",
       "    <tr>\n",
       "      <th>4</th>\n",
       "      <td>KM00002</td>\n",
       "      <td>2019-04-03 12:25:58</td>\n",
       "      <td>https://m.search.naver.com/search.naver?query=...</td>\n",
       "      <td>회송행 : 네이버 통합검색</td>\n",
       "      <td>2</td>\n",
       "      <td>12</td>\n",
       "      <td>True</td>\n",
       "      <td>0.0</td>\n",
       "    </tr>\n",
       "  </tbody>\n",
       "</table>\n",
       "</div>"
      ],
      "text/plain": [
       "              KMID          Time Stamp  \\\n",
       "SessionID                                \n",
       "0          KM00002 2019-04-01 13:09:38   \n",
       "1          KM00002 2019-04-02 12:10:28   \n",
       "2          KM00002 2019-04-02 15:27:21   \n",
       "3          KM00002 2019-04-03 12:03:12   \n",
       "4          KM00002 2019-04-03 12:25:58   \n",
       "\n",
       "                                                         URL  \\\n",
       "SessionID                                                      \n",
       "0          https://m.search.naver.com/search.naver?query=...   \n",
       "1          https://m.search.naver.com/search.naver?query=...   \n",
       "2          https://m.search.naver.com/search.naver?query=...   \n",
       "3          https://m.search.naver.com/search.naver?query=...   \n",
       "4          https://m.search.naver.com/search.naver?query=...   \n",
       "\n",
       "                    Full Title  Weekday  Hour  NewSession  SessionTime  \n",
       "SessionID                                                               \n",
       "0          한양대학교 날씨 : 네이버 통합검색        0    13       False          0.0  \n",
       "1          한양대학교 날씨 : 네이버 통합검색        1    12        True          0.0  \n",
       "2               파파고 : 네이버 통합검색        1    15        True         13.0  \n",
       "3          한양대학교 날씨 : 네이버 통합검색        2    12        True          0.0  \n",
       "4               회송행 : 네이버 통합검색        2    12        True          0.0  "
      ]
     },
     "execution_count": 29,
     "metadata": {},
     "output_type": "execute_result"
    }
   ],
   "source": [
    "data_session.head()"
   ]
  },
  {
   "cell_type": "markdown",
   "metadata": {},
   "source": [
    "#### 4. 요일별 세션당 체류시간의 평균을 집계하고 bar graph로 나타내시오. "
   ]
  },
  {
   "cell_type": "code",
   "execution_count": 25,
   "metadata": {
    "scrolled": true
   },
   "outputs": [
    {
     "data": {
      "text/plain": [
       "<AxesSubplot:xlabel='Weekday'>"
      ]
     },
     "execution_count": 25,
     "metadata": {},
     "output_type": "execute_result"
    },
    {
     "data": {
      "image/png": "[encoded data removed]",
      "text/plain": [
       "<Figure size 432x288 with 1 Axes>"
      ]
     },
     "metadata": {
      "needs_background": "light"
     },
     "output_type": "display_data"
    }
   ],
   "source": [
    "data_session.groupby('Weekday')['SessionTime'].median().plot.bar()"
   ]
  },
  {
   "cell_type": "code",
   "execution_count": 26,
   "metadata": {},
   "outputs": [
    {
     "data": {
      "text/plain": [
       "<AxesSubplot:xlabel='Weekday'>"
      ]
     },
     "execution_count": 26,
     "metadata": {},
     "output_type": "execute_result"
    },
    {
     "data": {
      "image/png": "[encoded data removed]",
      "text/plain": [
       "<Figure size 432x288 with 1 Axes>"
      ]
     },
     "metadata": {
      "needs_background": "light"
     },
     "output_type": "display_data"
    }
   ],
   "source": [
    "data_session.groupby('Weekday')['SessionTime'].mean().plot.bar()"
   ]
  },
  {
   "cell_type": "markdown",
   "metadata": {},
   "source": [
    "#### 5. 시간대 별 쳬류시간의 평균을 집계하고 bar graph로 나타내시오. "
   ]
  },
  {
   "cell_type": "code",
   "execution_count": 27,
   "metadata": {},
   "outputs": [
    {
     "data": {
      "text/plain": [
       "<AxesSubplot:xlabel='Hour'>"
      ]
     },
     "execution_count": 27,
     "metadata": {},
     "output_type": "execute_result"
    },
    {
     "data": {
      "image/png": "[encoded data removed]",
      "text/plain": [
       "<Figure size 432x288 with 1 Axes>"
      ]
     },
     "metadata": {
      "needs_background": "light"
     },
     "output_type": "display_data"
    }
   ],
   "source": [
    "data_session.groupby('Hour')['SessionTime'].mean().plot.bar()"
   ]
  },
  {
   "cell_type": "code",
   "execution_count": 28,
   "metadata": {},
   "outputs": [
    {
     "data": {
      "text/plain": [
       "<AxesSubplot:xlabel='Hour'>"
      ]
     },
     "execution_count": 28,
     "metadata": {},
     "output_type": "execute_result"
    },
    {
     "data": {
      "image/png": "[encoded data removed]",
      "text/plain": [
       "<Figure size 432x288 with 1 Axes>"
      ]
     },
     "metadata": {
      "needs_background": "light"
     },
     "output_type": "display_data"
    }
   ],
   "source": [
    "data_session.groupby('Hour')['SessionTime'].median().plot.bar()"
   ]
  },
  {
   "cell_type": "markdown",
   "metadata": {},
   "source": [
    "#### 6. KMID는 user ID를 나타낸다. 총 몇 명의 패널에 대한 자료인가? 중복을 제외한 KMID의 리스트를 생성하시오. 총 몇 명의 user 가 있는가?"
   ]
  },
  {
   "cell_type": "code",
   "execution_count": 31,
   "metadata": {},
   "outputs": [],
   "source": [
    "kmid_list=data.KMID.unique()"
   ]
  },
  {
   "cell_type": "code",
   "execution_count": 32,
   "metadata": {},
   "outputs": [
    {
     "data": {
      "text/plain": [
       "2092"
      ]
     },
     "execution_count": 32,
     "metadata": {},
     "output_type": "execute_result"
    }
   ],
   "source": [
    "len(kmid_list)"
   ]
  },
  {
   "cell_type": "markdown",
   "metadata": {},
   "source": [
    "#### 7. 첫 번째 KMID에 해당하는 user의 데이터를 추출하시오. 해당 유저의 일간 Session 횟수를 bar plot으로 그리시오. 해당 유저의 일간 Session Time의 총계를 bar plot으로 그리시오. "
   ]
  },
  {
   "cell_type": "code",
   "execution_count": 33,
   "metadata": {
    "scrolled": true
   },
   "outputs": [
    {
     "data": {
      "text/plain": [
       "'KM00002'"
      ]
     },
     "execution_count": 33,
     "metadata": {},
     "output_type": "execute_result"
    }
   ],
   "source": [
    "kmid_list[0]"
   ]
  },
  {
   "cell_type": "code",
   "execution_count": 33,
   "metadata": {},
   "outputs": [],
   "source": [
    "data_ind=data_session[data_session['KMID']=='KM00002'].set_index('Time Stamp')"
   ]
  },
  {
   "cell_type": "code",
   "execution_count": 34,
   "metadata": {},
   "outputs": [
    {
     "data": {
      "text/plain": [
       "<AxesSubplot:xlabel='Time Stamp'>"
      ]
     },
     "execution_count": 34,
     "metadata": {},
     "output_type": "execute_result"
    },
    {
     "data": {
      "image/png": "[encoded data removed]",
      "text/plain": [
       "<Figure size 432x288 with 1 Axes>"
      ]
     },
     "metadata": {
      "needs_background": "light"
     },
     "output_type": "display_data"
    }
   ],
   "source": [
    "data_ind.resample('d').SessionTime.sum().plot.bar()\n",
    "#4월15일이 모두 이상치를 가지고 있다."
   ]
  },
  {
   "cell_type": "code",
   "execution_count": 37,
   "metadata": {
    "scrolled": true
   },
   "outputs": [
    {
     "data": {
      "text/html": [
       "<div>\n",
       "<style scoped>\n",
       "    .dataframe tbody tr th:only-of-type {\n",
       "        vertical-align: middle;\n",
       "    }\n",
       "\n",
       "    .dataframe tbody tr th {\n",
       "        vertical-align: top;\n",
       "    }\n",
       "\n",
       "    .dataframe thead th {\n",
       "        text-align: right;\n",
       "    }\n",
       "</style>\n",
       "<table border=\"1\" class=\"dataframe\">\n",
       "  <thead>\n",
       "    <tr style=\"text-align: right;\">\n",
       "      <th></th>\n",
       "      <th>KMID</th>\n",
       "      <th>URL</th>\n",
       "      <th>Full Title</th>\n",
       "      <th>Weekday</th>\n",
       "      <th>Hour</th>\n",
       "      <th>NewSession</th>\n",
       "      <th>SessionTime</th>\n",
       "    </tr>\n",
       "    <tr>\n",
       "      <th>Time Stamp</th>\n",
       "      <th></th>\n",
       "      <th></th>\n",
       "      <th></th>\n",
       "      <th></th>\n",
       "      <th></th>\n",
       "      <th></th>\n",
       "      <th></th>\n",
       "    </tr>\n",
       "  </thead>\n",
       "  <tbody>\n",
       "    <tr>\n",
       "      <th>2019-04-15 15:44:22</th>\n",
       "      <td>KM00002</td>\n",
       "      <td>https://m.search.naver.com/search.naver?sm=mtp...</td>\n",
       "      <td>롯데온 하프타임 : 네이버 통합검색</td>\n",
       "      <td>0</td>\n",
       "      <td>15</td>\n",
       "      <td>True</td>\n",
       "      <td>1245908.0</td>\n",
       "    </tr>\n",
       "  </tbody>\n",
       "</table>\n",
       "</div>"
      ],
      "text/plain": [
       "                        KMID  \\\n",
       "Time Stamp                     \n",
       "2019-04-15 15:44:22  KM00002   \n",
       "\n",
       "                                                                   URL  \\\n",
       "Time Stamp                                                               \n",
       "2019-04-15 15:44:22  https://m.search.naver.com/search.naver?sm=mtp...   \n",
       "\n",
       "                              Full Title  Weekday  Hour  NewSession  \\\n",
       "Time Stamp                                                            \n",
       "2019-04-15 15:44:22  롯데온 하프타임 : 네이버 통합검색        0    15        True   \n",
       "\n",
       "                     SessionTime  \n",
       "Time Stamp                        \n",
       "2019-04-15 15:44:22    1245908.0  "
      ]
     },
     "execution_count": 37,
     "metadata": {},
     "output_type": "execute_result"
    }
   ],
   "source": [
    "data_ind.loc['2019-04-15']"
   ]
  },
  {
   "cell_type": "code",
   "execution_count": 36,
   "metadata": {},
   "outputs": [
    {
     "data": {
      "text/plain": [
       "<AxesSubplot:xlabel='Time Stamp'>"
      ]
     },
     "execution_count": 36,
     "metadata": {},
     "output_type": "execute_result"
    },
    {
     "data": {
      "image/png": "[encoded data removed]",
      "text/plain": [
       "<Figure size 432x288 with 1 Axes>"
      ]
     },
     "metadata": {
      "needs_background": "light"
     },
     "output_type": "display_data"
    }
   ],
   "source": [
    "data_ind.resample('d').size().plot.bar()"
   ]
  },
  {
   "cell_type": "markdown",
   "metadata": {},
   "source": [
    "#### 8. 위의 user의 session time의 총계가 두번째로 컸던 날짜의 session data를 추출해서 어떤 웹사이트에서 주로 시간을 보냈는지 확인하시오."
   ]
  },
  {
   "cell_type": "code",
   "execution_count": 63,
   "metadata": {},
   "outputs": [
    {
     "data": {
      "text/plain": [
       "Timestamp('2019-04-05 00:00:00')"
      ]
     },
     "execution_count": 63,
     "metadata": {},
     "output_type": "execute_result"
    }
   ],
   "source": [
    "data_ind.resample('d').SessionTime.sum().sort_values(ascending=False).reset_index().loc[1,'Time Stamp']"
   ]
  },
  {
   "cell_type": "code",
   "execution_count": 69,
   "metadata": {
    "scrolled": false
   },
   "outputs": [
    {
     "name": "stderr",
     "output_type": "stream",
     "text": [
      "<ipython-input-69-0ddfa322f7ef>:1: FutureWarning: Indexing a DataFrame with a datetimelike index using a single string to slice the rows, like `frame[string]`, is deprecated and will be removed in a future version. Use `frame.loc[string]` instead.\n",
      "  data_ind['2019-04-05'].groupby('Full Title').SessionTime.sum().sort_values(ascending=False).reset_index().loc[0,'Full Title']\n"
     ]
    },
    {
     "data": {
      "text/plain": [
       "'파파고 : 네이버 통합검색'"
      ]
     },
     "execution_count": 69,
     "metadata": {},
     "output_type": "execute_result"
    }
   ],
   "source": [
    "data_ind['2019-04-05'].groupby('Full Title').SessionTime.sum().sort_values(ascending=False).reset_index().loc[0,'Full Title']"
   ]
  }
 ],
 "metadata": {
  "kernelspec": {
   "display_name": "Python 3",
   "language": "python",
   "name": "python3"
  },
  "language_info": {
   "codemirror_mode": {
    "name": "ipython",
    "version": 3
   },
   "file_extension": ".py",
   "mimetype": "text/x-python",
   "name": "python",
   "nbconvert_exporter": "python",
   "pygments_lexer": "ipython3",
   "version": "3.8.5"
  }
 },
 "nbformat": 4,
 "nbformat_minor": 4
}
