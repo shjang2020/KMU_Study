{
 "cells": [
  {
   "cell_type": "markdown",
   "metadata": {},
   "source": [
    "한 패스트푸드 업체에서 두 가지 햄버거 패티(A/B)에 대한 선호도를 비교하고자 한다. 테스트에서 16명의 고객 중 13명이 A패티를 선호하였다. \n",
    "1. $X$를 16명 중 A패티를 선호하는 사람 수라고 하고, $\\theta$를 A패티의 선호율이라고 한다면 $X|\\theta$는 무슨 분포로 모형화 할 수 있는가?"
   ]
  },
  {
   "cell_type": "markdown",
   "metadata": {},
   "source": [
    "$X|\\theta \\sim Bin(16,\\theta)$\n",
    "\n",
    "참고\\\n",
    "$X\\sim Bin(n,p)$,$X = 0,1,.....,n$"
   ]
  },
  {
   "cell_type": "markdown",
   "metadata": {},
   "source": [
    "2. $\\theta$의 사전분포를 $Beta(\\alpha, \\beta)$ 분포라고 하자. \n",
    "$$ f(x) = \\frac{\\Gamma(\\alpha+\\beta)}{\\Gamma(\\alpha)\\Gamma(\\beta)} x^{\\alpha-1} (1-x)^{\\beta-1}, ~~ 0<x<1, \\alpha>0, \\beta>0$$\n",
    "$Beta(1,1)$과 $Beta(2,2)$의 pdf를 비교하여 그리고 두 사전분포가 포함하는 사전정보의 의미를 서술하시오."
   ]
  },
  {
   "cell_type": "code",
   "execution_count": 4,
   "metadata": {},
   "outputs": [],
   "source": [
    "from IPython.core.pylabtools import figsize\n",
    "import numpy as np\n",
    "from matplotlib import pyplot as plt\n",
    "import scipy.stats as stats\n",
    "%matplotlib inline\n",
    "x = np.linspace(0, 1, 100)"
   ]
  },
  {
   "cell_type": "code",
   "execution_count": 5,
   "metadata": {},
   "outputs": [
    {
     "data": {
      "text/plain": [
       "array([1., 1., 1., 1., 1., 1., 1., 1., 1., 1., 1., 1., 1., 1., 1., 1., 1.,\n",
       "       1., 1., 1., 1., 1., 1., 1., 1., 1., 1., 1., 1., 1., 1., 1., 1., 1.,\n",
       "       1., 1., 1., 1., 1., 1., 1., 1., 1., 1., 1., 1., 1., 1., 1., 1., 1.,\n",
       "       1., 1., 1., 1., 1., 1., 1., 1., 1., 1., 1., 1., 1., 1., 1., 1., 1.,\n",
       "       1., 1., 1., 1., 1., 1., 1., 1., 1., 1., 1., 1., 1., 1., 1., 1., 1.,\n",
       "       1., 1., 1., 1., 1., 1., 1., 1., 1., 1., 1., 1., 1., 1., 1.])"
      ]
     },
     "execution_count": 5,
     "metadata": {},
     "output_type": "execute_result"
    }
   ],
   "source": [
    "stats.beta.pdf(x, 1,1)"
   ]
  },
  {
   "cell_type": "markdown",
   "metadata": {},
   "source": [
    "#### 1은 uniform한 형태라 모든 확률이 같고, 2는 0.5부근에서 제일 확률이 높다"
   ]
  },
  {
   "cell_type": "code",
   "execution_count": 6,
   "metadata": {
    "scrolled": true
   },
   "outputs": [
    {
     "data": {
      "image/png": "[encoded data removed]",
      "text/plain": [
       "<Figure size 432x288 with 1 Axes>"
      ]
     },
     "metadata": {
      "needs_background": "light"
     },
     "output_type": "display_data"
    }
   ],
   "source": [
    "plt.plot(x,stats.beta.pdf(x,1,1),color='blue',label='Beta(1,1)')\n",
    "plt.plot(x,stats.beta.pdf(x,2,2),color='red',label='Beta(2,2)')\n",
    "plt.legend()\n",
    "plt.show()"
   ]
  },
  {
   "cell_type": "markdown",
   "metadata": {},
   "source": [
    "3. $\\theta$ 의 사후분포는 어떤 분포 형태를 갖는가? \n",
    "$$ \\theta \\sim Beta(\\alpha, \\beta)$$\n",
    "$$ X|\\theta \\sim Bin(16, \\theta)$$\n",
    "$$ \\theta|X \\sim ??$$"
   ]
  },
  {
   "cell_type": "markdown",
   "metadata": {},
   "source": [
    "## 숙제: $Beta(\\alpha+13,\\beta +3)$ 왜 이렇게 되는지 알아오기"
   ]
  },
  {
   "cell_type": "markdown",
   "metadata": {},
   "source": [
    "4. $\\theta$분포를 $Beta(1,1)$과 $Beta(2,2)$ prior를 사용할 때 posterior distrbution의 pdf를 함께 그리시오."
   ]
  },
  {
   "cell_type": "code",
   "execution_count": 7,
   "metadata": {},
   "outputs": [
    {
     "data": {
      "image/png": "[encoded data removed]",
      "text/plain": [
       "<Figure size 432x288 with 1 Axes>"
      ]
     },
     "metadata": {
      "needs_background": "light"
     },
     "output_type": "display_data"
    }
   ],
   "source": [
    "plt.plot(x,stats.beta.pdf(x,14,4), color='blue',label=\"Beta(1,1) prior\")\n",
    "plt.plot(x,stats.beta.pdf(x,15,5), color='red',label=\"Beta(2,2 prior)\")\n",
    "plt.title(\"Posterior distribution\")\n",
    "plt.legend()\n",
    "plt.show()"
   ]
  },
  {
   "cell_type": "markdown",
   "metadata": {},
   "source": [
    "5. 두 posterior 분포에서 random sample을 10000개 추출하여 $\\theta$의 posterior mean, std를 계산하고 $\\sqrt{\\theta}$의 평균을 구하시오. "
   ]
  },
  {
   "cell_type": "code",
   "execution_count": 8,
   "metadata": {},
   "outputs": [],
   "source": [
    "np.random.seed(0)"
   ]
  },
  {
   "cell_type": "code",
   "execution_count": 9,
   "metadata": {},
   "outputs": [],
   "source": [
    "# posterior: beta(14,4) -> mean: 14/(14+4) 이론적인 posterior mean\n",
    "x1= stats.beta.rvs(14,4, size=10000)"
   ]
  },
  {
   "cell_type": "code",
   "execution_count": 10,
   "metadata": {},
   "outputs": [
    {
     "data": {
      "text/plain": [
       "(0.779537174207455,\n",
       " 0.7777777777777778,\n",
       " 0.09477370756082433,\n",
       " 0.09537723058655023)"
      ]
     },
     "execution_count": 10,
     "metadata": {},
     "output_type": "execute_result"
    }
   ],
   "source": [
    "a=14\n",
    "b=4\n",
    "x1.mean(),  a/(a+b), x1.std(),np.sqrt(a*b/((a+b)**2 *(a+b+1)))"
   ]
  },
  {
   "cell_type": "code",
   "execution_count": 11,
   "metadata": {
    "scrolled": true
   },
   "outputs": [
    {
     "data": {
      "text/plain": [
       "(0.750866299163891, 0.75, 0.09407828291115325, 0.0944911182523068)"
      ]
     },
     "execution_count": 11,
     "metadata": {},
     "output_type": "execute_result"
    }
   ],
   "source": [
    "# posterior: beta(15,5) -> mean: 15/(15+5) 이론적인 posterior mean\n",
    "np.random.seed(0)\n",
    "x2= stats.beta.rvs(15,5, size=10000)\n",
    "a=15\n",
    "b=5\n",
    "x2.mean(), a/(a+b), x2.std(),np.sqrt(a*b/((a+b)**2 *(a+b+1)))"
   ]
  },
  {
   "cell_type": "code",
   "execution_count": 9,
   "metadata": {
    "scrolled": true
   },
   "outputs": [
    {
     "data": {
      "text/plain": [
       "0.8811924914078587"
      ]
     },
     "execution_count": 9,
     "metadata": {},
     "output_type": "execute_result"
    }
   ],
   "source": [
    "#√세타 의 평균\n",
    "(x1**(1/2)).mean()"
   ]
  },
  {
   "cell_type": "code",
   "execution_count": 12,
   "metadata": {},
   "outputs": [
    {
     "data": {
      "text/plain": [
       "0.864742696968879"
      ]
     },
     "execution_count": 12,
     "metadata": {},
     "output_type": "execute_result"
    }
   ],
   "source": [
    "#√세타 의 평균\n",
    "(x2**(1/2)).mean()"
   ]
  }
 ],
 "metadata": {
  "kernelspec": {
   "display_name": "Python 3",
   "language": "python",
   "name": "python3"
  },
  "language_info": {
   "codemirror_mode": {
    "name": "ipython",
    "version": 3
   },
   "file_extension": ".py",
   "mimetype": "text/x-python",
   "name": "python",
   "nbconvert_exporter": "python",
   "pygments_lexer": "ipython3",
   "version": "3.8.5"
  }
 },
 "nbformat": 4,
 "nbformat_minor": 4
}
