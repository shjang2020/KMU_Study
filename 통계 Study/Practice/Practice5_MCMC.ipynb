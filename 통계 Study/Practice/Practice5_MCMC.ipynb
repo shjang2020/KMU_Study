{
 "cells": [
  {
   "cell_type": "markdown",
   "metadata": {},
   "source": [
    "# Practice 5. Monte Carlo Simulation "
   ]
  },
  {
   "cell_type": "markdown",
   "metadata": {},
   "source": [
    "### 1. 기대값  \n",
    "연속형 확률변수 $X\\sim N(\\mu, \\sigma^2)$가 $(a,b),~ -\\infty<a<b<\\infty$ 구간에 존재한다고 하자. 이 때 $X, a<X<b$를 truncated normal distribution을 가진다고 한다. $\\mu=-8, \\sigma=2, a=-10, b=10$인 경우 truncated normal distribution을 따르는 확률변수의 기대값을 Monte Carlo Simulation을 통해 구하시오. \n",
    "\n",
    "(참고) 연속형 확률변수의 기대값은 아래와 같이 정의된다. \n",
    "$$E(X) = \\int x f(x) dx $$\n",
    "\n",
    "https://en.wikipedia.org/wiki/Truncated_normal_distribution"
   ]
  },
  {
   "cell_type": "code",
   "execution_count": 1,
   "metadata": {},
   "outputs": [],
   "source": [
    "import scipy.stats as stats\n",
    "import numpy as np\n",
    "import pandas as pd\n",
    "import matplotlib.pyplot as plt\n",
    "mu=-8\n",
    "sigma = 2\n",
    "x = stats.norm.rvs(mu, sigma,size = 100000)\n",
    "a = -10\n",
    "b = 10\n"
   ]
  },
  {
   "cell_type": "code",
   "execution_count": 2,
   "metadata": {
    "scrolled": true
   },
   "outputs": [
    {
     "data": {
      "text/plain": [
       "-7.425666090501797"
      ]
     },
     "execution_count": 2,
     "metadata": {},
     "output_type": "execute_result"
    }
   ],
   "source": [
    "# 내가 한 방법\n",
    "x[(x>a)&(x<b)].mean() # MC을 통한 기대값"
   ]
  },
  {
   "cell_type": "code",
   "execution_count": 3,
   "metadata": {},
   "outputs": [
    {
     "data": {
      "text/plain": [
       "-7.425666090501797"
      ]
     },
     "execution_count": 3,
     "metadata": {},
     "output_type": "execute_result"
    }
   ],
   "source": [
    "np.mean([x_ for x_ in x if a < x_ < b]) # MC을 통한 기대값"
   ]
  },
  {
   "cell_type": "code",
   "execution_count": 4,
   "metadata": {},
   "outputs": [],
   "source": [
    "# 이론적인 기대값 - 위 사이트 들어가면 나와있다.\n",
    "alpha = (a-mu)/sigma\n",
    "beta = (b-mu)/sigma\n",
    "Z= stats.norm.cdf(beta)- stats.norm.cdf(alpha)"
   ]
  },
  {
   "cell_type": "code",
   "execution_count": 6,
   "metadata": {
    "scrolled": false
   },
   "outputs": [
    {
     "data": {
      "text/plain": [
       "-7.424800058121643"
      ]
     },
     "execution_count": 6,
     "metadata": {},
     "output_type": "execute_result"
    }
   ],
   "source": [
    "mu + (stats.norm.pdf(alpha)-stats.norm.pdf(beta))/Z *sigma"
   ]
  },
  {
   "cell_type": "markdown",
   "metadata": {},
   "source": [
    "### 2.  Sales Comission \n",
    "한 회사에서는 판매원들에게 Sales commission을 제공함으로써 판매를 촉진하고 있다. 내년의 예산 계획을 위핸 Sales comission의 기대값을 구하고자 한다.  Sale comission rate은 판매 목표 달성률에 따라 아래와 같이 책정된다. \n",
    "<img src=https://pbpython.com/images/Excel_Table_4.png>\n",
    "\n",
    "Sales commission이 계산되는 예는 아래와 같다.\n",
    "<img src=https://pbpython.com/images/Excel_Table_5.png>\n",
    "<img src=https://pbpython.com/images/Excel_Table_6.png>"
   ]
  },
  {
   "cell_type": "markdown",
   "metadata": {},
   "source": [
    "지금까지의 기록을 보았을 때 판매 목표 달성률은 평균 1, 표준편차 0.1인 대칭 분포를 가지고 있었다. 따라서 해당 정규분포에서 각 판매원의 판매 목표 달성률을 발생시킨다. "
   ]
  },
  {
   "cell_type": "code",
   "execution_count": 4,
   "metadata": {},
   "outputs": [],
   "source": [
    "avg = 1\n",
    "std_dev = .1\n",
    "num_reps = 500 #500명의 판매원\n",
    "#num_reps = 300\n",
    "num_simulations = 1000 #1000번 반복\n",
    "pct_to_target = stats.norm.rvs(avg, std_dev, size=num_reps)"
   ]
  },
  {
   "cell_type": "markdown",
   "metadata": {},
   "source": [
    "기록을 통해 Sales target은 아래의 분포를 가지고 있음을 확인하였다. 따라서 아래의 확률분포를 가진 이산형 확률변수의 값을 Sales target으로 발생시킨다. \n",
    "\n",
    "\n",
    "| Sales Target| Proportion |\n",
    "|---------|------|\n",
    "| 75,000  | 0.3  |\n",
    "| 100,000 | 0.3  |\n",
    "| 200,000 | 0.2  |\n",
    "| 300,000 | 0.1  |\n",
    "| 400,000 | 0.05 |\n",
    "| 500,000 | 0.05 |"
   ]
  },
  {
   "cell_type": "code",
   "execution_count": 5,
   "metadata": {},
   "outputs": [],
   "source": [
    "sales_target_values = [75_000, 100_000, 200_000, 300_000, 400_000, 500_000]\n",
    "sales_target_prob = [.3, .3, .2, .1, .05, .05]\n",
    "sales_target = np.random.choice(sales_target_values, size=num_reps, p=sales_target_prob)"
   ]
  },
  {
   "cell_type": "code",
   "execution_count": 6,
   "metadata": {},
   "outputs": [],
   "source": [
    "df = pd.DataFrame(index=range(num_reps), data={'Pct_To_Target': pct_to_target,\n",
    "                                               'Sales_Target': sales_target})"
   ]
  },
  {
   "cell_type": "code",
   "execution_count": 7,
   "metadata": {},
   "outputs": [
    {
     "data": {
      "text/html": [
       "<div>\n",
       "<style scoped>\n",
       "    .dataframe tbody tr th:only-of-type {\n",
       "        vertical-align: middle;\n",
       "    }\n",
       "\n",
       "    .dataframe tbody tr th {\n",
       "        vertical-align: top;\n",
       "    }\n",
       "\n",
       "    .dataframe thead th {\n",
       "        text-align: right;\n",
       "    }\n",
       "</style>\n",
       "<table border=\"1\" class=\"dataframe\">\n",
       "  <thead>\n",
       "    <tr style=\"text-align: right;\">\n",
       "      <th></th>\n",
       "      <th>Pct_To_Target</th>\n",
       "      <th>Sales_Target</th>\n",
       "    </tr>\n",
       "  </thead>\n",
       "  <tbody>\n",
       "    <tr>\n",
       "      <th>0</th>\n",
       "      <td>0.927770</td>\n",
       "      <td>300000</td>\n",
       "    </tr>\n",
       "    <tr>\n",
       "      <th>1</th>\n",
       "      <td>1.012367</td>\n",
       "      <td>75000</td>\n",
       "    </tr>\n",
       "    <tr>\n",
       "      <th>2</th>\n",
       "      <td>0.975056</td>\n",
       "      <td>75000</td>\n",
       "    </tr>\n",
       "    <tr>\n",
       "      <th>3</th>\n",
       "      <td>0.987254</td>\n",
       "      <td>500000</td>\n",
       "    </tr>\n",
       "    <tr>\n",
       "      <th>4</th>\n",
       "      <td>1.059148</td>\n",
       "      <td>200000</td>\n",
       "    </tr>\n",
       "  </tbody>\n",
       "</table>\n",
       "</div>"
      ],
      "text/plain": [
       "   Pct_To_Target  Sales_Target\n",
       "0       0.927770        300000\n",
       "1       1.012367         75000\n",
       "2       0.975056         75000\n",
       "3       0.987254        500000\n",
       "4       1.059148        200000"
      ]
     },
     "execution_count": 7,
     "metadata": {},
     "output_type": "execute_result"
    }
   ],
   "source": [
    "df.head()"
   ]
  },
  {
   "cell_type": "code",
   "execution_count": 8,
   "metadata": {},
   "outputs": [],
   "source": [
    "df['Sales'] = df['Pct_To_Target'] * df['Sales_Target']"
   ]
  },
  {
   "cell_type": "code",
   "execution_count": 9,
   "metadata": {},
   "outputs": [
    {
     "data": {
      "text/html": [
       "<div>\n",
       "<style scoped>\n",
       "    .dataframe tbody tr th:only-of-type {\n",
       "        vertical-align: middle;\n",
       "    }\n",
       "\n",
       "    .dataframe tbody tr th {\n",
       "        vertical-align: top;\n",
       "    }\n",
       "\n",
       "    .dataframe thead th {\n",
       "        text-align: right;\n",
       "    }\n",
       "</style>\n",
       "<table border=\"1\" class=\"dataframe\">\n",
       "  <thead>\n",
       "    <tr style=\"text-align: right;\">\n",
       "      <th></th>\n",
       "      <th>Pct_To_Target</th>\n",
       "      <th>Sales_Target</th>\n",
       "      <th>Sales</th>\n",
       "    </tr>\n",
       "  </thead>\n",
       "  <tbody>\n",
       "    <tr>\n",
       "      <th>0</th>\n",
       "      <td>0.927770</td>\n",
       "      <td>300000</td>\n",
       "      <td>278330.921901</td>\n",
       "    </tr>\n",
       "    <tr>\n",
       "      <th>1</th>\n",
       "      <td>1.012367</td>\n",
       "      <td>75000</td>\n",
       "      <td>75927.510695</td>\n",
       "    </tr>\n",
       "    <tr>\n",
       "      <th>2</th>\n",
       "      <td>0.975056</td>\n",
       "      <td>75000</td>\n",
       "      <td>73129.210178</td>\n",
       "    </tr>\n",
       "    <tr>\n",
       "      <th>3</th>\n",
       "      <td>0.987254</td>\n",
       "      <td>500000</td>\n",
       "      <td>493627.220532</td>\n",
       "    </tr>\n",
       "    <tr>\n",
       "      <th>4</th>\n",
       "      <td>1.059148</td>\n",
       "      <td>200000</td>\n",
       "      <td>211829.517400</td>\n",
       "    </tr>\n",
       "  </tbody>\n",
       "</table>\n",
       "</div>"
      ],
      "text/plain": [
       "   Pct_To_Target  Sales_Target          Sales\n",
       "0       0.927770        300000  278330.921901\n",
       "1       1.012367         75000   75927.510695\n",
       "2       0.975056         75000   73129.210178\n",
       "3       0.987254        500000  493627.220532\n",
       "4       1.059148        200000  211829.517400"
      ]
     },
     "execution_count": 9,
     "metadata": {},
     "output_type": "execute_result"
    }
   ],
   "source": [
    "df.head()"
   ]
  },
  {
   "cell_type": "markdown",
   "metadata": {},
   "source": [
    "Commision rate의 계산을 위한 함수 "
   ]
  },
  {
   "cell_type": "code",
   "execution_count": 10,
   "metadata": {},
   "outputs": [],
   "source": [
    "def calc_commission_rate(x):\n",
    "    \"\"\" Return the commission rate based on the table:\n",
    "    0-90% = 2%\n",
    "    91-99% = 3%\n",
    "    >= 100 = 4%\n",
    "    \"\"\"\n",
    "    if x <= .90:\n",
    "        return .02\n",
    "    if x <= .99:\n",
    "        return .03\n",
    "    else:\n",
    "        return .04"
   ]
  },
  {
   "cell_type": "code",
   "execution_count": 11,
   "metadata": {},
   "outputs": [],
   "source": [
    "df['Commission_Rate'] = df['Pct_To_Target'].apply(calc_commission_rate)\n",
    "df['Commission_Amount'] = df['Commission_Rate'] * df['Sales']"
   ]
  },
  {
   "cell_type": "code",
   "execution_count": 12,
   "metadata": {},
   "outputs": [
    {
     "data": {
      "text/html": [
       "<div>\n",
       "<style scoped>\n",
       "    .dataframe tbody tr th:only-of-type {\n",
       "        vertical-align: middle;\n",
       "    }\n",
       "\n",
       "    .dataframe tbody tr th {\n",
       "        vertical-align: top;\n",
       "    }\n",
       "\n",
       "    .dataframe thead th {\n",
       "        text-align: right;\n",
       "    }\n",
       "</style>\n",
       "<table border=\"1\" class=\"dataframe\">\n",
       "  <thead>\n",
       "    <tr style=\"text-align: right;\">\n",
       "      <th></th>\n",
       "      <th>Pct_To_Target</th>\n",
       "      <th>Sales_Target</th>\n",
       "      <th>Sales</th>\n",
       "      <th>Commission_Rate</th>\n",
       "      <th>Commission_Amount</th>\n",
       "    </tr>\n",
       "  </thead>\n",
       "  <tbody>\n",
       "    <tr>\n",
       "      <th>0</th>\n",
       "      <td>0.927770</td>\n",
       "      <td>300000</td>\n",
       "      <td>278330.921901</td>\n",
       "      <td>0.03</td>\n",
       "      <td>8349.927657</td>\n",
       "    </tr>\n",
       "    <tr>\n",
       "      <th>1</th>\n",
       "      <td>1.012367</td>\n",
       "      <td>75000</td>\n",
       "      <td>75927.510695</td>\n",
       "      <td>0.04</td>\n",
       "      <td>3037.100428</td>\n",
       "    </tr>\n",
       "    <tr>\n",
       "      <th>2</th>\n",
       "      <td>0.975056</td>\n",
       "      <td>75000</td>\n",
       "      <td>73129.210178</td>\n",
       "      <td>0.03</td>\n",
       "      <td>2193.876305</td>\n",
       "    </tr>\n",
       "    <tr>\n",
       "      <th>3</th>\n",
       "      <td>0.987254</td>\n",
       "      <td>500000</td>\n",
       "      <td>493627.220532</td>\n",
       "      <td>0.03</td>\n",
       "      <td>14808.816616</td>\n",
       "    </tr>\n",
       "    <tr>\n",
       "      <th>4</th>\n",
       "      <td>1.059148</td>\n",
       "      <td>200000</td>\n",
       "      <td>211829.517400</td>\n",
       "      <td>0.04</td>\n",
       "      <td>8473.180696</td>\n",
       "    </tr>\n",
       "  </tbody>\n",
       "</table>\n",
       "</div>"
      ],
      "text/plain": [
       "   Pct_To_Target  Sales_Target          Sales  Commission_Rate  \\\n",
       "0       0.927770        300000  278330.921901             0.03   \n",
       "1       1.012367         75000   75927.510695             0.04   \n",
       "2       0.975056         75000   73129.210178             0.03   \n",
       "3       0.987254        500000  493627.220532             0.03   \n",
       "4       1.059148        200000  211829.517400             0.04   \n",
       "\n",
       "   Commission_Amount  \n",
       "0        8349.927657  \n",
       "1        3037.100428  \n",
       "2        2193.876305  \n",
       "3       14808.816616  \n",
       "4        8473.180696  "
      ]
     },
     "execution_count": 12,
     "metadata": {},
     "output_type": "execute_result"
    }
   ],
   "source": [
    "df.head()"
   ]
  },
  {
   "cell_type": "markdown",
   "metadata": {},
   "source": [
    "Monte Carlo Simulation을 통해 총 commision amount를 계산하고 이 값의 분포와 평균을 관찰한다. "
   ]
  },
  {
   "cell_type": "code",
   "execution_count": 17,
   "metadata": {},
   "outputs": [],
   "source": [
    "# Define a list to keep all the results from each simulation that we want to analyze\n",
    "all_stats = []\n",
    "\n",
    "# Loop through many simulations\n",
    "for i in range(num_simulations):\n",
    "\n",
    "    # Choose random inputs for the sales targets and percent to target\n",
    "    sales_target = np.random.choice(sales_target_values, num_reps, p=sales_target_prob)\n",
    "    pct_to_target = np.random.normal(avg, std_dev, num_reps).round(2)\n",
    "\n",
    "    # Build the dataframe based on the inputs and number of reps\n",
    "    df = pd.DataFrame(index=range(num_reps), data={'Pct_To_Target': pct_to_target,\n",
    "                                                   'Sales_Target': sales_target})\n",
    "\n",
    "    # Back into the sales number using the percent to target rate\n",
    "    df['Sales'] = df['Pct_To_Target'] * df['Sales_Target']\n",
    "\n",
    "    # Determine the commissions rate and calculate it\n",
    "    df['Commission_Rate'] = df['Pct_To_Target'].apply(calc_commission_rate)\n",
    "    df['Commission_Amount'] = df['Commission_Rate'] * df['Sales']\n",
    "\n",
    "    # We want to track sales,commission amounts and sales targets over all the simulations\n",
    "    all_stats.append([df['Sales'].sum().round(0),\n",
    "                      df['Commission_Amount'].sum().round(0),\n",
    "                      df['Sales_Target'].sum().round(0)])"
   ]
  },
  {
   "cell_type": "code",
   "execution_count": 18,
   "metadata": {},
   "outputs": [],
   "source": [
    "results_df = pd.DataFrame.from_records(all_stats, columns=['Sales',\n",
    "                                                           'Commission_Amount',\n",
    "                                                           'Sales_Target'])"
   ]
  },
  {
   "cell_type": "code",
   "execution_count": 19,
   "metadata": {
    "scrolled": false
   },
   "outputs": [
    {
     "data": {
      "text/html": [
       "<div>\n",
       "<style scoped>\n",
       "    .dataframe tbody tr th:only-of-type {\n",
       "        vertical-align: middle;\n",
       "    }\n",
       "\n",
       "    .dataframe tbody tr th {\n",
       "        vertical-align: top;\n",
       "    }\n",
       "\n",
       "    .dataframe thead th {\n",
       "        text-align: right;\n",
       "    }\n",
       "</style>\n",
       "<table border=\"1\" class=\"dataframe\">\n",
       "  <thead>\n",
       "    <tr style=\"text-align: right;\">\n",
       "      <th></th>\n",
       "      <th>Sales</th>\n",
       "      <th>Commission_Amount</th>\n",
       "      <th>Sales_Target</th>\n",
       "    </tr>\n",
       "  </thead>\n",
       "  <tbody>\n",
       "    <tr>\n",
       "      <th>0</th>\n",
       "      <td>81029500.0</td>\n",
       "      <td>2743030.0</td>\n",
       "      <td>81475000</td>\n",
       "    </tr>\n",
       "    <tr>\n",
       "      <th>1</th>\n",
       "      <td>81329750.0</td>\n",
       "      <td>2743690.0</td>\n",
       "      <td>81800000</td>\n",
       "    </tr>\n",
       "    <tr>\n",
       "      <th>2</th>\n",
       "      <td>81698500.0</td>\n",
       "      <td>2780842.0</td>\n",
       "      <td>81750000</td>\n",
       "    </tr>\n",
       "    <tr>\n",
       "      <th>3</th>\n",
       "      <td>85226000.0</td>\n",
       "      <td>2899822.0</td>\n",
       "      <td>85375000</td>\n",
       "    </tr>\n",
       "    <tr>\n",
       "      <th>4</th>\n",
       "      <td>82620000.0</td>\n",
       "      <td>2786552.0</td>\n",
       "      <td>83100000</td>\n",
       "    </tr>\n",
       "  </tbody>\n",
       "</table>\n",
       "</div>"
      ],
      "text/plain": [
       "        Sales  Commission_Amount  Sales_Target\n",
       "0  81029500.0          2743030.0      81475000\n",
       "1  81329750.0          2743690.0      81800000\n",
       "2  81698500.0          2780842.0      81750000\n",
       "3  85226000.0          2899822.0      85375000\n",
       "4  82620000.0          2786552.0      83100000"
      ]
     },
     "execution_count": 19,
     "metadata": {},
     "output_type": "execute_result"
    }
   ],
   "source": [
    "results_df.head()"
   ]
  },
  {
   "cell_type": "markdown",
   "metadata": {},
   "source": [
    "#### Commission amount의 분포를 히스토그램으로 그리시오. "
   ]
  },
  {
   "cell_type": "code",
   "execution_count": 20,
   "metadata": {
    "scrolled": true
   },
   "outputs": [
    {
     "data": {
      "image/png": "[encoded data removed]",
      "text/plain": [
       "<Figure size 432x288 with 1 Axes>"
      ]
     },
     "metadata": {
      "needs_background": "light"
     },
     "output_type": "display_data"
    }
   ],
   "source": [
    "results_df.Commission_Amount.plot.hist()\n",
    "plt.show()"
   ]
  },
  {
   "cell_type": "markdown",
   "metadata": {},
   "source": [
    "#### Commission amount의 기대값은 무엇인가? 내년 예산 반영을 위해 보수적으로 75 pecentile을 사용한다면 얼마를 예산으로 잡아야 하는가?"
   ]
  },
  {
   "cell_type": "code",
   "execution_count": 23,
   "metadata": {
    "scrolled": false
   },
   "outputs": [
    {
     "data": {
      "text/html": [
       "<style  type=\"text/css\" >\n",
       "</style><table id=\"T_e8657_\" ><thead>    <tr>        <th class=\"blank level0\" ></th>        <th class=\"col_heading level0 col0\" >Sales</th>        <th class=\"col_heading level0 col1\" >Commission_Amount</th>        <th class=\"col_heading level0 col2\" >Sales_Target</th>    </tr></thead><tbody>\n",
       "                <tr>\n",
       "                        <th id=\"T_e8657_level0_row0\" class=\"row_heading level0 row0\" >count</th>\n",
       "                        <td id=\"T_e8657_row0_col0\" class=\"data row0 col0\" >1,000</td>\n",
       "                        <td id=\"T_e8657_row0_col1\" class=\"data row0 col1\" >1,000</td>\n",
       "                        <td id=\"T_e8657_row0_col2\" class=\"data row0 col2\" >1,000</td>\n",
       "            </tr>\n",
       "            <tr>\n",
       "                        <th id=\"T_e8657_level0_row1\" class=\"row_heading level0 row1\" >mean</th>\n",
       "                        <td id=\"T_e8657_row1_col0\" class=\"data row1 col0\" >83,695,108</td>\n",
       "                        <td id=\"T_e8657_row1_col1\" class=\"data row1 col1\" >2,858,230</td>\n",
       "                        <td id=\"T_e8657_row1_col2\" class=\"data row1 col2\" >83,687,525</td>\n",
       "            </tr>\n",
       "            <tr>\n",
       "                        <th id=\"T_e8657_level0_row2\" class=\"row_heading level0 row2\" >std</th>\n",
       "                        <td id=\"T_e8657_row2_col0\" class=\"data row2 col0\" >2,758,697</td>\n",
       "                        <td id=\"T_e8657_row2_col1\" class=\"data row2 col1\" >104,770</td>\n",
       "                        <td id=\"T_e8657_row2_col2\" class=\"data row2 col2\" >2,713,554</td>\n",
       "            </tr>\n",
       "            <tr>\n",
       "                        <th id=\"T_e8657_level0_row3\" class=\"row_heading level0 row3\" >min</th>\n",
       "                        <td id=\"T_e8657_row3_col0\" class=\"data row3 col0\" >75,950,750</td>\n",
       "                        <td id=\"T_e8657_row3_col1\" class=\"data row3 col1\" >2,575,628</td>\n",
       "                        <td id=\"T_e8657_row3_col2\" class=\"data row3 col2\" >75,725,000</td>\n",
       "            </tr>\n",
       "            <tr>\n",
       "                        <th id=\"T_e8657_level0_row4\" class=\"row_heading level0 row4\" >25%</th>\n",
       "                        <td id=\"T_e8657_row4_col0\" class=\"data row4 col0\" >81,812,938</td>\n",
       "                        <td id=\"T_e8657_row4_col1\" class=\"data row4 col1\" >2,784,382</td>\n",
       "                        <td id=\"T_e8657_row4_col2\" class=\"data row4 col2\" >81,850,000</td>\n",
       "            </tr>\n",
       "            <tr>\n",
       "                        <th id=\"T_e8657_level0_row5\" class=\"row_heading level0 row5\" >50%</th>\n",
       "                        <td id=\"T_e8657_row5_col0\" class=\"data row5 col0\" >83,600,250</td>\n",
       "                        <td id=\"T_e8657_row5_col1\" class=\"data row5 col1\" >2,853,442</td>\n",
       "                        <td id=\"T_e8657_row5_col2\" class=\"data row5 col2\" >83,650,000</td>\n",
       "            </tr>\n",
       "            <tr>\n",
       "                        <th id=\"T_e8657_level0_row6\" class=\"row_heading level0 row6\" >75%</th>\n",
       "                        <td id=\"T_e8657_row6_col0\" class=\"data row6 col0\" >85,488,750</td>\n",
       "                        <td id=\"T_e8657_row6_col1\" class=\"data row6 col1\" >2,929,252</td>\n",
       "                        <td id=\"T_e8657_row6_col2\" class=\"data row6 col2\" >85,475,000</td>\n",
       "            </tr>\n",
       "            <tr>\n",
       "                        <th id=\"T_e8657_level0_row7\" class=\"row_heading level0 row7\" >max</th>\n",
       "                        <td id=\"T_e8657_row7_col0\" class=\"data row7 col0\" >92,625,000</td>\n",
       "                        <td id=\"T_e8657_row7_col1\" class=\"data row7 col1\" >3,214,385</td>\n",
       "                        <td id=\"T_e8657_row7_col2\" class=\"data row7 col2\" >92,025,000</td>\n",
       "            </tr>\n",
       "    </tbody></table>"
      ],
      "text/plain": [
       "<pandas.io.formats.style.Styler at 0x1cafbf7ceb0>"
      ]
     },
     "execution_count": 23,
     "metadata": {},
     "output_type": "execute_result"
    }
   ],
   "source": [
    "results_df.describe().style.format('{:,.0f}')\n",
    "# 75% 값인 2,929,252만큼을 예산으로 한다."
   ]
  },
  {
   "cell_type": "code",
   "execution_count": null,
   "metadata": {},
   "outputs": [],
   "source": [
    "# mean = 2,858,737"
   ]
  },
  {
   "cell_type": "markdown",
   "metadata": {},
   "source": [
    "#### 만일 Top commission rate 을 5%로 올린다면 commission amount의 기대값은 어떻게 변하는가? "
   ]
  },
  {
   "cell_type": "code",
   "execution_count": 24,
   "metadata": {
    "scrolled": false
   },
   "outputs": [
    {
     "data": {
      "text/html": [
       "<style  type=\"text/css\" >\n",
       "</style><table id=\"T_df0d3_\" ><thead>    <tr>        <th class=\"blank level0\" ></th>        <th class=\"col_heading level0 col0\" >Sales</th>        <th class=\"col_heading level0 col1\" >Commission_Amount</th>        <th class=\"col_heading level0 col2\" >Sales_Target</th>    </tr></thead><tbody>\n",
       "                <tr>\n",
       "                        <th id=\"T_df0d3_level0_row0\" class=\"row_heading level0 row0\" >count</th>\n",
       "                        <td id=\"T_df0d3_row0_col0\" class=\"data row0 col0\" >1,000</td>\n",
       "                        <td id=\"T_df0d3_row0_col1\" class=\"data row0 col1\" >1,000</td>\n",
       "                        <td id=\"T_df0d3_row0_col2\" class=\"data row0 col2\" >1,000</td>\n",
       "            </tr>\n",
       "            <tr>\n",
       "                        <th id=\"T_df0d3_level0_row1\" class=\"row_heading level0 row1\" >mean</th>\n",
       "                        <td id=\"T_df0d3_row1_col0\" class=\"data row1 col0\" >83,695,108</td>\n",
       "                        <td id=\"T_df0d3_row1_col1\" class=\"data row1 col1\" >2,858,230</td>\n",
       "                        <td id=\"T_df0d3_row1_col2\" class=\"data row1 col2\" >83,687,525</td>\n",
       "            </tr>\n",
       "            <tr>\n",
       "                        <th id=\"T_df0d3_level0_row2\" class=\"row_heading level0 row2\" >std</th>\n",
       "                        <td id=\"T_df0d3_row2_col0\" class=\"data row2 col0\" >2,758,697</td>\n",
       "                        <td id=\"T_df0d3_row2_col1\" class=\"data row2 col1\" >104,770</td>\n",
       "                        <td id=\"T_df0d3_row2_col2\" class=\"data row2 col2\" >2,713,554</td>\n",
       "            </tr>\n",
       "            <tr>\n",
       "                        <th id=\"T_df0d3_level0_row3\" class=\"row_heading level0 row3\" >min</th>\n",
       "                        <td id=\"T_df0d3_row3_col0\" class=\"data row3 col0\" >75,950,750</td>\n",
       "                        <td id=\"T_df0d3_row3_col1\" class=\"data row3 col1\" >2,575,628</td>\n",
       "                        <td id=\"T_df0d3_row3_col2\" class=\"data row3 col2\" >75,725,000</td>\n",
       "            </tr>\n",
       "            <tr>\n",
       "                        <th id=\"T_df0d3_level0_row4\" class=\"row_heading level0 row4\" >25%</th>\n",
       "                        <td id=\"T_df0d3_row4_col0\" class=\"data row4 col0\" >81,812,938</td>\n",
       "                        <td id=\"T_df0d3_row4_col1\" class=\"data row4 col1\" >2,784,382</td>\n",
       "                        <td id=\"T_df0d3_row4_col2\" class=\"data row4 col2\" >81,850,000</td>\n",
       "            </tr>\n",
       "            <tr>\n",
       "                        <th id=\"T_df0d3_level0_row5\" class=\"row_heading level0 row5\" >50%</th>\n",
       "                        <td id=\"T_df0d3_row5_col0\" class=\"data row5 col0\" >83,600,250</td>\n",
       "                        <td id=\"T_df0d3_row5_col1\" class=\"data row5 col1\" >2,853,442</td>\n",
       "                        <td id=\"T_df0d3_row5_col2\" class=\"data row5 col2\" >83,650,000</td>\n",
       "            </tr>\n",
       "            <tr>\n",
       "                        <th id=\"T_df0d3_level0_row6\" class=\"row_heading level0 row6\" >75%</th>\n",
       "                        <td id=\"T_df0d3_row6_col0\" class=\"data row6 col0\" >85,488,750</td>\n",
       "                        <td id=\"T_df0d3_row6_col1\" class=\"data row6 col1\" >2,929,252</td>\n",
       "                        <td id=\"T_df0d3_row6_col2\" class=\"data row6 col2\" >85,475,000</td>\n",
       "            </tr>\n",
       "            <tr>\n",
       "                        <th id=\"T_df0d3_level0_row7\" class=\"row_heading level0 row7\" >max</th>\n",
       "                        <td id=\"T_df0d3_row7_col0\" class=\"data row7 col0\" >92,625,000</td>\n",
       "                        <td id=\"T_df0d3_row7_col1\" class=\"data row7 col1\" >3,214,385</td>\n",
       "                        <td id=\"T_df0d3_row7_col2\" class=\"data row7 col2\" >92,025,000</td>\n",
       "            </tr>\n",
       "    </tbody></table>"
      ],
      "text/plain": [
       "<pandas.io.formats.style.Styler at 0x1cafbfbd820>"
      ]
     },
     "execution_count": 24,
     "metadata": {},
     "output_type": "execute_result"
    }
   ],
   "source": [
    "results_df.describe().style.format('{:,.0f}')"
   ]
  },
  {
   "cell_type": "code",
   "execution_count": null,
   "metadata": {},
   "outputs": [],
   "source": [
    "# mean = 3,316,139"
   ]
  },
  {
   "cell_type": "markdown",
   "metadata": {},
   "source": [
    "#### 만일 판매원의 수가 300명으로 줄어든다면 commission amount의 기대값은 어떻게 변하는가? "
   ]
  },
  {
   "cell_type": "code",
   "execution_count": 53,
   "metadata": {
    "scrolled": true
   },
   "outputs": [
    {
     "data": {
      "text/html": [
       "<style  type=\"text/css\" >\n",
       "</style><table id=\"T_6bd1a_\" ><thead>    <tr>        <th class=\"blank level0\" ></th>        <th class=\"col_heading level0 col0\" >Sales</th>        <th class=\"col_heading level0 col1\" >Commission_Amount</th>        <th class=\"col_heading level0 col2\" >Sales_Target</th>    </tr></thead><tbody>\n",
       "                <tr>\n",
       "                        <th id=\"T_6bd1a_level0_row0\" class=\"row_heading level0 row0\" >count</th>\n",
       "                        <td id=\"T_6bd1a_row0_col0\" class=\"data row0 col0\" >1,000</td>\n",
       "                        <td id=\"T_6bd1a_row0_col1\" class=\"data row0 col1\" >1,000</td>\n",
       "                        <td id=\"T_6bd1a_row0_col2\" class=\"data row0 col2\" >1,000</td>\n",
       "            </tr>\n",
       "            <tr>\n",
       "                        <th id=\"T_6bd1a_level0_row1\" class=\"row_heading level0 row1\" >mean</th>\n",
       "                        <td id=\"T_6bd1a_row1_col0\" class=\"data row1 col0\" >50,231,038</td>\n",
       "                        <td id=\"T_6bd1a_row1_col1\" class=\"data row1 col1\" >1,714,647</td>\n",
       "                        <td id=\"T_6bd1a_row1_col2\" class=\"data row1 col2\" >50,239,850</td>\n",
       "            </tr>\n",
       "            <tr>\n",
       "                        <th id=\"T_6bd1a_level0_row2\" class=\"row_heading level0 row2\" >std</th>\n",
       "                        <td id=\"T_6bd1a_row2_col0\" class=\"data row2 col0\" >2,066,812</td>\n",
       "                        <td id=\"T_6bd1a_row2_col1\" class=\"data row2 col1\" >78,094</td>\n",
       "                        <td id=\"T_6bd1a_row2_col2\" class=\"data row2 col2\" >2,043,904</td>\n",
       "            </tr>\n",
       "            <tr>\n",
       "                        <th id=\"T_6bd1a_level0_row3\" class=\"row_heading level0 row3\" >min</th>\n",
       "                        <td id=\"T_6bd1a_row3_col0\" class=\"data row3 col0\" >43,939,500</td>\n",
       "                        <td id=\"T_6bd1a_row3_col1\" class=\"data row3 col1\" >1,490,648</td>\n",
       "                        <td id=\"T_6bd1a_row3_col2\" class=\"data row3 col2\" >43,650,000</td>\n",
       "            </tr>\n",
       "            <tr>\n",
       "                        <th id=\"T_6bd1a_level0_row4\" class=\"row_heading level0 row4\" >25%</th>\n",
       "                        <td id=\"T_6bd1a_row4_col0\" class=\"data row4 col0\" >48,819,562</td>\n",
       "                        <td id=\"T_6bd1a_row4_col1\" class=\"data row4 col1\" >1,659,304</td>\n",
       "                        <td id=\"T_6bd1a_row4_col2\" class=\"data row4 col2\" >48,868,750</td>\n",
       "            </tr>\n",
       "            <tr>\n",
       "                        <th id=\"T_6bd1a_level0_row5\" class=\"row_heading level0 row5\" >50%</th>\n",
       "                        <td id=\"T_6bd1a_row5_col0\" class=\"data row5 col0\" >50,188,375</td>\n",
       "                        <td id=\"T_6bd1a_row5_col1\" class=\"data row5 col1\" >1,715,956</td>\n",
       "                        <td id=\"T_6bd1a_row5_col2\" class=\"data row5 col2\" >50,300,000</td>\n",
       "            </tr>\n",
       "            <tr>\n",
       "                        <th id=\"T_6bd1a_level0_row6\" class=\"row_heading level0 row6\" >75%</th>\n",
       "                        <td id=\"T_6bd1a_row6_col0\" class=\"data row6 col0\" >51,629,812</td>\n",
       "                        <td id=\"T_6bd1a_row6_col1\" class=\"data row6 col1\" >1,764,418</td>\n",
       "                        <td id=\"T_6bd1a_row6_col2\" class=\"data row6 col2\" >51,656,250</td>\n",
       "            </tr>\n",
       "            <tr>\n",
       "                        <th id=\"T_6bd1a_level0_row7\" class=\"row_heading level0 row7\" >max</th>\n",
       "                        <td id=\"T_6bd1a_row7_col0\" class=\"data row7 col0\" >57,839,500</td>\n",
       "                        <td id=\"T_6bd1a_row7_col1\" class=\"data row7 col1\" >2,023,060</td>\n",
       "                        <td id=\"T_6bd1a_row7_col2\" class=\"data row7 col2\" >57,375,000</td>\n",
       "            </tr>\n",
       "    </tbody></table>"
      ],
      "text/plain": [
       "<pandas.io.formats.style.Styler at 0x2ee39a8f220>"
      ]
     },
     "execution_count": 53,
     "metadata": {},
     "output_type": "execute_result"
    }
   ],
   "source": [
    "results_df.describe().style.format('{:,.0f}')"
   ]
  },
  {
   "cell_type": "code",
   "execution_count": null,
   "metadata": {},
   "outputs": [],
   "source": [
    "# mean = 1,714,647"
   ]
  },
  {
   "cell_type": "markdown",
   "metadata": {},
   "source": [
    "### 3. Rejection Sampling "
   ]
  },
  {
   "cell_type": "code",
   "execution_count": 46,
   "metadata": {},
   "outputs": [
    {
     "data": {
      "image/png": "[encoded data removed]",
      "text/plain": [
       "<Figure size 432x288 with 1 Axes>"
      ]
     },
     "metadata": {
      "needs_background": "light"
     },
     "output_type": "display_data"
    }
   ],
   "source": [
    "def p(x):\n",
    "    return stats.norm.pdf(x, loc=30, scale=10) + stats.norm.pdf(x, loc=80, scale=20)\n",
    "\n",
    "\n",
    "def q(x):\n",
    "    return stats.norm.pdf(x, loc=50, scale=30)\n",
    "\n",
    "\n",
    "x = np.arange(-50, 151)\n",
    "M = max(p(x) / q(x)) # q(x) 안에 모두 포함되는 p(x)를 정의하기 위해 만들었다.\n",
    "\n",
    "plt.plot(x, p(x))\n",
    "plt.plot(x, M*q(x))\n",
    "plt.show()"
   ]
  },
  {
   "cell_type": "code",
   "execution_count": 30,
   "metadata": {},
   "outputs": [],
   "source": [
    "iter=10000\n",
    "samples = []\n",
    "\n",
    "for i in range(iter):\n",
    "    y = np.random.normal(50, 30)\n",
    "    u = np.random.uniform(0,1)\n",
    "    \n",
    "    if u <= p(y)/(M*q(y)):\n",
    "        samples.append(y)"
   ]
  },
  {
   "cell_type": "code",
   "execution_count": 31,
   "metadata": {
    "scrolled": true
   },
   "outputs": [
    {
     "data": {
      "image/png": "[encoded data removed]",
      "text/plain": [
       "<Figure size 432x288 with 1 Axes>"
      ]
     },
     "metadata": {
      "needs_background": "light"
     },
     "output_type": "display_data"
    }
   ],
   "source": [
    "plt.hist(samples)\n",
    "plt.show()\n",
    "# 뽑히는 갯수가 뽑힐 가능성이 높은 애들이 확실히 많이 뽑혔다."
   ]
  },
  {
   "cell_type": "markdown",
   "metadata": {},
   "source": [
    "##### Reference\n",
    "https://pbpython.com/monte-carlo.html"
   ]
  }
 ],
 "metadata": {
  "kernelspec": {
   "display_name": "Python 3",
   "language": "python",
   "name": "python3"
  },
  "language_info": {
   "codemirror_mode": {
    "name": "ipython",
    "version": 3
   },
   "file_extension": ".py",
   "mimetype": "text/x-python",
   "name": "python",
   "nbconvert_exporter": "python",
   "pygments_lexer": "ipython3",
   "version": "3.8.5"
  }
 },
 "nbformat": 4,
 "nbformat_minor": 4
}
