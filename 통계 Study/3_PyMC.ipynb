{
 "cells": [
  {
   "cell_type": "markdown",
   "metadata": {},
   "source": [
    "# <font color = navy>3.  PyMC3 </font>\n",
    "    \n",
    "Python의 PyMC3 모듈의 사용법을 소개하고 모델링 하는 방법을 알아본다. \n",
    "    \n"
   ]
  },
  {
   "cell_type": "markdown",
   "metadata": {},
   "source": [
    "## 3.1 Model creation\n",
    "\n",
    "- PyMC3에서는 모델에 포함하고 싶은 모든 변수들을 기본적으로 `Model` object 안에서 정의한다. `Model`안에서 정의된 변수는 그 모델로 할당된다. \n",
    "- 각 변수를 순차적으로 정의한다. `pm.Exponential`와 `pm.Poisson`의 첫 번째 argument는 변수 이름, 두 번째 argument는 해당 분포의 모수 "
   ]
  },
  {
   "cell_type": "markdown",
   "metadata": {},
   "source": [
    "$$ \\lambda \\sim Exponential(1)$$\n",
    "$$ X |\\lambda\\sim Poisson(\\lambda)$$"
   ]
  },
  {
   "cell_type": "code",
   "execution_count": 1,
   "metadata": {},
   "outputs": [],
   "source": [
    "import pymc3 as pm\n",
    "\n",
    "with pm.Model() as model:\n",
    "    parameter = pm.Exponential(\"poisson_param\", 1.0)\n",
    "    data_generator = pm.Poisson(\"data_generator\", parameter)"
   ]
  },
  {
   "cell_type": "markdown",
   "metadata": {},
   "source": [
    "- `with`를 사용하여 위에서 지정한 모델에 대한 작업을 계속할 수 있다. "
   ]
  },
  {
   "cell_type": "code",
   "execution_count": 2,
   "metadata": {},
   "outputs": [],
   "source": [
    "with model:\n",
    "    data_plus_one = data_generator + 1"
   ]
  },
  {
   "cell_type": "code",
   "execution_count": 3,
   "metadata": {},
   "outputs": [
    {
     "data": {
      "text/latex": [
       "$\\text{poisson_param} \\sim \\text{Exponential}(\\mathit{lam}=1.0)$"
      ],
      "text/plain": [
       "poisson_param ~ Exponential"
      ]
     },
     "execution_count": 3,
     "metadata": {},
     "output_type": "execute_result"
    }
   ],
   "source": [
    "parameter"
   ]
  },
  {
   "cell_type": "code",
   "execution_count": 4,
   "metadata": {},
   "outputs": [
    {
     "data": {
      "text/latex": [
       "$\\text{data_generator} \\sim \\text{Poisson}(\\mathit{mu}=\\text{poisson_param})$"
      ],
      "text/plain": [
       "data_generator ~ Poisson"
      ]
     },
     "execution_count": 4,
     "metadata": {},
     "output_type": "execute_result"
    }
   ],
   "source": [
    "data_generator"
   ]
  },
  {
   "cell_type": "code",
   "execution_count": 5,
   "metadata": {
    "scrolled": true
   },
   "outputs": [
    {
     "data": {
      "text/plain": [
       "Elemwise{add,no_inplace}.0"
      ]
     },
     "execution_count": 5,
     "metadata": {},
     "output_type": "execute_result"
    }
   ],
   "source": [
    "data_plus_one"
   ]
  },
  {
   "cell_type": "markdown",
   "metadata": {},
   "source": [
    "- Pymc3 continuous distributions\n",
    "https://docs.pymc.io/api/distributions/continuous.html\n",
    "- Pymc3 discrete distributions\n",
    "https://docs.pymc.io/api/distributions/discrete.html?highlight=discrete#module-pymc3.distributions.discrete"
   ]
  },
  {
   "cell_type": "markdown",
   "metadata": {},
   "source": [
    "## 3.2 PyMC3 variables"
   ]
  },
  {
   "cell_type": "markdown",
   "metadata": {},
   "source": [
    "- 모든 PyMC3 variable은 initial value를 가지고 있다.\n",
    "    - `변수명.tag.test_value`로 확인"
   ]
  },
  {
   "cell_type": "code",
   "execution_count": 6,
   "metadata": {
    "scrolled": true
   },
   "outputs": [
    {
     "name": "stdout",
     "output_type": "stream",
     "text": [
      "parameter.tag.test_value = 0.6931471824645996\n",
      "data_generator.tag.test_value = 0\n",
      "data_plus_one.tag.test_value = 1\n"
     ]
    }
   ],
   "source": [
    "print(\"parameter.tag.test_value =\", parameter.tag.test_value)\n",
    "print(\"data_generator.tag.test_value =\", data_generator.tag.test_value)\n",
    "print(\"data_plus_one.tag.test_value =\", data_plus_one.tag.test_value)"
   ]
  },
  {
   "cell_type": "markdown",
   "metadata": {},
   "source": [
    "- `testval` 옵션으로 initial value 지정 가능 \n",
    "- initial value는 해당 모수의 sampling의 초기값"
   ]
  },
  {
   "cell_type": "code",
   "execution_count": 7,
   "metadata": {
    "scrolled": true
   },
   "outputs": [
    {
     "name": "stdout",
     "output_type": "stream",
     "text": [
      "\n",
      "parameter.tag.test_value = 0.5\n"
     ]
    }
   ],
   "source": [
    "with pm.Model() as model:\n",
    "    parameter = pm.Exponential(\"poisson_param\", 1.0, testval=0.5)\n",
    "\n",
    "print(\"\\nparameter.tag.test_value =\", parameter.tag.test_value)"
   ]
  },
  {
   "cell_type": "markdown",
   "metadata": {},
   "source": [
    "### Stochastic vs Deterministic Variable\n",
    "- **Stochastic variable**: 고정되어 있지 않은 확률변수(random variable). 주어진 모수 값을 가진 분포에서 확률적으로 발생하는 변수. `Poisson`, `DiscreteUniform`, `Normal`, `Exponential` 등의 클래스를 가진다. \n",
    "    - $X \\sim N(\\mu, \\sigma^2)$\n",
    "        - $\\mu=0, \\sigma=1$로 알려져 있다고 해도 X값은 고정되지 않는다. 단 0과 가까운 값을 가질 확률이 높을 뿐..\n",
    "\n",
    "- **Deterministic variable**: 고정되어 있는 상수. 다른 변수의 함수로 표현되더라도 인수값이 주어진다면 변수 값도 언제가 고정되는 변수\n",
    "    - $X=a+2$\n",
    "        - $a=1$로 주어지면 $X$는 3으로 고정된다. $a$가 변하면 $X$가 변하긴 하지만 확률적으로 변하지 않는다.\n",
    "    - $Y=X+2, X\\sim N(0,1)$\n",
    "        - $X$가 확률변수이기 때문에 $Y$ 역시 (통계이론적으로는) 확률변수이지만, PyMC3 환경에서는 X가 주어진 수라면 Y가 상수이므로 deterministic variable로 여긴다.\n",
    "\n",
    "#### Initializing Stochastic variables\n",
    "\n",
    "Stochastic variable을 초기화하기 위해서는 `name` argument와 해당 분포 클래스의 모수를 입력해야 한다. \n",
    "\n",
    "`some_variable = pm.DiscreteUniform(\"discrete_uni_var\", 0, 4)`\n",
    "\n",
    "- 0, 4: `DiscreteUniform`분포의 범위\n",
    "- `discrete_uni_var`: 변수의 이름. 이후 분석에서 사후분포를 추적하는데 사용된다.\n",
    "\n",
    "다변량 문제에서는 `shape` keyword를 사용하여 독립적인 stochastic variables을 생성한다.  NumPy array와 같이 작동한다.\n",
    "변수의 `tag.test_value` attribute은 초기값을 NumPy arrays로 출력한다. \n"
   ]
  },
  {
   "cell_type": "code",
   "execution_count": 8,
   "metadata": {},
   "outputs": [],
   "source": [
    "with pm.Model() as model:\n",
    "    beta_1 = pm.Uniform(\"beta_1\", 0, 1)\n",
    "    beta_2 = pm.Uniform(\"beta_2\", 0, 1)"
   ]
  },
  {
   "cell_type": "code",
   "execution_count": 9,
   "metadata": {
    "scrolled": true
   },
   "outputs": [
    {
     "data": {
      "text/plain": [
       "array(0.5)"
      ]
     },
     "execution_count": 9,
     "metadata": {},
     "output_type": "execute_result"
    }
   ],
   "source": [
    "beta_1.tag.test_value"
   ]
  },
  {
   "cell_type": "markdown",
   "metadata": {},
   "source": [
    "    \n",
    "위처럼 따로 생성하는 대신 아래처럼 한번에 다변량 stochastic variable을 생성 가능\n",
    "\n"
   ]
  },
  {
   "cell_type": "code",
   "execution_count": 13,
   "metadata": {},
   "outputs": [],
   "source": [
    "with pm.Model() as model:\n",
    "    betas = pm.Uniform(\"betas\", 0, 1, shape=2)"
   ]
  },
  {
   "cell_type": "code",
   "execution_count": 14,
   "metadata": {
    "scrolled": true
   },
   "outputs": [
    {
     "data": {
      "text/plain": [
       "array([0.5, 0.5])"
      ]
     },
     "execution_count": 14,
     "metadata": {},
     "output_type": "execute_result"
    }
   ],
   "source": [
    "betas.tag.test_value"
   ]
  },
  {
   "cell_type": "markdown",
   "metadata": {},
   "source": [
    "#### Deterministic variables\n",
    "\n",
    "PyMC3의 `Deterministic` class를 사용하여 정의된다. \n",
    "\n",
    "    deterministic_variable = pm.Deterministic(\"deterministic variable\", some_function_of_variables)\n",
    "\n",
    "`pymc3.Deterministic`을 사용하지 않고 다른 (확률)변수의 사칙연산이나 exponentials, log 등의 함수 형태로 정의할 수도 있다. "
   ]
  },
  {
   "cell_type": "code",
   "execution_count": 15,
   "metadata": {},
   "outputs": [],
   "source": [
    "with pm.Model() as model:\n",
    "    lambda_1 = pm.Exponential(\"lambda_1\", 1.0)\n",
    "    lambda_2 = pm.Exponential(\"lambda_2\", 1.0)\n",
    "    tau = pm.DiscreteUniform(\"tau\", lower=0, upper=10)\n",
    "    new_deterministic_variable = lambda_1 + lambda_2"
   ]
  },
  {
   "cell_type": "code",
   "execution_count": 16,
   "metadata": {
    "scrolled": true
   },
   "outputs": [
    {
     "data": {
      "text/plain": [
       "1.3862943649291992"
      ]
     },
     "execution_count": 16,
     "metadata": {},
     "output_type": "execute_result"
    }
   ],
   "source": [
    "lambda_1.tag.test_value + lambda_2.tag.test_value"
   ]
  },
  {
   "cell_type": "code",
   "execution_count": 17,
   "metadata": {},
   "outputs": [
    {
     "data": {
      "text/plain": [
       "array(1.38629436)"
      ]
     },
     "execution_count": 17,
     "metadata": {},
     "output_type": "execute_result"
    }
   ],
   "source": [
    "new_deterministic_variable.tag.test_value"
   ]
  },
  {
   "cell_type": "markdown",
   "metadata": {},
   "source": [
    "Deterministic variable을 sampling과정에서 추적하기 위해서는 `model` context 안에서 정의해야 한다. "
   ]
  },
  {
   "cell_type": "code",
   "execution_count": 18,
   "metadata": {},
   "outputs": [],
   "source": [
    "with pm.Model() as model:\n",
    "    lambda_1 = pm.Exponential(\"lambda_1\", 1.0)\n",
    "    lambda_2 = pm.Exponential(\"lambda_2\", 1.0)\n",
    "\n",
    "    tau = pm.DiscreteUniform(\"tau\", lower=0, upper=10)\n",
    "    new_deterministic_variable = pm.Deterministic('lambda_sum', lambda_1 + lambda_2)\n",
    "    # 위의 것과 결과는 같지만 이번 것은 'lambda_sum' 으로 저장을 했기 때문에 따로 사용할 수 있다는 것이다."
   ]
  },
  {
   "cell_type": "code",
   "execution_count": 19,
   "metadata": {},
   "outputs": [
    {
     "data": {
      "text/plain": [
       "array(1.38629436)"
      ]
     },
     "execution_count": 19,
     "metadata": {},
     "output_type": "execute_result"
    }
   ],
   "source": [
    "new_deterministic_variable.tag.test_value"
   ]
  },
  {
   "cell_type": "markdown",
   "metadata": {},
   "source": [
    "문자메세지 예제에서 사용한 모델은 아래와 같다. \n",
    "\n",
    "$$\n",
    "\\lambda = \n",
    "\\begin{cases}\\lambda_1  & \\text{if } t \\lt \\tau \\cr\n",
    "\\lambda_2 & \\text{if } t \\ge \\tau\n",
    "\\end{cases}\n",
    "$$"
   ]
  },
  {
   "cell_type": "code",
   "execution_count": 22,
   "metadata": {},
   "outputs": [],
   "source": [
    "import numpy as np\n",
    "\n",
    "n_data_points = 5  # 이전 예제에서는 70개 정도의 데이터가 있었음\n",
    "idx = np.arange(n_data_points) # 시점 인덱스\n",
    "with model:\n",
    "    lambda_ = pm.math.switch(tau > idx, lambda_1, lambda_2) #시점이 tau보다 작으면 lambda_1, 크거나 같으면 lambda_2"
   ]
  },
  {
   "cell_type": "markdown",
   "metadata": {},
   "source": [
    "### 모델에 관측치 포함하기\n",
    "\n",
    "위의 과정에서는 모델의 사전분포를 정의했다. $\\lambda_1$의 사전분포가 어떻게 생겼을까? 그것이 궁금할 때 $\\lambda_1$ 를 아래의 두가지 방법으로 뽑는다.\n",
    "1. 위에서 정의된 Exponential 분포의 모양을 수학적으로 알아본다.\n",
    "    - 만일 우리가 관심있는 분포가 Exponential 같이 잘 알려진 분포가 아니면 이 방법은 쓸 수 없다 (예를 들면, $\\lambda$의 분포)\n",
    "- 해당 분포에서 random sample을 추출하여 이것의 히스토그램을 그려서 알아본다.\n",
    "    - 복잡한 분포에서도 MCMC를 사용하여 random sample을 추출할 수 있다. \n",
    "    - **주로 이 방법을 사용**\n",
    "\n",
    "**NOTE**\n",
    "- **여기서 추출한 sample은 관측치가 아니라 관심 모수의 실현치**\n",
    "- (Frequentist 처럼) 모수의 값을 하나의 값 혹은 구간으로 추정하기 보다는 모수의 분포를 가정하고 거기서 random sample을 추출하여 그것의 분포, 평균, 분산 등으로 모수에 대해 추론하려는 목적 "
   ]
  },
  {
   "cell_type": "code",
   "execution_count": 20,
   "metadata": {
    "scrolled": true
   },
   "outputs": [
    {
     "data": {
      "image/png": "[encoded data removed]",
      "text/plain": [
       "<Figure size 900x288 with 1 Axes>"
      ]
     },
     "metadata": {
      "needs_background": "light"
     },
     "output_type": "display_data"
    }
   ],
   "source": [
    "%matplotlib inline\n",
    "from IPython.core.pylabtools import figsize\n",
    "import matplotlib.pyplot as plt\n",
    "import scipy.stats as stats\n",
    "figsize(12.5, 4)\n",
    "\n",
    "samples = lambda_1.random(size=20000) # lambda_1 에 대한 random sample\n",
    "plt.hist(samples, bins=70, density=True, histtype=\"stepfilled\")\n",
    "plt.title(\"Prior distribution for $\\lambda_1$\")\n",
    "plt.xlim(0, 8);"
   ]
  },
  {
   "cell_type": "markdown",
   "metadata": {},
   "source": [
    "Q: 그렇다면 관측치를 어떻게 모형에 반영시킬까?  \n",
    "\n",
    "- Stochastic variable의  `observed` argument를 사용\n",
    "- 해당 변수의 값을 주어진 데이터로 고정시키는 역할"
   ]
  },
  {
   "cell_type": "code",
   "execution_count": 23,
   "metadata": {},
   "outputs": [
    {
     "name": "stdout",
     "output_type": "stream",
     "text": [
      "[10 25 15 20 35]\n"
     ]
    }
   ],
   "source": [
    "# We're using some fake data here\n",
    "data = np.array([10, 25, 15, 20, 35])\n",
    "with model:\n",
    "    obs = pm.Poisson(\"obs\", lambda_, observed=data)\n",
    "print(obs.tag.test_value)"
   ]
  },
  {
   "cell_type": "markdown",
   "metadata": {},
   "source": [
    "## 3.3 모델링 방법\n",
    "\n",
    "- 데이터가 어떻게 만들어 졌는지에 대한 과정을 중심으로 생각\n",
    "- 내가 데이터를 다시 만든다면 어떤 과정으로 만들 것인가? \n",
    "\n",
    "### 문자메세지 예제\n",
    "\n",
    "1.  \"count data\"(관측된 데이터)가 추출될 수 있는 확률분포는 무엇인가? \n",
    "    -  Poisson 분포가 좋은 후보임\n",
    "    - $C_i \\sim Poi(\\lambda)$\n",
    "\n",
    "\n",
    "2.  포아송 분포의 모수인 $\\lambda$를 알고 있는가? \n",
    "    - 이 상황에서는 모를 뿐 아니라 변환점($\\tau$) 이후 달라지는 것을 가정\n",
    "    $$\\lambda = \\left\\{\n",
    "\\begin{matrix}\n",
    "\\lambda_1 & \\mbox{if } t<\\tau\\\\\n",
    "\\lambda_2 & \\mbox{if } t\\geq\\tau\\\\\n",
    "\\end{matrix}\n",
    "\\right. $$ \n",
    "\n",
    "3. 두 개의  $\\lambda$에 대한 적절한 확률분포는 무엇인가?\n",
    "    - $\\lambda$는 평균 count의 의미를 가지므로 양의 값에 대해 정의되는 분포이어야 함\n",
    "    - 지수분포가 좋은 후보 (음수 값이 없기 때문에)\n",
    "    - $\\lambda_j\\sim Exponential(\\alpha)$ \n",
    "    \n",
    "\n",
    "4.  지수분포의 모수인 $\\alpha$를 아는가? \n",
    "    - 모름. $\\alpha$에 대해 또다시 확률분포를 적용할 수도 있지만 그만큼 관심이 있지 않고 사전 정보가 별로 없음 \n",
    "    - $\\lambda$에 대한 사전 정보(10-30 사이의 값?)를 $\\alpha$가 잘 반영하게 하기 위해 $\\lambda|\\alpha$의 기대값이 관측치의 평균이 되도록 설정함\n",
    "$$\\frac{1}{N}\\sum_{i=0}^N \\;C_i \\approx E[\\; \\lambda \\; |\\; \\alpha ] = \\frac{1}{\\alpha}$$ \n",
    "\n",
    "\n",
    "5. 전환점 $\\tau$에 대한 정보가 없으므로 전체 일자에 대한 균등 분포로 사전분포를 설정 \n",
    "\\begin{align}\n",
    "& \\tau \\sim \\text{DiscreteUniform(1,70) }\\\\\\\\\n",
    "& \\Rightarrow P( \\tau = k ) = \\frac{1}{70}\n",
    "\\end{align}\n",
    "\n",
    "\n",
    "모형에서 변수들 간의 관계를 아래와 같이 나타낼 수 있다.\n",
    "<img src=\"http://i.imgur.com/7J30oCG.png\" width = 700/>\n",
    "\n"
   ]
  },
  {
   "cell_type": "code",
   "execution_count": null,
   "metadata": {},
   "outputs": [],
   "source": [
    "## DO NOT RUN \n",
    "# 위의 전체 과정을 함수화 한 것\n",
    "with pm.Model() as model:\n",
    "    alpha = 1.0/count_data.mean()  # Recall count_data is the\n",
    "                                   # variable that holds our txt counts\n",
    "    lambda_1 = pm.Exponential(\"lambda_1\", alpha)\n",
    "    lambda_2 = pm.Exponential(\"lambda_2\", alpha)\n",
    "    \n",
    "    tau = pm.DiscreteUniform(\"tau\", lower=0, upper=n_count_data - 1)\n",
    "\n",
    "    idx = np.arange(n_count_data) # Index\n",
    "    lambda_ = pm.math.switch(tau > idx, lambda_1, lambda_2)\n",
    "    \n",
    "    observation = pm.Poisson(\"obs\", lambda_, observed=count_data)"
   ]
  },
  {
   "cell_type": "markdown",
   "metadata": {},
   "source": [
    "###  Example: 스포츠 경기 (이항분포-베타분포)\n",
    "스포츠 경기에서 A팀이 B팀과 12번의 경기를 수행하여 3번의 승리를 거두었다. 이에 대한 이항분포의 모수를 Beta(2,2) 사전분포를 사용하여 베이지안 추론으로 추정하기 위한 모형을 구성하라. MCMC 방법을 통해 사후분포에서 추출한 이항분포 모수의 평균을 구하시오.\n"
   ]
  },
  {
   "cell_type": "code",
   "execution_count": 21,
   "metadata": {},
   "outputs": [],
   "source": [
    "with pm.Model() as model:\n",
    "    ## 모형 구성\n",
    "    theta= pm.Beta('theta',2,2)\n",
    "    obs = pm.Binomial(\"obs\", n=12, p=theta, observed=3)"
   ]
  },
  {
   "cell_type": "code",
   "execution_count": 25,
   "metadata": {
    "scrolled": false
   },
   "outputs": [
    {
     "name": "stderr",
     "output_type": "stream",
     "text": [
      "<ipython-input-25-370889a8f0a9>:3: FutureWarning: In v4.0, pm.sample will return an `arviz.InferenceData` object instead of a `MultiTrace` by default. You can pass return_inferencedata=True or return_inferencedata=False to be safe and silence this warning.\n",
      "  trace = pm.sample(10000, tune=5000,step=step, chains=1)\n",
      "Sequential sampling (1 chains in 1 job)\n",
      "Metropolis: [theta]\n"
     ]
    },
    {
     "data": {
      "text/html": [
       "\n",
       "    <div>\n",
       "        <style>\n",
       "            /* Turns off some styling */\n",
       "            progress {\n",
       "                /* gets rid of default border in Firefox and Opera. */\n",
       "                border: none;\n",
       "                /* Needs to be in here for Safari polyfill so background images work as expected. */\n",
       "                background-size: auto;\n",
       "            }\n",
       "            .progress-bar-interrupted, .progress-bar-interrupted::-webkit-progress-bar {\n",
       "                background: #F44336;\n",
       "            }\n",
       "        </style>\n",
       "      <progress value='15000' class='' max='15000' style='width:300px; height:20px; vertical-align: middle;'></progress>\n",
       "      100.00% [15000/15000 00:01<00:00 Sampling chain 0, 0 divergences]\n",
       "    </div>\n",
       "    "
      ],
      "text/plain": [
       "<IPython.core.display.HTML object>"
      ]
     },
     "metadata": {},
     "output_type": "display_data"
    },
    {
     "name": "stderr",
     "output_type": "stream",
     "text": [
      "Sampling 1 chain for 5_000 tune and 10_000 draw iterations (5_000 + 10_000 draws total) took 1 seconds.\n",
      "Only one chain was sampled, this makes it impossible to run some convergence checks\n"
     ]
    }
   ],
   "source": [
    "with model:\n",
    "    step = pm.Metropolis()\n",
    "    trace = pm.sample(10000, tune=5000,step=step, chains=1)"
   ]
  },
  {
   "cell_type": "code",
   "execution_count": 26,
   "metadata": {
    "scrolled": true
   },
   "outputs": [
    {
     "data": {
      "text/plain": [
       "0.3097607196744662"
      ]
     },
     "execution_count": 26,
     "metadata": {},
     "output_type": "execute_result"
    }
   ],
   "source": [
    "## 사후분포의 평균을 MCMC 샘플로부터 계산 \n",
    "trace['theta'].mean()"
   ]
  },
  {
   "cell_type": "markdown",
   "metadata": {},
   "source": [
    "아래의 Beta-binomial 모형의 사후분포와 $Beta(\\alpha, \\beta)$의 평균이 $\\alpha/(\\alpha+\\beta)$라는 사실을 이용하여 위에서 계산한 사후평균이 적절한지 판단하시오. \n",
    "$$ \\theta \\sim Beta(\\alpha, \\beta)$$ \n",
    "$$ y|\\theta \\sim Bin(n, \\theta)$$ \n",
    "$$ \\theta|y \\sim Beta(\\alpha+y, \\beta+n-y)$$\n"
   ]
  },
  {
   "cell_type": "code",
   "execution_count": 1,
   "metadata": {},
   "outputs": [
    {
     "data": {
      "text/plain": [
       "0.3125"
      ]
     },
     "execution_count": 1,
     "metadata": {},
     "output_type": "execute_result"
    }
   ],
   "source": [
    "## 사후분포의 평균을 Beta 분포의 평균 공식을 사용하여 계산 \n",
    "# alpha =2 , beta=2\n",
    "# y=3\n",
    "# posterior = Beta(2+3, 2+12-3) = Beta(5,11)\n",
    "# posterior mean = 5/16\n",
    "5/16"
   ]
  },
  {
   "cell_type": "markdown",
   "metadata": {},
   "source": [
    "### Example: 정규분포 \n",
    "어느 제품 중량이 평균 100, 표준편차 2 정규분포를 따른다고 알려져 있다. 5개 제품 조사결과 98, 100, 101, 102, 103이었다. 제품의 중량 평균 추정치를 업데이트 하기 위한 베이지안 모형을 구성하라. (표준편차=2 가정) \n",
    "$$ \\mu \\sim N(100, 2^2)$$ \n",
    "$$ X|\\mu \\sim N(\\mu, 2^2)$$ \n"
   ]
  },
  {
   "cell_type": "code",
   "execution_count": 7,
   "metadata": {},
   "outputs": [],
   "source": [
    "data=[98,100,101,102,103]\n",
    "with pm.Model() as model:\n",
    "    ## 모형 구성 \n",
    "    theta = pm.Normal('theta',mu=100,sigma=2)\n",
    "    obs = pm.Normal('obs', mu=theta, sigma =2, observed=data)    "
   ]
  },
  {
   "cell_type": "code",
   "execution_count": 29,
   "metadata": {
    "scrolled": true
   },
   "outputs": [
    {
     "name": "stderr",
     "output_type": "stream",
     "text": [
      "<ipython-input-29-370889a8f0a9>:3: FutureWarning: In v4.0, pm.sample will return an `arviz.InferenceData` object instead of a `MultiTrace` by default. You can pass return_inferencedata=True or return_inferencedata=False to be safe and silence this warning.\n",
      "  trace = pm.sample(10000, tune=5000,step=step, chains=1)\n",
      "Sequential sampling (1 chains in 1 job)\n",
      "Metropolis: [Mu]\n"
     ]
    },
    {
     "data": {
      "text/html": [
       "\n",
       "    <div>\n",
       "        <style>\n",
       "            /* Turns off some styling */\n",
       "            progress {\n",
       "                /* gets rid of default border in Firefox and Opera. */\n",
       "                border: none;\n",
       "                /* Needs to be in here for Safari polyfill so background images work as expected. */\n",
       "                background-size: auto;\n",
       "            }\n",
       "            .progress-bar-interrupted, .progress-bar-interrupted::-webkit-progress-bar {\n",
       "                background: #F44336;\n",
       "            }\n",
       "        </style>\n",
       "      <progress value='15000' class='' max='15000' style='width:300px; height:20px; vertical-align: middle;'></progress>\n",
       "      100.00% [15000/15000 00:00<00:00 Sampling chain 0, 0 divergences]\n",
       "    </div>\n",
       "    "
      ],
      "text/plain": [
       "<IPython.core.display.HTML object>"
      ]
     },
     "metadata": {},
     "output_type": "display_data"
    },
    {
     "name": "stderr",
     "output_type": "stream",
     "text": [
      "Sampling 1 chain for 5_000 tune and 10_000 draw iterations (5_000 + 10_000 draws total) took 1 seconds.\n",
      "Only one chain was sampled, this makes it impossible to run some convergence checks\n"
     ]
    }
   ],
   "source": [
    "with model:\n",
    "    step = pm.Metropolis()\n",
    "    trace = pm.sample(10000, tune=5000,step=step, chains=1)"
   ]
  },
  {
   "cell_type": "code",
   "execution_count": 9,
   "metadata": {},
   "outputs": [
    {
     "data": {
      "text/plain": [
       "100.65583432552214"
      ]
     },
     "execution_count": 9,
     "metadata": {},
     "output_type": "execute_result"
    }
   ],
   "source": [
    "## 사후분포의 평균 계산 \n",
    "trace['theta'].mean()"
   ]
  }
 ],
 "metadata": {
  "kernelspec": {
   "display_name": "Python 3",
   "language": "python",
   "name": "python3"
  },
  "language_info": {
   "codemirror_mode": {
    "name": "ipython",
    "version": 3
   },
   "file_extension": ".py",
   "mimetype": "text/x-python",
   "name": "python",
   "nbconvert_exporter": "python",
   "pygments_lexer": "ipython3",
   "version": "3.8.5"
  }
 },
 "nbformat": 4,
 "nbformat_minor": 4
}
