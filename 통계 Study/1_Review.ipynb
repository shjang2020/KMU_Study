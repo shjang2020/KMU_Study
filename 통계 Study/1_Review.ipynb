{
 "cells": [
  {
   "cell_type": "markdown",
   "metadata": {
    "slideshow": {
     "slide_type": "slide"
    }
   },
   "source": [
    "# <font color=navy>1. Review: Frequentist's Methods </font>\n",
    "\n",
    "## 1.1 평균에 대한 검정 \n",
    "### 1.1.0 Example: Web Stickiness \n",
    "\n",
    "- 고가의 상품을 판매하는 온라인 쇼핑몰\n",
    "- 방문자가 웹페이지에 머무르는 시간이 길수록 구매로 이어짐\n",
    "- 한 웹관리자는 평균 session time이 길어야 160초이고 이를 늘리기 위해 새로운 웹 프레젠테이션이 필요하다고 주장함 \n",
    "\n",
    "#### Question\n",
    "- 평균 session time은 몇 초일까? \n",
    "- 평균 session time과 평균으로 예측했던 값 간의 차이에 통계적 유의성이 있을까?\n",
    "- 평균 session time의 불확실성의 수준이 어느 정도일까? \n",
    "    \n",
    "Note: 구매가 빈번히 일어나지 않기 때문에 단순 평균값만을 의지하여 결론을 내리기에 충분한 방문자 통계를 얻기까지 시간이 오래 걸려 36개의 방문자 통계 만을 사용하기로 함\n"
   ]
  },
  {
   "cell_type": "code",
   "execution_count": 1,
   "metadata": {
    "slideshow": {
     "slide_type": "skip"
    }
   },
   "outputs": [],
   "source": [
    "from pathlib import Path\n",
    "import random\n",
    "\n",
    "import pandas as pd\n",
    "import numpy as np\n",
    "import pylab \n",
    "from scipy import stats\n",
    "import statsmodels.api as sm\n",
    "from statsmodels.stats import weightstats\n",
    "from statsmodels.stats import proportion\n",
    "from scipy.stats import t\n",
    "\n",
    "import matplotlib.pylab as plt\n",
    "%matplotlib inline\n",
    "\n",
    "data_path = \"./data/\""
   ]
  },
  {
   "cell_type": "code",
   "execution_count": 2,
   "metadata": {
    "slideshow": {
     "slide_type": "slide"
    }
   },
   "outputs": [
    {
     "data": {
      "text/html": [
       "<div>\n",
       "<style scoped>\n",
       "    .dataframe tbody tr th:only-of-type {\n",
       "        vertical-align: middle;\n",
       "    }\n",
       "\n",
       "    .dataframe tbody tr th {\n",
       "        vertical-align: top;\n",
       "    }\n",
       "\n",
       "    .dataframe thead th {\n",
       "        text-align: right;\n",
       "    }\n",
       "</style>\n",
       "<table border=\"1\" class=\"dataframe\">\n",
       "  <thead>\n",
       "    <tr style=\"text-align: right;\">\n",
       "      <th></th>\n",
       "      <th>Page</th>\n",
       "      <th>Time</th>\n",
       "    </tr>\n",
       "  </thead>\n",
       "  <tbody>\n",
       "    <tr>\n",
       "      <th>0</th>\n",
       "      <td>Page A</td>\n",
       "      <td>21.0</td>\n",
       "    </tr>\n",
       "    <tr>\n",
       "      <th>1</th>\n",
       "      <td>Page B</td>\n",
       "      <td>253.0</td>\n",
       "    </tr>\n",
       "    <tr>\n",
       "      <th>2</th>\n",
       "      <td>Page A</td>\n",
       "      <td>35.0</td>\n",
       "    </tr>\n",
       "    <tr>\n",
       "      <th>3</th>\n",
       "      <td>Page B</td>\n",
       "      <td>71.0</td>\n",
       "    </tr>\n",
       "    <tr>\n",
       "      <th>4</th>\n",
       "      <td>Page A</td>\n",
       "      <td>67.0</td>\n",
       "    </tr>\n",
       "  </tbody>\n",
       "</table>\n",
       "</div>"
      ],
      "text/plain": [
       "     Page   Time\n",
       "0  Page A   21.0\n",
       "1  Page B  253.0\n",
       "2  Page A   35.0\n",
       "3  Page B   71.0\n",
       "4  Page A   67.0"
      ]
     },
     "execution_count": 2,
     "metadata": {},
     "output_type": "execute_result"
    }
   ],
   "source": [
    "session_times = pd.read_csv(data_path + 'web_page_data.csv')\n",
    "session_times.Time = 100 * session_times.Time # 초 단위로 변환\n",
    "\n",
    "session_times.head()"
   ]
  },
  {
   "cell_type": "markdown",
   "metadata": {
    "lines_to_next_cell": 0,
    "slideshow": {
     "slide_type": "slide"
    }
   },
   "source": [
    "### 1.1.1 점추정 \n",
    "- (모든 방문자의) 평균 session time을 하나의 숫자로 추정하면 무엇일까?"
   ]
  },
  {
   "cell_type": "code",
   "execution_count": 3,
   "metadata": {
    "collapse": true,
    "fig.height": 6,
    "lines_to_next_cell": 0,
    "slideshow": {
     "slide_type": "fragment"
    },
    "warning": false
   },
   "outputs": [
    {
     "data": {
      "text/plain": [
       "141.19444444444446"
      ]
     },
     "execution_count": 3,
     "metadata": {},
     "output_type": "execute_result"
    }
   ],
   "source": [
    "session_times.Time.mean()"
   ]
  },
  {
   "cell_type": "markdown",
   "metadata": {
    "lines_to_next_cell": 0,
    "slideshow": {
     "slide_type": "fragment"
    }
   },
   "source": [
    "- 표본 평균은 141.19: <font color=\"blue\"> 점추정치</font>\n",
    "    - 36개 관측치만을 사용한 표본 평균이 실제 평균과 같을 가능성 거의 없음 \n",
    "    "
   ]
  },
  {
   "cell_type": "markdown",
   "metadata": {
    "lines_to_next_cell": 0,
    "slideshow": {
     "slide_type": "slide"
    }
   },
   "source": [
    "### 1.1.2 구간추정\n",
    "\n",
    "- 만약 또 다른 36개의 관측치를 얻었다면 그 평균은 무엇일까? 만일 이 과정을 무수히 반복한다면 그 평균은 어떤 분포를 가질까? \n",
    "- Note: 모집단의 평균은 물론 분산에 대한 정보를 가지고 있지 않음\n",
    "\n",
    "#### Student's t-Distribution\n",
    "- 평균이 $\\mu$, 분산이 $\\sigma^2$인 정규분포를 가지는 모집단에서 추출한 $n$개의 표본의 평균을 $\\bar X$, 표본분산을 $S^2$라고 하자. \n",
    "$$ T =  \\frac{(\\bar X - \\mu)}{S/\\sqrt n}$$ \n",
    "$T$의 분포는 자유도가 $n-1$인 t분포이다. \n",
    "\n",
    "> Recall: 표본평균의 표본분포 \n",
    "$$ \\frac{\\bar X-\\mu}{\\sigma/\\sqrt{n}} \\rightarrow N \\left(0,1 \\right) $$"
   ]
  },
  {
   "cell_type": "code",
   "execution_count": 4,
   "metadata": {
    "scrolled": true,
    "slideshow": {
     "slide_type": "slide"
    }
   },
   "outputs": [
    {
     "data": {
      "image/png": "[encoded data removed]",
      "text/plain": [
       "<Figure size 432x288 with 1 Axes>"
      ]
     },
     "metadata": {
      "needs_background": "light"
     },
     "output_type": "display_data"
    }
   ],
   "source": [
    "df_values = [100, 10, 5, 1]\n",
    "colors = ['k','b','r','g']\n",
    "x = np.linspace(-10, 10, 1000)\n",
    "\n",
    "fig, ax = plt.subplots(figsize=(6, 4))\n",
    "\n",
    "for k, color in zip(df_values, colors):\n",
    "    dist = t(k)\n",
    "    label = r'$\\mathrm{t}(n=%i)$' % k\n",
    "    plt.plot(x, dist.pdf(x), c=color, label=label)\n",
    "\n",
    "plt.xlim(-5, 5)\n",
    "plt.ylim(0.0, 0.45)\n",
    "\n",
    "plt.xlabel('$x$')\n",
    "plt.ylabel(r'$p(x|k)$')\n",
    "plt.title(\"Student's $t$ Distribution\")\n",
    "\n",
    "plt.legend()\n",
    "plt.show()"
   ]
  },
  {
   "cell_type": "code",
   "execution_count": 5,
   "metadata": {},
   "outputs": [
    {
     "data": {
      "text/plain": [
       "array([-2.03010793,  2.03010793])"
      ]
     },
     "execution_count": 5,
     "metadata": {},
     "output_type": "execute_result"
    }
   ],
   "source": [
    "dist = t(35)\n",
    "dist.ppf([0.025, 0.975])"
   ]
  },
  {
   "cell_type": "markdown",
   "metadata": {
    "lines_to_next_cell": 0,
    "slideshow": {
     "slide_type": "slide"
    }
   },
   "source": [
    "#### 신뢰구간 (Confidence Interval)\n",
    "- 점추정 값을 중심으로 어느 정도의 구간을 택해 실제 평균값이 그 안에 들어갈 가능성이 95% (혹은 98%, 99%) 되도록 추정 \n",
    "- 구간추정값의 목적은 점추정값이 모수에 얼마나 근사한지에 관한 정보를 제공하는 것이다.            \n",
    "\n",
    "<img src=\"http://knowledgehills.com/content/images/Six-Sigma/482x266xSix-Sigma-t-Confidence-Interval-Mean-Chart.gif.pagespeed.ic.IwnPUY7L6d.png\" width=500>\n",
    "$$ \\bar x \\pm t_{\\alpha/2} \\frac s {\\sqrt{n}}$$"
   ]
  },
  {
   "cell_type": "markdown",
   "metadata": {
    "lines_to_next_cell": 0,
    "slideshow": {
     "slide_type": "slide"
    }
   },
   "source": [
    "- $\\alpha$: <font color=\"blue\"> 유의수준 (significance level)</font>   \n",
    "- $1-\\alpha$: <font color=\"blue\">신뢰수준 (confidence level)</font>    \n",
    "- $t_{\\alpha/2}$: <font color=\"blue\">자유도 (degree of freedom)</font> n – 1을 가지는 t 분포의 오른쪽 꼬리 $\\alpha/2$에 해당하는 면적에 대한  t 값       \n",
    "- $s$: 표본 표준편차"
   ]
  },
  {
   "cell_type": "code",
   "execution_count": 6,
   "metadata": {
    "collapse": false,
    "fig.height": 6,
    "slideshow": {
     "slide_type": "fragment"
    },
    "warning": false
   },
   "outputs": [
    {
     "data": {
      "text/plain": [
       "(109.30798906792316, 173.08089982096575)"
      ]
     },
     "execution_count": 6,
     "metadata": {},
     "output_type": "execute_result"
    }
   ],
   "source": [
    "stat = weightstats.DescrStatsW(session_times.Time)\n",
    "stat.tconfint_mean(alpha=0.05)"
   ]
  },
  {
   "cell_type": "markdown",
   "metadata": {
    "slideshow": {
     "slide_type": "slide"
    }
   },
   "source": [
    "#### 신뢰구간의 해석\n",
    "- 웹페이지 방문자의 평균 session time이 109.3초와 173.1초 사이일 가능성이 95% 이다.\n",
    "    - 다른 표본을 사용하면 (109.3, 173.1)이 아닌 다른 신뢰구간을 얻게 됨\n",
    "    - 실제 평균값은 우리는 모르지만 이미 정해진 숫자값 (다른 표본을 사용해도 변하지 않음)\n",
    "    - 95%의 의미: 다른 표본을 사용하여 CI 계산하는 것을 100,000번 반복하면 그중 95%인 95,000개의 CI는 실제 참 평균값을 포함한다.  \n",
    "\n",
    " <img src=\"http://drive.google.com/uc?export=view&id=1pHADHywxl5SgapK4EmFCnJ9CFZYV2utv\" width=300>\n"
   ]
  },
  {
   "cell_type": "markdown",
   "metadata": {
    "slideshow": {
     "slide_type": "slide"
    }
   },
   "source": [
    "#### 신뢰구간과 신뢰수준 \n",
    "- 실제 평균을 포함하기를 보다 확신 할수 있는 (95%가 아니라 99%) 신뢰구간을 구한다면 신뢰구간은 어떻게 변할까? (어느 정도의 오차를 감수할 것인가?)\n",
    "\n",
    "#### 신뢰구간과 표본 크기 \n",
    "- 36개 방문자 데이터가 아닌 100개 데이터를 사용한다면 신뢰구간은 어떻게 변할까? \n",
    "\n",
    "&nbsp;\n",
    "\n",
    "&nbsp;"
   ]
  },
  {
   "cell_type": "markdown",
   "metadata": {
    "slideshow": {
     "slide_type": "slide"
    }
   },
   "source": [
    "### 1.1.3 가설검정 (Hypothesis Testing) : 단일표본 T-검정 (One-sample T-Test)\n",
    " Q: 한 웹관리자는 평균 session time이 기껏해야 160초라고 주장하였다. 이 주장이 얼마나 믿을만 한가? \n",
    " \n",
    "\n",
    "- 통계적 가설검정 \n",
    "     - 내가 세운 가설이 표본통계량을 기반으로 진위여부를 따지는 통계적 추론방식 "
   ]
  },
  {
   "cell_type": "markdown",
   "metadata": {
    "slideshow": {
     "slide_type": "slide"
    }
   },
   "source": [
    "#### <font color=blue> 단일표본 T-검정 (One-sample T-Test) </font>\n",
    "- 하나의 집단의 특성 중 **평균**에 대한 가설검정 \n",
    "- 관심 대상이 되는 변수가 **양적변수(quantitative variable)** 인 경우\n",
    "- Example\n",
    "    - 200ml 탄산음료가 표시된 것보다 양이 적다는 민원이 제기되었다. 이를 확인하기 위해 공장관리자는 무작위로 추출한 50개의 음료를 대상으로 그 양을 측정하여 확인하고자 한다. \n",
    "    - 한 브랜드의 매출(Revenue)은 평균 40,000달러라고 알려져 있다. 최근 이 브랜드 마케팅팀은 오랫동안 구매를 하지 않은 고객에게 방문을 유도하는 푸쉬메시지를 보냈다고 한다. 푸쉬메시지가 브랜드의 매출(Revenue)에 영향을 미쳤는지 알고자 한다. "
   ]
  },
  {
   "cell_type": "markdown",
   "metadata": {
    "slideshow": {
     "slide_type": "slide"
    }
   },
   "source": [
    "- 가설검정 절차\n",
    "    1. 귀무가설, 대립가설 설정\n",
    "    2. 유의수준 $\\alpha$ 설정 \n",
    "    3. 가정체크\n",
    "    4. 검정통계량과 P-value 계산 \n",
    "    5. 결론 "
   ]
  },
  {
   "cell_type": "markdown",
   "metadata": {
    "slideshow": {
     "slide_type": "slide"
    }
   },
   "source": [
    "#### 1. 가설 설정 \n",
    "\n",
    "##### <font color=\"blue\">귀무가설</font> ($H_0$, null hypothesis)|\n",
    "- 직접 검정의 대상이 되는 가설 \n",
    "- 증명된 바 없는 가설: 이것이 참이라고 가정하고 가설검정을 진행 (비교: 무죄 추정의 원칙)\n",
    "- '아무 일도 일어나지 않는다', 보수적인 입장 \n",
    "- 귀무가설을 기각(reject)하는 것이 일반적인 목표 \n",
    "- 수식으로 표현 시 등호(=)를 포함\n",
    "\n",
    "##### <font color=\"blue\">대립가설</font> ($H_1$ or $H_a$, alternative hypothesis)\n",
    "- 귀무가설이 기각될 때 받아들여지는 가설 \n",
    "- 새로운 주장, 내가 증명하고 싶은 주장\n",
    "- 데이터를 통해 귀무가설이 확실히(?) 일어나지 않을 것이라 판단될 때 귀무가설을 기각하고 대립가설로 결론 "
   ]
  },
  {
   "cell_type": "markdown",
   "metadata": {
    "slideshow": {
     "slide_type": "slide"
    }
   },
   "source": [
    "\n",
    "- 귀무가설    \n",
    "  $$H_0: \\mu=160 \\mbox{ (or } \\mu \\geq 160)$$\n",
    "\n",
    "- 대립가설    \n",
    "  $$H_1: \\mu < 160$$\n",
    "    "
   ]
  },
  {
   "cell_type": "markdown",
   "metadata": {
    "slideshow": {
     "slide_type": "slide"
    }
   },
   "source": [
    "    \n",
    "#### 2. 유의수준의 설정\n",
    "\n",
    "##### <font color=\"blue\"> 유의수준 ($\\alpha$) </font>\n",
    "- 귀무가설이 참인데 귀무가설을 기각할 확률\n",
    "- 귀무가설이 사실이라고 가정할 때 표본 통계량이 얼마나 극단적인 값(일어날 확률이 낮은 값)이어야 귀무가설이 사실이 아니라고 판단할 지에 대한 임계값\n",
    "- 얼마만큼의 제 1종 오류를 가설검정 과정에서 감당할 것인가?\n",
    "- 일반적으로 $\\alpha=0.01, 0.05, 0.1$으로 설정 \n",
    "<img src='http://drive.google.com/uc?export=view&id=1xPPMDBQQcZGiAVn3ZgtV1Ik28UnPTtt9' /><br>    "
   ]
  },
  {
   "cell_type": "markdown",
   "metadata": {
    "slideshow": {
     "slide_type": "slide"
    }
   },
   "source": [
    "<img src='http://drive.google.com/uc?export=view&id=1407cWyyoHVURbb6iu6WfUWuLACtnrLhi' /><br>\n",
    "   \n",
    "\n",
    "- $\\alpha=0.05$\n"
   ]
  },
  {
   "cell_type": "markdown",
   "metadata": {
    "slideshow": {
     "slide_type": "slide"
    }
   },
   "source": [
    "#### 3. 가정 체크 \n",
    "- One-sample T-test의 가정 \n",
    "    - 표본평균이 t-distribution을 따른다는 가정을 만족해야 그에 따른 확률값을 사용하여 가설검정 진행\n",
    "    - 아래 두 조건 중 하나를 만족\\\n",
    "        **1. 자료가 정규분포를 따른다 (분포가 종모양)**\\\n",
    "        **2. 심하게 편중되거나 극단치를 포함한 경우 표본수가 50개 (혹은 30개) 이상이다.**\n",
    "- 두 조건 모두 만족하지 않으면 Wilcoxon signed-rank과 같은 비모수 검정법을 이용 \n",
    "- 정규분포의 확인 방법 \n",
    "     - Histogram, Boxplot, Q-Q plot, Shapiro-Wilks test"
   ]
  },
  {
   "cell_type": "code",
   "execution_count": 8,
   "metadata": {
    "scrolled": false,
    "slideshow": {
     "slide_type": "slide"
    }
   },
   "outputs": [
    {
     "data": {
      "text/plain": [
       "<AxesSubplot:>"
      ]
     },
     "execution_count": 8,
     "metadata": {},
     "output_type": "execute_result"
    },
    {
     "data": {
      "image/png": "[encoded data removed]",
      "text/plain": [
       "<Figure size 432x288 with 1 Axes>"
      ]
     },
     "metadata": {
      "needs_background": "light"
     },
     "output_type": "display_data"
    }
   ],
   "source": [
    "# Histogram\n",
    "session_times.Time.hist()"
   ]
  },
  {
   "cell_type": "code",
   "execution_count": 9,
   "metadata": {
    "slideshow": {
     "slide_type": "slide"
    }
   },
   "outputs": [
    {
     "data": {
      "text/plain": [
       "<AxesSubplot:>"
      ]
     },
     "execution_count": 9,
     "metadata": {},
     "output_type": "execute_result"
    },
    {
     "data": {
      "image/png": "[encoded data removed]",
      "text/plain": [
       "<Figure size 432x288 with 1 Axes>"
      ]
     },
     "metadata": {
      "needs_background": "light"
     },
     "output_type": "display_data"
    }
   ],
   "source": [
    "# Boxplot\n",
    "session_times.boxplot('Time')"
   ]
  },
  {
   "cell_type": "code",
   "execution_count": 10,
   "metadata": {
    "scrolled": false,
    "slideshow": {
     "slide_type": "slide"
    }
   },
   "outputs": [
    {
     "data": {
      "text/plain": [
       "((array([-2.07334886, -1.68217954, -1.44830429, -1.27437681, -1.13225357,\n",
       "         -1.00993636, -0.90112151, -0.80205412, -0.71029762, -0.62416759,\n",
       "         -0.54243995, -0.46418751, -0.38868208, -0.31533241, -0.24364313,\n",
       "         -0.17318609, -0.10357945, -0.03447167,  0.03447167,  0.10357945,\n",
       "          0.17318609,  0.24364313,  0.31533241,  0.38868208,  0.46418751,\n",
       "          0.54243995,  0.62416759,  0.71029762,  0.80205412,  0.90112151,\n",
       "          1.00993636,  1.13225357,  1.27437681,  1.44830429,  1.68217954,\n",
       "          2.07334886]),\n",
       "  array([ 21.,  35.,  39.,  43.,  45.,  48.,  65.,  67.,  68.,  71.,  74.,\n",
       "          75.,  85.,  86.,  87.,  93.,  95., 118., 118., 126., 132., 147.,\n",
       "         147., 149., 173., 187., 197., 206., 211., 223., 246., 253., 321.,\n",
       "         333., 342., 357.])),\n",
       " (92.85118065271232, 141.19444444444449, 0.9527118631500447))"
      ]
     },
     "execution_count": 10,
     "metadata": {},
     "output_type": "execute_result"
    },
    {
     "data": {
      "image/png": "[encoded data removed]",
      "text/plain": [
       "<Figure size 432x288 with 1 Axes>"
      ]
     },
     "metadata": {
      "needs_background": "light"
     },
     "output_type": "display_data"
    }
   ],
   "source": [
    "# Q-Q plot\n",
    "stats.probplot(session_times.Time, dist=\"norm\", plot=pylab, )"
   ]
  },
  {
   "cell_type": "code",
   "execution_count": 11,
   "metadata": {
    "collapse": true,
    "fig.height": 6,
    "lines_to_next_cell": 0,
    "scrolled": true,
    "slideshow": {
     "slide_type": "slide"
    },
    "warning": false
   },
   "outputs": [
    {
     "data": {
      "text/plain": [
       "ShapiroResult(statistic=0.8981886506080627, pvalue=0.003045543795451522)"
      ]
     },
     "execution_count": 11,
     "metadata": {},
     "output_type": "execute_result"
    }
   ],
   "source": [
    "# Shapiro-Wilks Test\n",
    "stats.shapiro(session_times.Time)"
   ]
  },
  {
   "cell_type": "markdown",
   "metadata": {
    "lines_to_next_cell": 0,
    "slideshow": {
     "slide_type": "fragment"
    }
   },
   "source": [
    ">- Shapiro-Wilk normality test\n",
    ">    - 귀무가설: 분포가 정규분포를 따름 \n",
    ">    - p-value>0.05 : 데이터가 정규분포를 따른다고 결정 $\\rightarrow$ t-test 진행\n",
    ">    - p-value<0.05 : 데이터가 정규분포를 따르지 않는다고 결정  $\\rightarrow$ 관측수가 충분히 크면 t-test 진행, 그렇지 않으면 Wilcoxon signed rank test \n"
   ]
  },
  {
   "cell_type": "markdown",
   "metadata": {
    "collapse": true,
    "fig.height": 6,
    "lines_to_next_cell": 0,
    "slideshow": {
     "slide_type": "slide"
    },
    "warning": false
   },
   "source": [
    "- 가정 체크 결과\n",
    "    - boxplot에서 이상치가 보이지는 않지만 오른쪽으로 꼬리가 긴 분포를 가지고 있음 \n",
    "    - Q-Q plot의 점들이 직선으로 보기에는 무리가 있음 (즉, 정규분포가 아님)\n",
    "    - Shapiro-Wilks test 결과 p-value가 0.05보다 작으므로 정규분포라 할 수 없음\n",
    "    - 하지만 표본 수가 36(>30)으로 양호한 수준이므로 가정을 만족"
   ]
  },
  {
   "cell_type": "markdown",
   "metadata": {
    "lines_to_next_cell": 0,
    "slideshow": {
     "slide_type": "slide"
    }
   },
   "source": [
    "#### 4. 검정통계량과 P-value의 계산\n",
    "- 귀무가설이 참이라고 가정할 때 아래의 T-통계량은 자유도 n-1을 가지는 t분포를 따름  \n",
    "    $$ \\mbox{T-statistics} =\\frac{\\bar x - \\mu_0 }{s/\\sqrt n } \\sim t_{n-1}$$\n",
    "\n",
    "##### <font color=blue>P-value</font>\n",
    "- 귀무가설이 참이라 가정할 때 관심 사건의 검정통계량을 계산하고  이 값과 같거나 더 극단적인 경우에 놓일 (대립가설에 우호적인 방향일) 확률의 추정치\n",
    "  <img src='http://drive.google.com/uc?export=view&id=1WqlHpLgEoEhYOKKa8Da-Xl6PdPpzhObC' width=400/><br>\n",
    "  "
   ]
  },
  {
   "cell_type": "markdown",
   "metadata": {
    "lines_to_next_cell": 0,
    "slideshow": {
     "slide_type": "slide"
    }
   },
   "source": [
    "- 검정통계량이 많이(?) 작다는 것은 표본평균이 $\\mu_0$보다 많이 작다는 것이고 이는 귀무가설이 참일 것 같지 않음을 나타냄 $\\Rightarrow$ 작은 p-value \n",
    "- 얼마나 작아야 작다고 판단할 것인가? 기준: 유의수준 $\\alpha$\n",
    "- p-value$<\\alpha$ $\\Rightarrow$ 귀무가설 기각 "
   ]
  },
  {
   "cell_type": "markdown",
   "metadata": {
    "lines_to_next_cell": 0,
    "slideshow": {
     "slide_type": "fragment"
    }
   },
   "source": [
    "##### Note\n",
    "   - '귀무가설을 기각하지 않는다' $\\neq$ '귀무가설이 참이다' \n",
    "   - 표본 크기가 작거나 측정오차 큰 경우 거짓인 귀무가설을 기각하지 못할 수도 있음\n",
    "   - 표본 크기가 지나치게 크면 참인 귀무가설을 기각할 수도 있음"
   ]
  },
  {
   "cell_type": "code",
   "execution_count": 9,
   "metadata": {
    "collapse": true,
    "fig.height": 6,
    "lines_to_next_cell": 0,
    "slideshow": {
     "slide_type": "fragment"
    },
    "warning": false
   },
   "outputs": [],
   "source": [
    "t_result = stat.ttest_mean(value = 160, alternative='smaller')"
   ]
  },
  {
   "cell_type": "code",
   "execution_count": 12,
   "metadata": {
    "collapse": true,
    "fig.height": 6,
    "lines_to_next_cell": 0,
    "slideshow": {
     "slide_type": "fragment"
    },
    "warning": false
   },
   "outputs": [
    {
     "name": "stdout",
     "output_type": "stream",
     "text": [
      "T_statistics: -1.197, p-value: 0.120, degrees of freedom: 35\n"
     ]
    }
   ],
   "source": [
    "print('T_statistics: %.3f, p-value: %.3f, degrees of freedom: %i' %(t_result))"
   ]
  },
  {
   "cell_type": "markdown",
   "metadata": {
    "lines_to_next_cell": 0,
    "slideshow": {
     "slide_type": "slide"
    }
   },
   "source": [
    "#### 5.  결론\n",
    "- P-value =  0.12 > $\\alpha (=0.05)$\n",
    "\n",
    "- 유의수준 0.05에서 귀무가설을 기각하지 못함 \n",
    "\n",
    "- $\\alpha=0.05$일 때, session time의 평균이 160초보다 작다는 충분한 통계적 근거가 없음 \n"
   ]
  },
  {
   "cell_type": "markdown",
   "metadata": {
    "lines_to_next_cell": 0,
    "slideshow": {
     "slide_type": "slide"
    }
   },
   "source": [
    "### 1.1.4 양측검정 vs. 단측검정 \n",
    "    \n",
    "- 단측검정 \n",
    "\n",
    "    - $H_1: \\mu < 160$:  $\\mu$가 160보다 작은지에만 관심\n",
    "    - $H_1: \\mu > 160$:  $\\mu$가 160보다 큰지에만 관심\n",
    "\n",
    "\n",
    "- 양측검정\n",
    "\n",
    "    $H_1: \\mu \\neq 160$: $\\mu$가 160보다 작거나 큰지 확인하고 싶음 "
   ]
  },
  {
   "cell_type": "markdown",
   "metadata": {
    "lines_to_next_cell": 0,
    "slideshow": {
     "slide_type": "slide"
    }
   },
   "source": [
    "<img src='http://drive.google.com/uc?export=view&id=1gAgu-wQz_8eksoYyf0NeXMfB7uNaEtFI' /><br>"
   ]
  },
  {
   "cell_type": "code",
   "execution_count": 12,
   "metadata": {
    "collapse": false,
    "fig.height": 6,
    "lines_to_next_cell": 0,
    "scrolled": true,
    "slideshow": {
     "slide_type": "slide"
    },
    "warning": false
   },
   "outputs": [
    {
     "name": "stdout",
     "output_type": "stream",
     "text": [
      "T_statistics: -1.197, p-value: 0.880, degrees of freedom: 35\n"
     ]
    }
   ],
   "source": [
    "# Right-handed test\n",
    "t_result = stat.ttest_mean(value = 160, alternative='larger')\n",
    "print('T_statistics: %.3f, p-value: %.3f, degrees of freedom: %i' %(t_result))"
   ]
  },
  {
   "cell_type": "code",
   "execution_count": 13,
   "metadata": {
    "collapse": false,
    "fig.height": 6,
    "lines_to_next_cell": 0,
    "slideshow": {
     "slide_type": "fragment"
    },
    "warning": false
   },
   "outputs": [
    {
     "name": "stdout",
     "output_type": "stream",
     "text": [
      "T_statistics: -1.197, p-value: 0.239, degrees of freedom: 35\n"
     ]
    }
   ],
   "source": [
    "# Two-sided test\n",
    "t_result = stat.ttest_mean(value = 160, alternative='two-sided')\n",
    "print('T_statistics: %.3f, p-value: %.3f, degrees of freedom: %i' %(t_result))"
   ]
  },
  {
   "cell_type": "markdown",
   "metadata": {
    "slideshow": {
     "slide_type": "slide"
    }
   },
   "source": [
    "\n",
    "## 1.2 단일표본 비율에 대한 추론 \n",
    "\n",
    "### 1.2.0 Example: Conversion rate\n",
    "- 한 온라인 쇼핑몰 운영자는 현재 진행하는 광고에 노출된 사용자의 몇 %가 광고를 클릭하는지 알고 싶다. 지난 달 관찰한 결과 23739 건의 노출 중 200건의 광고 클릭이 발생하였다.\n",
    "    - **전환율(conversion rate)**: 웹사이트 방문자가 회원으로 가입하거나, 무언가를 구매하거나, 기타 다른 행동을 하는 비율"
   ]
  },
  {
   "cell_type": "markdown",
   "metadata": {
    "slideshow": {
     "slide_type": "slide"
    }
   },
   "source": [
    "### 1.2.1 신뢰구간\n",
    "\n",
    "$$ \\hat p \\pm z_{\\alpha/2}\\sqrt{\\frac{\\hat p (1-\\hat p) }{n }}$$\n",
    "\n",
    "- $\\hat p$: 표본 비율 \n",
    "- $z_{\\alpha/2}$: 표준 정규분포 $N(0,1)$에서 오른쪽 꼬리 면적이 $\\alpha/2$가 되는 z값\n"
   ]
  },
  {
   "cell_type": "markdown",
   "metadata": {
    "slideshow": {
     "slide_type": "fragment"
    }
   },
   "source": [
    "> Recall: 표본 **비율**의 표본분포 \n",
    ">$$\\hat p =\\frac X n \\approx N\\left (p, \\sqrt{\\frac{p(1-p)}{n}}^2 \\right) $$\n",
    ">- $n$ 이 충분히 크면 표본비율의 분포가 $N(p, p(1-p)/n)$에 근사함 \n",
    ">- **일반적으로 $np>5$와 $n(1-p)>5$를 동시에 만족하면 충분히 크다고 여김**"
   ]
  },
  {
   "cell_type": "code",
   "execution_count": 18,
   "metadata": {
    "collapse": false,
    "fig.height": 6,
    "lines_to_next_cell": 0,
    "scrolled": true,
    "slideshow": {
     "slide_type": "slide"
    },
    "warning": false
   },
   "outputs": [
    {
     "data": {
      "text/plain": [
       "(0.007262265986445213, 0.009587643445291592)"
      ]
     },
     "execution_count": 18,
     "metadata": {},
     "output_type": "execute_result"
    }
   ],
   "source": [
    "proportion.proportion_confint(count = 200, nobs = 23739, alpha = 0.05)"
   ]
  },
  {
   "cell_type": "markdown",
   "metadata": {
    "slideshow": {
     "slide_type": "fragment"
    }
   },
   "source": [
    "- 95% 신뢰수준에서 광고 클릭한 사용자의 비율은 0.7%와 1.0% 사이이다. "
   ]
  },
  {
   "cell_type": "markdown",
   "metadata": {
    "slideshow": {
     "slide_type": "slide"
    }
   },
   "source": [
    "### Example: \"선거연령 18세로 낮춰야\" 여론 팽팽 \n",
    "http://www.hankookilbo.com/News/Read/201903250981056594?did=NA&dtype=&dtypecode=&prnewsid="
   ]
  },
  {
   "cell_type": "markdown",
   "metadata": {
    "slideshow": {
     "slide_type": "slide"
    }
   },
   "source": [
    "### 1.2.2 가설검정 \n",
    "#### Example: Conversion Rate\n",
    "- 한 온라인 쇼핑몰 운영자는 현재 진행하는 광고에 노출된 사용자의 1%가 광고를 클릭 한다고 주장하였다. 지난 달 관찰한 결과 23739 건의 노출 중 200건의 광고 클릭이 발생하였다. 광고 운영자의 주장은 사실인가?\n",
    "\n",
    "\n",
    "#### <font color=blue>단일표본 비율에 대한 Z-검정 (One-proportion Z-test) </font>\n",
    "- 모집단에서 특정 사건이 발생하는 **비율**에 대한 가설 검정 \n",
    "- Yes/No 혹은 0/1로 코딩되는 질적변수를 사용 "
   ]
  },
  {
   "cell_type": "markdown",
   "metadata": {
    "slideshow": {
     "slide_type": "slide"
    }
   },
   "source": [
    "#### 1. 가설설정\n",
    "\n",
    "- $H_0$:\n",
    "- $H_1$:\n",
    "\n",
    "&nbsp;\n",
    "\n",
    "#### 2. 유의수준 설정 \n",
    "\n",
    "$\\alpha=0.05$\n",
    "#### 3. 가정체크\n",
    "\n",
    "- $np>5 ?$\n",
    "- $n(1-p)>5 ?$\n",
    "\n",
    "&nbsp;"
   ]
  },
  {
   "cell_type": "markdown",
   "metadata": {
    "lines_to_next_cell": 0,
    "slideshow": {
     "slide_type": "slide"
    }
   },
   "source": [
    "#### 4. 검정통계량과 P-value 계산\n",
    "\n",
    "$$Z=\\frac{\\hat p - p_0 }{\\sqrt{p_0(1-p_0)/n}} \\sim N(0,1) $$\n",
    "    \n",
    "\n",
    "\n",
    "\n",
    "&nbsp;\n",
    "&nbsp;\n"
   ]
  },
  {
   "cell_type": "code",
   "execution_count": 19,
   "metadata": {
    "collapse": false,
    "fig.env": "figure",
    "fig.height": 4,
    "lines_to_next_cell": 0,
    "slideshow": {
     "slide_type": "fragment"
    },
    "strip.white": true,
    "warning": false
   },
   "outputs": [
    {
     "name": "stdout",
     "output_type": "stream",
     "text": [
      "Z-statistics: -2.655, p-value: 0.008\n"
     ]
    }
   ],
   "source": [
    "ztest_result = proportion.proportions_ztest(count = 200, nobs = 23739, value = 0.01, alternative = 'two-sided')\n",
    "print('Z-statistics: %.3f, p-value: %.3f' %(ztest_result))"
   ]
  },
  {
   "cell_type": "markdown",
   "metadata": {
    "slideshow": {
     "slide_type": "slide"
    }
   },
   "source": [
    "#### 5. 결론 \n",
    "- p-value=0.008<0.05\n",
    "- 귀무가설을 기각함\n",
    "- Conversion rate이 1%와 같다고 할 수 없음"
   ]
  },
  {
   "cell_type": "markdown",
   "metadata": {
    "slideshow": {
     "slide_type": "slide"
    }
   },
   "source": [
    "## 1.3 통계적 추론 방법 정리 \n",
    "### 양적변수(평균)에 대한 추론 \n",
    "- y = 양적변수 \n",
    "\n",
    "`` import statsmodels.stats.weightstats as stat``\n",
    "\n",
    "|     문제                          |      &nbsp;&nbsp;&nbsp;&nbsp; &nbsp;&nbsp;&nbsp;&nbsp;&nbsp;&nbsp;&nbsp;&nbsp;&nbsp; 관심모수    &nbsp;&nbsp;&nbsp;&nbsp;&nbsp;&nbsp;&nbsp;&nbsp;&nbsp; &nbsp;&nbsp;&nbsp;&nbsp;    |     &nbsp;&nbsp;&nbsp;&nbsp;  점추정량   &nbsp;&nbsp;&nbsp;&nbsp;     |                    &nbsp;&nbsp;&nbsp;&nbsp;&nbsp;&nbsp;&nbsp;&nbsp;   가정체크  &nbsp;&nbsp;&nbsp;&nbsp;&nbsp;&nbsp;&nbsp;&nbsp;                    | &nbsp;&nbsp;&nbsp;&nbsp;&nbsp;&nbsp;&nbsp;&nbsp;&nbsp;&nbsp;&nbsp;      검정가설  &nbsp;&nbsp;&nbsp;&nbsp;&nbsp;&nbsp;&nbsp;&nbsp;&nbsp;&nbsp;&nbsp;        |                                         검정방법/Python 명령어                                         |\n",
    "|:-------------------------------:|:------------------------------:|:---------------------------:|:--------------------------------------------------:|:-----------------------:|:----------------------------------------------------------------------------------------:|\n",
    "| 한 그룹 평균                   | $\\mu$                  | $\\bar x$              | $n>30 (>50)$ </br> or 정규분포                     | $H_0: \\mu=\\mu_0$        |One-sample T-test <br>  ``stat.ttest_mean``         |\n",
    "| 두 그룹 평균 비교(독립표본)   | $\\mu_1-\\mu_2$          | $\\bar x_1 - \\bar x_2$ | $n_1 + n_2>30(>50)$ <br> 두 집단 모두 정규분포  | $H_0: \\mu_1 - \\mu_2 = 0$| Two-sample t-test <br> ``stat.ttest_ind`` |\n",
    "| 두 그룹 평균 비교 (쌍체표본)  | $\\mu_d$                | $\\bar x_d$            | $n>30 (>50)$ </br> or 정규분포                     | $H_0: \\mu_d=0$          | Paired t-test <br>``stat.ttest_mean`` |\n",
    "| 셋 이상 그룹 평균 비교        | $\\mu_1, \\ldots, \\mu_m$ |  $\\hat\\mu_1, \\ldots, \\hat\\mu_m$                      |  $n_i>30 (>50)$  or 정규분포 <br> 등분산| $H_0: \\mu_1 = \\cdots = \\mu_m$ |ANOVA <br> ``class statsmodels.stats.anova.AnovaRM``\n",
    "| 양적변수 간의 상관관계               | $y=\\beta_0+\\beta_1 x+\\epsilon$ <br>$\\beta_0, \\beta_1$     |   $\\hat \\beta_0, \\hat \\beta_1$                    |                                                                                                                                                      선형성, 독립성, 등분산성, 정규성                    | $H_0: \\beta_i=0$                       | Regression <br>`statsmodels.api.OLS`                                                  |"
   ]
  },
  {
   "cell_type": "markdown",
   "metadata": {
    "slideshow": {
     "slide_type": "slide"
    }
   },
   "source": [
    "### 범주형변수(비율)에 대한 추론 \n",
    "- y = 범주형 변수  \n",
    "\n",
    "|      문제             |&nbsp;&nbsp;&nbsp;&nbsp;&nbsp;&nbsp;&nbsp;&nbsp;&nbsp; &nbsp;&nbsp;&nbsp; &nbsp;&nbsp;&nbsp;&nbsp;&nbsp;&nbsp;    모수&nbsp;&nbsp;&nbsp;&nbsp;&nbsp;&nbsp; &nbsp;&nbsp;&nbsp;&nbsp;&nbsp;&nbsp;&nbsp;&nbsp;&nbsp;&nbsp;&nbsp;&nbsp;                | &nbsp;&nbsp;&nbsp;&nbsp;&nbsp;&nbsp;&nbsp;&nbsp;&nbsp;&nbsp;&nbsp;점추정량&nbsp;&nbsp;&nbsp;&nbsp;&nbsp;&nbsp;&nbsp;&nbsp;&nbsp;&nbsp;&nbsp; &nbsp;&nbsp;&nbsp;&nbsp;&nbsp;&nbsp;&nbsp;&nbsp;&nbsp;&nbsp;&nbsp;                    |&nbsp;&nbsp;&nbsp;&nbsp;&nbsp;&nbsp;&nbsp;&nbsp;&nbsp;&nbsp;&nbsp;&nbsp;&nbsp;&nbsp;&nbsp; 가정체크  &nbsp;&nbsp;&nbsp;&nbsp;&nbsp;&nbsp;&nbsp;&nbsp;&nbsp;&nbsp;&nbsp;&nbsp;&nbsp;&nbsp;&nbsp;              | &nbsp;&nbsp;&nbsp;&nbsp;&nbsp;&nbsp;&nbsp;&nbsp;&nbsp;&nbsp;&nbsp;&nbsp;&nbsp;&nbsp;&nbsp;&nbsp;&nbsp;&nbsp;&nbsp;&nbsp;&nbsp;&nbsp;&nbsp;&nbsp;검정가설        &nbsp;&nbsp;&nbsp;&nbsp;&nbsp;&nbsp;&nbsp;&nbsp;&nbsp;&nbsp;&nbsp;&nbsp;&nbsp;&nbsp;&nbsp;&nbsp;&nbsp;&nbsp;&nbsp;&nbsp;&nbsp;&nbsp;&nbsp;&nbsp;                                                                   | 검정방법                                                      |\n",
    "|:-------------------:|:--------------------:|:-------------------------------:|:------------------------------------------------------------:|:------------------------------------------------------------------------------------:|:---------------------------------------------------------------:|\n",
    "| 한 그룹 비율      | $p$                | $\\hat p$                      | $np>5$<br> $n(1-p)>5$                                          | $H_0: p=p_0$                                                                       | Z-test  <br> ``statsmodels.stats.proportion.proportions_ztest``                |\n",
    "| 두 그룹 비율 비교     | $p_1 - p_2$        | $\\hat p_1 - \\hat p_2$         | $n_i p_i >5$<br>$ n_i (1-p_i)>5$  | $H_0: p_1-p_2=0$                                                                   | Z-test <br> ``statsmodels.stats.proportion.proportions_ztest``  |\n",
    "| 적합성 검정       | $p_1, \\ldots, p_m$ | $\\hat p_1, \\ldots, \\hat p_m$  | 모든 기대빈도>5                                            | $H_0: p_1=p_{01}, \\ldots, p_m=p_{0m}$        | Chi-square test<br>``scipy.stats.chisquare``|\n",
    "| 독립성 검정       |                    |                               | 모든 기대빈도>5                                            | $H_0:$ 두 범주형 변수가 독립이다.  | Chi-square test <br>``scipy.stats.chi2_contingency``         |\n",
    "| 양적변수와의 관계 |$logit(p)=\\beta_0+\\beta_1 x$ <br> $\\beta_0, \\beta_1$ |   $\\hat \\beta_0, \\hat \\beta_1$                            |                                                   종속변수가 이항분포         |                                                                         $H_0: \\beta_i=0$           | Logistic regression <br>``sklearn.linear_models.LogisticRegression ``| "
   ]
  },
  {
   "cell_type": "markdown",
   "metadata": {
    "slideshow": {
     "slide_type": "slide"
    }
   },
   "source": [
    "## 1.4 최대우도추정법 (Maximum Likelihood Estimation; MLE)\n",
    "**Q: 점추정치는 어떻게 찾는가?**\n",
    "- 왜 모집단의 conversion rate을 추정하기 위해 $\\hat p = x/n$을 사용하는가?\n",
    "- 왜 모집단의 session time을 추정하기 위해 $\\bar x$를 사용하는가? \n",
    "- 위의 예는 너무 자명해서 당연한 것으로 생각되지만 조금 복잡한 모형에서는 우리가 원하는 모수 추정치를 계산하는게 언제나 간단하지는 않다. \n",
    "- **최대우도추정법**: 점추정치를 찾는데 사용되는 한 가지의 원리 "
   ]
  },
  {
   "cell_type": "markdown",
   "metadata": {
    "slideshow": {
     "slide_type": "slide"
    }
   },
   "source": [
    "### Example: 이항분포\n",
    "$X$: 한 온라인쇼핑몰 사용자가 광고를 클릭하는지 여부 (0 or 1)\n",
    "$$ X \\sim Bin(1,p)$$\n",
    "$$ f(x) = p^x (1-p)^{1-x},~~ x=  0,1 ~~ 0\\leq p \\leq 1$$\n",
    "\n",
    "$n$ 명의 독립적인 사용자의 X값을 $X_1, X_2, \\ldots, X_n$이라고 하고 데이터를 관할한 결과 데이터 관측치 $x_1, x_2, \\ldots, x_n$을 얻었다고 하자. 이 때, $X_1, \\ldots, X_n$이 $x_1, \\ldots, x_n$의 값을 취할 확률은 아래와 같다. \n",
    "$$p(x_1, x_2, \\ldots, x_n) = \\prod_{i=1}^n p^{x_i} (1-p)^{1-x_i} = p^{\\sum x_i} (1-p)^{n-\\sum x_i} $$\n",
    "- 위의 식은 관측치에서 평가된 결합확률질량함수이다.\n",
    "- Q: $p$의 정확한 추정치를 어떻게 찾을 수 있을까? \n",
    "    - 위의 식을 $p$의 함수로 보고 그것을 최대화 하는 $p$값을 구하는 것 \n",
    "    - 관측된 데이터 $x_1, x_2, \\ldots, x_n$를 가장 잘 산출해냈음직한 $p$값을 구하는 것 \n",
    "    "
   ]
  },
  {
   "cell_type": "markdown",
   "metadata": {
    "slideshow": {
     "slide_type": "slide"
    }
   },
   "source": [
    "#### 우도함수 (Likelihood function) \n",
    "$$L(p) = p^{\\sum x_i} (1-p)^{n-\\sum x_i}, ~~ 0 \\leq p \\leq 1 $$\n",
    "- 결합확률질량함수를 $p$의 함수로 보면 그것이 우도함수이다. \n",
    "- 이 함수를 최대화 시키는 $p$를 찾는 것이 목적 \n",
    "\n",
    "#### 최우추정량 (MLE; maximum likelihood estimator)\n",
    "- $L(p)$를 최대화 하는 $p$를 직접 계산하기 보다는 많은 경우 $\\log L(p)$, 즉, log-likelihood를 최대화 하는 $p$를 찾는 것이 쉽다. "
   ]
  }
 ],
 "metadata": {
  "jupytext": {
   "cell_metadata_filter": "out.width,strip.white,fig.env,fig.height,collapse,name,warning,echo,tags,-all",
   "main_language": "R",
   "notebook_metadata_filter": "-all"
  },
  "kernelspec": {
   "display_name": "Python 3",
   "language": "python",
   "name": "python3"
  },
  "language_info": {
   "codemirror_mode": {
    "name": "ipython",
    "version": 3
   },
   "file_extension": ".py",
   "mimetype": "text/x-python",
   "name": "python",
   "nbconvert_exporter": "python",
   "pygments_lexer": "ipython3",
   "version": "3.8.5"
  }
 },
 "nbformat": 4,
 "nbformat_minor": 4
}
