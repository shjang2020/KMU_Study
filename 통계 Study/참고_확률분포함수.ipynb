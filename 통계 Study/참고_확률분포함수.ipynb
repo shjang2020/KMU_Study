{
 "cells": [
  {
   "cell_type": "code",
   "execution_count": 2,
   "metadata": {},
   "outputs": [],
   "source": [
    "import matplotlib.pyplot as plt\n",
    "import numpy as np \n",
    "%matplotlib inline"
   ]
  },
  {
   "cell_type": "markdown",
   "metadata": {
    "slideshow": {
     "slide_type": "slide"
    }
   },
   "source": [
    "# <font color=navy> 참고자료: 확률분포함수\n",
    "\n",
    "## 1. 이산확률분포 (Discrete probability distribution)"
   ]
  },
  {
   "cell_type": "markdown",
   "metadata": {},
   "source": [
    "### <font color=blue> 이산균등분포 (Discrete Uniform disribution):  $\\mbox{DiscreteUnif}(a,b)$</font>\n",
    "<img src=\"https://upload.wikimedia.org/wikipedia/commons/thumb/1/1f/Uniform_discrete_pmf_svg.svg/650px-Uniform_discrete_pmf_svg.svg.png\" width=400>\n",
    "\n",
    "\n",
    "#### 기대값과 분산 \n",
    "$$E(X) = \\frac{a+b}2$$\n",
    "$$Var(X) = \\frac{(b-a+1)^2-1}{12}$$"
   ]
  },
  {
   "cell_type": "code",
   "execution_count": 2,
   "metadata": {},
   "outputs": [
    {
     "data": {
      "text/plain": [
       "array([[4, 0, 3, 3],\n",
       "       [3, 1, 3, 2],\n",
       "       [4, 0, 0, 4]])"
      ]
     },
     "execution_count": 2,
     "metadata": {},
     "output_type": "execute_result"
    }
   ],
   "source": [
    "np.random.seed(0)\n",
    "np.random.randint(5, size=[3,4])"
   ]
  },
  {
   "cell_type": "markdown",
   "metadata": {
    "slideshow": {
     "slide_type": "slide"
    }
   },
   "source": [
    "### <font color=blue> 이항분포 (Binomial disribution):  $Binom(n,p)$</font>\n",
    "#### Example \n",
    "- X= 동전을 n번 던졌을 때 앞면의 개수 \n",
    "- X= 4지선다형 20문항의 시험에 무작위로 답을 써 넣을 때 정답의 개수 \n",
    "\n",
    "#### 확률질량함수 \n",
    "$$ P(X=x) = {n \\choose x} p^x (1-p)^{n-x},~~~ x=0,1,\\ldots, n $$\n",
    "\n",
    "#### 기대값과 분산 \n",
    "$$E(X) = np$$\n",
    "$$Var(X) = np(1-p)$$"
   ]
  },
  {
   "cell_type": "code",
   "execution_count": 3,
   "metadata": {
    "slideshow": {
     "slide_type": "slide"
    }
   },
   "outputs": [
    {
     "data": {
      "image/png": "[encoded data removed]",
      "text/plain": [
       "<Figure size 432x288 with 1 Axes>"
      ]
     },
     "metadata": {
      "needs_background": "light"
     },
     "output_type": "display_data"
    }
   ],
   "source": [
    "from scipy.stats import binom\n",
    "\n",
    "n=20\n",
    "p=0.3\n",
    "\n",
    "# probability mass function\n",
    "rv = binom(n, p)\n",
    "fig, ax = plt.subplots(1, 1)\n",
    "x = np.arange(0,n+1)\n",
    "ax.plot(x, binom.pmf(x, n, p), 'bo', ms=8)\n",
    "ax.vlines(x, 0, binom.pmf(x, n, p), colors='b', lw=5, alpha=0.5)\n",
    "plt.show()"
   ]
  },
  {
   "cell_type": "code",
   "execution_count": 4,
   "metadata": {
    "slideshow": {
     "slide_type": "slide"
    }
   },
   "outputs": [
    {
     "data": {
      "image/png": "[encoded data removed]",
      "text/plain": [
       "<Figure size 432x288 with 1 Axes>"
      ]
     },
     "metadata": {
      "needs_background": "light"
     },
     "output_type": "display_data"
    }
   ],
   "source": [
    "# random samples and histogram\n",
    "np.random.seed(0)\n",
    "r = binom.rvs(n, p, size=1000)\n",
    "plt.hist(r)\n",
    "plt.show()"
   ]
  },
  {
   "cell_type": "code",
   "execution_count": 5,
   "metadata": {
    "slideshow": {
     "slide_type": "slide"
    }
   },
   "outputs": [
    {
     "name": "stdout",
     "output_type": "stream",
     "text": [
      "mean: 6.0, var: 4.2\n"
     ]
    }
   ],
   "source": [
    "# mean and variance\n",
    "mean, var = binom.stats(n, p, moments='mv')\n",
    "print('mean: %.1f, var: %.1f' %(mean,var))"
   ]
  },
  {
   "cell_type": "markdown",
   "metadata": {
    "slideshow": {
     "slide_type": "slide"
    }
   },
   "source": [
    "------\n",
    "### <font color=blue> 베르누이 분포 (Bernoulli distribution): $Bernoulli(p)$\n",
    "\n",
    "이항분포에서 $n=1$인 경우의 확률분포 \n",
    "    \n",
    "#### Example\n",
    "- X= 동전을 한번 던졌을 때 앞면이 나오면 1, 아니면 0 \n",
    "- X= 한 정부 정책에 대한 찬반의견을 물었을 때 찬성하면 1, 반대하면 0\n",
    "    "
   ]
  },
  {
   "cell_type": "markdown",
   "metadata": {
    "slideshow": {
     "slide_type": "slide"
    }
   },
   "source": [
    "------\n",
    "### <font color=blue> 포아송 분포 (Poisson distribution): $Poi(\\lambda)$\n",
    "\n",
    "#### Example\n",
    "- 버스 정류장에 한 시간에 도착하는 버스의 대수 \n",
    "- 어느 상점에 한 시간에 도착하는 고객의 수 \n",
    "\n",
    "#### 확률질량함수 \n",
    "$$ p(x) = \\frac{\\lambda^x}{x!}e^{-\\lambda}, ~~ x=0,1,2,...$$\n",
    "<img src=\"https://upload.wikimedia.org/wikipedia/commons/thumb/1/16/Poisson_pmf.svg/650px-Poisson_pmf.svg.png\" width=400>\n",
    "\n",
    "#### 기대값과 분산 \n",
    "$$ E(X) = \\lambda, Var(X) = \\lambda $$"
   ]
  },
  {
   "cell_type": "code",
   "execution_count": 3,
   "metadata": {},
   "outputs": [
    {
     "data": {
      "image/png": "[encoded data removed]",
      "text/plain": [
       "<Figure size 432x288 with 1 Axes>"
      ]
     },
     "metadata": {
      "needs_background": "light"
     },
     "output_type": "display_data"
    }
   ],
   "source": [
    "from scipy.stats import poisson\n",
    "\n",
    "mu=4\n",
    "x = np.arange(0,20)\n",
    "plt.plot(x, poisson.pmf(x, mu), 'bo', ms=8, label='poisson pmf')\n",
    "plt.vlines(x, 0, poisson.pmf(x, mu), colors='b', lw=5, alpha=0.5)\n",
    "plt.show()"
   ]
  },
  {
   "cell_type": "code",
   "execution_count": 7,
   "metadata": {},
   "outputs": [
    {
     "data": {
      "image/png": "[encoded data removed]",
      "text/plain": [
       "<Figure size 432x288 with 1 Axes>"
      ]
     },
     "metadata": {
      "needs_background": "light"
     },
     "output_type": "display_data"
    }
   ],
   "source": [
    "np.random.seed(0)\n",
    "r = poisson.rvs(mu, size=1000)\n",
    "plt.hist(r)\n",
    "plt.show()"
   ]
  },
  {
   "cell_type": "markdown",
   "metadata": {},
   "source": [
    "-----\n",
    "### <font color=blue> 다항분포 (Multinomial distribution): $Multin(x;p_1, \\ldots, p_k)$\n",
    "    \n",
    "#### 확률질량함수\n",
    "$$ p(x) =  {n \\choose x_1 ~x_2 ~ \\cdots ~ x_k} p_1^{x_1} \\cdots p_k^{x_k},~~~ x_j = 0, 1, \\ldots, n; ~\\sum_j  x_j = n $$"
   ]
  },
  {
   "cell_type": "markdown",
   "metadata": {},
   "source": [
    "#### 기대값과 분산\n",
    "\n",
    "$$ E(X_j) = np_j $$\n",
    "$$ Var(X_j) = np_j (1-p_j)$$\n",
    "$$ Cov(X_i, X_j) = -np_ip_j$$"
   ]
  },
  {
   "cell_type": "markdown",
   "metadata": {},
   "source": [
    "------\n",
    "## 2. 연속확률분포 (Continuous probability distribution) \n",
    "\n",
    "### <font color=blue> 균등분포 (Uniform distribution): $Unif(a,b)$\n",
    "    \n",
    "- $a$와 $b$사이에 균등하게 분포 \n",
    "\n",
    "#### 확률밀도함수\n",
    "$$ f(x) = \\frac {1}{b-a}, ~~a<x<b$$\n",
    "\n",
    "<img src=\"https://upload.wikimedia.org/wikipedia/commons/thumb/9/96/Uniform_Distribution_PDF_SVG.svg/500px-Uniform_Distribution_PDF_SVG.svg.png\" width=400>\n",
    "\n",
    "#### 기대값과 분산 \n",
    "$$E(X) = \\frac{a+b}{2}$$\n",
    "$$Var(X) = \\frac{(b-a)^2}{12} $$"
   ]
  },
  {
   "cell_type": "code",
   "execution_count": 6,
   "metadata": {},
   "outputs": [
    {
     "data": {
      "image/png": "[encoded data removed]",
      "text/plain": [
       "<Figure size 432x288 with 1 Axes>"
      ]
     },
     "metadata": {
      "needs_background": "light"
     },
     "output_type": "display_data"
    }
   ],
   "source": [
    "from scipy.stats import uniform\n",
    "\n",
    "x = np.linspace(-1, 3, 100)\n",
    "plt.plot(x, uniform.pdf(x, loc=0, scale=2))\n",
    "plt.show()"
   ]
  },
  {
   "cell_type": "code",
   "execution_count": 9,
   "metadata": {},
   "outputs": [
    {
     "data": {
      "image/png": "[encoded data removed]",
      "text/plain": [
       "<Figure size 432x288 with 1 Axes>"
      ]
     },
     "metadata": {
      "needs_background": "light"
     },
     "output_type": "display_data"
    }
   ],
   "source": [
    "np.random.seed(0)\n",
    "r = uniform.rvs(size=1000, loc=0, scale=2)\n",
    "plt.hist(r, density=True, histtype='stepfilled')\n",
    "plt.show()"
   ]
  },
  {
   "cell_type": "markdown",
   "metadata": {
    "slideshow": {
     "slide_type": "slide"
    }
   },
   "source": [
    "------\n",
    "\n",
    "### <font color=blue> Beta 분포: $Beta(\\alpha, \\beta)$\n",
    "\n",
    "#### Example \n",
    "- 어떤 사건에 대한 성공률 \n",
    "- 한 타자의 타율\n",
    "\n",
    "#### 확률밀도함수 \n",
    "$$ f(x) = \\frac{\\Gamma(\\alpha+\\beta)}{\\Gamma(\\alpha)\\Gamma(\\beta)} x^{\\alpha-1} (1-x)^{\\beta-1}, ~~ 0<x<1, \\alpha>0, \\beta>0$$\n",
    "\n",
    "<img src=\"https://upload.wikimedia.org/wikipedia/commons/thumb/f/f3/Beta_distribution_pdf.svg/650px-Beta_distribution_pdf.svg.png\" width=400>\n",
    "\n",
    "#### 기대값과 분산 \n",
    "$$ E(X) = \\frac{\\alpha}{\\alpha+\\beta} $$\n",
    "$$ Var(X)= \\frac{\\alpha \\beta}{ (\\alpha+\\beta)^2 (\\alpha+\\beta+1)} $$"
   ]
  },
  {
   "cell_type": "code",
   "execution_count": 10,
   "metadata": {},
   "outputs": [
    {
     "data": {
      "image/png": "[encoded data removed]",
      "text/plain": [
       "<Figure size 432x288 with 1 Axes>"
      ]
     },
     "metadata": {
      "needs_background": "light"
     },
     "output_type": "display_data"
    }
   ],
   "source": [
    "from scipy.stats import beta\n",
    "a=2\n",
    "b=2\n",
    "\n",
    "x = np.linspace(0, 1, 100)\n",
    "plt.plot(x, beta.pdf(x, a, b))\n",
    "plt.show()"
   ]
  },
  {
   "cell_type": "code",
   "execution_count": 11,
   "metadata": {
    "scrolled": false
   },
   "outputs": [
    {
     "data": {
      "image/png": "[encoded data removed]",
      "text/plain": [
       "<Figure size 432x288 with 1 Axes>"
      ]
     },
     "metadata": {
      "needs_background": "light"
     },
     "output_type": "display_data"
    }
   ],
   "source": [
    "r = beta.rvs(a, b, size=1000)\n",
    "plt.hist(r, density=True, histtype='stepfilled')\n",
    "plt.show()"
   ]
  },
  {
   "cell_type": "markdown",
   "metadata": {},
   "source": [
    "------\n",
    "### <font color=blue> 지수분포 (Exponential distribution): $Exp(\\alpha)$\n",
    "\n",
    "#### Example\n",
    "- 정류장에 버스가 올 때까지 걸리는 시간 \n",
    "- 한 가게에 손님이 올 때까지 걸리는 시간 \n",
    "\n",
    "#### 확률밀도함수 \n",
    "$$f(x) = \\lambda e^{-\\lambda x}, ~~~ x\\geq 0 $$ \n",
    "<img src=\"https://upload.wikimedia.org/wikipedia/commons/thumb/0/02/Exponential_probability_density.svg/650px-Exponential_probability_density.svg.png\" width=400>"
   ]
  },
  {
   "cell_type": "markdown",
   "metadata": {},
   "source": [
    "#### 기대값과 분산 \n",
    "$$E(X) = \\frac  1 \\lambda $$\n",
    "$$Var(X) = \\frac 1 {\\lambda^2} $$"
   ]
  },
  {
   "cell_type": "code",
   "execution_count": 12,
   "metadata": {},
   "outputs": [
    {
     "data": {
      "image/png": "[encoded data removed]",
      "text/plain": [
       "<Figure size 432x288 with 1 Axes>"
      ]
     },
     "metadata": {
      "needs_background": "light"
     },
     "output_type": "display_data"
    }
   ],
   "source": [
    "from scipy.stats import expon \n",
    "x = np.linspace(0, 7, 100)\n",
    "plt.plot(x, expon.pdf(x),\n",
    "       'r-', lw=5, alpha=0.6, label='expon pdf')\n",
    "plt.show()"
   ]
  },
  {
   "cell_type": "code",
   "execution_count": 13,
   "metadata": {},
   "outputs": [
    {
     "data": {
      "image/png": "[encoded data removed]",
      "text/plain": [
       "<Figure size 432x288 with 1 Axes>"
      ]
     },
     "metadata": {
      "needs_background": "light"
     },
     "output_type": "display_data"
    }
   ],
   "source": [
    "r = expon.rvs(size=1000)\n",
    "plt.hist(r)\n",
    "plt.show()"
   ]
  },
  {
   "cell_type": "markdown",
   "metadata": {},
   "source": [
    "### <font color=blue> 감마분포 (Gamma distribution): $Gamma(\\alpha, \\beta)$\n",
    "    \n",
    "$$ \\text{Exp}(\\beta) \\sim \\text{Gamma}(1, \\beta) $$\n",
    "\n",
    "    "
   ]
  },
  {
   "cell_type": "markdown",
   "metadata": {},
   "source": [
    "#### 확률밀도함수\n",
    "$$ f(x \\mid \\alpha, \\beta) = \\frac{\\beta^{\\alpha}}{\\Gamma(\\alpha)}x^{\\alpha-1}e^{-\\beta x},~~x>0, \\alpha>0, \\beta>0  $$\n",
    "\n",
    "$$ f(x \\mid k, \\theta) = \\frac{1}{\\Gamma(\\alpha) \\theta^k}x^{k-1}e^{-x/\\theta},~~x>0, k>0, \\theta>0  $$\n"
   ]
  },
  {
   "cell_type": "markdown",
   "metadata": {},
   "source": [
    "<img src=\"https://upload.wikimedia.org/wikipedia/commons/thumb/e/e6/Gamma_distribution_pdf.svg/650px-Gamma_distribution_pdf.svg.png\" width=400>"
   ]
  },
  {
   "cell_type": "markdown",
   "metadata": {},
   "source": [
    "#### 기대값과 분산 \n",
    "$$E(X) = \\frac \\alpha \\beta = k\\theta^2$$\n",
    "$$Var(X) = \\frac{\\alpha}{\\beta^2} = k\\theta^2$$"
   ]
  },
  {
   "cell_type": "code",
   "execution_count": 7,
   "metadata": {},
   "outputs": [
    {
     "data": {
      "text/plain": [
       "[<matplotlib.lines.Line2D at 0x12ae91a90>]"
      ]
     },
     "execution_count": 7,
     "metadata": {},
     "output_type": "execute_result"
    },
    {
     "data": {
      "image/png": "[encoded data removed]",
      "text/plain": [
       "<Figure size 432x288 with 1 Axes>"
      ]
     },
     "metadata": {
      "needs_background": "light"
     },
     "output_type": "display_data"
    }
   ],
   "source": [
    "from scipy.stats import gamma\n",
    "k = 2\n",
    "theta = 1/2\n",
    "x = np.linspace(gamma.ppf(0.01, a=k, scale=theta),\n",
    "                gamma.ppf(0.99, a=k, scale=theta), 100)\n",
    "plt.plot(x, gamma.pdf(x, a=k, scale=theta),\n",
    "       'r-', lw=5, alpha=0.6, label='gamma pdf')"
   ]
  },
  {
   "cell_type": "code",
   "execution_count": 8,
   "metadata": {
    "scrolled": true
   },
   "outputs": [
    {
     "data": {
      "image/png": "[encoded data removed]",
      "text/plain": [
       "<Figure size 432x288 with 1 Axes>"
      ]
     },
     "metadata": {
      "needs_background": "light"
     },
     "output_type": "display_data"
    }
   ],
   "source": [
    "r = gamma.rvs(size=1000, a=k, scale=theta)\n",
    "plt.hist(r)\n",
    "plt.show()"
   ]
  },
  {
   "cell_type": "markdown",
   "metadata": {},
   "source": [
    "------\n",
    "### <font color=blue> 정규분포 (Normal distribution): $N(\\mu, \\sigma^2)$ or $N(\\mu, 1/\\tau)$"
   ]
  },
  {
   "cell_type": "markdown",
   "metadata": {},
   "source": [
    "#### Example\n",
    "- 중간고사 성적의 분포 \n",
    "- 콜라 캔에 담겨있는 음료의 중량\n",
    "\n",
    "#### 확률밀도함수 \n",
    "$$ f(x) = \\frac{1} {\\sqrt{2\\pi}\\sigma} \\exp\\left(-\\frac{(x-\\mu)^2}{2\\sigma^2}\\right) , ~~ -\\infty<x<\\infty$$\n",
    "<img src=\"https://upload.wikimedia.org/wikipedia/commons/thumb/7/74/Normal_Distribution_PDF.svg/440px-Normal_Distribution_PDF.svg.png\" width=400>"
   ]
  },
  {
   "cell_type": "markdown",
   "metadata": {},
   "source": [
    "#### 기대값과 분산 \n",
    "$$ E(X) = \\mu, Var(X)=\\sigma^2$$"
   ]
  },
  {
   "cell_type": "code",
   "execution_count": 2,
   "metadata": {},
   "outputs": [
    {
     "data": {
      "text/plain": [
       "0.9750021048517795"
      ]
     },
     "execution_count": 2,
     "metadata": {},
     "output_type": "execute_result"
    }
   ],
   "source": [
    "from scipy.stats import norm\n",
    "\n",
    "norm.cdf(1.96, loc=0, scale=1) #loc = 평균, scale = 표준편차"
   ]
  },
  {
   "cell_type": "code",
   "execution_count": 3,
   "metadata": {},
   "outputs": [
    {
     "data": {
      "text/plain": [
       "1.959963984540054"
      ]
     },
     "execution_count": 3,
     "metadata": {},
     "output_type": "execute_result"
    }
   ],
   "source": [
    "norm.ppf(0.975)"
   ]
  },
  {
   "cell_type": "code",
   "execution_count": 14,
   "metadata": {
    "scrolled": true
   },
   "outputs": [
    {
     "data": {
      "image/png": "[encoded data removed]",
      "text/plain": [
       "<Figure size 432x288 with 1 Axes>"
      ]
     },
     "metadata": {
      "needs_background": "light"
     },
     "output_type": "display_data"
    }
   ],
   "source": [
    "fig, ax = plt.subplots(1, 1)\n",
    "x = np.linspace(norm.ppf(0.01),\n",
    "                norm.ppf(0.99), 100)\n",
    "ax.plot(x, norm.pdf(x),\n",
    "       'r-', lw=5, alpha=0.6, label='norm pdf')\n",
    "r = norm.rvs(size=1000)\n",
    "ax.hist(r, density=True, histtype='stepfilled', alpha=0.2)\n",
    "ax.legend(loc='best', frameon=False)\n",
    "plt.show()"
   ]
  },
  {
   "cell_type": "markdown",
   "metadata": {},
   "source": [
    "pm코드"
   ]
  },
  {
   "cell_type": "markdown",
   "metadata": {},
   "source": [
    "- Pymc3 continuous distributions\n",
    "https://docs.pymc.io/api/distributions/continuous.html\n",
    "- Pymc3 discrete distributions\n",
    "https://docs.pymc.io/api/distributions/discrete.html?highlight=discrete#module-pymc3.distributions.discrete"
   ]
  },
  {
   "cell_type": "markdown",
   "metadata": {},
   "source": [
    "------\n",
    "### <font color=blue> Wishart 분포: $X\\sim W_p(V,n)$\n",
    "Positive definite matrix에 대한 분포로 multivariat normal distribution $N(\\mathbb \\mu, \\Sigma)$의 공분산 행렬 $\\Sigma$에 대한 사전확률분포로 자주 사용된다.\n",
    " \n",
    "- X: $p \\times p$ 양정치행렬(positive definite matrix)\n",
    "    \n",
    "<img src=\"https://wikimedia.org/api/rest_v1/media/math/render/svg/25e25a7445953db39cb9c07381ec19b759ef0d74\">\n",
    "where $n>p-1, V>0$ and \n",
    "<img src=\"https://wikimedia.org/api/rest_v1/media/math/render/svg/c87a4141e6bf175182149619821a13111d354c57\" width=300>\n",
    "    \n",
    "#### 기대값과 분산 \n",
    "$$ E(X) = nV$$\n",
    "$$ Var(X_{ij}) = n(v_{ij}^2 + v_{ii}v_{jj}) $$"
   ]
  },
  {
   "cell_type": "code",
   "execution_count": 13,
   "metadata": {},
   "outputs": [
    {
     "data": {
      "image/png": "[encoded data removed]",
      "text/plain": [
       "<Figure size 432x288 with 10 Axes>"
      ]
     },
     "metadata": {
      "needs_background": "light"
     },
     "output_type": "display_data"
    }
   ],
   "source": [
    "from scipy.stats import wishart\n",
    "\n",
    "n = 4\n",
    "for i in range(10):\n",
    "    ax = plt.subplot(2, 5, i+1)\n",
    "    if i >= 5:\n",
    "        n = 15\n",
    "    plt.imshow(wishart.rvs(n+1, np.eye(n)), interpolation=\"none\", \n",
    "                cmap = \"hot\")\n",
    "    ax.axis(\"off\")\n",
    "    \n",
    "plt.suptitle(\"Random matrices from a Wishart Distribution\");\n"
   ]
  },
  {
   "cell_type": "markdown",
   "metadata": {},
   "source": [
    "----\n",
    "### <font color=blue> Dirichlet 분포: $X\\sim Dirichlet(\\alpha_1, \\ldots, \\alpha_k)$\n",
    "\n",
    " "
   ]
  },
  {
   "cell_type": "markdown",
   "metadata": {},
   "source": [
    "#### 확률밀도함수\n",
    "$$ f(x) = \\frac{\\Gamma(\\alpha_1 + \\cdots+ \\alpha_k)}{\\Gamma(\\alpha_1) \\cdots \\Gamma(\\alpha_k) } x_1^{\\alpha_1-1} \\cdots x_k^{\\alpha_k-1},~~ x_1, \\ldots, x_k \\geq 0; \\sum_j x_j =1$$"
   ]
  },
  {
   "cell_type": "markdown",
   "metadata": {},
   "source": [
    "#### 기대값과 분산 \n",
    "$$E(X_j) = \\frac{\\alpha_j}{\\alpha_0} $$\n",
    "$$ Var(X_j) = \\frac{\\alpha_j (\\alpha_0-\\alpha_j)}{\\alpha_0^2 (\\alpha_0 +1)}$$\n",
    "$$ Cov(X_i, X_j) = - \\frac{\\alpha_i \\alpha_j }{\\alpha_0^2 (\\alpha_0+1)}$$"
   ]
  },
  {
   "cell_type": "markdown",
   "metadata": {},
   "source": [
    "----\n",
    "### <font color=blue> Noncentral T-분포: $X\\sim t(\\alpha_1, \\ldots, \\alpha_k)$"
   ]
  },
  {
   "cell_type": "markdown",
   "metadata": {},
   "source": [
    "#### 확률밀도함수 \n",
    "$$ f(x|\\mu,\\lambda,\\nu) =\n",
    "    \\frac{\\Gamma(\\frac{\\nu + 1}{2})}{\\Gamma(\\frac{\\nu}{2})}\n",
    "    \\left(\\frac{\\lambda}{\\pi\\nu}\\right)^{\\frac{1}{2}}\n",
    "    \\left[1+\\frac{\\lambda(x-\\mu)^2}{\\nu}\\right]^{-\\frac{\\nu+1}{2}}$$     \n",
    "    \n",
    "- $\\mu$: location \n",
    "- $\\sigma$: standard deviation \n",
    "- $\\lambda$: precision  \n",
    "- $\\nu$: degrees of freedom"
   ]
  },
  {
   "cell_type": "markdown",
   "metadata": {},
   "source": [
    "<img src=\"https://docs.pymc.io/_images/continuous-8.png\">"
   ]
  },
  {
   "cell_type": "markdown",
   "metadata": {},
   "source": [
    "----\n",
    "### <font color=blue> Inverse-gamma distribution: Inv-Gamma$(\\alpha,\\beta)$\n",
    "    \n",
    "#### 확률밀도함수 \n",
    "\n",
    "<img src=\"https://wikimedia.org/api/rest_v1/media/math/render/svg/673aeced30124fc4c292bb7ae9ee9454add858e7\">\n",
    "    \n",
    "<img src=\"https://upload.wikimedia.org/wikipedia/commons/thumb/c/c8/Inv_gamma_pdf.svg/650px-Inv_gamma_pdf.svg.png\">\n",
    "\n",
    "#### 기대값과 분산 \n",
    "$$E(X) = \\frac{\\beta}{\\alpha-1}, ~~\\alpha>1$$\n",
    "$$Var(X) = \\frac{\\beta^2}{(\\alpha-1)^2 (\\alpha-2)},~~ \\alpha>2 $$"
   ]
  },
  {
   "cell_type": "markdown",
   "metadata": {},
   "source": [
    "----\n",
    "### <font color=blue> Scaled Inverse-$\\chi^2$ distribution: Inv-$\\chi^2(\\nu, \\tau^2)$\n",
    "    \n",
    "    \n",
    "Inv-$Gamma \\left(\\frac \\nu 2, \\frac{\\nu \\tau^2}{2}\\right)$와 동일\n",
    "#### 확률밀도함수 \n",
    "\n",
    "<img src=\"https://wikimedia.org/api/rest_v1/media/math/render/svg/e1bf27f69f750f896de47bdcd485b9ecba90b361\">\n",
    "    \n",
    "<img src=\"https://upload.wikimedia.org/wikipedia/commons/thumb/0/06/Scaled_inverse_chi_squared.svg/500px-Scaled_inverse_chi_squared.svg.png\">\n",
    "\n",
    "#### 기대값과 분산 \n",
    "$$E(X) = \\frac{\\beta}{\\alpha-1}, ~~\\alpha>1$$\n",
    "$$Var(X) = \\frac{\\beta^2}{(\\alpha-1)^2 (\\alpha-2)},~~ \\alpha>2 $$"
   ]
  },
  {
   "cell_type": "code",
   "execution_count": null,
   "metadata": {},
   "outputs": [],
   "source": []
  }
 ],
 "metadata": {
  "kernelspec": {
   "display_name": "Python 3",
   "language": "python",
   "name": "python3"
  },
  "language_info": {
   "codemirror_mode": {
    "name": "ipython",
    "version": 3
   },
   "file_extension": ".py",
   "mimetype": "text/x-python",
   "name": "python",
   "nbconvert_exporter": "python",
   "pygments_lexer": "ipython3",
   "version": "3.8.5"
  }
 },
 "nbformat": 4,
 "nbformat_minor": 4
}
