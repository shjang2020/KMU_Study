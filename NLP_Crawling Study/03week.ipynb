{
 "cells": [
  {
   "cell_type": "code",
   "execution_count": 1,
   "metadata": {},
   "outputs": [],
   "source": [
    "import lxml.html\n",
    "import requests"
   ]
  },
  {
   "cell_type": "code",
   "execution_count": 2,
   "metadata": {},
   "outputs": [],
   "source": [
    "url ='https://ko.wikipedia.org/wiki/HTML'"
   ]
  },
  {
   "cell_type": "code",
   "execution_count": 3,
   "metadata": {},
   "outputs": [],
   "source": [
    "res= requests.get(url)"
   ]
  },
  {
   "cell_type": "code",
   "execution_count": 4,
   "metadata": {},
   "outputs": [
    {
     "data": {
      "text/plain": [
       "<Response [200]>"
      ]
     },
     "execution_count": 4,
     "metadata": {},
     "output_type": "execute_result"
    }
   ],
   "source": [
    "res"
   ]
  },
  {
   "cell_type": "code",
   "execution_count": 5,
   "metadata": {
    "scrolled": true
   },
   "outputs": [
    {
     "data": {
      "text/plain": [
       "200"
      ]
     },
     "execution_count": 5,
     "metadata": {},
     "output_type": "execute_result"
    }
   ],
   "source": [
    "res.status_code"
   ]
  },
  {
   "cell_type": "markdown",
   "metadata": {},
   "source": [
    "- 200: 성공\n",
    "- 300: 주소 이전\n",
    "- 400: 에러(사용자), 주소를 잘못 친 경우\n",
    "- 500: 에러(서버), 내부 에러 발생"
   ]
  },
  {
   "cell_type": "code",
   "execution_count": 6,
   "metadata": {},
   "outputs": [],
   "source": [
    "root= lxml.html.fromstring(res.text) #서버 받아온 응답의 내용 중의 텍스트= html 전체"
   ]
  },
  {
   "cell_type": "code",
   "execution_count": 7,
   "metadata": {},
   "outputs": [],
   "source": [
    "titles =  root.cssselect('title')"
   ]
  },
  {
   "cell_type": "code",
   "execution_count": 8,
   "metadata": {},
   "outputs": [
    {
     "data": {
      "text/plain": [
       "[<Element title at 0x233560f2db0>]"
      ]
     },
     "execution_count": 8,
     "metadata": {},
     "output_type": "execute_result"
    }
   ],
   "source": [
    "titles"
   ]
  },
  {
   "cell_type": "code",
   "execution_count": 9,
   "metadata": {},
   "outputs": [],
   "source": [
    "title=titles[0]"
   ]
  },
  {
   "cell_type": "code",
   "execution_count": 10,
   "metadata": {},
   "outputs": [
    {
     "data": {
      "text/plain": [
       "'HTML - 위키백과, 우리 모두의 백과사전'"
      ]
     },
     "execution_count": 10,
     "metadata": {},
     "output_type": "execute_result"
    }
   ],
   "source": [
    "title.text #<title> 태그로 감싸인 부분의 텍스트"
   ]
  },
  {
   "cell_type": "markdown",
   "metadata": {},
   "source": [
    "## 다음 뉴스"
   ]
  },
  {
   "cell_type": "code",
   "execution_count": 11,
   "metadata": {},
   "outputs": [],
   "source": [
    "import pandas as pd"
   ]
  },
  {
   "cell_type": "code",
   "execution_count": 12,
   "metadata": {},
   "outputs": [],
   "source": [
    "url ='https://search.daum.net/search?w=news&nil_search=btn&DA=NTB&enc=utf8&cluster=y&cluster_page=1&q=%EC%9D%B8%EA%B3%B5%EC%A7%80%EB%8A%A5&p={}'"
   ]
  },
  {
   "cell_type": "code",
   "execution_count": 16,
   "metadata": {},
   "outputs": [],
   "source": [
    "res=requests.get(url.format(1))"
   ]
  },
  {
   "cell_type": "code",
   "execution_count": 17,
   "metadata": {},
   "outputs": [
    {
     "data": {
      "text/plain": [
       "<Response [200]>"
      ]
     },
     "execution_count": 17,
     "metadata": {},
     "output_type": "execute_result"
    }
   ],
   "source": [
    "res"
   ]
  },
  {
   "cell_type": "code",
   "execution_count": 18,
   "metadata": {},
   "outputs": [],
   "source": [
    "root =lxml.html.fromstring(res.text)"
   ]
  },
  {
   "cell_type": "markdown",
   "metadata": {},
   "source": [
    "HTML `class =\"f_nb date\"` \\\n",
    "CSS  `.f_nb.date`"
   ]
  },
  {
   "cell_type": "code",
   "execution_count": 25,
   "metadata": {},
   "outputs": [],
   "source": [
    "links = root.cssselect('a.f_nb') # 태그가 span 클래스 f_nb와 date에 포함된 태그 a, 클래스가 f_nb"
   ]
  },
  {
   "cell_type": "code",
   "execution_count": 26,
   "metadata": {
    "scrolled": true
   },
   "outputs": [
    {
     "name": "stdout",
     "output_type": "stream",
     "text": [
      "다음뉴스\n",
      "다음뉴스\n",
      "다음뉴스\n",
      " 관련뉴스 \n",
      "다음뉴스\n",
      "다음뉴스\n",
      "다음뉴스\n",
      "다음뉴스\n",
      "다음뉴스\n",
      "다음뉴스\n",
      " 관련뉴스 \n",
      "다음뉴스\n"
     ]
    }
   ],
   "source": [
    "for link in links:\n",
    "    print(link.text)"
   ]
  },
  {
   "cell_type": "code",
   "execution_count": 27,
   "metadata": {},
   "outputs": [],
   "source": [
    "urls=[]\n",
    "for link in links:\n",
    "    urls.append(link.attrib['href'])"
   ]
  },
  {
   "cell_type": "code",
   "execution_count": 28,
   "metadata": {},
   "outputs": [
    {
     "data": {
      "text/plain": [
       "['http://v.media.daum.net/v/20220113071202402',\n",
       " 'http://v.media.daum.net/v/20220110030301568',\n",
       " 'http://v.media.daum.net/v/20220114110026542',\n",
       " '?w=news&req=tab&q=%EC%9D%B8%EA%B3%B5%EC%A7%80%EB%8A%A5&cluster=y&viewio=i&repno=0&n=10&p=1&related_page=1&cluster_docid=26tefSPDnO7MNUmR8m&DA=NTB',\n",
       " 'http://v.media.daum.net/v/20220114161530364',\n",
       " 'http://v.media.daum.net/v/20220105100609174',\n",
       " 'http://v.media.daum.net/v/20220106173012706',\n",
       " 'http://v.media.daum.net/v/20220105130025233',\n",
       " 'http://v.media.daum.net/v/20220105130002212',\n",
       " 'http://v.media.daum.net/v/20220105171507791',\n",
       " '?w=news&req=tab&q=%EC%9D%B8%EA%B3%B5%EC%A7%80%EB%8A%A5&cluster=y&viewio=i&repno=0&n=10&p=1&related_page=1&cluster_docid=26tlwzqKxHxs6UmmDW&DA=NTB',\n",
       " 'http://v.media.daum.net/v/20220108030007683']"
      ]
     },
     "execution_count": 28,
     "metadata": {},
     "output_type": "execute_result"
    }
   ],
   "source": [
    "urls"
   ]
  },
  {
   "cell_type": "code",
   "execution_count": 29,
   "metadata": {},
   "outputs": [],
   "source": [
    "url = urls[0]"
   ]
  },
  {
   "cell_type": "code",
   "execution_count": 30,
   "metadata": {
    "scrolled": false
   },
   "outputs": [
    {
     "data": {
      "text/plain": [
       "'http://v.media.daum.net/v/20220113071202402'"
      ]
     },
     "execution_count": 30,
     "metadata": {},
     "output_type": "execute_result"
    }
   ],
   "source": [
    "url"
   ]
  },
  {
   "cell_type": "code",
   "execution_count": 31,
   "metadata": {},
   "outputs": [],
   "source": [
    "res=requests.get(url)"
   ]
  },
  {
   "cell_type": "code",
   "execution_count": 32,
   "metadata": {},
   "outputs": [],
   "source": [
    "root= lxml.html.fromstring(res.text)"
   ]
  },
  {
   "cell_type": "code",
   "execution_count": 45,
   "metadata": {},
   "outputs": [],
   "source": [
    "#body=root.cssselect('div#harmonyContainer')\n",
    "body=root.cssselect('div.article_view')\n",
    "#body=root.cssselect('section')"
   ]
  },
  {
   "cell_type": "code",
   "execution_count": 46,
   "metadata": {},
   "outputs": [],
   "source": [
    "content=body[0].text_content()"
   ]
  },
  {
   "cell_type": "code",
   "execution_count": 37,
   "metadata": {},
   "outputs": [],
   "source": [
    "content=content.strip() #공백 없애기"
   ]
  },
  {
   "cell_type": "code",
   "execution_count": 38,
   "metadata": {},
   "outputs": [],
   "source": [
    "import re"
   ]
  },
  {
   "cell_type": "code",
   "execution_count": 39,
   "metadata": {},
   "outputs": [],
   "source": [
    "content=re.sub(r'\\s+',' ',content) #중간에 공백 없애기"
   ]
  },
  {
   "cell_type": "code",
   "execution_count": 41,
   "metadata": {
    "collapsed": true
   },
   "outputs": [
    {
     "data": {
      "text/plain": [
       "'오순영 한컴그룹 전무 작년 CES 2021은 코로나로 54년 만에 All-digital이라는 콘셉트로 온라인으로 진행됐다. 이 때문에 올해 CES 2022의 오프라인 행사 선언은 큰 기대감을 가지게 했다. 하지만 결국 오미크론의 글로벌 확산 탓에 구글, 메타, 트위터, 아마존, 마이크로소프트 등 주요 빅테크 기업들이 대거 불참 선언을 하면서 살짝 김이 빠졌다. 미국과 관계가 좋지 못한 중국 기업들 역시 대거 불참한 상태에서 CES 2022가 시작된 것이다. 이 와중에도 한국은 사상 최대 규모인 416개 기업이 참가했는데, 그 중 292개가 스타트업이었다는 점은 주목할 만한 일이다. 기대와 우려를 동시에 안고 시작한 CES 2022 올해 CES 2022는 화려함과 대규모 전시로 늘 눈길을 사로잡았던 빅테크 기업들의 참가가 부진했다는 게 우선 과거 전시 때와 다른 점이다.이들이 터줏대감처럼 차지했던 Central Hall에는 빈 공간이 많았다. 확실히 볼거리가 줄어서 전체를 둘러보는데 시간 부족할 일이 없었다. 한국 기업 사상 최대 규모 참가라는 것이 체감될 정도로 전시를 구경하는 내내 한국인을 보거나 한국말을 듣는 일이 흔했다. 개인적으로 CES 행사 중 가장 볼거리가 많고 신선한 아이디어가 많은 CES 맛집이라 할 수 있는 유레카 파크 역시 한국 스타트업들로 가득 채워진 느낌이었다. 연결성, 새로운 경험, 확장성, 실용성을 보여준 CES 2022 올해는 메타버스, 로봇, 헬스케어, 모빌리티, NFT, 항공우주 등 다양한 키워드를 가지고 CES 2022를 분석한 내용들이 많았다. 아무래도 펜데믹이 장기화되다보니 새로운 기술 혁신보다는 현재의 펜데믹 상황에서 비대면이 일상화된 생활, 환경, 건강 등 새롭게 마주하고 있는 문제점들에 대한 방향성을 제시하는 제품과 서비스를 많이 내놓았을 수밖에 없었던 것 같다. 메타버스, 모빌리티, 헬스케어, 로봇, ESG 등이 키워드였지만 실제적인 주요 메시지는 기술 융복합을 통한 일상 생활의 연결성과 새로운 경험, 확장성, 실용성이었다. 최근 몇 년 CES에서 늘 주인공이었던 인공지능 며칠 전 배우 오영수가 제 79회 골든글로브 시상식에서 넷플릭스 오리지널 한국 드라마 ‘오징어 게임’으로 TV 드라마 부문 남우조연상을 수상했다. 한국 배우 최초로 미국 골든글로브 연기상을 수상한 것은 대단한 일이다. 갑자기 드라마 이야기를 꺼낸 이유는 몇 년간 CES에서 인공지능은 늘 주인공 자리를 뺏기지 않았던 것 같다는 느낌 때문이다. 특히 중국 기업들의 CES 참가가 매우 활발했다. 중국의 인공지능 전시의 기세가 워낙 좋다보니 지속적으로 눈에 많이 띈 측면도 없지 않지만, 인공지능이 기술적 발전을 통해 상용화 인프라가 확보되는 등 여건이 비로소 갖춰지는 상황이 되기도 했던 때여서 늘 주인공 자리를 놓지 않았던 것 같다. CES 2022에 등장한 표정짓는 로봇 올해는 조금 다르다. 메타버스, 모빌리티, 로봇, 헬스케어 등 주요 키워드에 인공지능은 없었다. 그렇다고 CES 2022 출품작 중에 인공지능이 그렇게 비중이 없었는가? 라고 묻는다면 절대 그렇지는 않다. 기본적으로 언급했던 모든 키워드가 인공지능 없이는 차별점이나 경쟁력을 가지기 어렵거나 구현 자체가 힘들 수 있기 때문에 인공지능은 여전히 매우 중요하다. 어떻게 보면 이제는 인공지능이 더 이상 마케팅 키워드가 아니라 실용적 기술 키워드가 된 것이 아닌가 하는 생각이다. 이제는 대중에게 인정받고 보여주기 위한 인공지능이 아니라 실제적으로 쓸 만한 곳들에 적용되는 단계가 아닌가라는 느낌 말이다. 특히 지금은 인공지능의 획기적인 혁신이 잠깐 정체된 상태가 아닌가 하는 생각도 들었다. 인공지능의 더 멋진 무대가 된 메타버스와 모빌리티 CES 행사의 주요 메시지들은 빅테크 기업들의 키노트 스피치나 전시 부스에서 나오곤 한다. 펜데믹으로 바뀐 일상에서 강조되고 있는 연결성과 경험, 확장성 측면에서 눈여겨 본 부분은 메타버스와 모빌리티다. 작년 국내에서 메타버스란 용어가 유행처럼 번질 때 인공지능 기술과 사업화는 어떻게 될 것인가에 관련한 질문도 함께 쏟아졌다. 메타버스로 인해 인공지능은 대량의 데이터를 훨씬 수월하고 편리하게 수집할 수 있게 될 것이며, 현실 세계를 그대로 트윈으로 옮긴 가상 세계, 또는 허구의 확장된 세계를 통해 인공지능은 좀 더 고도화 될 수 있는 기회를 갖게 될 것이라는 점을 주로 거론했다. 이번 전시회를 통해 이런 추세를 새삼 확인할 수 있었다. 사실 현실과 직접적으로 연결된 생활 속에 인공지능을 적용하고 활용하기에는 최초 실생활에서 나오는 데이터 수집 및 가공, 학습에 대한 어려움이 존재한다. 인공지능이 적용된 제품이나 서비스, 또는 대상 기기 단말 종류가 다양하지 못하기 때문에 UI나 UX 자체가 사용자 친화적인 동시에 실용성을 확보한 형태로 구현하기 어려운 부분들이 많았다. CES 2022 전시 모습 예를 들면 현재 AI 스피커나 키오스크에 적용한 AI 챗봇 등은 그 해당 단말기기 자체에 한정되어 있어서 확장성에 제약이 있다. 그렇기 때문에 생활 속에서 인공지능 경험의 연속성을 가지기 어렵다는 평가가 많았다. 이번 CES 2022의 국내 대기업 영상들을 살펴보면 스마트 홈 안에서 하나의 AI 아바타가 다양한 가전 기기를 넘나들면서 사용자의 니즈를 해결해 주고 도움을 주도록 했다는 게 눈길을 끌었다. 또 모빌리티 안에서도 자율주행과 인포테인먼트 측면의 내용이 강조되었던 지난 CES와 달리 이번에는 나를 닮은 아바타 개념을 가지고 차량 안에서 다양한 가상 체험을 하거나, 또 다른 가상 공간에서 다양한 사람들과 아바타로 함께 활동을 할 수 있다는 등의 스토리텔링이 추가됐다는 게 흥미로웠다. 다만 이런 부분들이 사용자가 기대하는 대로 원활하게 우리 생활 안에서 실현되기 위해서는 바로 기존 AI 비서보다 한 단계 높은 AI 기술이 필요해 보인다는 생각이다. 대한민국 스타트업들은 이번 CES 2022에서 두 가지 상징적인 기록을 남겼다. 역대 최대인 292개 사 참가, 그리고 그 중 74개 사가 CES 2022 혁신상을 수상했다는 점이다. 이번 CES 2022에서 미국 다음으로 두 번째로 많은 기업이 참가한 나라가 대한민국이다. 일부에서는 국내 행사를 먼 미국 땅에서 연다는 우스개 소리도 나오지만, CES 행사는 기본적으로 글로벌 진출, 또는 미래 청사진에 대한 글로벌 경쟁력을 보여주기 위해 참가한다는 점에서 평가절하할 수는 없는 대목이다. 대한민국 기술력과 제품 경쟁력, 미래청사진을 전 세계에 소개하고, 기업의 미래 먹거리와 새로운 판로를 개척하는 일이라면, 한국 기업이란 타이틀에 과연 얽매일 필요가 있을까. 한국 기업이 너무 많다는 건 지극히 우리나라 관점에서의 평가가 아닐까. 한국 AI 스타트업들은 대다수가 기관, 학교, 협회, 센터 등 각 단체에서 선발된 대표주자들이다. 그래서인지 완성도가 높았다. 실제로 기술, 사업성, 아이디어 독창성 등 뛰어난 스타트업들이 많았다. 대한민국 어느 전시회에서도 이렇게 많은 유망 AI 스타트업들을 한 곳에서 만나기는 쉽지 않을 것이란 생각이 들었을 정도다. 유레카 파크는 CES 2022에서 꼭 가봐야 할 진정한 기술 맛집이자 아이디어 맛집이었다. 커지는 CES 2023에 대한 기대감 CES 2022는 끝났다. 인공지능은 이제 선택이 아닌 필수 기술이 됐다는 점은 분명해 보인다. 이제부터는 아마도 아주 혁신적인 기술 발전이 있기 전까지는 멋진 조연 역할을 계속 할 것이다. 인공지능은 기술적 과시가 아닌 실제적으로 그 활용의 폭을 넓혀갈 것이다. 새로운 경험의 확장이나 연결성, 융복합의 매개체로 활용될 것이다. 메타버스, 모빌리티 등 새로운 기기와 환경, 경험의 중심에 서 있는 인공지능이 앞으로 어떻게 활용될 것인지 CES 2023이 자못 기대된다. <오순영 한컴그룹 전무> Copyrights 한경닷컴, 무단 전재 및 재배포 금지'"
      ]
     },
     "execution_count": 41,
     "metadata": {},
     "output_type": "execute_result"
    }
   ],
   "source": [
    "content"
   ]
  },
  {
   "cell_type": "code",
   "execution_count": 29,
   "metadata": {},
   "outputs": [],
   "source": [
    "data=[]\n",
    "for url in urls:\n",
    "    res=requests.get(url)\n",
    "    root= lxml.html.fromstring(res.text)\n",
    "    body=root.cssselect('div#harmonyContainer')\n",
    "    content=body[0].text_content()\n",
    "    content=content.strip()\n",
    "    content=re.sub(r'\\s+',' ',content)\n",
    "    data.append((url,content))"
   ]
  },
  {
   "cell_type": "code",
   "execution_count": 31,
   "metadata": {},
   "outputs": [],
   "source": [
    "url ='https://search.daum.net/search?w=news&nil_search=btn&DA=NTB&enc=utf8&cluster=y&cluster_page=1&q=%EC%9D%B8%EA%B3%B5%EC%A7%80%EB%8A%A5&p={}'\n",
    "urls=[]\n",
    "for page in range(1,11):\n",
    "    res=requests.get(url.format(page))\n",
    "    root =lxml.html.fromstring(res.text)\n",
    "    links = root.cssselect('span.f_nb.date a.f_nb') \n",
    "    for link in links:\n",
    "        urls.append(link.attrib['href'])\n",
    "data=[]        \n",
    "for url in urls:\n",
    "    res=requests.get(url)\n",
    "    root= lxml.html.fromstring(res.text)\n",
    "    body=root.cssselect('div#harmonyContainer')\n",
    "    content=body[0].text_content()\n",
    "    content=content.strip() \n",
    "    content=re.sub(r'\\s+',' ',content)\n",
    "    data.append((url,content))"
   ]
  },
  {
   "cell_type": "code",
   "execution_count": 32,
   "metadata": {},
   "outputs": [],
   "source": [
    "df=pd.DataFrame(data,columns=['url','content'])"
   ]
  },
  {
   "cell_type": "code",
   "execution_count": 33,
   "metadata": {
    "scrolled": false
   },
   "outputs": [
    {
     "data": {
      "text/html": [
       "<div>\n",
       "<style scoped>\n",
       "    .dataframe tbody tr th:only-of-type {\n",
       "        vertical-align: middle;\n",
       "    }\n",
       "\n",
       "    .dataframe tbody tr th {\n",
       "        vertical-align: top;\n",
       "    }\n",
       "\n",
       "    .dataframe thead th {\n",
       "        text-align: right;\n",
       "    }\n",
       "</style>\n",
       "<table border=\"1\" class=\"dataframe\">\n",
       "  <thead>\n",
       "    <tr style=\"text-align: right;\">\n",
       "      <th></th>\n",
       "      <th>url</th>\n",
       "      <th>content</th>\n",
       "    </tr>\n",
       "  </thead>\n",
       "  <tbody>\n",
       "    <tr>\n",
       "      <th>0</th>\n",
       "      <td>http://v.media.daum.net/v/20210526111633415</td>\n",
       "      <td>오늘날 우리는 광고의 홍수 속에 살고 있다. 과거에 광고라고 하면 TV나 라디오를 ...</td>\n",
       "    </tr>\n",
       "    <tr>\n",
       "      <th>1</th>\n",
       "      <td>http://v.media.daum.net/v/20210525185809064</td>\n",
       "      <td>[앵커] 기업들이 인공지능, AI를 활용해 경쟁력을 한층 높일 수 있는 길이 열렸습...</td>\n",
       "    </tr>\n",
       "    <tr>\n",
       "      <th>2</th>\n",
       "      <td>http://v.media.daum.net/v/20210526122002184</td>\n",
       "      <td>㈜참빛교육이 K-비대면 서비스 바우처로 선정, 인공지능 영어독서 서비스를 공급한다....</td>\n",
       "    </tr>\n",
       "    <tr>\n",
       "      <th>3</th>\n",
       "      <td>http://v.media.daum.net/v/20210525093836607</td>\n",
       "      <td>신분증 자동인식 솔루션 텍스트스코프™ 아이디 특장점 (사진제공=로민) [이데일리 이...</td>\n",
       "    </tr>\n",
       "    <tr>\n",
       "      <th>4</th>\n",
       "      <td>http://v.media.daum.net/v/20210525092702055</td>\n",
       "      <td>신분증 자동인식 솔루션 텍스트스코프™ 아이디 특장점(제공:로민) 인공지능(AI) 문...</td>\n",
       "    </tr>\n",
       "  </tbody>\n",
       "</table>\n",
       "</div>"
      ],
      "text/plain": [
       "                                           url  \\\n",
       "0  http://v.media.daum.net/v/20210526111633415   \n",
       "1  http://v.media.daum.net/v/20210525185809064   \n",
       "2  http://v.media.daum.net/v/20210526122002184   \n",
       "3  http://v.media.daum.net/v/20210525093836607   \n",
       "4  http://v.media.daum.net/v/20210525092702055   \n",
       "\n",
       "                                             content  \n",
       "0  오늘날 우리는 광고의 홍수 속에 살고 있다. 과거에 광고라고 하면 TV나 라디오를 ...  \n",
       "1  [앵커] 기업들이 인공지능, AI를 활용해 경쟁력을 한층 높일 수 있는 길이 열렸습...  \n",
       "2  ㈜참빛교육이 K-비대면 서비스 바우처로 선정, 인공지능 영어독서 서비스를 공급한다....  \n",
       "3  신분증 자동인식 솔루션 텍스트스코프™ 아이디 특장점 (사진제공=로민) [이데일리 이...  \n",
       "4  신분증 자동인식 솔루션 텍스트스코프™ 아이디 특장점(제공:로민) 인공지능(AI) 문...  "
      ]
     },
     "execution_count": 33,
     "metadata": {},
     "output_type": "execute_result"
    }
   ],
   "source": [
    "df.head()"
   ]
  },
  {
   "cell_type": "code",
   "execution_count": 49,
   "metadata": {},
   "outputs": [],
   "source": [
    "df.to_excel('기사.xlsx')\n",
    "#안된다면 df.to_csv('기사.csv')"
   ]
  },
  {
   "cell_type": "markdown",
   "metadata": {},
   "source": [
    "### 혼자 놀아본거"
   ]
  },
  {
   "cell_type": "code",
   "execution_count": 34,
   "metadata": {},
   "outputs": [
    {
     "data": {
      "text/plain": [
       "<84x1000 sparse matrix of type '<class 'numpy.int64'>'\n",
       "\twith 6878 stored elements in Compressed Sparse Row format>"
      ]
     },
     "execution_count": 34,
     "metadata": {},
     "output_type": "execute_result"
    }
   ],
   "source": [
    "from sklearn.feature_extraction.text import CountVectorizer\n",
    "cv=CountVectorizer(max_features=1000)\n",
    "tdm=cv.fit_transform(df['content'])\n",
    "tdm"
   ]
  },
  {
   "cell_type": "code",
   "execution_count": 35,
   "metadata": {},
   "outputs": [
    {
     "data": {
      "text/plain": [
       "['10', '10월', '14개의', '1개', '1단계', '2017년', '2019년', '2021', '2021년', '2023년']"
      ]
     },
     "execution_count": 35,
     "metadata": {},
     "output_type": "execute_result"
    }
   ],
   "source": [
    "cv.get_feature_names()[:10]"
   ]
  },
  {
   "cell_type": "code",
   "execution_count": 36,
   "metadata": {},
   "outputs": [
    {
     "data": {
      "text/plain": [
       "10261"
      ]
     },
     "execution_count": 36,
     "metadata": {},
     "output_type": "execute_result"
    }
   ],
   "source": [
    "tdm.sum()"
   ]
  },
  {
   "cell_type": "code",
   "execution_count": 37,
   "metadata": {},
   "outputs": [
    {
     "data": {
      "text/html": [
       "<div>\n",
       "<style scoped>\n",
       "    .dataframe tbody tr th:only-of-type {\n",
       "        vertical-align: middle;\n",
       "    }\n",
       "\n",
       "    .dataframe tbody tr th {\n",
       "        vertical-align: top;\n",
       "    }\n",
       "\n",
       "    .dataframe thead th {\n",
       "        text-align: right;\n",
       "    }\n",
       "</style>\n",
       "<table border=\"1\" class=\"dataframe\">\n",
       "  <thead>\n",
       "    <tr style=\"text-align: right;\">\n",
       "      <th></th>\n",
       "      <th>단어</th>\n",
       "      <th>빈도</th>\n",
       "    </tr>\n",
       "  </thead>\n",
       "  <tbody>\n",
       "    <tr>\n",
       "      <th>676</th>\n",
       "      <td>인공지능</td>\n",
       "      <td>320</td>\n",
       "    </tr>\n",
       "    <tr>\n",
       "      <th>26</th>\n",
       "      <td>ai</td>\n",
       "      <td>203</td>\n",
       "    </tr>\n",
       "    <tr>\n",
       "      <th>699</th>\n",
       "      <td>있다</td>\n",
       "      <td>168</td>\n",
       "    </tr>\n",
       "    <tr>\n",
       "      <th>896</th>\n",
       "      <td>통해</td>\n",
       "      <td>96</td>\n",
       "    </tr>\n",
       "    <tr>\n",
       "      <th>210</th>\n",
       "      <td>기자</td>\n",
       "      <td>78</td>\n",
       "    </tr>\n",
       "    <tr>\n",
       "      <th>...</th>\n",
       "      <td>...</td>\n",
       "      <td>...</td>\n",
       "    </tr>\n",
       "    <tr>\n",
       "      <th>735</th>\n",
       "      <td>전국에서</td>\n",
       "      <td>4</td>\n",
       "    </tr>\n",
       "    <tr>\n",
       "      <th>738</th>\n",
       "      <td>전망이다</td>\n",
       "      <td>4</td>\n",
       "    </tr>\n",
       "    <tr>\n",
       "      <th>741</th>\n",
       "      <td>전문가들은</td>\n",
       "      <td>4</td>\n",
       "    </tr>\n",
       "    <tr>\n",
       "      <th>742</th>\n",
       "      <td>전문기업</td>\n",
       "      <td>4</td>\n",
       "    </tr>\n",
       "    <tr>\n",
       "      <th>999</th>\n",
       "      <td>흉부진단</td>\n",
       "      <td>4</td>\n",
       "    </tr>\n",
       "  </tbody>\n",
       "</table>\n",
       "<p>1000 rows × 2 columns</p>\n",
       "</div>"
      ],
      "text/plain": [
       "        단어   빈도\n",
       "676   인공지능  320\n",
       "26      ai  203\n",
       "699     있다  168\n",
       "896     통해   96\n",
       "210     기자   78\n",
       "..     ...  ...\n",
       "735   전국에서    4\n",
       "738   전망이다    4\n",
       "741  전문가들은    4\n",
       "742   전문기업    4\n",
       "999   흉부진단    4\n",
       "\n",
       "[1000 rows x 2 columns]"
      ]
     },
     "execution_count": 37,
     "metadata": {},
     "output_type": "execute_result"
    }
   ],
   "source": [
    "word_count=pd.DataFrame({\n",
    "    '단어':cv.get_feature_names(),\n",
    "    '빈도':tdm.sum(axis=0).flat\n",
    "})\n",
    "word_count.sort_values('빈도',ascending=False)"
   ]
  },
  {
   "cell_type": "markdown",
   "metadata": {},
   "source": [
    "# 인코딩 실습"
   ]
  },
  {
   "cell_type": "code",
   "execution_count": 38,
   "metadata": {},
   "outputs": [],
   "source": [
    "import requests\n",
    "import lxml.html"
   ]
  },
  {
   "cell_type": "code",
   "execution_count": 39,
   "metadata": {},
   "outputs": [],
   "source": [
    "res=requests.get('https://www.scourt.go.kr/scourt/index.html')"
   ]
  },
  {
   "cell_type": "code",
   "execution_count": 40,
   "metadata": {},
   "outputs": [
    {
     "data": {
      "text/plain": [
       "<Response [200]>"
      ]
     },
     "execution_count": 40,
     "metadata": {},
     "output_type": "execute_result"
    }
   ],
   "source": [
    "res"
   ]
  },
  {
   "cell_type": "code",
   "execution_count": 41,
   "metadata": {},
   "outputs": [
    {
     "data": {
      "text/plain": [
       "'ISO-8859-1'"
      ]
     },
     "execution_count": 41,
     "metadata": {},
     "output_type": "execute_result"
    }
   ],
   "source": [
    "res.encoding\n",
    "#잘못된 예를 일부러 찾은 것 - 서유럽어"
   ]
  },
  {
   "cell_type": "code",
   "execution_count": 42,
   "metadata": {},
   "outputs": [],
   "source": [
    "root=lxml.html.fromstring(res.text)"
   ]
  },
  {
   "cell_type": "code",
   "execution_count": 43,
   "metadata": {
    "scrolled": true
   },
   "outputs": [
    {
     "name": "stdout",
     "output_type": "stream",
     "text": [
      "´ëÇÑ¹Î±¹ ¹ý¿ø\n"
     ]
    }
   ],
   "source": [
    "for e in root.cssselect('title'):\n",
    "    print(e.text_content())"
   ]
  },
  {
   "cell_type": "markdown",
   "metadata": {},
   "source": [
    "utf8 cp949"
   ]
  },
  {
   "cell_type": "code",
   "execution_count": 44,
   "metadata": {},
   "outputs": [],
   "source": [
    "res.encoding = 'cp949'"
   ]
  },
  {
   "cell_type": "code",
   "execution_count": 45,
   "metadata": {},
   "outputs": [
    {
     "name": "stdout",
     "output_type": "stream",
     "text": [
      "대한민국 법원\n"
     ]
    }
   ],
   "source": [
    "root=lxml.html.fromstring(res.text)\n",
    "for e in root.cssselect('title'):\n",
    "    print(e.text_content())"
   ]
  },
  {
   "cell_type": "code",
   "execution_count": 46,
   "metadata": {},
   "outputs": [
    {
     "name": "stdout",
     "output_type": "stream",
     "text": [
      "���ѹα� ����\n"
     ]
    }
   ],
   "source": [
    "res.encoding = 'utf-8'\n",
    "root=lxml.html.fromstring(res.text)\n",
    "for e in root.cssselect('title'):\n",
    "    print(e.text_content())"
   ]
  },
  {
   "cell_type": "markdown",
   "metadata": {},
   "source": [
    "아주 가끔 이렇게 오류나는 경우가 있음"
   ]
  },
  {
   "cell_type": "markdown",
   "metadata": {},
   "source": [
    "## User Agent"
   ]
  },
  {
   "cell_type": "code",
   "execution_count": 47,
   "metadata": {},
   "outputs": [
    {
     "data": {
      "text/plain": [
       "<Response [500]>"
      ]
     },
     "execution_count": 47,
     "metadata": {},
     "output_type": "execute_result"
    }
   ],
   "source": [
    "requests.get('https://www.onoffmix.com/')"
   ]
  },
  {
   "cell_type": "markdown",
   "metadata": {},
   "source": [
    "- 웹브라우저로 접속하면 잘 되는데 파이썬으로 접속하면 안되는 경우\n",
    "- 웹브라우저가 사이트에 접속할때 유저 정보를 파이썬이 그대로 입력하면 된다."
   ]
  },
  {
   "cell_type": "code",
   "execution_count": 48,
   "metadata": {},
   "outputs": [],
   "source": [
    "#구글에 my user agent 검색하면 나옴\n",
    "ua='Mozilla/5.0 (Windows NT 10.0; Win64; x64) AppleWebKit/537.36 (KHTML, like Gecko) Chrome/89.0.4389.90 Safari/537.36'"
   ]
  },
  {
   "cell_type": "code",
   "execution_count": 49,
   "metadata": {},
   "outputs": [
    {
     "data": {
      "text/plain": [
       "<Response [200]>"
      ]
     },
     "execution_count": 49,
     "metadata": {},
     "output_type": "execute_result"
    }
   ],
   "source": [
    "requests.get('https://www.onoffmix.com/',headers={'User-Agent':ua})"
   ]
  },
  {
   "cell_type": "markdown",
   "metadata": {},
   "source": [
    "## 상대주소와 절대주소"
   ]
  },
  {
   "cell_type": "code",
   "execution_count": 50,
   "metadata": {},
   "outputs": [],
   "source": [
    "url= 'https://www.bobaedream.co.kr/mycar/mycar_list.php?gubun=K'"
   ]
  },
  {
   "cell_type": "code",
   "execution_count": 51,
   "metadata": {},
   "outputs": [],
   "source": [
    "res=requests.get(url)"
   ]
  },
  {
   "cell_type": "code",
   "execution_count": 52,
   "metadata": {},
   "outputs": [],
   "source": [
    "root=lxml.html.fromstring(res.text)"
   ]
  },
  {
   "cell_type": "code",
   "execution_count": 53,
   "metadata": {},
   "outputs": [
    {
     "name": "stdout",
     "output_type": "stream",
     "text": [
      "/mycar/mycar_view.php?no=2118075&gubun=K\n",
      "/mycar/mycar_view.php?no=2118080&gubun=K\n",
      "/mycar/mycar_view.php?no=2118111&gubun=K\n",
      "/mycar/mycar_view.php?no=2118085&gubun=K\n",
      "/mycar/mycar_view.php?no=2118084&gubun=K\n",
      "/mycar/mycar_view.php?no=2117374&gubun=K\n",
      "/mycar/mycar_view.php?no=2118109&gubun=K\n",
      "/mycar/mycar_view.php?no=2118083&gubun=K\n",
      "/mycar/mycar_view.php?no=2118082&gubun=K\n",
      "/mycar/mycar_view.php?no=2108719&gubun=K\n",
      "/mycar/mycar_view.php?no=2108971&gubun=K\n",
      "/mycar/mycar_view.php?no=2109196&gubun=K\n",
      "/mycar/mycar_view.php?no=2109633&gubun=K\n",
      "/mycar/mycar_view.php?no=2110671&gubun=K\n",
      "/mycar/mycar_view.php?no=2110656&gubun=K\n",
      "/mycar/mycar_view.php?no=2110675&gubun=K\n",
      "/mycar/mycar_view.php?no=2111375&gubun=K\n",
      "/mycar/mycar_view.php?no=2112568&gubun=K\n",
      "/mycar/mycar_view.php?no=2112798&gubun=K\n",
      "/mycar/mycar_view.php?no=2113037&gubun=K\n"
     ]
    }
   ],
   "source": [
    "for link in root.cssselect('p.tit a'):\n",
    "    print(link.attrib['href'])"
   ]
  },
  {
   "cell_type": "code",
   "execution_count": 54,
   "metadata": {
    "collapsed": true
   },
   "outputs": [
    {
     "ename": "MissingSchema",
     "evalue": "Invalid URL '/mycar/mycar_view.php?no=2107859&gubun=K': No schema supplied. Perhaps you meant http:///mycar/mycar_view.php?no=2107859&gubun=K?",
     "output_type": "error",
     "traceback": [
      "\u001b[1;31m---------------------------------------------------------------------------\u001b[0m",
      "\u001b[1;31mMissingSchema\u001b[0m                             Traceback (most recent call last)",
      "\u001b[1;32m<ipython-input-54-6c854151c295>\u001b[0m in \u001b[0;36m<module>\u001b[1;34m\u001b[0m\n\u001b[0;32m      1\u001b[0m \u001b[1;31m# 상대주소이기 때문에 오류가 뜸\u001b[0m\u001b[1;33m\u001b[0m\u001b[1;33m\u001b[0m\u001b[1;33m\u001b[0m\u001b[0m\n\u001b[1;32m----> 2\u001b[1;33m \u001b[0mrequests\u001b[0m\u001b[1;33m.\u001b[0m\u001b[0mget\u001b[0m\u001b[1;33m(\u001b[0m\u001b[1;34m'/mycar/mycar_view.php?no=2107859&gubun=K'\u001b[0m\u001b[1;33m)\u001b[0m\u001b[1;33m\u001b[0m\u001b[1;33m\u001b[0m\u001b[0m\n\u001b[0m",
      "\u001b[1;32m~\\anaconda3\\lib\\site-packages\\requests\\api.py\u001b[0m in \u001b[0;36mget\u001b[1;34m(url, params, **kwargs)\u001b[0m\n\u001b[0;32m     74\u001b[0m \u001b[1;33m\u001b[0m\u001b[0m\n\u001b[0;32m     75\u001b[0m     \u001b[0mkwargs\u001b[0m\u001b[1;33m.\u001b[0m\u001b[0msetdefault\u001b[0m\u001b[1;33m(\u001b[0m\u001b[1;34m'allow_redirects'\u001b[0m\u001b[1;33m,\u001b[0m \u001b[1;32mTrue\u001b[0m\u001b[1;33m)\u001b[0m\u001b[1;33m\u001b[0m\u001b[1;33m\u001b[0m\u001b[0m\n\u001b[1;32m---> 76\u001b[1;33m     \u001b[1;32mreturn\u001b[0m \u001b[0mrequest\u001b[0m\u001b[1;33m(\u001b[0m\u001b[1;34m'get'\u001b[0m\u001b[1;33m,\u001b[0m \u001b[0murl\u001b[0m\u001b[1;33m,\u001b[0m \u001b[0mparams\u001b[0m\u001b[1;33m=\u001b[0m\u001b[0mparams\u001b[0m\u001b[1;33m,\u001b[0m \u001b[1;33m**\u001b[0m\u001b[0mkwargs\u001b[0m\u001b[1;33m)\u001b[0m\u001b[1;33m\u001b[0m\u001b[1;33m\u001b[0m\u001b[0m\n\u001b[0m\u001b[0;32m     77\u001b[0m \u001b[1;33m\u001b[0m\u001b[0m\n\u001b[0;32m     78\u001b[0m \u001b[1;33m\u001b[0m\u001b[0m\n",
      "\u001b[1;32m~\\anaconda3\\lib\\site-packages\\requests\\api.py\u001b[0m in \u001b[0;36mrequest\u001b[1;34m(method, url, **kwargs)\u001b[0m\n\u001b[0;32m     59\u001b[0m     \u001b[1;31m# cases, and look like a memory leak in others.\u001b[0m\u001b[1;33m\u001b[0m\u001b[1;33m\u001b[0m\u001b[1;33m\u001b[0m\u001b[0m\n\u001b[0;32m     60\u001b[0m     \u001b[1;32mwith\u001b[0m \u001b[0msessions\u001b[0m\u001b[1;33m.\u001b[0m\u001b[0mSession\u001b[0m\u001b[1;33m(\u001b[0m\u001b[1;33m)\u001b[0m \u001b[1;32mas\u001b[0m \u001b[0msession\u001b[0m\u001b[1;33m:\u001b[0m\u001b[1;33m\u001b[0m\u001b[1;33m\u001b[0m\u001b[0m\n\u001b[1;32m---> 61\u001b[1;33m         \u001b[1;32mreturn\u001b[0m \u001b[0msession\u001b[0m\u001b[1;33m.\u001b[0m\u001b[0mrequest\u001b[0m\u001b[1;33m(\u001b[0m\u001b[0mmethod\u001b[0m\u001b[1;33m=\u001b[0m\u001b[0mmethod\u001b[0m\u001b[1;33m,\u001b[0m \u001b[0murl\u001b[0m\u001b[1;33m=\u001b[0m\u001b[0murl\u001b[0m\u001b[1;33m,\u001b[0m \u001b[1;33m**\u001b[0m\u001b[0mkwargs\u001b[0m\u001b[1;33m)\u001b[0m\u001b[1;33m\u001b[0m\u001b[1;33m\u001b[0m\u001b[0m\n\u001b[0m\u001b[0;32m     62\u001b[0m \u001b[1;33m\u001b[0m\u001b[0m\n\u001b[0;32m     63\u001b[0m \u001b[1;33m\u001b[0m\u001b[0m\n",
      "\u001b[1;32m~\\anaconda3\\lib\\site-packages\\requests\\sessions.py\u001b[0m in \u001b[0;36mrequest\u001b[1;34m(self, method, url, params, data, headers, cookies, files, auth, timeout, allow_redirects, proxies, hooks, stream, verify, cert, json)\u001b[0m\n\u001b[0;32m    514\u001b[0m             \u001b[0mhooks\u001b[0m\u001b[1;33m=\u001b[0m\u001b[0mhooks\u001b[0m\u001b[1;33m,\u001b[0m\u001b[1;33m\u001b[0m\u001b[1;33m\u001b[0m\u001b[0m\n\u001b[0;32m    515\u001b[0m         )\n\u001b[1;32m--> 516\u001b[1;33m         \u001b[0mprep\u001b[0m \u001b[1;33m=\u001b[0m \u001b[0mself\u001b[0m\u001b[1;33m.\u001b[0m\u001b[0mprepare_request\u001b[0m\u001b[1;33m(\u001b[0m\u001b[0mreq\u001b[0m\u001b[1;33m)\u001b[0m\u001b[1;33m\u001b[0m\u001b[1;33m\u001b[0m\u001b[0m\n\u001b[0m\u001b[0;32m    517\u001b[0m \u001b[1;33m\u001b[0m\u001b[0m\n\u001b[0;32m    518\u001b[0m         \u001b[0mproxies\u001b[0m \u001b[1;33m=\u001b[0m \u001b[0mproxies\u001b[0m \u001b[1;32mor\u001b[0m \u001b[1;33m{\u001b[0m\u001b[1;33m}\u001b[0m\u001b[1;33m\u001b[0m\u001b[1;33m\u001b[0m\u001b[0m\n",
      "\u001b[1;32m~\\anaconda3\\lib\\site-packages\\requests\\sessions.py\u001b[0m in \u001b[0;36mprepare_request\u001b[1;34m(self, request)\u001b[0m\n\u001b[0;32m    447\u001b[0m \u001b[1;33m\u001b[0m\u001b[0m\n\u001b[0;32m    448\u001b[0m         \u001b[0mp\u001b[0m \u001b[1;33m=\u001b[0m \u001b[0mPreparedRequest\u001b[0m\u001b[1;33m(\u001b[0m\u001b[1;33m)\u001b[0m\u001b[1;33m\u001b[0m\u001b[1;33m\u001b[0m\u001b[0m\n\u001b[1;32m--> 449\u001b[1;33m         p.prepare(\n\u001b[0m\u001b[0;32m    450\u001b[0m             \u001b[0mmethod\u001b[0m\u001b[1;33m=\u001b[0m\u001b[0mrequest\u001b[0m\u001b[1;33m.\u001b[0m\u001b[0mmethod\u001b[0m\u001b[1;33m.\u001b[0m\u001b[0mupper\u001b[0m\u001b[1;33m(\u001b[0m\u001b[1;33m)\u001b[0m\u001b[1;33m,\u001b[0m\u001b[1;33m\u001b[0m\u001b[1;33m\u001b[0m\u001b[0m\n\u001b[0;32m    451\u001b[0m             \u001b[0murl\u001b[0m\u001b[1;33m=\u001b[0m\u001b[0mrequest\u001b[0m\u001b[1;33m.\u001b[0m\u001b[0murl\u001b[0m\u001b[1;33m,\u001b[0m\u001b[1;33m\u001b[0m\u001b[1;33m\u001b[0m\u001b[0m\n",
      "\u001b[1;32m~\\anaconda3\\lib\\site-packages\\requests\\models.py\u001b[0m in \u001b[0;36mprepare\u001b[1;34m(self, method, url, headers, files, data, params, auth, cookies, hooks, json)\u001b[0m\n\u001b[0;32m    312\u001b[0m \u001b[1;33m\u001b[0m\u001b[0m\n\u001b[0;32m    313\u001b[0m         \u001b[0mself\u001b[0m\u001b[1;33m.\u001b[0m\u001b[0mprepare_method\u001b[0m\u001b[1;33m(\u001b[0m\u001b[0mmethod\u001b[0m\u001b[1;33m)\u001b[0m\u001b[1;33m\u001b[0m\u001b[1;33m\u001b[0m\u001b[0m\n\u001b[1;32m--> 314\u001b[1;33m         \u001b[0mself\u001b[0m\u001b[1;33m.\u001b[0m\u001b[0mprepare_url\u001b[0m\u001b[1;33m(\u001b[0m\u001b[0murl\u001b[0m\u001b[1;33m,\u001b[0m \u001b[0mparams\u001b[0m\u001b[1;33m)\u001b[0m\u001b[1;33m\u001b[0m\u001b[1;33m\u001b[0m\u001b[0m\n\u001b[0m\u001b[0;32m    315\u001b[0m         \u001b[0mself\u001b[0m\u001b[1;33m.\u001b[0m\u001b[0mprepare_headers\u001b[0m\u001b[1;33m(\u001b[0m\u001b[0mheaders\u001b[0m\u001b[1;33m)\u001b[0m\u001b[1;33m\u001b[0m\u001b[1;33m\u001b[0m\u001b[0m\n\u001b[0;32m    316\u001b[0m         \u001b[0mself\u001b[0m\u001b[1;33m.\u001b[0m\u001b[0mprepare_cookies\u001b[0m\u001b[1;33m(\u001b[0m\u001b[0mcookies\u001b[0m\u001b[1;33m)\u001b[0m\u001b[1;33m\u001b[0m\u001b[1;33m\u001b[0m\u001b[0m\n",
      "\u001b[1;32m~\\anaconda3\\lib\\site-packages\\requests\\models.py\u001b[0m in \u001b[0;36mprepare_url\u001b[1;34m(self, url, params)\u001b[0m\n\u001b[0;32m    386\u001b[0m             \u001b[0merror\u001b[0m \u001b[1;33m=\u001b[0m \u001b[0merror\u001b[0m\u001b[1;33m.\u001b[0m\u001b[0mformat\u001b[0m\u001b[1;33m(\u001b[0m\u001b[0mto_native_string\u001b[0m\u001b[1;33m(\u001b[0m\u001b[0murl\u001b[0m\u001b[1;33m,\u001b[0m \u001b[1;34m'utf8'\u001b[0m\u001b[1;33m)\u001b[0m\u001b[1;33m)\u001b[0m\u001b[1;33m\u001b[0m\u001b[1;33m\u001b[0m\u001b[0m\n\u001b[0;32m    387\u001b[0m \u001b[1;33m\u001b[0m\u001b[0m\n\u001b[1;32m--> 388\u001b[1;33m             \u001b[1;32mraise\u001b[0m \u001b[0mMissingSchema\u001b[0m\u001b[1;33m(\u001b[0m\u001b[0merror\u001b[0m\u001b[1;33m)\u001b[0m\u001b[1;33m\u001b[0m\u001b[1;33m\u001b[0m\u001b[0m\n\u001b[0m\u001b[0;32m    389\u001b[0m \u001b[1;33m\u001b[0m\u001b[0m\n\u001b[0;32m    390\u001b[0m         \u001b[1;32mif\u001b[0m \u001b[1;32mnot\u001b[0m \u001b[0mhost\u001b[0m\u001b[1;33m:\u001b[0m\u001b[1;33m\u001b[0m\u001b[1;33m\u001b[0m\u001b[0m\n",
      "\u001b[1;31mMissingSchema\u001b[0m: Invalid URL '/mycar/mycar_view.php?no=2107859&gubun=K': No schema supplied. Perhaps you meant http:///mycar/mycar_view.php?no=2107859&gubun=K?"
     ]
    }
   ],
   "source": [
    "# 상대주소이기 때문에 오류가 뜸\n",
    "requests.get('/mycar/mycar_view.php?no=2107859&gubun=K')"
   ]
  },
  {
   "cell_type": "code",
   "execution_count": 55,
   "metadata": {},
   "outputs": [],
   "source": [
    "from urllib.parse import urljoin\n",
    "# 상대주소를 절대주소로 만들어 주는 패키지"
   ]
  },
  {
   "cell_type": "code",
   "execution_count": 56,
   "metadata": {},
   "outputs": [
    {
     "data": {
      "text/plain": [
       "'https://www.bobaedream.co.kr/mycar/mycar_view.php?no=2107859&gubun=K'"
      ]
     },
     "execution_count": 56,
     "metadata": {},
     "output_type": "execute_result"
    }
   ],
   "source": [
    "urljoin(url,'/mycar/mycar_view.php?no=2107859&gubun=K')\n",
    "#'https://www.onoffmix.com/' + '/mycar/mycar_view.php?no=2107859&gubun=K'"
   ]
  },
  {
   "cell_type": "code",
   "execution_count": 57,
   "metadata": {},
   "outputs": [
    {
     "name": "stdout",
     "output_type": "stream",
     "text": [
      "https://www.bobaedream.co.kr/mycar/mycar_view.php?no=2118075&gubun=K\n",
      "https://www.bobaedream.co.kr/mycar/mycar_view.php?no=2118080&gubun=K\n",
      "https://www.bobaedream.co.kr/mycar/mycar_view.php?no=2118111&gubun=K\n",
      "https://www.bobaedream.co.kr/mycar/mycar_view.php?no=2118085&gubun=K\n",
      "https://www.bobaedream.co.kr/mycar/mycar_view.php?no=2118084&gubun=K\n",
      "https://www.bobaedream.co.kr/mycar/mycar_view.php?no=2117374&gubun=K\n",
      "https://www.bobaedream.co.kr/mycar/mycar_view.php?no=2118109&gubun=K\n",
      "https://www.bobaedream.co.kr/mycar/mycar_view.php?no=2118083&gubun=K\n",
      "https://www.bobaedream.co.kr/mycar/mycar_view.php?no=2118082&gubun=K\n",
      "https://www.bobaedream.co.kr/mycar/mycar_view.php?no=2108719&gubun=K\n",
      "https://www.bobaedream.co.kr/mycar/mycar_view.php?no=2108971&gubun=K\n",
      "https://www.bobaedream.co.kr/mycar/mycar_view.php?no=2109196&gubun=K\n",
      "https://www.bobaedream.co.kr/mycar/mycar_view.php?no=2109633&gubun=K\n",
      "https://www.bobaedream.co.kr/mycar/mycar_view.php?no=2110671&gubun=K\n",
      "https://www.bobaedream.co.kr/mycar/mycar_view.php?no=2110656&gubun=K\n",
      "https://www.bobaedream.co.kr/mycar/mycar_view.php?no=2110675&gubun=K\n",
      "https://www.bobaedream.co.kr/mycar/mycar_view.php?no=2111375&gubun=K\n",
      "https://www.bobaedream.co.kr/mycar/mycar_view.php?no=2112568&gubun=K\n",
      "https://www.bobaedream.co.kr/mycar/mycar_view.php?no=2112798&gubun=K\n",
      "https://www.bobaedream.co.kr/mycar/mycar_view.php?no=2113037&gubun=K\n"
     ]
    }
   ],
   "source": [
    "for link in root.cssselect('p.tit a'):\n",
    "    print(urljoin(url,link.attrib['href']))"
   ]
  },
  {
   "cell_type": "code",
   "execution_count": null,
   "metadata": {},
   "outputs": [],
   "source": []
  }
 ],
 "metadata": {
  "kernelspec": {
   "display_name": "Python 3",
   "language": "python",
   "name": "python3"
  },
  "language_info": {
   "codemirror_mode": {
    "name": "ipython",
    "version": 3
   },
   "file_extension": ".py",
   "mimetype": "text/x-python",
   "name": "python",
   "nbconvert_exporter": "python",
   "pygments_lexer": "ipython3",
   "version": "3.8.5"
  }
 },
 "nbformat": 4,
 "nbformat_minor": 4
}
