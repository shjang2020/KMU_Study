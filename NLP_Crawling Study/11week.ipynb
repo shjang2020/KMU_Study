{
 "cells": [
  {
   "cell_type": "code",
   "execution_count": 1,
   "metadata": {},
   "outputs": [],
   "source": [
    "from sklearn.datasets import fetch_20newsgroups"
   ]
  },
  {
   "cell_type": "code",
   "execution_count": 2,
   "metadata": {},
   "outputs": [],
   "source": [
    "train = fetch_20newsgroups(subset='train')\n",
    "test = fetch_20newsgroups(subset='test')"
   ]
  },
  {
   "cell_type": "code",
   "execution_count": 3,
   "metadata": {
    "scrolled": false
   },
   "outputs": [
    {
     "name": "stdout",
     "output_type": "stream",
     "text": [
      "From: lerxst@wam.umd.edu (where's my thing)\n",
      "Subject: WHAT car is this!?\n",
      "Nntp-Posting-Host: rac3.wam.umd.edu\n",
      "Organization: University of Maryland, College Park\n",
      "Lines: 15\n",
      "\n",
      " I was wondering if anyone out there could enlighten me on this car I saw\n",
      "the other day. It was a 2-door sports car, looked to be from the late 60s/\n",
      "early 70s. It was called a Bricklin. The doors were really small. In addition,\n",
      "the front bumper was separate from the rest of the body. This is \n",
      "all I know. If anyone can tellme a model name, engine specs, years\n",
      "of production, where this car is made, history, or whatever info you\n",
      "have on this funky looking car, please e-mail.\n",
      "\n",
      "Thanks,\n",
      "- IL\n",
      "   ---- brought to you by your neighborhood Lerxst ----\n",
      "\n",
      "\n",
      "\n",
      "\n",
      "\n"
     ]
    }
   ],
   "source": [
    "print(train.data[0])"
   ]
  },
  {
   "cell_type": "code",
   "execution_count": 4,
   "metadata": {
    "scrolled": true
   },
   "outputs": [
    {
     "data": {
      "text/plain": [
       "7"
      ]
     },
     "execution_count": 4,
     "metadata": {},
     "output_type": "execute_result"
    }
   ],
   "source": [
    "train.target[0]"
   ]
  },
  {
   "cell_type": "code",
   "execution_count": 5,
   "metadata": {
    "scrolled": false
   },
   "outputs": [
    {
     "data": {
      "text/plain": [
       "['alt.atheism',\n",
       " 'comp.graphics',\n",
       " 'comp.os.ms-windows.misc',\n",
       " 'comp.sys.ibm.pc.hardware',\n",
       " 'comp.sys.mac.hardware',\n",
       " 'comp.windows.x',\n",
       " 'misc.forsale',\n",
       " 'rec.autos',\n",
       " 'rec.motorcycles',\n",
       " 'rec.sport.baseball',\n",
       " 'rec.sport.hockey',\n",
       " 'sci.crypt',\n",
       " 'sci.electronics',\n",
       " 'sci.med',\n",
       " 'sci.space',\n",
       " 'soc.religion.christian',\n",
       " 'talk.politics.guns',\n",
       " 'talk.politics.mideast',\n",
       " 'talk.politics.misc',\n",
       " 'talk.religion.misc']"
      ]
     },
     "execution_count": 5,
     "metadata": {},
     "output_type": "execute_result"
    }
   ],
   "source": [
    "train.target_names"
   ]
  },
  {
   "cell_type": "code",
   "execution_count": 6,
   "metadata": {},
   "outputs": [],
   "source": [
    "from sklearn.feature_extraction.text import TfidfVectorizer"
   ]
  },
  {
   "cell_type": "code",
   "execution_count": 7,
   "metadata": {},
   "outputs": [],
   "source": [
    "tfidf = TfidfVectorizer(stop_words='english', max_features=10000)"
   ]
  },
  {
   "cell_type": "code",
   "execution_count": 8,
   "metadata": {},
   "outputs": [],
   "source": [
    "x_train = tfidf.fit_transform(train.data)"
   ]
  },
  {
   "cell_type": "code",
   "execution_count": 9,
   "metadata": {
    "scrolled": true
   },
   "outputs": [
    {
     "data": {
      "text/plain": [
       "(11314, 10000)"
      ]
     },
     "execution_count": 9,
     "metadata": {},
     "output_type": "execute_result"
    }
   ],
   "source": [
    "x_train.shape"
   ]
  },
  {
   "cell_type": "code",
   "execution_count": 11,
   "metadata": {},
   "outputs": [],
   "source": [
    "from sklearn.preprocessing import LabelBinarizer\n",
    "lb = LabelBinarizer()\n",
    "y_train = lb.fit_transform(train.target)"
   ]
  },
  {
   "cell_type": "code",
   "execution_count": 12,
   "metadata": {
    "scrolled": true
   },
   "outputs": [
    {
     "data": {
      "text/plain": [
       "array([ 7,  4,  4,  1, 14])"
      ]
     },
     "execution_count": 12,
     "metadata": {},
     "output_type": "execute_result"
    }
   ],
   "source": [
    "train.target[:5]"
   ]
  },
  {
   "cell_type": "code",
   "execution_count": 13,
   "metadata": {},
   "outputs": [
    {
     "data": {
      "text/plain": [
       "array([[0, 0, 0, 0, 0, 0, 0, 1, 0, 0, 0, 0, 0, 0, 0, 0, 0, 0, 0, 0],\n",
       "       [0, 0, 0, 0, 1, 0, 0, 0, 0, 0, 0, 0, 0, 0, 0, 0, 0, 0, 0, 0],\n",
       "       [0, 0, 0, 0, 1, 0, 0, 0, 0, 0, 0, 0, 0, 0, 0, 0, 0, 0, 0, 0],\n",
       "       [0, 1, 0, 0, 0, 0, 0, 0, 0, 0, 0, 0, 0, 0, 0, 0, 0, 0, 0, 0],\n",
       "       [0, 0, 0, 0, 0, 0, 0, 0, 0, 0, 0, 0, 0, 0, 1, 0, 0, 0, 0, 0]])"
      ]
     },
     "execution_count": 13,
     "metadata": {},
     "output_type": "execute_result"
    }
   ],
   "source": [
    "y_train[:5]"
   ]
  },
  {
   "cell_type": "code",
   "execution_count": 14,
   "metadata": {},
   "outputs": [],
   "source": [
    "x_test = tfidf.transform(test.data)\n",
    "y_test = lb.transform(test.target)"
   ]
  },
  {
   "cell_type": "code",
   "execution_count": 15,
   "metadata": {},
   "outputs": [
    {
     "data": {
      "text/plain": [
       "['newsgroup.pkl']"
      ]
     },
     "execution_count": 15,
     "metadata": {},
     "output_type": "execute_result"
    }
   ],
   "source": [
    "import joblib\n",
    "\n",
    "joblib.dump(\n",
    "    {\n",
    "        'tfidf': tfidf,\n",
    "        'target_names': train.target_names,\n",
    "        'x_train': x_train,\n",
    "        'y_train': y_train,    \n",
    "        'x_test': x_test,\n",
    "        'y_test': y_test,\n",
    "    },\n",
    "    'newsgroup.pkl')"
   ]
  },
  {
   "cell_type": "code",
   "execution_count": null,
   "metadata": {},
   "outputs": [],
   "source": []
  },
  {
   "cell_type": "code",
   "execution_count": 16,
   "metadata": {},
   "outputs": [],
   "source": [
    "import joblib\n",
    "data = joblib.load('newsgroup.pkl')\n",
    "locals().update(data)"
   ]
  },
  {
   "cell_type": "code",
   "execution_count": 17,
   "metadata": {},
   "outputs": [],
   "source": [
    "import tensorflow as tf"
   ]
  },
  {
   "cell_type": "code",
   "execution_count": 18,
   "metadata": {},
   "outputs": [],
   "source": [
    "model = tf.keras.models.Sequential([\n",
    "    tf.keras.layers.Dense(20, activation='softmax')\n",
    "])"
   ]
  },
  {
   "cell_type": "code",
   "execution_count": 19,
   "metadata": {},
   "outputs": [],
   "source": [
    "model.compile(\n",
    "    loss='categorical_crossentropy',\n",
    "    optimizer=tf.keras.optimizers.Adam(lr=0.01),\n",
    "    metrics=['accuracy'])"
   ]
  },
  {
   "cell_type": "code",
   "execution_count": 20,
   "metadata": {},
   "outputs": [
    {
     "name": "stdout",
     "output_type": "stream",
     "text": [
      "Epoch 1/30\n",
      "319/319 [==============================] - 2s 5ms/step - loss: 1.6778 - accuracy: 0.7883 - val_loss: 0.9219 - val_accuracy: 0.8860\n",
      "Epoch 2/30\n",
      "319/319 [==============================] - 1s 4ms/step - loss: 0.5220 - accuracy: 0.9616 - val_loss: 0.5953 - val_accuracy: 0.9002\n",
      "Epoch 3/30\n",
      "319/319 [==============================] - 1s 4ms/step - loss: 0.2756 - accuracy: 0.9829 - val_loss: 0.4770 - val_accuracy: 0.9046\n",
      "Epoch 4/30\n",
      "319/319 [==============================] - 1s 4ms/step - loss: 0.1716 - accuracy: 0.9906 - val_loss: 0.4198 - val_accuracy: 0.9090\n",
      "Epoch 5/30\n",
      "319/319 [==============================] - 1s 4ms/step - loss: 0.1161 - accuracy: 0.9947 - val_loss: 0.3840 - val_accuracy: 0.9064\n"
     ]
    },
    {
     "data": {
      "text/plain": [
       "<tensorflow.python.keras.callbacks.History at 0x142d19abd00>"
      ]
     },
     "execution_count": 20,
     "metadata": {},
     "output_type": "execute_result"
    }
   ],
   "source": [
    "model.fit(\n",
    "    x_train.toarray(),\n",
    "    y_train,\n",
    "    epochs=30,\n",
    "    validation_split=.1,\n",
    "    callbacks=[tf.keras.callbacks.EarlyStopping(monitor='val_accuracy')],\n",
    ")"
   ]
  },
  {
   "cell_type": "code",
   "execution_count": 21,
   "metadata": {
    "scrolled": true
   },
   "outputs": [
    {
     "name": "stdout",
     "output_type": "stream",
     "text": [
      "Model: \"sequential\"\n",
      "_________________________________________________________________\n",
      "Layer (type)                 Output Shape              Param #   \n",
      "=================================================================\n",
      "dense (Dense)                (None, 20)                200020    \n",
      "=================================================================\n",
      "Total params: 200,020\n",
      "Trainable params: 200,020\n",
      "Non-trainable params: 0\n",
      "_________________________________________________________________\n"
     ]
    }
   ],
   "source": [
    "model.summary()"
   ]
  },
  {
   "cell_type": "code",
   "execution_count": 22,
   "metadata": {},
   "outputs": [],
   "source": [
    "import pandas as pd"
   ]
  },
  {
   "cell_type": "code",
   "execution_count": 23,
   "metadata": {},
   "outputs": [],
   "source": [
    "w, _ = model.weights"
   ]
  },
  {
   "cell_type": "code",
   "execution_count": 24,
   "metadata": {},
   "outputs": [],
   "source": [
    "weights = pd.DataFrame(w.numpy(), columns=target_names, index=tfidf.get_feature_names())"
   ]
  },
  {
   "cell_type": "code",
   "execution_count": 26,
   "metadata": {},
   "outputs": [
    {
     "data": {
      "text/html": [
       "<div>\n",
       "<style scoped>\n",
       "    .dataframe tbody tr th:only-of-type {\n",
       "        vertical-align: middle;\n",
       "    }\n",
       "\n",
       "    .dataframe tbody tr th {\n",
       "        vertical-align: top;\n",
       "    }\n",
       "\n",
       "    .dataframe thead th {\n",
       "        text-align: right;\n",
       "    }\n",
       "</style>\n",
       "<table border=\"1\" class=\"dataframe\">\n",
       "  <thead>\n",
       "    <tr style=\"text-align: right;\">\n",
       "      <th></th>\n",
       "      <th>alt.atheism</th>\n",
       "      <th>comp.graphics</th>\n",
       "      <th>comp.os.ms-windows.misc</th>\n",
       "      <th>comp.sys.ibm.pc.hardware</th>\n",
       "      <th>comp.sys.mac.hardware</th>\n",
       "      <th>comp.windows.x</th>\n",
       "      <th>misc.forsale</th>\n",
       "      <th>rec.autos</th>\n",
       "      <th>rec.motorcycles</th>\n",
       "      <th>rec.sport.baseball</th>\n",
       "      <th>rec.sport.hockey</th>\n",
       "      <th>sci.crypt</th>\n",
       "      <th>sci.electronics</th>\n",
       "      <th>sci.med</th>\n",
       "      <th>sci.space</th>\n",
       "      <th>soc.religion.christian</th>\n",
       "      <th>talk.politics.guns</th>\n",
       "      <th>talk.politics.mideast</th>\n",
       "      <th>talk.politics.misc</th>\n",
       "      <th>talk.religion.misc</th>\n",
       "    </tr>\n",
       "  </thead>\n",
       "  <tbody>\n",
       "    <tr>\n",
       "      <th>00</th>\n",
       "      <td>-2.674435</td>\n",
       "      <td>-1.035579</td>\n",
       "      <td>-0.994162</td>\n",
       "      <td>-0.465925</td>\n",
       "      <td>-1.729387</td>\n",
       "      <td>-0.015489</td>\n",
       "      <td>1.571029</td>\n",
       "      <td>-0.646751</td>\n",
       "      <td>-0.704679</td>\n",
       "      <td>0.582772</td>\n",
       "      <td>-0.286080</td>\n",
       "      <td>-1.762668</td>\n",
       "      <td>-0.851056</td>\n",
       "      <td>-1.445516</td>\n",
       "      <td>-0.955691</td>\n",
       "      <td>-0.321742</td>\n",
       "      <td>-0.216436</td>\n",
       "      <td>-0.580323</td>\n",
       "      <td>-1.067068</td>\n",
       "      <td>-2.021615</td>\n",
       "    </tr>\n",
       "    <tr>\n",
       "      <th>000</th>\n",
       "      <td>0.044126</td>\n",
       "      <td>-0.987592</td>\n",
       "      <td>-0.679350</td>\n",
       "      <td>-3.813828</td>\n",
       "      <td>-2.542926</td>\n",
       "      <td>-1.642839</td>\n",
       "      <td>0.568073</td>\n",
       "      <td>0.199159</td>\n",
       "      <td>-0.961499</td>\n",
       "      <td>0.560883</td>\n",
       "      <td>-0.980337</td>\n",
       "      <td>-1.238528</td>\n",
       "      <td>-0.171723</td>\n",
       "      <td>-1.524678</td>\n",
       "      <td>0.455859</td>\n",
       "      <td>-2.267924</td>\n",
       "      <td>0.610281</td>\n",
       "      <td>0.487733</td>\n",
       "      <td>0.261342</td>\n",
       "      <td>-0.752898</td>\n",
       "    </tr>\n",
       "    <tr>\n",
       "      <th>005</th>\n",
       "      <td>-0.401186</td>\n",
       "      <td>-0.576127</td>\n",
       "      <td>-0.419901</td>\n",
       "      <td>-0.498370</td>\n",
       "      <td>-0.462460</td>\n",
       "      <td>-0.320004</td>\n",
       "      <td>-0.461909</td>\n",
       "      <td>-0.419471</td>\n",
       "      <td>-0.583020</td>\n",
       "      <td>-0.673069</td>\n",
       "      <td>0.366597</td>\n",
       "      <td>-0.430570</td>\n",
       "      <td>0.249441</td>\n",
       "      <td>-0.551177</td>\n",
       "      <td>-0.664298</td>\n",
       "      <td>-0.613359</td>\n",
       "      <td>-0.335992</td>\n",
       "      <td>-0.475428</td>\n",
       "      <td>-0.545661</td>\n",
       "      <td>-0.400229</td>\n",
       "    </tr>\n",
       "    <tr>\n",
       "      <th>01</th>\n",
       "      <td>0.115549</td>\n",
       "      <td>0.322201</td>\n",
       "      <td>-3.210002</td>\n",
       "      <td>-0.149213</td>\n",
       "      <td>-0.194841</td>\n",
       "      <td>-1.229748</td>\n",
       "      <td>-1.066886</td>\n",
       "      <td>-1.022436</td>\n",
       "      <td>-0.849613</td>\n",
       "      <td>0.184199</td>\n",
       "      <td>-2.157596</td>\n",
       "      <td>0.580046</td>\n",
       "      <td>-1.003356</td>\n",
       "      <td>-0.787828</td>\n",
       "      <td>-0.996781</td>\n",
       "      <td>1.115343</td>\n",
       "      <td>-0.408665</td>\n",
       "      <td>-0.625900</td>\n",
       "      <td>-1.787646</td>\n",
       "      <td>-0.298261</td>\n",
       "    </tr>\n",
       "    <tr>\n",
       "      <th>02</th>\n",
       "      <td>-0.144768</td>\n",
       "      <td>-1.139957</td>\n",
       "      <td>-0.146742</td>\n",
       "      <td>0.146182</td>\n",
       "      <td>-1.065380</td>\n",
       "      <td>0.110873</td>\n",
       "      <td>-0.408038</td>\n",
       "      <td>-0.596715</td>\n",
       "      <td>-1.274021</td>\n",
       "      <td>-0.008528</td>\n",
       "      <td>-1.608270</td>\n",
       "      <td>-0.419521</td>\n",
       "      <td>0.272188</td>\n",
       "      <td>-0.985650</td>\n",
       "      <td>-0.185783</td>\n",
       "      <td>0.568964</td>\n",
       "      <td>-1.789925</td>\n",
       "      <td>-1.446940</td>\n",
       "      <td>0.050327</td>\n",
       "      <td>0.598387</td>\n",
       "    </tr>\n",
       "  </tbody>\n",
       "</table>\n",
       "</div>"
      ],
      "text/plain": [
       "     alt.atheism  comp.graphics  comp.os.ms-windows.misc  \\\n",
       "00     -2.674435      -1.035579                -0.994162   \n",
       "000     0.044126      -0.987592                -0.679350   \n",
       "005    -0.401186      -0.576127                -0.419901   \n",
       "01      0.115549       0.322201                -3.210002   \n",
       "02     -0.144768      -1.139957                -0.146742   \n",
       "\n",
       "     comp.sys.ibm.pc.hardware  comp.sys.mac.hardware  comp.windows.x  \\\n",
       "00                  -0.465925              -1.729387       -0.015489   \n",
       "000                 -3.813828              -2.542926       -1.642839   \n",
       "005                 -0.498370              -0.462460       -0.320004   \n",
       "01                  -0.149213              -0.194841       -1.229748   \n",
       "02                   0.146182              -1.065380        0.110873   \n",
       "\n",
       "     misc.forsale  rec.autos  rec.motorcycles  rec.sport.baseball  \\\n",
       "00       1.571029  -0.646751        -0.704679            0.582772   \n",
       "000      0.568073   0.199159        -0.961499            0.560883   \n",
       "005     -0.461909  -0.419471        -0.583020           -0.673069   \n",
       "01      -1.066886  -1.022436        -0.849613            0.184199   \n",
       "02      -0.408038  -0.596715        -1.274021           -0.008528   \n",
       "\n",
       "     rec.sport.hockey  sci.crypt  sci.electronics   sci.med  sci.space  \\\n",
       "00          -0.286080  -1.762668        -0.851056 -1.445516  -0.955691   \n",
       "000         -0.980337  -1.238528        -0.171723 -1.524678   0.455859   \n",
       "005          0.366597  -0.430570         0.249441 -0.551177  -0.664298   \n",
       "01          -2.157596   0.580046        -1.003356 -0.787828  -0.996781   \n",
       "02          -1.608270  -0.419521         0.272188 -0.985650  -0.185783   \n",
       "\n",
       "     soc.religion.christian  talk.politics.guns  talk.politics.mideast  \\\n",
       "00                -0.321742           -0.216436              -0.580323   \n",
       "000               -2.267924            0.610281               0.487733   \n",
       "005               -0.613359           -0.335992              -0.475428   \n",
       "01                 1.115343           -0.408665              -0.625900   \n",
       "02                 0.568964           -1.789925              -1.446940   \n",
       "\n",
       "     talk.politics.misc  talk.religion.misc  \n",
       "00            -1.067068           -2.021615  \n",
       "000            0.261342           -0.752898  \n",
       "005           -0.545661           -0.400229  \n",
       "01            -1.787646           -0.298261  \n",
       "02             0.050327            0.598387  "
      ]
     },
     "execution_count": 26,
     "metadata": {},
     "output_type": "execute_result"
    }
   ],
   "source": [
    "weights.head()"
   ]
  },
  {
   "cell_type": "code",
   "execution_count": 27,
   "metadata": {
    "scrolled": true
   },
   "outputs": [
    {
     "data": {
      "text/html": [
       "<div>\n",
       "<style scoped>\n",
       "    .dataframe tbody tr th:only-of-type {\n",
       "        vertical-align: middle;\n",
       "    }\n",
       "\n",
       "    .dataframe tbody tr th {\n",
       "        vertical-align: top;\n",
       "    }\n",
       "\n",
       "    .dataframe thead th {\n",
       "        text-align: right;\n",
       "    }\n",
       "</style>\n",
       "<table border=\"1\" class=\"dataframe\">\n",
       "  <thead>\n",
       "    <tr style=\"text-align: right;\">\n",
       "      <th></th>\n",
       "      <th>sci.space</th>\n",
       "    </tr>\n",
       "  </thead>\n",
       "  <tbody>\n",
       "    <tr>\n",
       "      <th>launch</th>\n",
       "      <td>1.685444</td>\n",
       "    </tr>\n",
       "    <tr>\n",
       "      <th>nasa</th>\n",
       "      <td>1.750745</td>\n",
       "    </tr>\n",
       "    <tr>\n",
       "      <th>pat</th>\n",
       "      <td>1.818211</td>\n",
       "    </tr>\n",
       "    <tr>\n",
       "      <th>shuttle</th>\n",
       "      <td>1.851114</td>\n",
       "    </tr>\n",
       "    <tr>\n",
       "      <th>prb</th>\n",
       "      <td>1.978014</td>\n",
       "    </tr>\n",
       "    <tr>\n",
       "      <th>moon</th>\n",
       "      <td>2.096910</td>\n",
       "    </tr>\n",
       "    <tr>\n",
       "      <th>earth</th>\n",
       "      <td>2.188098</td>\n",
       "    </tr>\n",
       "    <tr>\n",
       "      <th>sci</th>\n",
       "      <td>2.321253</td>\n",
       "    </tr>\n",
       "    <tr>\n",
       "      <th>orbit</th>\n",
       "      <td>2.616498</td>\n",
       "    </tr>\n",
       "    <tr>\n",
       "      <th>space</th>\n",
       "      <td>3.383337</td>\n",
       "    </tr>\n",
       "  </tbody>\n",
       "</table>\n",
       "</div>"
      ],
      "text/plain": [
       "         sci.space\n",
       "launch    1.685444\n",
       "nasa      1.750745\n",
       "pat       1.818211\n",
       "shuttle   1.851114\n",
       "prb       1.978014\n",
       "moon      2.096910\n",
       "earth     2.188098\n",
       "sci       2.321253\n",
       "orbit     2.616498\n",
       "space     3.383337"
      ]
     },
     "execution_count": 27,
     "metadata": {},
     "output_type": "execute_result"
    }
   ],
   "source": [
    "column = 'sci.space'\n",
    "weights.sort_values(column)[[column]].tail(10)"
   ]
  },
  {
   "cell_type": "markdown",
   "metadata": {},
   "source": [
    "Dropout 레이어를 넣은 다층신경망 모형이다."
   ]
  },
  {
   "cell_type": "code",
   "execution_count": 28,
   "metadata": {},
   "outputs": [],
   "source": [
    "model = tf.keras.models.Sequential([\n",
    "    tf.keras.layers.Dense(64, 'relu'),\n",
    "    tf.keras.layers.Dropout(0.5),\n",
    "    tf.keras.layers.Dense(64, 'relu'),    \n",
    "    tf.keras.layers.Dropout(0.5),\n",
    "    tf.keras.layers.Dense(20, activation='softmax')\n",
    "])"
   ]
  },
  {
   "cell_type": "markdown",
   "metadata": {},
   "source": [
    "Batch Normalization 레이어를 넣은 다층신경망 모형이다."
   ]
  },
  {
   "cell_type": "code",
   "execution_count": null,
   "metadata": {},
   "outputs": [],
   "source": [
    "model = tf.keras.models.Sequential([\n",
    "    tf.keras.layers.Dense(64, 'relu'),\n",
    "    tf.keras.layers.BatchNormalization(),\n",
    "    tf.keras.layers.Dense(64, 'relu'),\n",
    "    tf.keras.layers.BatchNormalization(),\n",
    "    tf.keras.layers.Dense(20, activation='softmax')\n",
    "])"
   ]
  },
  {
   "cell_type": "markdown",
   "metadata": {},
   "source": [
    "만약 활성화 함수를 적용하기 전에 batch normalization을 적용하려면 다음과 같이 한다."
   ]
  },
  {
   "cell_type": "code",
   "execution_count": null,
   "metadata": {},
   "outputs": [],
   "source": [
    "model = tf.keras.models.Sequential([\n",
    "    tf.keras.layers.Dense(64),\n",
    "    tf.keras.layers.BatchNormalization(),\n",
    "    tf.keras.layers.Activation('relu'),\n",
    "    tf.keras.layers.Dense(64),\n",
    "    tf.keras.layers.BatchNormalization(),\n",
    "    tf.keras.layers.Activation('relu'),\n",
    "    tf.keras.layers.Dense(20, activation='softmax')\n",
    "])"
   ]
  },
  {
   "cell_type": "markdown",
   "metadata": {},
   "source": [
    "텐서플로에서는 원핫인코딩을 하지 않아도 다항분류를 할 수 있다. 먼저 원핫인코딩 되기 이전의 형태로 되돌린다."
   ]
  },
  {
   "cell_type": "code",
   "execution_count": 29,
   "metadata": {},
   "outputs": [],
   "source": [
    "import numpy as np"
   ]
  },
  {
   "cell_type": "code",
   "execution_count": 40,
   "metadata": {},
   "outputs": [],
   "source": [
    "#벡터 (0,1,2,⋯,18,19)를 곱하면 각 행에서 1이 있는 위치의 값만 남는다.\n",
    "train_target = y_train @ np.arange(20)"
   ]
  },
  {
   "cell_type": "code",
   "execution_count": 38,
   "metadata": {},
   "outputs": [],
   "source": [
    "#또는 각 행에서 가장 큰 값의 위치를 찾아도 된다.\n",
    "train_target = np.argmax(y_train, axis=1)"
   ]
  },
  {
   "cell_type": "code",
   "execution_count": 41,
   "metadata": {},
   "outputs": [
    {
     "data": {
      "text/plain": [
       "array([ 7,  4,  4,  1, 14])"
      ]
     },
     "execution_count": 41,
     "metadata": {},
     "output_type": "execute_result"
    }
   ],
   "source": [
    "#원핫인코딩 이전의 형태로 되돌렸다.\n",
    "train_target[:5]"
   ]
  },
  {
   "cell_type": "markdown",
   "metadata": {},
   "source": [
    "손실 함수를 sparse_categorical_crossentropy로 바꾼다."
   ]
  },
  {
   "cell_type": "code",
   "execution_count": null,
   "metadata": {},
   "outputs": [],
   "source": [
    "model.compile(\n",
    "    loss='sparse_categorical_crossentropy',\n",
    "    optimizer=tf.keras.optimizers.Adam(lr=0.1),\n",
    "    metrics=['accuracy'])"
   ]
  },
  {
   "cell_type": "markdown",
   "metadata": {},
   "source": [
    "y_train 대신 train_target으로 학습을 진행한다."
   ]
  },
  {
   "cell_type": "code",
   "execution_count": null,
   "metadata": {},
   "outputs": [],
   "source": [
    "model.fit(\n",
    "    x_train.toarray(),\n",
    "    train_target,\n",
    "    epochs=30,\n",
    "    validation_split=.1,\n",
    "    callbacks=[tf.keras.callbacks.EarlyStopping(monitor='val_accuracy')],\n",
    ")"
   ]
  },
  {
   "cell_type": "markdown",
   "metadata": {},
   "source": [
    "레이블 스무딩을 하는 방법에는 두 가지가 있다. 하나는 데이터를 스무딩된 형태로 바꾸는 것이다."
   ]
  },
  {
   "cell_type": "code",
   "execution_count": null,
   "metadata": {},
   "outputs": [],
   "source": [
    "e = 0.2"
   ]
  },
  {
   "cell_type": "code",
   "execution_count": null,
   "metadata": {},
   "outputs": [],
   "source": [
    "y_smooth = y_train * (1 - e) + (e / 20)\n",
    "y_smooth"
   ]
  },
  {
   "cell_type": "markdown",
   "metadata": {},
   "source": [
    "학습을 시킬 때 y_train 대신 y_smooth를 사용하면 된다.\n",
    "\n",
    "또는 손실 함수 CategoricalCrossentropy에서 label_smoothing을 설정해주어도 된다."
   ]
  },
  {
   "cell_type": "code",
   "execution_count": null,
   "metadata": {},
   "outputs": [],
   "source": [
    "model.compile(\n",
    "    loss=tf.keras.losses.CategoricalCrossentropy(label_smoothing=0.2),\n",
    "    optimizer='adam',\n",
    "    metrics=['accuracy'])"
   ]
  }
 ],
 "metadata": {
  "kernelspec": {
   "display_name": "Python 3",
   "language": "python",
   "name": "python3"
  },
  "language_info": {
   "codemirror_mode": {
    "name": "ipython",
    "version": 3
   },
   "file_extension": ".py",
   "mimetype": "text/x-python",
   "name": "python",
   "nbconvert_exporter": "python",
   "pygments_lexer": "ipython3",
   "version": "3.8.5"
  }
 },
 "nbformat": 4,
 "nbformat_minor": 4
}
