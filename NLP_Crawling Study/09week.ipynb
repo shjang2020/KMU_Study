{
 "cells": [
  {
   "cell_type": "code",
   "execution_count": 1,
   "metadata": {
    "scrolled": true
   },
   "outputs": [
    {
     "name": "stderr",
     "output_type": "stream",
     "text": [
      "'wget'은(는) 내부 또는 외부 명령, 실행할 수 있는 프로그램, 또는\n",
      "배치 파일이 아닙니다.\n"
     ]
    }
   ],
   "source": [
    "!wget -c https://github.com/euphoris/datasets/raw/master/imdb.zip"
   ]
  },
  {
   "cell_type": "code",
   "execution_count": 2,
   "metadata": {},
   "outputs": [
    {
     "data": {
      "text/html": [
       "<div>\n",
       "<style scoped>\n",
       "    .dataframe tbody tr th:only-of-type {\n",
       "        vertical-align: middle;\n",
       "    }\n",
       "\n",
       "    .dataframe tbody tr th {\n",
       "        vertical-align: top;\n",
       "    }\n",
       "\n",
       "    .dataframe thead th {\n",
       "        text-align: right;\n",
       "    }\n",
       "</style>\n",
       "<table border=\"1\" class=\"dataframe\">\n",
       "  <thead>\n",
       "    <tr style=\"text-align: right;\">\n",
       "      <th></th>\n",
       "      <th>review</th>\n",
       "      <th>sentiment</th>\n",
       "    </tr>\n",
       "  </thead>\n",
       "  <tbody>\n",
       "    <tr>\n",
       "      <th>0</th>\n",
       "      <td>A very, very, very slow-moving, aimless movie ...</td>\n",
       "      <td>0</td>\n",
       "    </tr>\n",
       "    <tr>\n",
       "      <th>1</th>\n",
       "      <td>Not sure who was more lost - the flat characte...</td>\n",
       "      <td>0</td>\n",
       "    </tr>\n",
       "    <tr>\n",
       "      <th>2</th>\n",
       "      <td>Attempting artiness with black &amp; white and cle...</td>\n",
       "      <td>0</td>\n",
       "    </tr>\n",
       "    <tr>\n",
       "      <th>3</th>\n",
       "      <td>Very little music or anything to speak of.</td>\n",
       "      <td>0</td>\n",
       "    </tr>\n",
       "    <tr>\n",
       "      <th>4</th>\n",
       "      <td>The best scene in the movie was when Gerardo i...</td>\n",
       "      <td>1</td>\n",
       "    </tr>\n",
       "  </tbody>\n",
       "</table>\n",
       "</div>"
      ],
      "text/plain": [
       "                                              review  sentiment\n",
       "0  A very, very, very slow-moving, aimless movie ...          0\n",
       "1  Not sure who was more lost - the flat characte...          0\n",
       "2  Attempting artiness with black & white and cle...          0\n",
       "3       Very little music or anything to speak of.            0\n",
       "4  The best scene in the movie was when Gerardo i...          1"
      ]
     },
     "execution_count": 2,
     "metadata": {},
     "output_type": "execute_result"
    }
   ],
   "source": [
    "import pandas as pd\n",
    "df=pd.read_excel('imdb.xlsx', index_col=0)\n",
    "df.head()"
   ]
  },
  {
   "cell_type": "code",
   "execution_count": 3,
   "metadata": {},
   "outputs": [],
   "source": [
    "from sklearn.feature_extraction.text import TfidfVectorizer\n",
    "cv=TfidfVectorizer(max_features=2000, stop_words='english')\n",
    "m=cv.fit_transform(df.review)"
   ]
  },
  {
   "cell_type": "code",
   "execution_count": 4,
   "metadata": {},
   "outputs": [
    {
     "data": {
      "text/plain": [
       "(748, 2000)"
      ]
     },
     "execution_count": 4,
     "metadata": {},
     "output_type": "execute_result"
    }
   ],
   "source": [
    "m.shape"
   ]
  },
  {
   "cell_type": "code",
   "execution_count": 5,
   "metadata": {},
   "outputs": [],
   "source": [
    "import tensorflow as tf"
   ]
  },
  {
   "cell_type": "code",
   "execution_count": 6,
   "metadata": {},
   "outputs": [],
   "source": [
    "model=tf.keras.Sequential()\n",
    "model.add(tf.keras.layers.Dense(128,input_shape=(2000,),activation='relu')) # 은닉층\n",
    "#relu 외에 tanh 과 같은 여러 종류가 있다 좋은 것을 사용하면 된다.\n",
    "model.add(tf.keras.layers.Dense(1,activation='sigmoid')) #출력층"
   ]
  },
  {
   "cell_type": "code",
   "execution_count": 7,
   "metadata": {},
   "outputs": [
    {
     "name": "stdout",
     "output_type": "stream",
     "text": [
      "Model: \"sequential\"\n",
      "_________________________________________________________________\n",
      "Layer (type)                 Output Shape              Param #   \n",
      "=================================================================\n",
      "dense (Dense)                (None, 128)               256128    \n",
      "_________________________________________________________________\n",
      "dense_1 (Dense)              (None, 1)                 129       \n",
      "=================================================================\n",
      "Total params: 256,257\n",
      "Trainable params: 256,257\n",
      "Non-trainable params: 0\n",
      "_________________________________________________________________\n"
     ]
    }
   ],
   "source": [
    "model.summary()"
   ]
  },
  {
   "cell_type": "code",
   "execution_count": 8,
   "metadata": {
    "scrolled": true
   },
   "outputs": [
    {
     "data": {
      "text/plain": [
       "256128"
      ]
     },
     "execution_count": 8,
     "metadata": {},
     "output_type": "execute_result"
    }
   ],
   "source": [
    "2000*128 + 128 #입력의 갯수 곱하기 출력의 갯수 더하기 출력 하나씩"
   ]
  },
  {
   "cell_type": "code",
   "execution_count": 9,
   "metadata": {},
   "outputs": [],
   "source": [
    "model.compile(\n",
    "    optimizer=tf.keras.optimizers.Adam(learning_rate=0.001), #초반부에는 sgd가 잘되고 후반에는 adam이 잘된다.\n",
    "    loss='binary_crossentropy',\n",
    "    metrics=['accuracy']\n",
    ")"
   ]
  },
  {
   "cell_type": "code",
   "execution_count": 10,
   "metadata": {},
   "outputs": [],
   "source": [
    "result= model.fit(m.A, df.sentiment.values, epochs=30, batch_size=32, validation_split=0.2,verbose=0)"
   ]
  },
  {
   "cell_type": "code",
   "execution_count": 11,
   "metadata": {},
   "outputs": [
    {
     "data": {
      "image/png": "[encoded data removed]",
      "text/plain": [
       "<Figure size 432x288 with 1 Axes>"
      ]
     },
     "metadata": {
      "needs_background": "light"
     },
     "output_type": "display_data"
    }
   ],
   "source": [
    "import matplotlib.pyplot as plt\n",
    "plt.plot(result.history['accuracy'], 'b-',label='accuracy')\n",
    "plt.plot(result.history['val_accuracy'],'r--',label='val_accuracy')\n",
    "plt.legend()\n",
    "plt.show()"
   ]
  },
  {
   "cell_type": "code",
   "execution_count": 12,
   "metadata": {},
   "outputs": [
    {
     "data": {
      "image/png": "[encoded data removed]",
      "text/plain": [
       "<Figure size 432x288 with 1 Axes>"
      ]
     },
     "metadata": {
      "needs_background": "light"
     },
     "output_type": "display_data"
    }
   ],
   "source": [
    "plt.plot(result.history['loss'], 'b-',label='loss')\n",
    "plt.plot(result.history['val_loss'],'r--',label='val_loss')\n",
    "plt.legend()\n",
    "plt.show()"
   ]
  },
  {
   "cell_type": "code",
   "execution_count": 13,
   "metadata": {},
   "outputs": [],
   "source": [
    "checkpoint=tf.keras.callbacks.ModelCheckpoint(filepath='model-{epoch:02d}',monitor='val_loss',save_best_only=True)"
   ]
  },
  {
   "cell_type": "code",
   "execution_count": 14,
   "metadata": {
    "scrolled": false
   },
   "outputs": [
    {
     "name": "stdout",
     "output_type": "stream",
     "text": [
      "Epoch 1/30\n",
      " 1/19 [>.............................] - ETA: 0s - loss: 0.0724 - accuracy: 0.9375WARNING:tensorflow:From C:\\Users\\JangSeongHyun\\anaconda3\\lib\\site-packages\\tensorflow\\python\\training\\tracking\\tracking.py:111: Model.state_updates (from tensorflow.python.keras.engine.training) is deprecated and will be removed in a future version.\n",
      "Instructions for updating:\n",
      "This property should not be used in TensorFlow 2.0, as updates are applied automatically.\n",
      "WARNING:tensorflow:From C:\\Users\\JangSeongHyun\\anaconda3\\lib\\site-packages\\tensorflow\\python\\training\\tracking\\tracking.py:111: Layer.updates (from tensorflow.python.keras.engine.base_layer) is deprecated and will be removed in a future version.\n",
      "Instructions for updating:\n",
      "This property should not be used in TensorFlow 2.0, as updates are applied automatically.\n",
      "INFO:tensorflow:Assets written to: model-01\\assets\n",
      "19/19 [==============================] - 1s 31ms/step - loss: 0.0207 - accuracy: 0.9933 - val_loss: 0.6652 - val_accuracy: 0.7400\n",
      "Epoch 2/30\n",
      "19/19 [==============================] - 0s 2ms/step - loss: 0.0199 - accuracy: 0.9950 - val_loss: 0.6660 - val_accuracy: 0.7467\n",
      "Epoch 3/30\n",
      "19/19 [==============================] - 0s 2ms/step - loss: 0.0190 - accuracy: 0.9950 - val_loss: 0.6788 - val_accuracy: 0.7400\n",
      "Epoch 4/30\n",
      "19/19 [==============================] - 0s 2ms/step - loss: 0.0186 - accuracy: 0.9933 - val_loss: 0.7011 - val_accuracy: 0.7400\n",
      "Epoch 5/30\n",
      "19/19 [==============================] - 0s 2ms/step - loss: 0.0178 - accuracy: 0.9950 - val_loss: 0.6887 - val_accuracy: 0.7467\n",
      "Epoch 6/30\n",
      "19/19 [==============================] - 0s 2ms/step - loss: 0.0172 - accuracy: 0.9950 - val_loss: 0.6842 - val_accuracy: 0.7467\n",
      "Epoch 7/30\n",
      "19/19 [==============================] - 0s 2ms/step - loss: 0.0165 - accuracy: 0.9950 - val_loss: 0.7241 - val_accuracy: 0.7400\n",
      "Epoch 8/30\n",
      "19/19 [==============================] - 0s 2ms/step - loss: 0.0160 - accuracy: 0.9950 - val_loss: 0.7125 - val_accuracy: 0.7400\n",
      "Epoch 9/30\n",
      "19/19 [==============================] - 0s 2ms/step - loss: 0.0155 - accuracy: 0.9950 - val_loss: 0.7154 - val_accuracy: 0.7400\n",
      "Epoch 10/30\n",
      "19/19 [==============================] - 0s 2ms/step - loss: 0.0151 - accuracy: 0.9933 - val_loss: 0.7049 - val_accuracy: 0.7467\n",
      "Epoch 11/30\n",
      "19/19 [==============================] - 0s 2ms/step - loss: 0.0147 - accuracy: 0.9950 - val_loss: 0.7187 - val_accuracy: 0.7467\n",
      "Epoch 12/30\n",
      "19/19 [==============================] - 0s 2ms/step - loss: 0.0144 - accuracy: 0.9933 - val_loss: 0.7220 - val_accuracy: 0.7467\n",
      "Epoch 13/30\n",
      "19/19 [==============================] - 0s 2ms/step - loss: 0.0140 - accuracy: 0.9933 - val_loss: 0.7267 - val_accuracy: 0.7400\n",
      "Epoch 14/30\n",
      "19/19 [==============================] - 0s 2ms/step - loss: 0.0137 - accuracy: 0.9950 - val_loss: 0.7204 - val_accuracy: 0.7467\n",
      "Epoch 15/30\n",
      "19/19 [==============================] - 0s 2ms/step - loss: 0.0134 - accuracy: 0.9933 - val_loss: 0.7470 - val_accuracy: 0.7333\n",
      "Epoch 16/30\n",
      "19/19 [==============================] - 0s 2ms/step - loss: 0.0131 - accuracy: 0.9950 - val_loss: 0.7400 - val_accuracy: 0.7400\n",
      "Epoch 17/30\n",
      "19/19 [==============================] - 0s 2ms/step - loss: 0.0129 - accuracy: 0.9933 - val_loss: 0.7526 - val_accuracy: 0.7400\n",
      "Epoch 18/30\n",
      "19/19 [==============================] - 0s 2ms/step - loss: 0.0125 - accuracy: 0.9950 - val_loss: 0.7396 - val_accuracy: 0.7400\n",
      "Epoch 19/30\n",
      "19/19 [==============================] - 0s 2ms/step - loss: 0.0123 - accuracy: 0.9950 - val_loss: 0.7459 - val_accuracy: 0.7400\n",
      "Epoch 20/30\n",
      "19/19 [==============================] - 0s 2ms/step - loss: 0.0121 - accuracy: 0.9950 - val_loss: 0.7505 - val_accuracy: 0.7400\n",
      "Epoch 21/30\n",
      "19/19 [==============================] - 0s 2ms/step - loss: 0.0118 - accuracy: 0.9950 - val_loss: 0.7554 - val_accuracy: 0.7400\n",
      "Epoch 22/30\n",
      "19/19 [==============================] - 0s 2ms/step - loss: 0.0117 - accuracy: 0.9950 - val_loss: 0.7609 - val_accuracy: 0.7400\n",
      "Epoch 23/30\n",
      "19/19 [==============================] - 0s 2ms/step - loss: 0.0116 - accuracy: 0.9933 - val_loss: 0.7740 - val_accuracy: 0.7400\n",
      "Epoch 24/30\n",
      "19/19 [==============================] - 0s 2ms/step - loss: 0.0114 - accuracy: 0.9950 - val_loss: 0.7722 - val_accuracy: 0.7400\n",
      "Epoch 25/30\n",
      "19/19 [==============================] - 0s 3ms/step - loss: 0.0112 - accuracy: 0.9950 - val_loss: 0.7759 - val_accuracy: 0.7400\n",
      "Epoch 26/30\n",
      "19/19 [==============================] - 0s 2ms/step - loss: 0.0110 - accuracy: 0.9933 - val_loss: 0.7695 - val_accuracy: 0.7467\n",
      "Epoch 27/30\n",
      "19/19 [==============================] - 0s 2ms/step - loss: 0.0112 - accuracy: 0.9933 - val_loss: 0.7824 - val_accuracy: 0.7467\n",
      "Epoch 28/30\n",
      "19/19 [==============================] - 0s 2ms/step - loss: 0.0107 - accuracy: 0.9950 - val_loss: 0.7680 - val_accuracy: 0.7533\n",
      "Epoch 29/30\n",
      "19/19 [==============================] - 0s 2ms/step - loss: 0.0105 - accuracy: 0.9950 - val_loss: 0.7788 - val_accuracy: 0.7533\n",
      "Epoch 30/30\n",
      "19/19 [==============================] - 0s 2ms/step - loss: 0.0105 - accuracy: 0.9950 - val_loss: 0.7924 - val_accuracy: 0.7467\n"
     ]
    },
    {
     "data": {
      "text/plain": [
       "<tensorflow.python.keras.callbacks.History at 0x2068e791100>"
      ]
     },
     "execution_count": 14,
     "metadata": {},
     "output_type": "execute_result"
    }
   ],
   "source": [
    "model.fit(m.A, df.sentiment.values, epochs=30, batch_size=32, validation_split=0.2, callbacks=[checkpoint])"
   ]
  },
  {
   "cell_type": "code",
   "execution_count": 15,
   "metadata": {},
   "outputs": [],
   "source": [
    "import glob\n",
    "name=sorted(glob.glob('model-*'))[-1]"
   ]
  },
  {
   "cell_type": "code",
   "execution_count": 16,
   "metadata": {},
   "outputs": [],
   "source": [
    "model=tf.keras.models.load_model(name)"
   ]
  },
  {
   "cell_type": "code",
   "execution_count": null,
   "metadata": {},
   "outputs": [],
   "source": []
  }
 ],
 "metadata": {
  "kernelspec": {
   "display_name": "Python 3",
   "language": "python",
   "name": "python3"
  },
  "language_info": {
   "codemirror_mode": {
    "name": "ipython",
    "version": 3
   },
   "file_extension": ".py",
   "mimetype": "text/x-python",
   "name": "python",
   "nbconvert_exporter": "python",
   "pygments_lexer": "ipython3",
   "version": "3.8.5"
  }
 },
 "nbformat": 4,
 "nbformat_minor": 4
}
