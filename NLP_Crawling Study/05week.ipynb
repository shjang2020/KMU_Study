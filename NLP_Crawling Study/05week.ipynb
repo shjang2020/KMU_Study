{
 "cells": [
  {
   "cell_type": "code",
   "execution_count": 1,
   "metadata": {},
   "outputs": [],
   "source": [
    "import requests\n",
    "\n",
    "res = requests.get('https://github.com/e9t/nsmc/raw/master/ratings_train.txt')\n",
    "\n",
    "with open('nsmc_train.csv', 'wb') as f:\n",
    "    f.write(res.content)"
   ]
  },
  {
   "cell_type": "code",
   "execution_count": 2,
   "metadata": {},
   "outputs": [],
   "source": [
    "import pandas as pd\n",
    "nsmc=pd.read_csv('nsmc_train.csv', sep='\\t')"
   ]
  },
  {
   "cell_type": "code",
   "execution_count": 3,
   "metadata": {
    "scrolled": false
   },
   "outputs": [
    {
     "data": {
      "text/html": [
       "<div>\n",
       "<style scoped>\n",
       "    .dataframe tbody tr th:only-of-type {\n",
       "        vertical-align: middle;\n",
       "    }\n",
       "\n",
       "    .dataframe tbody tr th {\n",
       "        vertical-align: top;\n",
       "    }\n",
       "\n",
       "    .dataframe thead th {\n",
       "        text-align: right;\n",
       "    }\n",
       "</style>\n",
       "<table border=\"1\" class=\"dataframe\">\n",
       "  <thead>\n",
       "    <tr style=\"text-align: right;\">\n",
       "      <th></th>\n",
       "      <th>id</th>\n",
       "      <th>document</th>\n",
       "      <th>label</th>\n",
       "    </tr>\n",
       "  </thead>\n",
       "  <tbody>\n",
       "    <tr>\n",
       "      <th>0</th>\n",
       "      <td>9976970</td>\n",
       "      <td>아 더빙.. 진짜 짜증나네요 목소리</td>\n",
       "      <td>0</td>\n",
       "    </tr>\n",
       "    <tr>\n",
       "      <th>1</th>\n",
       "      <td>3819312</td>\n",
       "      <td>흠...포스터보고 초딩영화줄....오버연기조차 가볍지 않구나</td>\n",
       "      <td>1</td>\n",
       "    </tr>\n",
       "    <tr>\n",
       "      <th>2</th>\n",
       "      <td>10265843</td>\n",
       "      <td>너무재밓었다그래서보는것을추천한다</td>\n",
       "      <td>0</td>\n",
       "    </tr>\n",
       "    <tr>\n",
       "      <th>3</th>\n",
       "      <td>9045019</td>\n",
       "      <td>교도소 이야기구먼 ..솔직히 재미는 없다..평점 조정</td>\n",
       "      <td>0</td>\n",
       "    </tr>\n",
       "    <tr>\n",
       "      <th>4</th>\n",
       "      <td>6483659</td>\n",
       "      <td>사이몬페그의 익살스런 연기가 돋보였던 영화!스파이더맨에서 늙어보이기만 했던 커스틴 ...</td>\n",
       "      <td>1</td>\n",
       "    </tr>\n",
       "  </tbody>\n",
       "</table>\n",
       "</div>"
      ],
      "text/plain": [
       "         id                                           document  label\n",
       "0   9976970                                아 더빙.. 진짜 짜증나네요 목소리      0\n",
       "1   3819312                  흠...포스터보고 초딩영화줄....오버연기조차 가볍지 않구나      1\n",
       "2  10265843                                  너무재밓었다그래서보는것을추천한다      0\n",
       "3   9045019                      교도소 이야기구먼 ..솔직히 재미는 없다..평점 조정      0\n",
       "4   6483659  사이몬페그의 익살스런 연기가 돋보였던 영화!스파이더맨에서 늙어보이기만 했던 커스틴 ...      1"
      ]
     },
     "execution_count": 3,
     "metadata": {},
     "output_type": "execute_result"
    }
   ],
   "source": [
    "nsmc.head()"
   ]
  },
  {
   "cell_type": "code",
   "execution_count": 4,
   "metadata": {},
   "outputs": [],
   "source": [
    "from kiwipiepy import Kiwi"
   ]
  },
  {
   "cell_type": "code",
   "execution_count": 5,
   "metadata": {
    "scrolled": true
   },
   "outputs": [
    {
     "data": {
      "text/plain": [
       "0"
      ]
     },
     "execution_count": 5,
     "metadata": {},
     "output_type": "execute_result"
    }
   ],
   "source": [
    "kiwi=Kiwi()\n",
    "kiwi.prepare()"
   ]
  },
  {
   "cell_type": "code",
   "execution_count": 6,
   "metadata": {},
   "outputs": [],
   "source": [
    "text=nsmc.document[0]"
   ]
  },
  {
   "cell_type": "code",
   "execution_count": 10,
   "metadata": {},
   "outputs": [
    {
     "data": {
      "text/plain": [
       "'아 더빙.. 진짜 짜증나네요 목소리'"
      ]
     },
     "execution_count": 10,
     "metadata": {},
     "output_type": "execute_result"
    }
   ],
   "source": [
    "text"
   ]
  },
  {
   "cell_type": "code",
   "execution_count": 8,
   "metadata": {},
   "outputs": [],
   "source": [
    "def extract_keywords(text):\n",
    "    result=kiwi.analyze(text)\n",
    "    for token, pos, start, end in result[0][0]:\n",
    "        if pos[0] in 'NV':\n",
    "            yield f'{token}/{pos}'"
   ]
  },
  {
   "cell_type": "code",
   "execution_count": 9,
   "metadata": {
    "scrolled": true
   },
   "outputs": [
    {
     "data": {
      "text/plain": [
       "['더빙/NNG', '짜증/NNG', '나/VV', '목소리/NNG']"
      ]
     },
     "execution_count": 9,
     "metadata": {},
     "output_type": "execute_result"
    }
   ],
   "source": [
    "list(extract_keywords(text))"
   ]
  },
  {
   "cell_type": "code",
   "execution_count": 9,
   "metadata": {},
   "outputs": [],
   "source": [
    "from sklearn.feature_extraction.text import CountVectorizer, TfidfTransformer"
   ]
  },
  {
   "cell_type": "code",
   "execution_count": 10,
   "metadata": {
    "scrolled": true
   },
   "outputs": [
    {
     "data": {
      "text/plain": [
       "(150000, 3)"
      ]
     },
     "execution_count": 10,
     "metadata": {},
     "output_type": "execute_result"
    }
   ],
   "source": [
    "nsmc.shape"
   ]
  },
  {
   "cell_type": "code",
   "execution_count": 11,
   "metadata": {},
   "outputs": [],
   "source": [
    "cv=CountVectorizer(max_features=1000, tokenizer=extract_keywords)\n",
    "dtm=cv.fit_transform(nsmc.loc[0:1999,'document'])"
   ]
  },
  {
   "cell_type": "code",
   "execution_count": 12,
   "metadata": {},
   "outputs": [],
   "source": [
    "trans = TfidfTransformer()\n",
    "dtm2=trans.fit_transform(dtm)"
   ]
  },
  {
   "cell_type": "code",
   "execution_count": 13,
   "metadata": {},
   "outputs": [],
   "source": [
    "words= cv.get_feature_names()"
   ]
  },
  {
   "cell_type": "code",
   "execution_count": 14,
   "metadata": {
    "scrolled": true
   },
   "outputs": [
    {
     "data": {
      "text/plain": [
       "['nsmc.pkl']"
      ]
     },
     "execution_count": 14,
     "metadata": {},
     "output_type": "execute_result"
    }
   ],
   "source": [
    "import joblib\n",
    "joblib.dump({'words':words,'dtm':dtm,'dtm2':dtm2},'nsmc.pkl')"
   ]
  },
  {
   "cell_type": "code",
   "execution_count": 15,
   "metadata": {},
   "outputs": [],
   "source": [
    "data=joblib.load('nsmc.pkl')"
   ]
  },
  {
   "cell_type": "code",
   "execution_count": 16,
   "metadata": {},
   "outputs": [],
   "source": [
    "locals().update(data)"
   ]
  },
  {
   "cell_type": "code",
   "execution_count": 17,
   "metadata": {},
   "outputs": [
    {
     "data": {
      "text/plain": [
       "['13구역/NNP',\n",
       " '가/VV',\n",
       " '가/VX',\n",
       " '가능/NNG',\n",
       " '가볍/VA',\n",
       " '가슴/NNG',\n",
       " '가족/NNG',\n",
       " '가지/NNB',\n",
       " '가지/VV',\n",
       " '가치/NNG',\n",
       " '각본/NNG',\n",
       " '간/NNB',\n",
       " '간/NNG',\n",
       " '간만/NNG',\n",
       " '갈등/NNG',\n",
       " '감/NNG',\n",
       " '감독/NNG',\n",
       " '감동/NNG',\n",
       " '감사/NNG',\n",
       " '감성/NNG',\n",
       " '감정/NNG',\n",
       " '강/NNP',\n",
       " '강요/NNG',\n",
       " '같/VA',\n",
       " '개/NNB',\n",
       " '개/NNG',\n",
       " '개그맨/NNG',\n",
       " '개념/NNG',\n",
       " '개봉/NNG',\n",
       " '개뿔/NNG',\n",
       " '개연/NNG',\n",
       " '개인/NNG',\n",
       " '개판/NNG',\n",
       " '걍/NNG',\n",
       " '거/NNB',\n",
       " '거기/NP',\n",
       " '거부/NNG',\n",
       " '거슬리/VV',\n",
       " '거장/NNG',\n",
       " '걱정/NNG',\n",
       " '걸/VV',\n",
       " '걸리/VV',\n",
       " '걸작/NNG',\n",
       " '검술/NNG',\n",
       " '겁나/VV',\n",
       " '것/NNB',\n",
       " '게/NNG',\n",
       " '게임/NNG',\n",
       " '결국/NNG',\n",
       " '결말/NNG',\n",
       " '고추/NNG',\n",
       " '곳/NNG',\n",
       " '곳곳/NNG',\n",
       " '공감/NNG',\n",
       " '공부/NNG',\n",
       " '공포/NNG',\n",
       " '곽지민/NNP',\n",
       " '관/NNG',\n",
       " '관객/NNG',\n",
       " '관계/NNG',\n",
       " '관람/NNG',\n",
       " '관심/NNG',\n",
       " '괜찮/VA',\n",
       " '괜찮/VV',\n",
       " '교훈/NNG',\n",
       " '구성/NNG',\n",
       " '구하/VV',\n",
       " '국산/NNG',\n",
       " '군/NNG',\n",
       " '군대/NNG',\n",
       " '굿/NNG',\n",
       " '귀신/NNG',\n",
       " '귀엽/VA',\n",
       " '그/NP',\n",
       " '그거/NP',\n",
       " '그것/NP',\n",
       " '그녀/NP',\n",
       " '그때/NNG',\n",
       " '그래픽/NNG',\n",
       " '그러/VV',\n",
       " '그렇/VA',\n",
       " '그리/VV',\n",
       " '그림/NNG',\n",
       " '그립/VA',\n",
       " '극/NNG',\n",
       " '극장/NNG',\n",
       " '급/NNG',\n",
       " '기/NNG',\n",
       " '기대/NNG',\n",
       " '기독교/NNG',\n",
       " '기분/NNG',\n",
       " '기억/NNG',\n",
       " '기존/NNG',\n",
       " '긴장/NNG',\n",
       " '긴장감/NNG',\n",
       " '길/NNG',\n",
       " '길/VA',\n",
       " '김/NNP',\n",
       " '깊/VA',\n",
       " '까/VV',\n",
       " '깨/VV',\n",
       " '깨닫/VV',\n",
       " '꺼/NNB',\n",
       " '꼴/NNG',\n",
       " '꿀/NNG',\n",
       " '꿈/NNG',\n",
       " '끌/VV',\n",
       " '끌리/VV',\n",
       " '끝/NNG',\n",
       " '끝나/VV',\n",
       " '끼/VV',\n",
       " '나/NP',\n",
       " '나/VV',\n",
       " '나/VX',\n",
       " '나가/VV',\n",
       " '나라/NNG',\n",
       " '나름/NNB',\n",
       " '나머지/NNG',\n",
       " '나쁘/VA',\n",
       " '나오/VV',\n",
       " '나오코/NNP',\n",
       " '나이/NNG',\n",
       " '나중/NNG',\n",
       " '나타나/VV',\n",
       " '날/NNG',\n",
       " '날리/VV',\n",
       " '남/NNG',\n",
       " '남/VV',\n",
       " '남기/VV',\n",
       " '남녀/NNG',\n",
       " '남성/NNG',\n",
       " '남자/NNG',\n",
       " '납득/NNG',\n",
       " '낫/VA',\n",
       " '낭비/NNG',\n",
       " '낮/NNG',\n",
       " '낮/VA',\n",
       " '내/NP',\n",
       " '내/VV',\n",
       " '내/VX',\n",
       " '내용/NNG',\n",
       " '내일/NNG',\n",
       " '너/NP',\n",
       " '넘/VV',\n",
       " '넘치/VV',\n",
       " '네이버/NNP',\n",
       " '년/NNB',\n",
       " '년대/NNB',\n",
       " '년도/NNB',\n",
       " '노/NNG',\n",
       " '노/NNP',\n",
       " '노래/NNG',\n",
       " '노력/NNG',\n",
       " '노출/NNG',\n",
       " '놀라/VV',\n",
       " '놀랍/VA',\n",
       " '놈/NNB',\n",
       " '높/VA',\n",
       " '놓/VV',\n",
       " '놓/VX',\n",
       " '뇌/NNG',\n",
       " '누/NP',\n",
       " '누구/NP',\n",
       " '눈/NNG',\n",
       " '눈물/NNG',\n",
       " '느/NP',\n",
       " '느끼/VV',\n",
       " '느낌/NNG',\n",
       " '늙/VV',\n",
       " '능력/NNG',\n",
       " '늦/VA',\n",
       " '니/NP',\n",
       " '다니/VV',\n",
       " '다르/VA',\n",
       " '다운/NNG',\n",
       " '다음/NNG',\n",
       " '다큐/NNG',\n",
       " '다행/NNG',\n",
       " '닥/NNP',\n",
       " '단순/NNG',\n",
       " '달/NNG',\n",
       " '달/VV',\n",
       " '닮/VV',\n",
       " '담기/VV',\n",
       " '답/NNG',\n",
       " '당/NNG',\n",
       " '당시/NNG',\n",
       " '당신/NP',\n",
       " '당하/VV',\n",
       " '대/NNB',\n",
       " '대/NNG',\n",
       " '대/VV',\n",
       " '대박/NNG',\n",
       " '대사/NNG',\n",
       " '대작/NNG',\n",
       " '대하/VV',\n",
       " '대한민국/NNP',\n",
       " '댓글/NNP',\n",
       " '더럽/VA',\n",
       " '더빙/NNG',\n",
       " '덕분/NNG',\n",
       " '데/NNB',\n",
       " '도/NNG',\n",
       " '도움/NNG',\n",
       " '도전/NNG',\n",
       " '독립/NNG',\n",
       " '돈/NNG',\n",
       " '돋/VV',\n",
       " '돋보이/VV',\n",
       " '돌리/VV',\n",
       " '돌아가/VV',\n",
       " '돌아오/VV',\n",
       " '동생/NNG',\n",
       " '동시/NNG',\n",
       " '동영상/NNG',\n",
       " '동호/NNP',\n",
       " '동화/NNG',\n",
       " '되/VV',\n",
       " '두/VV',\n",
       " '두/VX',\n",
       " '두근거리/VV',\n",
       " '둘/NR',\n",
       " '뒤/NNG',\n",
       " '드/NNP',\n",
       " '드라마/NNG',\n",
       " '드럽/VA',\n",
       " '드리/VV',\n",
       " '듣/VV',\n",
       " '들/VV',\n",
       " '들/VX',\n",
       " '들어가/VV',\n",
       " '들어오/VV',\n",
       " '듯/NNB',\n",
       " '등/NNB',\n",
       " '등장/NNG',\n",
       " '따/VV',\n",
       " '따라가/VV',\n",
       " '따위/NNB',\n",
       " '따지/VV',\n",
       " '딸/NNG',\n",
       " '땅/NNG',\n",
       " '때/NNG',\n",
       " '때리/VV',\n",
       " '때문/NNB',\n",
       " '떠나/VV',\n",
       " '떠오르/VV',\n",
       " '떨/VV',\n",
       " '떨어지/VV',\n",
       " '떼/VV',\n",
       " '똑같/VA',\n",
       " '똥/NNG',\n",
       " '뛰/VV',\n",
       " '뛰어나/VA',\n",
       " '뜨/VV',\n",
       " '뜬금없/VA',\n",
       " '뜻/NNG',\n",
       " '런/NNG',\n",
       " '레알/NNP',\n",
       " '레전드/NNP',\n",
       " '로맨스/NNG',\n",
       " '로봇/NNG',\n",
       " '르/NNG',\n",
       " '리/NNP',\n",
       " '리얼/NNG',\n",
       " '마/VX',\n",
       " '마디/NNG',\n",
       " '마을/NNG',\n",
       " '마음/NNG',\n",
       " '마이너스/NNG',\n",
       " '마이클/NNP',\n",
       " '마지막/NNG',\n",
       " '막장/NNG',\n",
       " '만/NNB',\n",
       " '만/NR',\n",
       " '만나/VV',\n",
       " '만들/VV',\n",
       " '만족/NNG',\n",
       " '만큼/NNB',\n",
       " '만하/VX',\n",
       " '만화/NNG',\n",
       " '많/VA',\n",
       " '말/NNG',\n",
       " '말/VV',\n",
       " '말/VX',\n",
       " '맘/NNG',\n",
       " '맛/NNG',\n",
       " '망/NNG',\n",
       " '망치/VV',\n",
       " '망하/VV',\n",
       " '맞/VV',\n",
       " '맞추/VV',\n",
       " '매력/NNG',\n",
       " '머/NP',\n",
       " '머리/NNG',\n",
       " '먹/VV',\n",
       " '멀/VA',\n",
       " '멋/NNG',\n",
       " '멋있/VA',\n",
       " '멋지/VA',\n",
       " '메시지/NNG',\n",
       " '멜로/NNG',\n",
       " '면/NNG',\n",
       " '명/NNB',\n",
       " '명/NNG',\n",
       " '명작/NNG',\n",
       " '명화/NNG',\n",
       " '모두/NNG',\n",
       " '모르/VV',\n",
       " '모습/NNG',\n",
       " '목소리/NNG',\n",
       " '몬스터/NNP',\n",
       " '몰락/NNG',\n",
       " '몰입/NNG',\n",
       " '몸개그/NNG',\n",
       " '몸매/NNG',\n",
       " '못생기/VA',\n",
       " '못하/VA',\n",
       " '못하/VX',\n",
       " '묘사/NNG',\n",
       " '무겁/VA',\n",
       " '무당/NNG',\n",
       " '무덤/NNG',\n",
       " '무섭/VA',\n",
       " '무엇/NP',\n",
       " '무협/NNG',\n",
       " '문/NNG',\n",
       " '문제/NNG',\n",
       " '문화/NNG',\n",
       " '묻/VV',\n",
       " '물/NNG',\n",
       " '물건/NNG',\n",
       " '뭐/NP',\n",
       " '미/NNG',\n",
       " '미/NNP',\n",
       " '미국/NNP',\n",
       " '미소/NNG',\n",
       " '미스/NNG',\n",
       " '미치/VV',\n",
       " '미화/NNG',\n",
       " '민간인/NNG',\n",
       " '믿/VV',\n",
       " '바/NNB',\n",
       " '바꾸/VV',\n",
       " '바뀌/VV',\n",
       " '바둑/NNG',\n",
       " '바라/VV',\n",
       " '바라보/VV',\n",
       " '바람/NNG',\n",
       " '바래/VV',\n",
       " '바보/NNG',\n",
       " '바치/VV',\n",
       " '박사/NNG',\n",
       " '박수/NNG',\n",
       " '박시환/NNP',\n",
       " '박시후/NNP',\n",
       " '반/NNG',\n",
       " '반복/NNG',\n",
       " '반전/NNG',\n",
       " '받/VV',\n",
       " '발/NNG',\n",
       " '발견/NNG',\n",
       " '밝히/VV',\n",
       " '밤/NNG',\n",
       " '밥/NNG',\n",
       " '방/NNG',\n",
       " '방법/NNG',\n",
       " '방송/NNG',\n",
       " '배경/NNG',\n",
       " '배역/NNG',\n",
       " '배우/NNG',\n",
       " '배우/VV',\n",
       " '버리/VV',\n",
       " '버리/VX',\n",
       " '번/NNB',\n",
       " '범죄/NNG',\n",
       " '변태/NNG',\n",
       " '변하/VV',\n",
       " '별점/NNG',\n",
       " '보/VV',\n",
       " '보/VX',\n",
       " '보내/VV',\n",
       " '보이/VV',\n",
       " '복수/NNG',\n",
       " '본격/NNG',\n",
       " '본성/NNG',\n",
       " '본인/NNG',\n",
       " '봄/NNG',\n",
       " '봣/NNP',\n",
       " '봤네/NNG',\n",
       " '봤다/NNG',\n",
       " '부/NNB',\n",
       " '부르/VV',\n",
       " '부분/NNG',\n",
       " '부족/NNG',\n",
       " '부탁/NNG',\n",
       " '북한/NNP',\n",
       " '분/NNB',\n",
       " '분석/NNG',\n",
       " '분위기/NNG',\n",
       " '불가/NNG',\n",
       " '불륜/NNG',\n",
       " '붙이/VV',\n",
       " '비교/NNG',\n",
       " '비디오/NNG',\n",
       " '비추/VV',\n",
       " '비하/VV',\n",
       " '빠지/VV',\n",
       " '빨/VV',\n",
       " '빼/VV',\n",
       " '뻔/NNB',\n",
       " '뻔하/VA',\n",
       " '뻔하/VX',\n",
       " '뿐/NNB',\n",
       " '사/VV',\n",
       " '사건/NNG',\n",
       " '사극/NNG',\n",
       " '사람/NNG',\n",
       " '사랑/NNG',\n",
       " '사로잡/VV',\n",
       " '사운드/NNG',\n",
       " '사진/NNG',\n",
       " '사촌/NNG',\n",
       " '사회/NNG',\n",
       " '산/NNG',\n",
       " '살/NNB',\n",
       " '살/VV',\n",
       " '살리/VV',\n",
       " '살인/NNG',\n",
       " '삶/NNG',\n",
       " '삼/NR',\n",
       " '상상/NNG',\n",
       " '상영/NNG',\n",
       " '상태/NNG',\n",
       " '상황/NNG',\n",
       " '새롭/VA',\n",
       " '새벽/NNG',\n",
       " '색다르/VA',\n",
       " '생/NNG',\n",
       " '생각/NNG',\n",
       " '생각나/VV',\n",
       " '생명/NNG',\n",
       " '생애/NNG',\n",
       " '서/VV',\n",
       " '서스펜스/NNG',\n",
       " '선/NNG',\n",
       " '선생/NNG',\n",
       " '선택/NNG',\n",
       " '설득력/NNG',\n",
       " '설레/VV',\n",
       " '설명/NNG',\n",
       " '설정/NNG',\n",
       " '성/NNG',\n",
       " '성공/NNG',\n",
       " '성룡/NNP',\n",
       " '성인/NNG',\n",
       " '성장/NNG',\n",
       " '세/NNB',\n",
       " '세계/NNG',\n",
       " '세기/NNG',\n",
       " '세상/NNG',\n",
       " '섹시/NNG',\n",
       " '소/NNG',\n",
       " '소녀/NNG',\n",
       " '소름/NNG',\n",
       " '소리/NNG',\n",
       " '소설/NNG',\n",
       " '소재/NNG',\n",
       " '속/NNG',\n",
       " '속이/VV',\n",
       " '속편/NNG',\n",
       " '손/NNG',\n",
       " '송강호/NNP',\n",
       " '쇼/NNG',\n",
       " '숀펜/NNP',\n",
       " '수/NNB',\n",
       " '수/NNG',\n",
       " '수고/NNG',\n",
       " '수능/NNG',\n",
       " '수십/NR',\n",
       " '수작/NNG',\n",
       " '수준/NNG',\n",
       " '순간/NNG',\n",
       " '순수/NNG',\n",
       " '순위/NNG',\n",
       " '숨/VV',\n",
       " '스/VV',\n",
       " '스릴/NNG',\n",
       " '스릴러/NNG',\n",
       " '스케일/NNG',\n",
       " '스타/NNG',\n",
       " '스타일/NNG',\n",
       " '스토리/NNG',\n",
       " '스파이더맨/NNP',\n",
       " '슬프/VA',\n",
       " '슬픔/NNG',\n",
       " '습/NNG',\n",
       " '시간/NNG',\n",
       " '시나리오/NNG',\n",
       " '시대/NNG',\n",
       " '시도/NNG',\n",
       " '시리즈/NNG',\n",
       " '시선/NNG',\n",
       " '시작/NNG',\n",
       " '시절/NNG',\n",
       " '시점/NNG',\n",
       " '시종/NNG',\n",
       " '시즌/NNG',\n",
       " '시청/NNG',\n",
       " '시키/VV',\n",
       " '식/NNB',\n",
       " '신/NNG',\n",
       " '신선/NNG',\n",
       " '신인/NNG',\n",
       " '신파/NNG',\n",
       " '실력/NNG',\n",
       " '실망/NNG',\n",
       " '실제/NNG',\n",
       " '실험/NNG',\n",
       " '실화/NNG',\n",
       " '싫/VA',\n",
       " '싫어하/VV',\n",
       " '심리/NNG',\n",
       " '심장/NNG',\n",
       " '심하/VA',\n",
       " '심형래/NNP',\n",
       " '십/NR',\n",
       " '싶/VX',\n",
       " '싸/VA',\n",
       " '싸구려/NNG',\n",
       " '싸우/VV',\n",
       " '써로게이트/NNP',\n",
       " '쏘/VV',\n",
       " '쓰/VV',\n",
       " '쓰레기/NNG',\n",
       " '씨/NNB',\n",
       " '씬/NNG',\n",
       " '아기/NNG',\n",
       " '아깝/VA',\n",
       " '아끼/VV',\n",
       " '아니/VCN',\n",
       " '아들/NNG',\n",
       " '아름다움/NNG',\n",
       " '아름답/VA',\n",
       " '아무/NP',\n",
       " '아바타/NNP',\n",
       " '아버지/NNG',\n",
       " '아부지/NNG',\n",
       " '아빠/NNG',\n",
       " '아쉬움/NNG',\n",
       " '아쉽/VA',\n",
       " '아역/NNG',\n",
       " '아이/NNG',\n",
       " '아이디어/NNG',\n",
       " '아저씨/NNG',\n",
       " '아줌마/NNG',\n",
       " '아픔/NNG',\n",
       " '아햏햏/NNP',\n",
       " '악역/NNG',\n",
       " '안/NNG',\n",
       " '안타깝/VA',\n",
       " '않/VV',\n",
       " '않/VX',\n",
       " '알/VV',\n",
       " '알리/VV',\n",
       " '알바/NNG',\n",
       " '압권/NNG',\n",
       " '앞/NNG',\n",
       " '애/NNG',\n",
       " '애니/NNP',\n",
       " '애니메이션/NNG',\n",
       " '애쓰/VV',\n",
       " '액션/NNG',\n",
       " '약/NNG',\n",
       " '얘기/NNG',\n",
       " '어거지/NNG',\n",
       " '어디/NP',\n",
       " '어떻/VA',\n",
       " '어렵/VA',\n",
       " '어리/VA',\n",
       " '어린이/NNG',\n",
       " '어설프/VA',\n",
       " '어울리/VV',\n",
       " '어이없/VA',\n",
       " '어쩌/VV',\n",
       " '어처구니/NNG',\n",
       " '억/NR',\n",
       " '억지/NNG',\n",
       " '얻/VV',\n",
       " '얼굴/NNG',\n",
       " '엄마/NNG',\n",
       " '엄청/NNP',\n",
       " '엄청나/VA',\n",
       " '업/NNG',\n",
       " '없/VA',\n",
       " '엉망/NNG',\n",
       " '에피소드/NNG',\n",
       " '엔딩/NNG',\n",
       " '여/NNG',\n",
       " '여기/NP',\n",
       " '여배우/NNG',\n",
       " '여성/NNG',\n",
       " '여운/NNG',\n",
       " '여인/NNG',\n",
       " '여자/NNG',\n",
       " '여정/NNG',\n",
       " '여주/NNP',\n",
       " '여주인공/NNG',\n",
       " '역/NNG',\n",
       " '역겹/VA',\n",
       " '역대/NNG',\n",
       " '역사/NNG',\n",
       " '연/NNG',\n",
       " '연결/NNG',\n",
       " '연기/NNG',\n",
       " '연기/NNP',\n",
       " '연기력/NNG',\n",
       " '연기자/NNG',\n",
       " '연예/NNG',\n",
       " '연예인/NNG',\n",
       " '연인/NNG',\n",
       " '연출/NNG',\n",
       " '연출력/NNG',\n",
       " '열/VV',\n",
       " '열리/VV',\n",
       " '열정/NNG',\n",
       " '영상/NNG',\n",
       " '영상미/NNG',\n",
       " '영원/NNG',\n",
       " '영화/NNG',\n",
       " '영화/NNP',\n",
       " '영화관/NNG',\n",
       " '예고편/NNG',\n",
       " '예쁘/VA',\n",
       " '예산/NNG',\n",
       " '예술/NNG',\n",
       " '예전/NNG',\n",
       " '예진/NNP',\n",
       " '예측/NNG',\n",
       " '옛날/NNG',\n",
       " '오/NR',\n",
       " '오/VV',\n",
       " '오/VX',\n",
       " '오그라들/VV',\n",
       " '오글거려/NNP',\n",
       " '오글거리/NNG',\n",
       " '오늘/NNG',\n",
       " '오랜만/NNG',\n",
       " '오버/NNG',\n",
       " '올리/VV',\n",
       " '올해/NNG',\n",
       " '와닿/VV',\n",
       " '완/NNG',\n",
       " '완벽/NNG',\n",
       " '완성/NNG',\n",
       " '완전/NNG',\n",
       " '외/NNB',\n",
       " '외계인/NNG',\n",
       " '외국/NNG',\n",
       " '외화/NNG',\n",
       " '요소/NNG',\n",
       " '요즘/NNG',\n",
       " '욕/NNG',\n",
       " '욕하/VV',\n",
       " '용/NNG',\n",
       " '우/NNP',\n",
       " '우리/NP',\n",
       " '우울/NNG',\n",
       " '우정/NNG',\n",
       " '울/VV',\n",
       " '움/NNG',\n",
       " '웃/VV',\n",
       " '웃기/VV',\n",
       " '웃음/NNG',\n",
       " '원/NNG',\n",
       " '원래/NNG',\n",
       " '원작/NNG',\n",
       " '위하/VV',\n",
       " '유럽/NNP',\n",
       " '유리/NNG',\n",
       " '유머/NNG',\n",
       " '유명/NNG',\n",
       " '유발/NNG',\n",
       " '유사/NNG',\n",
       " '은희/NNP',\n",
       " '음/NNG',\n",
       " '음식/NNG',\n",
       " '음악/NNG',\n",
       " '의도/NNG',\n",
       " '의미/NNG',\n",
       " '의외/NNG',\n",
       " '의학/NNG',\n",
       " '이/NNB',\n",
       " '이/NP',\n",
       " '이/VCP',\n",
       " '이거/NP',\n",
       " '이것/NP',\n",
       " '이기/NNG',\n",
       " '이기/VV',\n",
       " '이렇/VA',\n",
       " '이름/NNG',\n",
       " '이미지/NNG',\n",
       " '이민기/NNP',\n",
       " '이번/NNG',\n",
       " '이쁘/VA',\n",
       " '이상/NNG',\n",
       " '이야기/NNG',\n",
       " '이유/NNG',\n",
       " '이제/NNG',\n",
       " '이해/NNG',\n",
       " '이후/NNG',\n",
       " '인/NNG',\n",
       " '인간/NNG',\n",
       " '인물/NNG',\n",
       " '인상/NNG',\n",
       " '인생/NNG',\n",
       " '인하/VV',\n",
       " '일/NNG',\n",
       " '일/NR',\n",
       " '일본/NNP',\n",
       " '일상/NNG',\n",
       " '일어나/VV',\n",
       " '일탈/NNG',\n",
       " '일품/NNG',\n",
       " '읽/VV',\n",
       " '잃/VV',\n",
       " '임/NNG',\n",
       " '임/NNP',\n",
       " '입/VV',\n",
       " '잇/VV',\n",
       " '있/VA',\n",
       " '있/VV',\n",
       " '있/VX',\n",
       " '잊/VV',\n",
       " '잊히/VV',\n",
       " '자/NNB',\n",
       " '자/NNG',\n",
       " '자/VV',\n",
       " '자극/NNG',\n",
       " '자기/NP',\n",
       " '자막/NNG',\n",
       " '자식/NNG',\n",
       " '자신/NNG',\n",
       " '자위/NNG',\n",
       " '자유/NNG',\n",
       " '자체/NNG',\n",
       " '작/NNG',\n",
       " '작/VA',\n",
       " '작가/NNG',\n",
       " '작품/NNG',\n",
       " '잔인/NNG',\n",
       " '잠/NNG',\n",
       " '잡/VV',\n",
       " '장난/NNG',\n",
       " '장르/NNG',\n",
       " '장면/NNG',\n",
       " '재미/NNG',\n",
       " '재미없/VA',\n",
       " '재미있/VA',\n",
       " '재밋/NNG',\n",
       " '재밌/VA',\n",
       " '재탕/NNG',\n",
       " '잼/NNG',\n",
       " '잼잇/NNG',\n",
       " '저/NP',\n",
       " '저렇/VA',\n",
       " '적/NNB',\n",
       " '전/NNG',\n",
       " '전개/NNG',\n",
       " '전달/NNG',\n",
       " '전설/NNG',\n",
       " '전작/NNG',\n",
       " '전쟁/NNG',\n",
       " '전체/NNG',\n",
       " '전하/VV',\n",
       " '전형/NNG',\n",
       " '절제/NNG',\n",
       " '점/NNB',\n",
       " '점/NNG',\n",
       " '점수/NNG',\n",
       " '접하/VV',\n",
       " '정/NNG',\n",
       " '정도/NNG',\n",
       " '정신/NNG',\n",
       " '정작/NNG',\n",
       " '제/NP',\n",
       " '제목/NNG',\n",
       " '제시카/NNP',\n",
       " '제일/NNG',\n",
       " '제작/NNG',\n",
       " '제작비/NNG',\n",
       " '젤/NNG',\n",
       " '조금/NNG',\n",
       " '조연/NNG',\n",
       " '조작/NNG',\n",
       " '조절/NNG',\n",
       " '조폭/NNG',\n",
       " '존/NNP',\n",
       " '존재/NNG',\n",
       " '졸/VV',\n",
       " '졸작/NNG',\n",
       " '좀비/NNG',\n",
       " '좋/VA',\n",
       " '좋아하/VV',\n",
       " '죄인/NNG',\n",
       " '주/VV',\n",
       " '주/VX',\n",
       " '주연/NNG',\n",
       " '주온/NNP',\n",
       " '주인공/NNG',\n",
       " '주제/NNG',\n",
       " '죽/VV',\n",
       " '죽/VX',\n",
       " '죽음/NNG',\n",
       " '죽이/VV',\n",
       " '줄/NNB',\n",
       " '줄/NNG',\n",
       " '줌/NNG',\n",
       " '중/NNB',\n",
       " '중/NNG',\n",
       " '중간/NNG',\n",
       " '중국/NNP',\n",
       " '중국인/NNG',\n",
       " '중반/NNG',\n",
       " '중심/NNG',\n",
       " '중요/NNG',\n",
       " '즐겁/VA',\n",
       " '즐기/VV',\n",
       " '지/NNB',\n",
       " '지/NP',\n",
       " '지/VV',\n",
       " '지/VX',\n",
       " '지겹/VA',\n",
       " '지구/NNG',\n",
       " '지금/NNG',\n",
       " '지나/VV',\n",
       " '지루함/NNP',\n",
       " '지리/NNG',\n",
       " '지키/VV',\n",
       " '직전/NNG',\n",
       " '진리/NNG',\n",
       " '진심/NNG',\n",
       " '진짜/NNG',\n",
       " '진행/NNG',\n",
       " '질/NNG',\n",
       " '질리/VV',\n",
       " '짐승/NNG',\n",
       " '집/NNG',\n",
       " '짓/NNG',\n",
       " '짜임새/NNG',\n",
       " '짜증/NNG',\n",
       " '짧/VA',\n",
       " '짬뽕/NNG',\n",
       " '짱/NNG',\n",
       " '쩌/NNP',\n",
       " '쩔/VV',\n",
       " '쪼/VV',\n",
       " '찍/VV',\n",
       " '차/NNG',\n",
       " '차/VV',\n",
       " '착하/VA',\n",
       " '찬사/NNG',\n",
       " '참/VV',\n",
       " '참고/NNG',\n",
       " '찾/VV',\n",
       " '채널/NNG',\n",
       " '채우/VV',\n",
       " '책/NNG',\n",
       " '챙기/VV',\n",
       " '처음/NNG',\n",
       " '척/NNB',\n",
       " '천재/NNG',\n",
       " '철학/NNG',\n",
       " '첨/NNG',\n",
       " '청춘/NNG',\n",
       " '초등/NNG',\n",
       " '초등학교/NNG',\n",
       " '초딩/NNP',\n",
       " '초반/NNG',\n",
       " '촌/NNG',\n",
       " '총/NNG',\n",
       " '촬영/NNG',\n",
       " '최고/NNG',\n",
       " '최근/NNG',\n",
       " '최악/NNG',\n",
       " '최초/NNG',\n",
       " '쵝/NNG',\n",
       " '추/NNG',\n",
       " '추억/NNG',\n",
       " '추천/NNG',\n",
       " '출연/NNG',\n",
       " '춤/NNG',\n",
       " '충격/NNG',\n",
       " '취향/NNG',\n",
       " '치/VV',\n",
       " '친구/NNG',\n",
       " '카리스마/NNG',\n",
       " '캐릭터/NNG',\n",
       " '캐스팅/NNG',\n",
       " '커플/NNG',\n",
       " '케이블/NNG',\n",
       " '코미디/NNG',\n",
       " '코믹/NNG',\n",
       " '콩/NNG',\n",
       " '크/VA',\n",
       " '크/VV',\n",
       " '키/NNG',\n",
       " '키스/NNG',\n",
       " '킬링타임/NNP',\n",
       " '타/VV',\n",
       " '타란티노/NNP',\n",
       " '타임/NNG',\n",
       " '탈출/NNG',\n",
       " '탑/NNG',\n",
       " '태어나/VV',\n",
       " '터/NNB',\n",
       " '터미네이터/NNP',\n",
       " '터지/VV',\n",
       " '턴/NNG',\n",
       " '통하/VV',\n",
       " '특수/NNG',\n",
       " '특유/NNG',\n",
       " '특집/NNG',\n",
       " '티/NNG',\n",
       " '티비/NNG',\n",
       " '판/NNB',\n",
       " '판타지/NNG',\n",
       " '팔/NNG',\n",
       " '팔/NR',\n",
       " '팔/VV',\n",
       " '패러디/NNG',\n",
       " '패턴/NNG',\n",
       " '팬/NNG',\n",
       " '편/NNB',\n",
       " '편집/NNG',\n",
       " '평/NNB',\n",
       " '평/NNG',\n",
       " '평가/NNG',\n",
       " '평균/NNG',\n",
       " '평론가/NNG',\n",
       " '평생/NNG',\n",
       " '평소/NNG',\n",
       " '평점/NNG',\n",
       " '포스터/NNG',\n",
       " '표현/NNG',\n",
       " '풀/VV',\n",
       " '풍기/VV',\n",
       " '프랑스/NNP',\n",
       " '피/VV',\n",
       " '피해자/NNG',\n",
       " '필요/NNG',\n",
       " '하/VV',\n",
       " '하/VX',\n",
       " '하나/NR',\n",
       " '하나님/NNG',\n",
       " '하늘/NNG',\n",
       " '학교/NNG',\n",
       " '학년/NNG',\n",
       " '학살/NNG',\n",
       " '한국/NNP',\n",
       " '한마디/NNG',\n",
       " '한번/NNG',\n",
       " '한석규/NNP',\n",
       " '함/NNG',\n",
       " '해/NNG',\n",
       " '행동/NNG',\n",
       " '행복/NNG',\n",
       " '향수/NNG',\n",
       " '허/VV',\n",
       " '허무/NNG',\n",
       " '허접/NNG',\n",
       " '허준/NNP',\n",
       " '허풍/NNG',\n",
       " '헐/VV',\n",
       " '헐리우드/NNP',\n",
       " '헤어지/VV',\n",
       " '현실/NNG',\n",
       " '현실감/NNG',\n",
       " '형/NNG',\n",
       " '형사/NNG',\n",
       " '형제/NNG',\n",
       " '호화/NNG',\n",
       " '혼자/NNG',\n",
       " '화/NNG',\n",
       " '화면/NNG',\n",
       " '화이팅/NNG',\n",
       " '회/NNB',\n",
       " '회/NNG',\n",
       " '효과/NNG',\n",
       " '후/NNG',\n",
       " '후반부/NNG',\n",
       " '후속/NNG',\n",
       " '후회/NNG',\n",
       " '흐르/VV',\n",
       " '흑인/NNG',\n",
       " '흘리/VV',\n",
       " '흥미/NNG',\n",
       " '흥행/NNG',\n",
       " '희망/NNG',\n",
       " '히/NNG',\n",
       " '힘들/VA']"
      ]
     },
     "execution_count": 17,
     "metadata": {},
     "output_type": "execute_result"
    }
   ],
   "source": [
    "words"
   ]
  },
  {
   "cell_type": "code",
   "execution_count": 18,
   "metadata": {
    "scrolled": true
   },
   "outputs": [
    {
     "data": {
      "text/plain": [
       "(2000, 1000)"
      ]
     },
     "execution_count": 18,
     "metadata": {},
     "output_type": "execute_result"
    }
   ],
   "source": [
    "dtm.shape"
   ]
  },
  {
   "cell_type": "code",
   "execution_count": 19,
   "metadata": {},
   "outputs": [],
   "source": [
    "x=dtm"
   ]
  },
  {
   "cell_type": "code",
   "execution_count": 20,
   "metadata": {},
   "outputs": [],
   "source": [
    "y= nsmc.label.values[:2000]"
   ]
  },
  {
   "cell_type": "code",
   "execution_count": 21,
   "metadata": {},
   "outputs": [],
   "source": [
    "from sklearn.model_selection import train_test_split"
   ]
  },
  {
   "cell_type": "code",
   "execution_count": 22,
   "metadata": {},
   "outputs": [],
   "source": [
    "x_train, x_test, y_train, y_test = train_test_split(x,y,test_size=0.2, random_state=1984)"
   ]
  },
  {
   "cell_type": "code",
   "execution_count": 23,
   "metadata": {},
   "outputs": [],
   "source": [
    "import tensorflow as tf"
   ]
  },
  {
   "cell_type": "code",
   "execution_count": 24,
   "metadata": {},
   "outputs": [],
   "source": [
    "model = tf.keras.models.Sequential()\n",
    "model.add(tf.keras.layers.Dense(1,activation='sigmoid'))"
   ]
  },
  {
   "cell_type": "code",
   "execution_count": 25,
   "metadata": {},
   "outputs": [],
   "source": [
    "model.compile(optimizer='adam',loss='binary_crossentropy', metrics=['accuracy'])\n",
    "#optimizer: 모델을 어떻게 학습 시킬것인가(경사하강법), loss: 손실함수(교차엔트로피)"
   ]
  },
  {
   "cell_type": "code",
   "execution_count": 26,
   "metadata": {
    "scrolled": true
   },
   "outputs": [
    {
     "name": "stdout",
     "output_type": "stream",
     "text": [
      "Epoch 1/3\n",
      "50/50 [==============================] - 0s 680us/step - loss: 0.6915 - accuracy: 0.5225\n",
      "Epoch 2/3\n",
      "50/50 [==============================] - 0s 760us/step - loss: 0.6748 - accuracy: 0.6313\n",
      "Epoch 3/3\n",
      "50/50 [==============================] - 0s 640us/step - loss: 0.6595 - accuracy: 0.6994\n"
     ]
    },
    {
     "data": {
      "text/plain": [
       "<tensorflow.python.keras.callbacks.History at 0x2492b1cfb50>"
      ]
     },
     "execution_count": 26,
     "metadata": {},
     "output_type": "execute_result"
    }
   ],
   "source": [
    "model.fit(x_train.A ,y_train, epochs=3) #x_train이 압축되어있어 풀어주는 것, epochs 는 몇번 훑냐는 것"
   ]
  },
  {
   "cell_type": "code",
   "execution_count": 27,
   "metadata": {
    "scrolled": true
   },
   "outputs": [
    {
     "name": "stdout",
     "output_type": "stream",
     "text": [
      "13/13 [==============================] - 0s 615us/step - loss: 0.6696 - accuracy: 0.6275\n"
     ]
    },
    {
     "data": {
      "text/plain": [
       "[0.669646143913269, 0.6274999976158142]"
      ]
     },
     "execution_count": 27,
     "metadata": {},
     "output_type": "execute_result"
    }
   ],
   "source": [
    "model.evaluate(x_test.A,y_test)"
   ]
  },
  {
   "cell_type": "code",
   "execution_count": 28,
   "metadata": {},
   "outputs": [
    {
     "name": "stdout",
     "output_type": "stream",
     "text": [
      "WARNING:tensorflow:From C:\\Users\\JangSeongHyun\\anaconda3\\lib\\site-packages\\tensorflow\\python\\training\\tracking\\tracking.py:111: Model.state_updates (from tensorflow.python.keras.engine.training) is deprecated and will be removed in a future version.\n",
      "Instructions for updating:\n",
      "This property should not be used in TensorFlow 2.0, as updates are applied automatically.\n",
      "WARNING:tensorflow:From C:\\Users\\JangSeongHyun\\anaconda3\\lib\\site-packages\\tensorflow\\python\\training\\tracking\\tracking.py:111: Layer.updates (from tensorflow.python.keras.engine.base_layer) is deprecated and will be removed in a future version.\n",
      "Instructions for updating:\n",
      "This property should not be used in TensorFlow 2.0, as updates are applied automatically.\n",
      "INFO:tensorflow:Assets written to: nsmc.krs\\assets\n"
     ]
    }
   ],
   "source": [
    "model.save('nsmc.krs')"
   ]
  },
  {
   "cell_type": "code",
   "execution_count": 29,
   "metadata": {},
   "outputs": [],
   "source": [
    "#model=tf.keras.models.load_model('nsmc.krs') "
   ]
  },
  {
   "cell_type": "code",
   "execution_count": 30,
   "metadata": {},
   "outputs": [],
   "source": [
    "w,b=model.weights\n",
    "#w 가 양수면 그 단어가 많이 나올 수 록 긍정적인 단어인 것."
   ]
  },
  {
   "cell_type": "code",
   "execution_count": 38,
   "metadata": {},
   "outputs": [],
   "source": [
    "word_sent=pd.DataFrame({'토큰':words,'가중치':w.numpy().flat})"
   ]
  },
  {
   "cell_type": "code",
   "execution_count": 36,
   "metadata": {
    "scrolled": true
   },
   "outputs": [
    {
     "data": {
      "text/html": [
       "<div>\n",
       "<style scoped>\n",
       "    .dataframe tbody tr th:only-of-type {\n",
       "        vertical-align: middle;\n",
       "    }\n",
       "\n",
       "    .dataframe tbody tr th {\n",
       "        vertical-align: top;\n",
       "    }\n",
       "\n",
       "    .dataframe thead th {\n",
       "        text-align: right;\n",
       "    }\n",
       "</style>\n",
       "<table border=\"1\" class=\"dataframe\">\n",
       "  <thead>\n",
       "    <tr style=\"text-align: right;\">\n",
       "      <th></th>\n",
       "      <th>토큰</th>\n",
       "      <th>가중치</th>\n",
       "    </tr>\n",
       "  </thead>\n",
       "  <tbody>\n",
       "    <tr>\n",
       "      <th>288</th>\n",
       "      <td>망하/VV</td>\n",
       "      <td>-0.122903</td>\n",
       "    </tr>\n",
       "    <tr>\n",
       "      <th>914</th>\n",
       "      <td>터/NNB</td>\n",
       "      <td>-0.120135</td>\n",
       "    </tr>\n",
       "    <tr>\n",
       "      <th>537</th>\n",
       "      <td>아깝/VA</td>\n",
       "      <td>-0.117797</td>\n",
       "    </tr>\n",
       "    <tr>\n",
       "      <th>808</th>\n",
       "      <td>주인공/NNG</td>\n",
       "      <td>-0.111334</td>\n",
       "    </tr>\n",
       "    <tr>\n",
       "      <th>750</th>\n",
       "      <td>잠/NNG</td>\n",
       "      <td>-0.108993</td>\n",
       "    </tr>\n",
       "    <tr>\n",
       "      <th>46</th>\n",
       "      <td>게/NNG</td>\n",
       "      <td>-0.108627</td>\n",
       "    </tr>\n",
       "    <tr>\n",
       "      <th>662</th>\n",
       "      <td>욕하/VV</td>\n",
       "      <td>-0.107924</td>\n",
       "    </tr>\n",
       "    <tr>\n",
       "      <th>28</th>\n",
       "      <td>개봉/NNG</td>\n",
       "      <td>-0.105615</td>\n",
       "    </tr>\n",
       "    <tr>\n",
       "      <th>309</th>\n",
       "      <td>목소리/NNG</td>\n",
       "      <td>-0.105091</td>\n",
       "    </tr>\n",
       "    <tr>\n",
       "      <th>745</th>\n",
       "      <td>작/NNG</td>\n",
       "      <td>-0.104974</td>\n",
       "    </tr>\n",
       "  </tbody>\n",
       "</table>\n",
       "</div>"
      ],
      "text/plain": [
       "          토큰       가중치\n",
       "288    망하/VV -0.122903\n",
       "914    터/NNB -0.120135\n",
       "537    아깝/VA -0.117797\n",
       "808  주인공/NNG -0.111334\n",
       "750    잠/NNG -0.108993\n",
       "46     게/NNG -0.108627\n",
       "662    욕하/VV -0.107924\n",
       "28    개봉/NNG -0.105615\n",
       "309  목소리/NNG -0.105091\n",
       "745    작/NNG -0.104974"
      ]
     },
     "execution_count": 36,
     "metadata": {},
     "output_type": "execute_result"
    }
   ],
   "source": [
    "word_sent.sort_values('가중치').head(10)"
   ]
  },
  {
   "cell_type": "code",
   "execution_count": 33,
   "metadata": {
    "scrolled": true
   },
   "outputs": [
    {
     "data": {
      "text/html": [
       "<div>\n",
       "<style scoped>\n",
       "    .dataframe tbody tr th:only-of-type {\n",
       "        vertical-align: middle;\n",
       "    }\n",
       "\n",
       "    .dataframe tbody tr th {\n",
       "        vertical-align: top;\n",
       "    }\n",
       "\n",
       "    .dataframe thead th {\n",
       "        text-align: right;\n",
       "    }\n",
       "</style>\n",
       "<table border=\"1\" class=\"dataframe\">\n",
       "  <thead>\n",
       "    <tr style=\"text-align: right;\">\n",
       "      <th></th>\n",
       "      <th>토큰</th>\n",
       "      <th>가중치</th>\n",
       "    </tr>\n",
       "  </thead>\n",
       "  <tbody>\n",
       "    <tr>\n",
       "      <th>219</th>\n",
       "      <td>두/VX</td>\n",
       "      <td>0.109495</td>\n",
       "    </tr>\n",
       "    <tr>\n",
       "      <th>854</th>\n",
       "      <td>쩔/VV</td>\n",
       "      <td>0.109810</td>\n",
       "    </tr>\n",
       "    <tr>\n",
       "      <th>601</th>\n",
       "      <td>여운/NNG</td>\n",
       "      <td>0.111272</td>\n",
       "    </tr>\n",
       "    <tr>\n",
       "      <th>713</th>\n",
       "      <td>인상/NNG</td>\n",
       "      <td>0.113355</td>\n",
       "    </tr>\n",
       "    <tr>\n",
       "      <th>748</th>\n",
       "      <td>작품/NNG</td>\n",
       "      <td>0.115054</td>\n",
       "    </tr>\n",
       "    <tr>\n",
       "      <th>192</th>\n",
       "      <td>대박/NNG</td>\n",
       "      <td>0.115186</td>\n",
       "    </tr>\n",
       "    <tr>\n",
       "      <th>757</th>\n",
       "      <td>재미있/VA</td>\n",
       "      <td>0.130967</td>\n",
       "    </tr>\n",
       "    <tr>\n",
       "      <th>801</th>\n",
       "      <td>좋/VA</td>\n",
       "      <td>0.131747</td>\n",
       "    </tr>\n",
       "    <tr>\n",
       "      <th>759</th>\n",
       "      <td>재밌/VA</td>\n",
       "      <td>0.143460</td>\n",
       "    </tr>\n",
       "    <tr>\n",
       "      <th>881</th>\n",
       "      <td>최고/NNG</td>\n",
       "      <td>0.164953</td>\n",
       "    </tr>\n",
       "  </tbody>\n",
       "</table>\n",
       "</div>"
      ],
      "text/plain": [
       "         토큰       가중치\n",
       "219    두/VX  0.109495\n",
       "854    쩔/VV  0.109810\n",
       "601  여운/NNG  0.111272\n",
       "713  인상/NNG  0.113355\n",
       "748  작품/NNG  0.115054\n",
       "192  대박/NNG  0.115186\n",
       "757  재미있/VA  0.130967\n",
       "801    좋/VA  0.131747\n",
       "759   재밌/VA  0.143460\n",
       "881  최고/NNG  0.164953"
      ]
     },
     "execution_count": 33,
     "metadata": {},
     "output_type": "execute_result"
    }
   ],
   "source": [
    "word_sent.sort_values('가중치').tail(10)"
   ]
  },
  {
   "cell_type": "markdown",
   "metadata": {},
   "source": [
    "데이터가 큰 경우 압축을 풀지 않고 텐서플로의 희소행렬로 바꿔서 사용하면 된다."
   ]
  },
  {
   "cell_type": "code",
   "execution_count": 85,
   "metadata": {
    "scrolled": true
   },
   "outputs": [],
   "source": [
    "x_coo=x_train.tocoo()"
   ]
  },
  {
   "cell_type": "code",
   "execution_count": 86,
   "metadata": {
    "scrolled": false
   },
   "outputs": [
    {
     "data": {
      "text/plain": [
       "array([   0,    0,    0, ..., 1599, 1599, 1599])"
      ]
     },
     "execution_count": 86,
     "metadata": {},
     "output_type": "execute_result"
    }
   ],
   "source": [
    "x_coo.row"
   ]
  },
  {
   "cell_type": "code",
   "execution_count": 87,
   "metadata": {
    "scrolled": true
   },
   "outputs": [
    {
     "data": {
      "text/plain": [
       "array([  1, 119, 140, ..., 754, 951, 952])"
      ]
     },
     "execution_count": 87,
     "metadata": {},
     "output_type": "execute_result"
    }
   ],
   "source": [
    "x_coo.col"
   ]
  },
  {
   "cell_type": "code",
   "execution_count": 88,
   "metadata": {
    "scrolled": true
   },
   "outputs": [
    {
     "data": {
      "text/plain": [
       "array([1, 1, 1, ..., 1, 1, 7], dtype=int64)"
      ]
     },
     "execution_count": 88,
     "metadata": {},
     "output_type": "execute_result"
    }
   ],
   "source": [
    "x_coo.data"
   ]
  },
  {
   "cell_type": "code",
   "execution_count": 89,
   "metadata": {},
   "outputs": [],
   "source": [
    "import numpy as np"
   ]
  },
  {
   "cell_type": "code",
   "execution_count": 90,
   "metadata": {},
   "outputs": [],
   "source": [
    "index=np.column_stack([x_coo.row,x_coo.col])"
   ]
  },
  {
   "cell_type": "code",
   "execution_count": 91,
   "metadata": {
    "scrolled": true
   },
   "outputs": [
    {
     "data": {
      "text/plain": [
       "array([[   0,    1],\n",
       "       [   0,  119],\n",
       "       [   0,  140],\n",
       "       ...,\n",
       "       [1599,  754],\n",
       "       [1599,  951],\n",
       "       [1599,  952]])"
      ]
     },
     "execution_count": 91,
     "metadata": {},
     "output_type": "execute_result"
    }
   ],
   "source": [
    "index"
   ]
  },
  {
   "cell_type": "code",
   "execution_count": 92,
   "metadata": {},
   "outputs": [],
   "source": [
    "x_train_sparse=tf.SparseTensor(index, x_coo.data, x_coo.shape)"
   ]
  },
  {
   "cell_type": "code",
   "execution_count": 93,
   "metadata": {},
   "outputs": [],
   "source": [
    "x_train_sparse=tf.sparse.reorder(x_train_sparse)"
   ]
  },
  {
   "cell_type": "code",
   "execution_count": 94,
   "metadata": {},
   "outputs": [
    {
     "name": "stdout",
     "output_type": "stream",
     "text": [
      "50/50 [==============================] - 0s 940us/step - loss: 0.6397 - accuracy: 0.7494\n"
     ]
    },
    {
     "data": {
      "text/plain": [
       "<tensorflow.python.keras.callbacks.History at 0x1254ffe88e0>"
      ]
     },
     "execution_count": 94,
     "metadata": {},
     "output_type": "execute_result"
    }
   ],
   "source": [
    "model.fit(x_train_sparse, y_train,epochs=1)"
   ]
  },
  {
   "cell_type": "code",
   "execution_count": 99,
   "metadata": {},
   "outputs": [],
   "source": [
    "model = tf.keras.models.Sequential()\n",
    "model.add(tf.keras.layers.Dense(1,activation='sigmoid'))"
   ]
  },
  {
   "cell_type": "code",
   "execution_count": 100,
   "metadata": {},
   "outputs": [],
   "source": [
    "model.compile(optimizer='adam',loss='binary_crossentropy',metrics=['accuracy'])"
   ]
  },
  {
   "cell_type": "code",
   "execution_count": 101,
   "metadata": {},
   "outputs": [
    {
     "name": "stdout",
     "output_type": "stream",
     "text": [
      "Epoch 1/100\n",
      "45/45 [==============================] - 0s 3ms/step - loss: 0.6917 - accuracy: 0.5132 - val_loss: 0.6842 - val_accuracy: 0.6000\n",
      "Epoch 2/100\n",
      "45/45 [==============================] - 0s 867us/step - loss: 0.6754 - accuracy: 0.6153 - val_loss: 0.6718 - val_accuracy: 0.6625\n",
      "Epoch 3/100\n",
      "45/45 [==============================] - 0s 911us/step - loss: 0.6608 - accuracy: 0.6764 - val_loss: 0.6606 - val_accuracy: 0.7250\n",
      "Epoch 4/100\n",
      "45/45 [==============================] - 0s 911us/step - loss: 0.6477 - accuracy: 0.7167 - val_loss: 0.6503 - val_accuracy: 0.7688\n",
      "Epoch 5/100\n",
      "45/45 [==============================] - 0s 911us/step - loss: 0.6349 - accuracy: 0.7472 - val_loss: 0.6410 - val_accuracy: 0.7750\n",
      "Epoch 6/100\n",
      "45/45 [==============================] - 0s 889us/step - loss: 0.6234 - accuracy: 0.7729 - val_loss: 0.6321 - val_accuracy: 0.7688\n"
     ]
    },
    {
     "data": {
      "text/plain": [
       "<tensorflow.python.keras.callbacks.History at 0x12551d3adf0>"
      ]
     },
     "execution_count": 101,
     "metadata": {},
     "output_type": "execute_result"
    }
   ],
   "source": [
    "model.fit(x_train_sparse, y_train, epochs=100, validation_split=0.1, \n",
    "         callbacks=[tf.keras.callbacks.EarlyStopping(monitor='val_accuracy')])\n",
    "#callbacks 특정한 조건이나 상황이 되었을 때 넘겨주라는 것"
   ]
  },
  {
   "cell_type": "code",
   "execution_count": null,
   "metadata": {},
   "outputs": [],
   "source": []
  }
 ],
 "metadata": {
  "kernelspec": {
   "display_name": "Python 3",
   "language": "python",
   "name": "python3"
  },
  "language_info": {
   "codemirror_mode": {
    "name": "ipython",
    "version": 3
   },
   "file_extension": ".py",
   "mimetype": "text/x-python",
   "name": "python",
   "nbconvert_exporter": "python",
   "pygments_lexer": "ipython3",
   "version": "3.8.5"
  }
 },
 "nbformat": 4,
 "nbformat_minor": 4
}
