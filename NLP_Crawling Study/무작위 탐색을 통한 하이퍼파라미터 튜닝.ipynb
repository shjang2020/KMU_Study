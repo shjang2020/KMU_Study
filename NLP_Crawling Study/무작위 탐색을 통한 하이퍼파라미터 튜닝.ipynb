{
 "cells": [
  {
   "cell_type": "code",
   "execution_count": 1,
   "metadata": {},
   "outputs": [],
   "source": [
    "import tensorflow as tf\n",
    "import numpy as np"
   ]
  },
  {
   "cell_type": "code",
   "execution_count": 2,
   "metadata": {},
   "outputs": [],
   "source": [
    "x = np.random.normal(size=(1000, 20))"
   ]
  },
  {
   "cell_type": "code",
   "execution_count": 3,
   "metadata": {},
   "outputs": [
    {
     "data": {
      "text/plain": [
       "(1000, 20)"
      ]
     },
     "execution_count": 3,
     "metadata": {},
     "output_type": "execute_result"
    }
   ],
   "source": [
    "x.shape"
   ]
  },
  {
   "cell_type": "code",
   "execution_count": 4,
   "metadata": {},
   "outputs": [],
   "source": [
    "y = np.where(np.abs(x.sum(axis=1)) > 1, 1, 0)"
   ]
  },
  {
   "cell_type": "code",
   "execution_count": 5,
   "metadata": {},
   "outputs": [],
   "source": [
    "from sklearn.model_selection import train_test_split\n",
    "x_train, x_test, y_train, y_test = train_test_split(x, y, test_size=0.2, random_state=1234)"
   ]
  },
  {
   "cell_type": "code",
   "execution_count": 6,
   "metadata": {},
   "outputs": [],
   "source": [
    "def experiment(i, h_size, num_hidden, activation, lr):\n",
    "    model = tf.keras.Sequential()\n",
    "    for _ in range(num_hidden):\n",
    "        model.add(tf.keras.layers.Dense(h_size, activation=activation))\n",
    "    model.add(tf.keras.layers.Dense(1, activation='sigmoid'))\n",
    "\n",
    "    model.compile(optimizer=tf.keras.optimizers.Adam(learning_rate=lr), loss='binary_crossentropy', metrics=['accuracy'])\n",
    "    \n",
    "    checkpoint = tf.keras.callbacks.ModelCheckpoint(filepath=f'model{i:02d}', monitor='val_accuracy', save_best_only=True)\n",
    "    history = model.fit(x_train, y_train, epochs=1 0, validation_split=0.2, callbacks=[checkpoint], verbose=0)\n",
    "    \n",
    "    return max(history.history['val_accuracy'])"
   ]
  },
  {
   "cell_type": "code",
   "execution_count": 7,
   "metadata": {},
   "outputs": [
    {
     "name": "stdout",
     "output_type": "stream",
     "text": [
      "WARNING:tensorflow:From C:\\Users\\JangSeongHyun\\anaconda3\\lib\\site-packages\\tensorflow\\python\\training\\tracking\\tracking.py:111: Model.state_updates (from tensorflow.python.keras.engine.training) is deprecated and will be removed in a future version.\n",
      "Instructions for updating:\n",
      "This property should not be used in TensorFlow 2.0, as updates are applied automatically.\n",
      "WARNING:tensorflow:From C:\\Users\\JangSeongHyun\\anaconda3\\lib\\site-packages\\tensorflow\\python\\training\\tracking\\tracking.py:111: Layer.updates (from tensorflow.python.keras.engine.base_layer) is deprecated and will be removed in a future version.\n",
      "Instructions for updating:\n",
      "This property should not be used in TensorFlow 2.0, as updates are applied automatically.\n",
      "INFO:tensorflow:Assets written to: model00\\assets\n",
      "INFO:tensorflow:Assets written to: model00\\assets\n",
      "INFO:tensorflow:Assets written to: model00\\assets\n",
      "INFO:tensorflow:Assets written to: model00\\assets\n",
      "INFO:tensorflow:Assets written to: model00\\assets\n",
      "INFO:tensorflow:Assets written to: model00\\assets\n",
      "INFO:tensorflow:Assets written to: model00\\assets\n",
      "INFO:tensorflow:Assets written to: model01\\assets\n",
      "INFO:tensorflow:Assets written to: model01\\assets\n",
      "INFO:tensorflow:Assets written to: model01\\assets\n",
      "INFO:tensorflow:Assets written to: model01\\assets\n",
      "INFO:tensorflow:Assets written to: model02\\assets\n"
     ]
    }
   ],
   "source": [
    "results = []\n",
    "for i in range(3):\n",
    "    h_sizes = [2, 4, 8, 16]\n",
    "    h_size = np.random.choice(h_sizes)\n",
    "    num_hidden = np.random.randint(0, 3)\n",
    "    activation = np.random.choice(['relu', 'tanh'])\n",
    "    lr = 10 ** np.random.randint(-5, 0)\n",
    "\n",
    "    val_accuracy = experiment(i, h_size, num_hidden, activation, lr)\n",
    "    results.append({\n",
    "        'val_accuracy': val_accuracy,\n",
    "        'h_size': h_size,\n",
    "        'num_hidden': num_hidden,\n",
    "        'activation': activation,\n",
    "        'lr': lr\n",
    "    })"
   ]
  },
  {
   "cell_type": "code",
   "execution_count": 9,
   "metadata": {},
   "outputs": [],
   "source": [
    "model = tf.keras.models.load_model('model02')"
   ]
  },
  {
   "cell_type": "code",
   "execution_count": 10,
   "metadata": {},
   "outputs": [
    {
     "name": "stdout",
     "output_type": "stream",
     "text": [
      "7/7 [==============================] - 0s 1ms/step - loss: 0.5454 - accuracy: 0.8050\n"
     ]
    },
    {
     "data": {
      "text/plain": [
       "[0.5453765392303467, 0.8050000071525574]"
      ]
     },
     "execution_count": 10,
     "metadata": {},
     "output_type": "execute_result"
    }
   ],
   "source": [
    "model.evaluate(x_test, y_test)"
   ]
  },
  {
   "cell_type": "code",
   "execution_count": null,
   "metadata": {},
   "outputs": [],
   "source": [
    " "
   ]
  }
 ],
 "metadata": {
  "kernelspec": {
   "display_name": "Python 3",
   "language": "python",
   "name": "python3"
  },
  "language_info": {
   "codemirror_mode": {
    "name": "ipython",
    "version": 3
   },
   "file_extension": ".py",
   "mimetype": "text/x-python",
   "name": "python",
   "nbconvert_exporter": "python",
   "pygments_lexer": "ipython3",
   "version": "3.8.5"
  }
 },
 "nbformat": 4,
 "nbformat_minor": 4
}
