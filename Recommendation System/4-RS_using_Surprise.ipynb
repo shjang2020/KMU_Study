{
 "cells": [
  {
   "cell_type": "markdown",
   "metadata": {},
   "source": [
    "# Surprise 패키지를 이용한 추천시스템 구현"
   ]
  },
  {
   "cell_type": "code",
   "execution_count": 1,
   "metadata": {},
   "outputs": [
    {
     "name": "stdout",
     "output_type": "stream",
     "text": [
      "1.1.1\n"
     ]
    }
   ],
   "source": [
    "import surprise\n",
    "print(surprise.__version__)\n",
    "\n",
    "from surprise import SVD, Reader, Dataset, accuracy \n",
    "from surprise.model_selection import train_test_split, cross_validate, GridSearchCV\n",
    "from surprise.dataset import DatasetAutoFolds\n",
    "import pandas as pd\n",
    "import numpy as np"
   ]
  },
  {
   "cell_type": "markdown",
   "metadata": {},
   "source": [
    "### 추천 알고리즘 평가"
   ]
  },
  {
   "cell_type": "markdown",
   "metadata": {},
   "source": [
    "#### 데이터 준비"
   ]
  },
  {
   "cell_type": "code",
   "execution_count": 3,
   "metadata": {},
   "outputs": [],
   "source": [
    "# surprise의 Reader 클래스는 헤더가 없는 CSV 형식의 평점 화일을 요구함\n",
    "pd.read_csv('ratings.csv').to_csv('ratings_noh.csv', index=False, header=False)\n",
    "\n",
    "# 평점화일이 user, item, rating, timestamp 순으로 필드가 구성되어 있는다는 것을 알려줘야 함\n",
    "# 또한 최소 평점과 최대 평점을 지정해야 함\n",
    "reader = Reader(line_format='user item rating timestamp', sep=',', rating_scale=(0.5, 5))\n",
    "data = Dataset.load_from_file('ratings_noh.csv', reader)"
   ]
  },
  {
   "cell_type": "code",
   "execution_count": 4,
   "metadata": {},
   "outputs": [],
   "source": [
    "#ratings = pd.read_csv('ratings.csv')\n",
    "#reader = Reader(rating_scale=(0.5, 5.0))\n",
    "#data = Dataset.load_from_df(ratings[['userId', 'movieId', 'rating']], reader)"
   ]
  },
  {
   "cell_type": "markdown",
   "metadata": {},
   "source": [
    "#### 학습과 평가용으로 데이터 분리"
   ]
  },
  {
   "cell_type": "code",
   "execution_count": 5,
   "metadata": {},
   "outputs": [],
   "source": [
    "trainset, testset = train_test_split(data, test_size=.25, random_state=0)"
   ]
  },
  {
   "cell_type": "markdown",
   "metadata": {},
   "source": [
    "#### 추천 알고리즘 학습"
   ]
  },
  {
   "cell_type": "code",
   "execution_count": 6,
   "metadata": {},
   "outputs": [
    {
     "data": {
      "text/plain": [
       "<surprise.prediction_algorithms.matrix_factorization.SVD at 0x200987ffe08>"
      ]
     },
     "execution_count": 6,
     "metadata": {},
     "output_type": "execute_result"
    }
   ],
   "source": [
    "model = SVD(n_factors=50, n_epochs=20, biased=True, random_state=0)\n",
    "model.fit(trainset)"
   ]
  },
  {
   "cell_type": "markdown",
   "metadata": {},
   "source": [
    "#### 추천 성능 평가"
   ]
  },
  {
   "cell_type": "code",
   "execution_count": 7,
   "metadata": {},
   "outputs": [
    {
     "name": "stdout",
     "output_type": "stream",
     "text": [
      "RMSE: 0.8682\n"
     ]
    },
    {
     "data": {
      "text/plain": [
       "0.8681952927143516"
      ]
     },
     "execution_count": 7,
     "metadata": {},
     "output_type": "execute_result"
    }
   ],
   "source": [
    "predictions = model.test(testset)\n",
    "accuracy.rmse(predictions)"
   ]
  },
  {
   "cell_type": "markdown",
   "metadata": {},
   "source": [
    "#### 교차 검증"
   ]
  },
  {
   "cell_type": "code",
   "execution_count": 8,
   "metadata": {},
   "outputs": [
    {
     "name": "stdout",
     "output_type": "stream",
     "text": [
      "Evaluating RMSE, MAE of algorithm SVD on 3 split(s).\n",
      "\n",
      "                  Fold 1  Fold 2  Fold 3  Mean    Std     \n",
      "RMSE (testset)    0.8879  0.8778  0.8800  0.8819  0.0043  \n",
      "MAE (testset)     0.6829  0.6743  0.6773  0.6782  0.0036  \n",
      "Fit time          3.30    3.40    3.62    3.44    0.13    \n",
      "Test time         0.21    0.21    0.25    0.23    0.02    \n"
     ]
    },
    {
     "data": {
      "text/plain": [
       "{'test_rmse': array([0.88787516, 0.87779416, 0.88004853]),\n",
       " 'test_mae': array([0.68287814, 0.67430199, 0.67729127]),\n",
       " 'fit_time': (3.301173210144043, 3.4038915634155273, 3.619288682937622),\n",
       " 'test_time': (0.21144723892211914, 0.21243715286254883, 0.25333094596862793)}"
      ]
     },
     "execution_count": 8,
     "metadata": {},
     "output_type": "execute_result"
    }
   ],
   "source": [
    "model = SVD(random_state=0) \n",
    "cross_validate(model, data, measures=['RMSE', 'MAE'], cv=3, verbose=True)"
   ]
  },
  {
   "cell_type": "markdown",
   "metadata": {},
   "source": [
    "#### 하이퍼 파라미터 튜닝"
   ]
  },
  {
   "cell_type": "code",
   "execution_count": 9,
   "metadata": {},
   "outputs": [
    {
     "name": "stdout",
     "output_type": "stream",
     "text": [
      "0.8767994747960896\n",
      "{'n_epochs': 20, 'n_factors': 50}\n"
     ]
    }
   ],
   "source": [
    "# 최적화할 파라미터들을 딕셔너리 형태로 지정. \n",
    "param_grid = {'n_epochs': [20, 40], 'n_factors': [50, 100] }\n",
    "\n",
    "# CV를 3개 폴드 세트로 지정, 성능 평가는 rmse, mse 로 수행 하도록 GridSearchCV 구성\n",
    "grid_search = GridSearchCV(SVD, param_grid, measures=['rmse', 'mae'], cv=3)\n",
    "grid_search.fit(data)\n",
    "\n",
    "# 최고 RMSE Evaluation 점수와 그때의 하이퍼 파라미터\n",
    "print(grid_search.best_score['rmse'])\n",
    "print(grid_search.best_params['rmse'])"
   ]
  },
  {
   "cell_type": "markdown",
   "metadata": {},
   "source": [
    "### 추천 아이템 생성 "
   ]
  },
  {
   "cell_type": "markdown",
   "metadata": {},
   "source": [
    "#### 데이터 준비"
   ]
  },
  {
   "cell_type": "code",
   "execution_count": 10,
   "metadata": {},
   "outputs": [],
   "source": [
    "# Ratings Matrix 생성\n",
    "movies = pd.read_csv('movies.csv')\n",
    "ratings = pd.read_csv('ratings.csv')\n",
    "rating_movies = pd.merge(ratings, movies, on='movieId')\n",
    "ratings_matrix = rating_movies.pivot_table('rating', index='userId', columns='title', fill_value=0)"
   ]
  },
  {
   "cell_type": "code",
   "execution_count": 11,
   "metadata": {},
   "outputs": [],
   "source": [
    "# 학습 데이터 생성\n",
    "# train_test_split( )으로 분리되지 않는 Dataset에 fit( )을 호출하면 오류 발생\n",
    "# 전체 데이터를 학습 데이터로 사용하려면 DatasetAutoFolds 클래스를 사용해야 함 \n",
    "data_folds = DatasetAutoFolds(ratings_file='ratings_noh.csv', reader=reader)\n",
    "\n",
    "#전체 데이터를 학습데이터로 생성함. \n",
    "trainset = data_folds.build_full_trainset()"
   ]
  },
  {
   "cell_type": "markdown",
   "metadata": {},
   "source": [
    "#### 영화 평점 예측"
   ]
  },
  {
   "cell_type": "code",
   "execution_count": 12,
   "metadata": {},
   "outputs": [
    {
     "data": {
      "text/plain": [
       "<surprise.prediction_algorithms.matrix_factorization.SVD at 0x2009e5ce4c8>"
      ]
     },
     "execution_count": 12,
     "metadata": {},
     "output_type": "execute_result"
    }
   ],
   "source": [
    "model = SVD(n_epochs=20, n_factors=50, random_state=0)\n",
    "model.fit(trainset)"
   ]
  },
  {
   "cell_type": "markdown",
   "metadata": {},
   "source": [
    "#### Top-N 영화 추천"
   ]
  },
  {
   "cell_type": "code",
   "execution_count": 13,
   "metadata": {},
   "outputs": [],
   "source": [
    "# 추천 영화의 수 설정\n",
    "N = 10\n",
    "uid = 9"
   ]
  },
  {
   "cell_type": "code",
   "execution_count": 14,
   "metadata": {},
   "outputs": [
    {
     "data": {
      "text/html": [
       "<div>\n",
       "<style scoped>\n",
       "    .dataframe tbody tr th:only-of-type {\n",
       "        vertical-align: middle;\n",
       "    }\n",
       "\n",
       "    .dataframe tbody tr th {\n",
       "        vertical-align: top;\n",
       "    }\n",
       "\n",
       "    .dataframe thead th {\n",
       "        text-align: right;\n",
       "    }\n",
       "</style>\n",
       "<table border=\"1\" class=\"dataframe\">\n",
       "  <thead>\n",
       "    <tr style=\"text-align: right;\">\n",
       "      <th>title</th>\n",
       "      <th>'71 (2014)</th>\n",
       "      <th>'Hellboy': The Seeds of Creation (2004)</th>\n",
       "      <th>'Round Midnight (1986)</th>\n",
       "      <th>'Salem's Lot (2004)</th>\n",
       "      <th>'Til There Was You (1997)</th>\n",
       "      <th>'Tis the Season for Love (2015)</th>\n",
       "      <th>'burbs, The (1989)</th>\n",
       "      <th>'night Mother (1986)</th>\n",
       "      <th>(500) Days of Summer (2009)</th>\n",
       "      <th>*batteries not included (1987)</th>\n",
       "      <th>...</th>\n",
       "      <th>Zulu (2013)</th>\n",
       "      <th>[REC] (2007)</th>\n",
       "      <th>[REC]² (2009)</th>\n",
       "      <th>[REC]³ 3 Génesis (2012)</th>\n",
       "      <th>anohana: The Flower We Saw That Day - The Movie (2013)</th>\n",
       "      <th>eXistenZ (1999)</th>\n",
       "      <th>xXx (2002)</th>\n",
       "      <th>xXx: State of the Union (2005)</th>\n",
       "      <th>¡Three Amigos! (1986)</th>\n",
       "      <th>À nous la liberté (Freedom for Us) (1931)</th>\n",
       "    </tr>\n",
       "  </thead>\n",
       "  <tbody>\n",
       "    <tr>\n",
       "      <th>0</th>\n",
       "      <td>3.195364</td>\n",
       "      <td>3.639802</td>\n",
       "      <td>3.070854</td>\n",
       "      <td>2.991252</td>\n",
       "      <td>2.758491</td>\n",
       "      <td>2.65381</td>\n",
       "      <td>3.762764</td>\n",
       "      <td>2.883779</td>\n",
       "      <td>2.986577</td>\n",
       "      <td>2.788971</td>\n",
       "      <td>...</td>\n",
       "      <td>3.195364</td>\n",
       "      <td>3.195364</td>\n",
       "      <td>3.195364</td>\n",
       "      <td>3.195364</td>\n",
       "      <td>3.195364</td>\n",
       "      <td>3.195364</td>\n",
       "      <td>3.195364</td>\n",
       "      <td>3.195364</td>\n",
       "      <td>3.195364</td>\n",
       "      <td>3.195364</td>\n",
       "    </tr>\n",
       "  </tbody>\n",
       "</table>\n",
       "<p>1 rows × 9719 columns</p>\n",
       "</div>"
      ],
      "text/plain": [
       "title  '71 (2014)  'Hellboy': The Seeds of Creation (2004)  \\\n",
       "0        3.195364                                 3.639802   \n",
       "\n",
       "title  'Round Midnight (1986)  'Salem's Lot (2004)  'Til There Was You (1997)  \\\n",
       "0                    3.070854             2.991252                   2.758491   \n",
       "\n",
       "title  'Tis the Season for Love (2015)  'burbs, The (1989)  \\\n",
       "0                              2.65381            3.762764   \n",
       "\n",
       "title  'night Mother (1986)  (500) Days of Summer (2009)  \\\n",
       "0                  2.883779                     2.986577   \n",
       "\n",
       "title  *batteries not included (1987)  ...  Zulu (2013)  [REC] (2007)  \\\n",
       "0                            2.788971  ...     3.195364      3.195364   \n",
       "\n",
       "title  [REC]² (2009)  [REC]³ 3 Génesis (2012)  \\\n",
       "0           3.195364                 3.195364   \n",
       "\n",
       "title  anohana: The Flower We Saw That Day - The Movie (2013)  \\\n",
       "0                                               3.195364        \n",
       "\n",
       "title  eXistenZ (1999)  xXx (2002)  xXx: State of the Union (2005)  \\\n",
       "0             3.195364    3.195364                        3.195364   \n",
       "\n",
       "title  ¡Three Amigos! (1986)  À nous la liberté (Freedom for Us) (1931)  \n",
       "0                   3.195364                                   3.195364  \n",
       "\n",
       "[1 rows x 9719 columns]"
      ]
     },
     "execution_count": 14,
     "metadata": {},
     "output_type": "execute_result"
    }
   ],
   "source": [
    "#testset = trainset.build_anti_testset()\n",
    "#predictions = model.test(testset)\n",
    "\n",
    "ratings_pred = np.zeros((1, ratings_matrix.shape[1]))\n",
    "for i in range(ratings_matrix.shape[1]):\n",
    "    ratings_pred[0,i] = model.predict(str(uid), str(i))[3]\n",
    "    \n",
    "ratings_pred = pd.DataFrame(ratings_pred, columns=ratings_matrix.columns)\n",
    "ratings_pred "
   ]
  },
  {
   "cell_type": "code",
   "execution_count": 15,
   "metadata": {},
   "outputs": [
    {
     "data": {
      "text/plain": [
       "['Battle Royale (Batoru rowaiaru) (2000)',\n",
       " 'African Cats (2011)',\n",
       " 'Akira (1988)',\n",
       " 'Bloodsport III (1996)',\n",
       " 'Bloodsucking Bastards (2015)',\n",
       " '1492: Conquest of Paradise (1992)',\n",
       " 'Biutiful (2010)',\n",
       " 'Blue Exorcist: The Movie (2012)',\n",
       " 'Legend (2015)',\n",
       " 'Blue Juice (1995)']"
      ]
     },
     "execution_count": 15,
     "metadata": {},
     "output_type": "execute_result"
    }
   ],
   "source": [
    "# id로 지정된 사용자의 모든 영화정보 추출하여 Series로 반환함\n",
    "# 반환된 user_rating은 영화명(title)을 index로 가지는 Series 객체임 \n",
    "user_rating = ratings_matrix.loc[uid,:]\n",
    "    \n",
    "# user_rating이 0보다 크면 기존에 관람한 영화임. 대상 index를 추출하여 list로 만듬\n",
    "already_seen = user_rating[user_rating > 0].index.tolist()\n",
    "   \n",
    "# list comprehension으로 already_seen에 해당하는 movie는 movies_list에서 제외함\n",
    "unseen_list = [movie for movie in ratings_matrix.columns.tolist() if movie not in already_seen]\n",
    "\n",
    "# unseen_list에서 가장 평점이 높은 N개의 영화를 추천함 \n",
    "recomm_items = ratings_pred.loc[0, unseen_list].sort_values(ascending=False)[:N]\n",
    "list(recomm_items.index)"
   ]
  },
  {
   "cell_type": "markdown",
   "metadata": {},
   "source": [
    "# End"
   ]
  }
 ],
 "metadata": {
  "kernelspec": {
   "display_name": "Python 3 (ipykernel)",
   "language": "python",
   "name": "python3"
  },
  "language_info": {
   "codemirror_mode": {
    "name": "ipython",
    "version": 3
   },
   "file_extension": ".py",
   "mimetype": "text/x-python",
   "name": "python",
   "nbconvert_exporter": "python",
   "pygments_lexer": "ipython3",
   "version": "3.7.11"
  }
 },
 "nbformat": 4,
 "nbformat_minor": 2
}
